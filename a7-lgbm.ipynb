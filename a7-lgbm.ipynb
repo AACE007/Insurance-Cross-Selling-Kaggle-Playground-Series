{
 "cells": [
  {
   "cell_type": "code",
   "execution_count": 1,
   "id": "c55b0102",
   "metadata": {
    "_cell_guid": "b1076dfc-b9ad-4769-8c92-a6c4dae69d19",
    "_uuid": "8f2839f25d086af736a60e9eeb907d3b93b6e0e5",
    "execution": {
     "iopub.execute_input": "2024-07-31T16:34:49.030272Z",
     "iopub.status.busy": "2024-07-31T16:34:49.029856Z",
     "iopub.status.idle": "2024-07-31T16:34:50.245307Z",
     "shell.execute_reply": "2024-07-31T16:34:50.243640Z"
    },
    "papermill": {
     "duration": 1.244904,
     "end_time": "2024-07-31T16:34:50.248858",
     "exception": false,
     "start_time": "2024-07-31T16:34:49.003954",
     "status": "completed"
    },
    "tags": []
   },
   "outputs": [
    {
     "name": "stdout",
     "output_type": "stream",
     "text": [
      "/kaggle/input/playground-series-s4e7/sample_submission.csv\n",
      "/kaggle/input/playground-series-s4e7/train.csv\n",
      "/kaggle/input/playground-series-s4e7/test.csv\n"
     ]
    }
   ],
   "source": [
    "# This Python 3 environment comes with many helpful analytics libraries installed\n",
    "# It is defined by the kaggle/python Docker image: https://github.com/kaggle/docker-python\n",
    "# For example, here's several helpful packages to load\n",
    "\n",
    "import numpy as np # linear algebra\n",
    "import pandas as pd # data processing, CSV file I/O (e.g. pd.read_csv)\n",
    "\n",
    "# Input data files are available in the read-only \"../input/\" directory\n",
    "# For example, running this (by clicking run or pressing Shift+Enter) will list all files under the input directory\n",
    "\n",
    "import os\n",
    "for dirname, _, filenames in os.walk('/kaggle/input'):\n",
    "    for filename in filenames:\n",
    "        print(os.path.join(dirname, filename))\n",
    "\n",
    "# You can write up to 20GB to the current directory (/kaggle/working/) that gets preserved as output when you create a version using \"Save & Run All\" \n",
    "# You can also write temporary files to /kaggle/temp/, but they won't be saved outside of the current session"
   ]
  },
  {
   "cell_type": "code",
   "execution_count": 2,
   "id": "2c511ad9",
   "metadata": {
    "execution": {
     "iopub.execute_input": "2024-07-31T16:34:50.293233Z",
     "iopub.status.busy": "2024-07-31T16:34:50.292636Z",
     "iopub.status.idle": "2024-07-31T16:34:52.021841Z",
     "shell.execute_reply": "2024-07-31T16:34:52.020635Z"
    },
    "papermill": {
     "duration": 1.755826,
     "end_time": "2024-07-31T16:34:52.026662",
     "exception": false,
     "start_time": "2024-07-31T16:34:50.270836",
     "status": "completed"
    },
    "tags": []
   },
   "outputs": [],
   "source": [
    "import matplotlib.pyplot as plt\n",
    "import seaborn as sns\n",
    "sns.set_theme(color_codes=True)"
   ]
  },
  {
   "cell_type": "markdown",
   "id": "9ef9fa91",
   "metadata": {
    "papermill": {
     "duration": 0.022786,
     "end_time": "2024-07-31T16:34:52.074417",
     "exception": false,
     "start_time": "2024-07-31T16:34:52.051631",
     "status": "completed"
    },
    "tags": []
   },
   "source": [
    "# Importing Data"
   ]
  },
  {
   "cell_type": "code",
   "execution_count": 3,
   "id": "5f748039",
   "metadata": {
    "execution": {
     "iopub.execute_input": "2024-07-31T16:34:52.118272Z",
     "iopub.status.busy": "2024-07-31T16:34:52.117072Z",
     "iopub.status.idle": "2024-07-31T16:35:18.250098Z",
     "shell.execute_reply": "2024-07-31T16:35:18.248463Z"
    },
    "papermill": {
     "duration": 26.159202,
     "end_time": "2024-07-31T16:35:18.253570",
     "exception": false,
     "start_time": "2024-07-31T16:34:52.094368",
     "status": "completed"
    },
    "tags": []
   },
   "outputs": [
    {
     "data": {
      "text/html": [
       "<div>\n",
       "<style scoped>\n",
       "    .dataframe tbody tr th:only-of-type {\n",
       "        vertical-align: middle;\n",
       "    }\n",
       "\n",
       "    .dataframe tbody tr th {\n",
       "        vertical-align: top;\n",
       "    }\n",
       "\n",
       "    .dataframe thead th {\n",
       "        text-align: right;\n",
       "    }\n",
       "</style>\n",
       "<table border=\"1\" class=\"dataframe\">\n",
       "  <thead>\n",
       "    <tr style=\"text-align: right;\">\n",
       "      <th></th>\n",
       "      <th>id</th>\n",
       "      <th>Gender</th>\n",
       "      <th>Age</th>\n",
       "      <th>Driving_License</th>\n",
       "      <th>Region_Code</th>\n",
       "      <th>Previously_Insured</th>\n",
       "      <th>Vehicle_Age</th>\n",
       "      <th>Vehicle_Damage</th>\n",
       "      <th>Annual_Premium</th>\n",
       "      <th>Policy_Sales_Channel</th>\n",
       "      <th>Vintage</th>\n",
       "      <th>Response</th>\n",
       "    </tr>\n",
       "  </thead>\n",
       "  <tbody>\n",
       "    <tr>\n",
       "      <th>0</th>\n",
       "      <td>0</td>\n",
       "      <td>Male</td>\n",
       "      <td>21</td>\n",
       "      <td>1</td>\n",
       "      <td>35.0</td>\n",
       "      <td>0</td>\n",
       "      <td>1-2 Year</td>\n",
       "      <td>Yes</td>\n",
       "      <td>65101.0</td>\n",
       "      <td>124.0</td>\n",
       "      <td>187</td>\n",
       "      <td>0</td>\n",
       "    </tr>\n",
       "    <tr>\n",
       "      <th>1</th>\n",
       "      <td>1</td>\n",
       "      <td>Male</td>\n",
       "      <td>43</td>\n",
       "      <td>1</td>\n",
       "      <td>28.0</td>\n",
       "      <td>0</td>\n",
       "      <td>&gt; 2 Years</td>\n",
       "      <td>Yes</td>\n",
       "      <td>58911.0</td>\n",
       "      <td>26.0</td>\n",
       "      <td>288</td>\n",
       "      <td>1</td>\n",
       "    </tr>\n",
       "    <tr>\n",
       "      <th>2</th>\n",
       "      <td>2</td>\n",
       "      <td>Female</td>\n",
       "      <td>25</td>\n",
       "      <td>1</td>\n",
       "      <td>14.0</td>\n",
       "      <td>1</td>\n",
       "      <td>&lt; 1 Year</td>\n",
       "      <td>No</td>\n",
       "      <td>38043.0</td>\n",
       "      <td>152.0</td>\n",
       "      <td>254</td>\n",
       "      <td>0</td>\n",
       "    </tr>\n",
       "    <tr>\n",
       "      <th>3</th>\n",
       "      <td>3</td>\n",
       "      <td>Female</td>\n",
       "      <td>35</td>\n",
       "      <td>1</td>\n",
       "      <td>1.0</td>\n",
       "      <td>0</td>\n",
       "      <td>1-2 Year</td>\n",
       "      <td>Yes</td>\n",
       "      <td>2630.0</td>\n",
       "      <td>156.0</td>\n",
       "      <td>76</td>\n",
       "      <td>0</td>\n",
       "    </tr>\n",
       "    <tr>\n",
       "      <th>4</th>\n",
       "      <td>4</td>\n",
       "      <td>Female</td>\n",
       "      <td>36</td>\n",
       "      <td>1</td>\n",
       "      <td>15.0</td>\n",
       "      <td>1</td>\n",
       "      <td>1-2 Year</td>\n",
       "      <td>No</td>\n",
       "      <td>31951.0</td>\n",
       "      <td>152.0</td>\n",
       "      <td>294</td>\n",
       "      <td>0</td>\n",
       "    </tr>\n",
       "  </tbody>\n",
       "</table>\n",
       "</div>"
      ],
      "text/plain": [
       "   id  Gender  Age  Driving_License  Region_Code  Previously_Insured  \\\n",
       "0   0    Male   21                1         35.0                   0   \n",
       "1   1    Male   43                1         28.0                   0   \n",
       "2   2  Female   25                1         14.0                   1   \n",
       "3   3  Female   35                1          1.0                   0   \n",
       "4   4  Female   36                1         15.0                   1   \n",
       "\n",
       "  Vehicle_Age Vehicle_Damage  Annual_Premium  Policy_Sales_Channel  Vintage  \\\n",
       "0    1-2 Year            Yes         65101.0                 124.0      187   \n",
       "1   > 2 Years            Yes         58911.0                  26.0      288   \n",
       "2    < 1 Year             No         38043.0                 152.0      254   \n",
       "3    1-2 Year            Yes          2630.0                 156.0       76   \n",
       "4    1-2 Year             No         31951.0                 152.0      294   \n",
       "\n",
       "   Response  \n",
       "0         0  \n",
       "1         1  \n",
       "2         0  \n",
       "3         0  \n",
       "4         0  "
      ]
     },
     "execution_count": 3,
     "metadata": {},
     "output_type": "execute_result"
    }
   ],
   "source": [
    "data_train=pd.read_csv('/kaggle/input/playground-series-s4e7/train.csv')\n",
    "data_train.head()"
   ]
  },
  {
   "cell_type": "code",
   "execution_count": 4,
   "id": "58342569",
   "metadata": {
    "execution": {
     "iopub.execute_input": "2024-07-31T16:35:18.303191Z",
     "iopub.status.busy": "2024-07-31T16:35:18.302282Z",
     "iopub.status.idle": "2024-07-31T16:35:35.124586Z",
     "shell.execute_reply": "2024-07-31T16:35:35.123244Z"
    },
    "papermill": {
     "duration": 16.8522,
     "end_time": "2024-07-31T16:35:35.127947",
     "exception": false,
     "start_time": "2024-07-31T16:35:18.275747",
     "status": "completed"
    },
    "tags": []
   },
   "outputs": [
    {
     "data": {
      "text/html": [
       "<div>\n",
       "<style scoped>\n",
       "    .dataframe tbody tr th:only-of-type {\n",
       "        vertical-align: middle;\n",
       "    }\n",
       "\n",
       "    .dataframe tbody tr th {\n",
       "        vertical-align: top;\n",
       "    }\n",
       "\n",
       "    .dataframe thead th {\n",
       "        text-align: right;\n",
       "    }\n",
       "</style>\n",
       "<table border=\"1\" class=\"dataframe\">\n",
       "  <thead>\n",
       "    <tr style=\"text-align: right;\">\n",
       "      <th></th>\n",
       "      <th>id</th>\n",
       "      <th>Gender</th>\n",
       "      <th>Age</th>\n",
       "      <th>Driving_License</th>\n",
       "      <th>Region_Code</th>\n",
       "      <th>Previously_Insured</th>\n",
       "      <th>Vehicle_Age</th>\n",
       "      <th>Vehicle_Damage</th>\n",
       "      <th>Annual_Premium</th>\n",
       "      <th>Policy_Sales_Channel</th>\n",
       "      <th>Vintage</th>\n",
       "    </tr>\n",
       "  </thead>\n",
       "  <tbody>\n",
       "    <tr>\n",
       "      <th>0</th>\n",
       "      <td>11504798</td>\n",
       "      <td>Female</td>\n",
       "      <td>20</td>\n",
       "      <td>1</td>\n",
       "      <td>47.0</td>\n",
       "      <td>0</td>\n",
       "      <td>&lt; 1 Year</td>\n",
       "      <td>No</td>\n",
       "      <td>2630.0</td>\n",
       "      <td>160.0</td>\n",
       "      <td>228</td>\n",
       "    </tr>\n",
       "    <tr>\n",
       "      <th>1</th>\n",
       "      <td>11504799</td>\n",
       "      <td>Male</td>\n",
       "      <td>47</td>\n",
       "      <td>1</td>\n",
       "      <td>28.0</td>\n",
       "      <td>0</td>\n",
       "      <td>1-2 Year</td>\n",
       "      <td>Yes</td>\n",
       "      <td>37483.0</td>\n",
       "      <td>124.0</td>\n",
       "      <td>123</td>\n",
       "    </tr>\n",
       "    <tr>\n",
       "      <th>2</th>\n",
       "      <td>11504800</td>\n",
       "      <td>Male</td>\n",
       "      <td>47</td>\n",
       "      <td>1</td>\n",
       "      <td>43.0</td>\n",
       "      <td>0</td>\n",
       "      <td>1-2 Year</td>\n",
       "      <td>Yes</td>\n",
       "      <td>2630.0</td>\n",
       "      <td>26.0</td>\n",
       "      <td>271</td>\n",
       "    </tr>\n",
       "    <tr>\n",
       "      <th>3</th>\n",
       "      <td>11504801</td>\n",
       "      <td>Female</td>\n",
       "      <td>22</td>\n",
       "      <td>1</td>\n",
       "      <td>47.0</td>\n",
       "      <td>1</td>\n",
       "      <td>&lt; 1 Year</td>\n",
       "      <td>No</td>\n",
       "      <td>24502.0</td>\n",
       "      <td>152.0</td>\n",
       "      <td>115</td>\n",
       "    </tr>\n",
       "    <tr>\n",
       "      <th>4</th>\n",
       "      <td>11504802</td>\n",
       "      <td>Male</td>\n",
       "      <td>51</td>\n",
       "      <td>1</td>\n",
       "      <td>19.0</td>\n",
       "      <td>0</td>\n",
       "      <td>1-2 Year</td>\n",
       "      <td>No</td>\n",
       "      <td>34115.0</td>\n",
       "      <td>124.0</td>\n",
       "      <td>148</td>\n",
       "    </tr>\n",
       "  </tbody>\n",
       "</table>\n",
       "</div>"
      ],
      "text/plain": [
       "         id  Gender  Age  Driving_License  Region_Code  Previously_Insured  \\\n",
       "0  11504798  Female   20                1         47.0                   0   \n",
       "1  11504799    Male   47                1         28.0                   0   \n",
       "2  11504800    Male   47                1         43.0                   0   \n",
       "3  11504801  Female   22                1         47.0                   1   \n",
       "4  11504802    Male   51                1         19.0                   0   \n",
       "\n",
       "  Vehicle_Age Vehicle_Damage  Annual_Premium  Policy_Sales_Channel  Vintage  \n",
       "0    < 1 Year             No          2630.0                 160.0      228  \n",
       "1    1-2 Year            Yes         37483.0                 124.0      123  \n",
       "2    1-2 Year            Yes          2630.0                  26.0      271  \n",
       "3    < 1 Year             No         24502.0                 152.0      115  \n",
       "4    1-2 Year             No         34115.0                 124.0      148  "
      ]
     },
     "execution_count": 4,
     "metadata": {},
     "output_type": "execute_result"
    }
   ],
   "source": [
    "data_test=pd.read_csv('/kaggle/input/playground-series-s4e7/test.csv')\n",
    "data_test.head()"
   ]
  },
  {
   "cell_type": "markdown",
   "id": "4302a80e",
   "metadata": {
    "papermill": {
     "duration": 0.021956,
     "end_time": "2024-07-31T16:35:35.172705",
     "exception": false,
     "start_time": "2024-07-31T16:35:35.150749",
     "status": "completed"
    },
    "tags": []
   },
   "source": [
    "# EDA"
   ]
  },
  {
   "cell_type": "code",
   "execution_count": 5,
   "id": "806f4ef9",
   "metadata": {
    "execution": {
     "iopub.execute_input": "2024-07-31T16:35:35.217794Z",
     "iopub.status.busy": "2024-07-31T16:35:35.217381Z",
     "iopub.status.idle": "2024-07-31T16:35:35.225570Z",
     "shell.execute_reply": "2024-07-31T16:35:35.224362Z"
    },
    "papermill": {
     "duration": 0.033863,
     "end_time": "2024-07-31T16:35:35.229059",
     "exception": false,
     "start_time": "2024-07-31T16:35:35.195196",
     "status": "completed"
    },
    "tags": []
   },
   "outputs": [
    {
     "data": {
      "text/plain": [
       "Index(['id', 'Gender', 'Age', 'Driving_License', 'Region_Code',\n",
       "       'Previously_Insured', 'Vehicle_Age', 'Vehicle_Damage', 'Annual_Premium',\n",
       "       'Policy_Sales_Channel', 'Vintage', 'Response'],\n",
       "      dtype='object')"
      ]
     },
     "execution_count": 5,
     "metadata": {},
     "output_type": "execute_result"
    }
   ],
   "source": [
    "data_train.columns"
   ]
  },
  {
   "cell_type": "code",
   "execution_count": 6,
   "id": "adf5d92a",
   "metadata": {
    "execution": {
     "iopub.execute_input": "2024-07-31T16:35:35.277766Z",
     "iopub.status.busy": "2024-07-31T16:35:35.277373Z",
     "iopub.status.idle": "2024-07-31T16:35:35.282561Z",
     "shell.execute_reply": "2024-07-31T16:35:35.281371Z"
    },
    "papermill": {
     "duration": 0.033489,
     "end_time": "2024-07-31T16:35:35.285741",
     "exception": false,
     "start_time": "2024-07-31T16:35:35.252252",
     "status": "completed"
    },
    "tags": []
   },
   "outputs": [],
   "source": [
    "#sns.barplot(data=data_train, x='Response',y='Vintage')"
   ]
  },
  {
   "cell_type": "code",
   "execution_count": 7,
   "id": "75981879",
   "metadata": {
    "execution": {
     "iopub.execute_input": "2024-07-31T16:35:35.331107Z",
     "iopub.status.busy": "2024-07-31T16:35:35.330677Z",
     "iopub.status.idle": "2024-07-31T16:35:35.336310Z",
     "shell.execute_reply": "2024-07-31T16:35:35.334986Z"
    },
    "papermill": {
     "duration": 0.031262,
     "end_time": "2024-07-31T16:35:35.339072",
     "exception": false,
     "start_time": "2024-07-31T16:35:35.307810",
     "status": "completed"
    },
    "tags": []
   },
   "outputs": [],
   "source": [
    "# sns.barplot(data=data_train, x='Response',y='Policy_Sales_Channel')"
   ]
  },
  {
   "cell_type": "code",
   "execution_count": 8,
   "id": "e7ccee09",
   "metadata": {
    "execution": {
     "iopub.execute_input": "2024-07-31T16:35:35.386493Z",
     "iopub.status.busy": "2024-07-31T16:35:35.386108Z",
     "iopub.status.idle": "2024-07-31T16:35:35.392443Z",
     "shell.execute_reply": "2024-07-31T16:35:35.390493Z"
    },
    "papermill": {
     "duration": 0.035104,
     "end_time": "2024-07-31T16:35:35.396166",
     "exception": false,
     "start_time": "2024-07-31T16:35:35.361062",
     "status": "completed"
    },
    "tags": []
   },
   "outputs": [],
   "source": [
    "# sns.barplot(data=data_train, x='Response',y='Annual_Premium')"
   ]
  },
  {
   "cell_type": "code",
   "execution_count": null,
   "id": "0a595660",
   "metadata": {
    "papermill": {
     "duration": 0.02244,
     "end_time": "2024-07-31T16:35:35.441965",
     "exception": false,
     "start_time": "2024-07-31T16:35:35.419525",
     "status": "completed"
    },
    "tags": []
   },
   "outputs": [],
   "source": []
  },
  {
   "cell_type": "markdown",
   "id": "fccbf1bd",
   "metadata": {
    "papermill": {
     "duration": 0.020678,
     "end_time": "2024-07-31T16:35:35.487355",
     "exception": false,
     "start_time": "2024-07-31T16:35:35.466677",
     "status": "completed"
    },
    "tags": []
   },
   "source": [
    "# Data Preprocessing"
   ]
  },
  {
   "cell_type": "code",
   "execution_count": 9,
   "id": "441365eb",
   "metadata": {
    "execution": {
     "iopub.execute_input": "2024-07-31T16:35:35.534060Z",
     "iopub.status.busy": "2024-07-31T16:35:35.533607Z",
     "iopub.status.idle": "2024-07-31T16:35:39.437418Z",
     "shell.execute_reply": "2024-07-31T16:35:39.435890Z"
    },
    "papermill": {
     "duration": 3.931499,
     "end_time": "2024-07-31T16:35:39.440228",
     "exception": false,
     "start_time": "2024-07-31T16:35:35.508729",
     "status": "completed"
    },
    "tags": []
   },
   "outputs": [
    {
     "data": {
      "text/plain": [
       "id                      0\n",
       "Gender                  0\n",
       "Age                     0\n",
       "Driving_License         0\n",
       "Region_Code             0\n",
       "Previously_Insured      0\n",
       "Vehicle_Age             0\n",
       "Vehicle_Damage          0\n",
       "Annual_Premium          0\n",
       "Policy_Sales_Channel    0\n",
       "Vintage                 0\n",
       "Response                0\n",
       "dtype: int64"
      ]
     },
     "execution_count": 9,
     "metadata": {},
     "output_type": "execute_result"
    }
   ],
   "source": [
    "data_train.isnull().sum()"
   ]
  },
  {
   "cell_type": "code",
   "execution_count": 10,
   "id": "f8c0c8f7",
   "metadata": {
    "execution": {
     "iopub.execute_input": "2024-07-31T16:35:39.489809Z",
     "iopub.status.busy": "2024-07-31T16:35:39.488885Z",
     "iopub.status.idle": "2024-07-31T16:35:43.133021Z",
     "shell.execute_reply": "2024-07-31T16:35:43.131536Z"
    },
    "papermill": {
     "duration": 3.674006,
     "end_time": "2024-07-31T16:35:43.136592",
     "exception": false,
     "start_time": "2024-07-31T16:35:39.462586",
     "status": "completed"
    },
    "tags": []
   },
   "outputs": [
    {
     "data": {
      "text/plain": [
       "Gender            2\n",
       "Vehicle_Age       3\n",
       "Vehicle_Damage    2\n",
       "dtype: int64"
      ]
     },
     "execution_count": 10,
     "metadata": {},
     "output_type": "execute_result"
    }
   ],
   "source": [
    "# columns in the DataFrame that have data types classified as 'object'. \n",
    "#In pandas, the 'object' data type is typically used for text or categorical data.\n",
    "data_train.select_dtypes(include='object').nunique()"
   ]
  },
  {
   "cell_type": "code",
   "execution_count": 11,
   "id": "21034376",
   "metadata": {
    "execution": {
     "iopub.execute_input": "2024-07-31T16:35:43.183545Z",
     "iopub.status.busy": "2024-07-31T16:35:43.183129Z",
     "iopub.status.idle": "2024-07-31T16:35:48.510178Z",
     "shell.execute_reply": "2024-07-31T16:35:48.508955Z"
    },
    "papermill": {
     "duration": 5.355858,
     "end_time": "2024-07-31T16:35:48.514207",
     "exception": false,
     "start_time": "2024-07-31T16:35:43.158349",
     "status": "completed"
    },
    "tags": []
   },
   "outputs": [
    {
     "data": {
      "text/plain": [
       "id                      11504798\n",
       "Gender                         2\n",
       "Age                           66\n",
       "Driving_License                2\n",
       "Region_Code                   54\n",
       "Previously_Insured             2\n",
       "Vehicle_Age                    3\n",
       "Vehicle_Damage                 2\n",
       "Annual_Premium             51728\n",
       "Policy_Sales_Channel         152\n",
       "Vintage                      290\n",
       "Response                       2\n",
       "dtype: int64"
      ]
     },
     "execution_count": 11,
     "metadata": {},
     "output_type": "execute_result"
    }
   ],
   "source": [
    "data_train.nunique() # tells all the unique value a column holds"
   ]
  },
  {
   "cell_type": "code",
   "execution_count": 12,
   "id": "8ece023a",
   "metadata": {
    "execution": {
     "iopub.execute_input": "2024-07-31T16:35:48.562668Z",
     "iopub.status.busy": "2024-07-31T16:35:48.562126Z",
     "iopub.status.idle": "2024-07-31T16:35:49.251688Z",
     "shell.execute_reply": "2024-07-31T16:35:49.250058Z"
    },
    "papermill": {
     "duration": 0.717877,
     "end_time": "2024-07-31T16:35:49.254697",
     "exception": false,
     "start_time": "2024-07-31T16:35:48.536820",
     "status": "completed"
    },
    "tags": []
   },
   "outputs": [
    {
     "data": {
      "text/html": [
       "<div>\n",
       "<style scoped>\n",
       "    .dataframe tbody tr th:only-of-type {\n",
       "        vertical-align: middle;\n",
       "    }\n",
       "\n",
       "    .dataframe tbody tr th {\n",
       "        vertical-align: top;\n",
       "    }\n",
       "\n",
       "    .dataframe thead th {\n",
       "        text-align: right;\n",
       "    }\n",
       "</style>\n",
       "<table border=\"1\" class=\"dataframe\">\n",
       "  <thead>\n",
       "    <tr style=\"text-align: right;\">\n",
       "      <th></th>\n",
       "      <th>Gender</th>\n",
       "      <th>Age</th>\n",
       "      <th>Driving_License</th>\n",
       "      <th>Region_Code</th>\n",
       "      <th>Previously_Insured</th>\n",
       "      <th>Vehicle_Age</th>\n",
       "      <th>Vehicle_Damage</th>\n",
       "      <th>Annual_Premium</th>\n",
       "      <th>Policy_Sales_Channel</th>\n",
       "      <th>Vintage</th>\n",
       "      <th>Response</th>\n",
       "    </tr>\n",
       "  </thead>\n",
       "  <tbody>\n",
       "    <tr>\n",
       "      <th>0</th>\n",
       "      <td>Male</td>\n",
       "      <td>21</td>\n",
       "      <td>1</td>\n",
       "      <td>35.0</td>\n",
       "      <td>0</td>\n",
       "      <td>1-2 Year</td>\n",
       "      <td>Yes</td>\n",
       "      <td>65101.0</td>\n",
       "      <td>124.0</td>\n",
       "      <td>187</td>\n",
       "      <td>0</td>\n",
       "    </tr>\n",
       "    <tr>\n",
       "      <th>1</th>\n",
       "      <td>Male</td>\n",
       "      <td>43</td>\n",
       "      <td>1</td>\n",
       "      <td>28.0</td>\n",
       "      <td>0</td>\n",
       "      <td>&gt; 2 Years</td>\n",
       "      <td>Yes</td>\n",
       "      <td>58911.0</td>\n",
       "      <td>26.0</td>\n",
       "      <td>288</td>\n",
       "      <td>1</td>\n",
       "    </tr>\n",
       "    <tr>\n",
       "      <th>2</th>\n",
       "      <td>Female</td>\n",
       "      <td>25</td>\n",
       "      <td>1</td>\n",
       "      <td>14.0</td>\n",
       "      <td>1</td>\n",
       "      <td>&lt; 1 Year</td>\n",
       "      <td>No</td>\n",
       "      <td>38043.0</td>\n",
       "      <td>152.0</td>\n",
       "      <td>254</td>\n",
       "      <td>0</td>\n",
       "    </tr>\n",
       "    <tr>\n",
       "      <th>3</th>\n",
       "      <td>Female</td>\n",
       "      <td>35</td>\n",
       "      <td>1</td>\n",
       "      <td>1.0</td>\n",
       "      <td>0</td>\n",
       "      <td>1-2 Year</td>\n",
       "      <td>Yes</td>\n",
       "      <td>2630.0</td>\n",
       "      <td>156.0</td>\n",
       "      <td>76</td>\n",
       "      <td>0</td>\n",
       "    </tr>\n",
       "    <tr>\n",
       "      <th>4</th>\n",
       "      <td>Female</td>\n",
       "      <td>36</td>\n",
       "      <td>1</td>\n",
       "      <td>15.0</td>\n",
       "      <td>1</td>\n",
       "      <td>1-2 Year</td>\n",
       "      <td>No</td>\n",
       "      <td>31951.0</td>\n",
       "      <td>152.0</td>\n",
       "      <td>294</td>\n",
       "      <td>0</td>\n",
       "    </tr>\n",
       "  </tbody>\n",
       "</table>\n",
       "</div>"
      ],
      "text/plain": [
       "   Gender  Age  Driving_License  Region_Code  Previously_Insured Vehicle_Age  \\\n",
       "0    Male   21                1         35.0                   0    1-2 Year   \n",
       "1    Male   43                1         28.0                   0   > 2 Years   \n",
       "2  Female   25                1         14.0                   1    < 1 Year   \n",
       "3  Female   35                1          1.0                   0    1-2 Year   \n",
       "4  Female   36                1         15.0                   1    1-2 Year   \n",
       "\n",
       "  Vehicle_Damage  Annual_Premium  Policy_Sales_Channel  Vintage  Response  \n",
       "0            Yes         65101.0                 124.0      187         0  \n",
       "1            Yes         58911.0                  26.0      288         1  \n",
       "2             No         38043.0                 152.0      254         0  \n",
       "3            Yes          2630.0                 156.0       76         0  \n",
       "4             No         31951.0                 152.0      294         0  "
      ]
     },
     "execution_count": 12,
     "metadata": {},
     "output_type": "execute_result"
    }
   ],
   "source": [
    "# removing id column\n",
    "data_train.drop('id', axis=1,inplace=True)\n",
    "data_train.head()"
   ]
  },
  {
   "cell_type": "code",
   "execution_count": 13,
   "id": "cd65081c",
   "metadata": {
    "execution": {
     "iopub.execute_input": "2024-07-31T16:35:49.302615Z",
     "iopub.status.busy": "2024-07-31T16:35:49.302187Z",
     "iopub.status.idle": "2024-07-31T16:35:50.356764Z",
     "shell.execute_reply": "2024-07-31T16:35:50.355103Z"
    },
    "papermill": {
     "duration": 1.082871,
     "end_time": "2024-07-31T16:35:50.359687",
     "exception": false,
     "start_time": "2024-07-31T16:35:49.276816",
     "status": "completed"
    },
    "tags": []
   },
   "outputs": [
    {
     "data": {
      "text/plain": [
       "array(['Male', 'Female'], dtype=object)"
      ]
     },
     "execution_count": 13,
     "metadata": {},
     "output_type": "execute_result"
    }
   ],
   "source": [
    "data_train['Gender'].unique()"
   ]
  },
  {
   "cell_type": "code",
   "execution_count": 14,
   "id": "263ee738",
   "metadata": {
    "execution": {
     "iopub.execute_input": "2024-07-31T16:35:50.408617Z",
     "iopub.status.busy": "2024-07-31T16:35:50.408175Z",
     "iopub.status.idle": "2024-07-31T16:35:51.478719Z",
     "shell.execute_reply": "2024-07-31T16:35:51.477475Z"
    },
    "papermill": {
     "duration": 1.097516,
     "end_time": "2024-07-31T16:35:51.481372",
     "exception": false,
     "start_time": "2024-07-31T16:35:50.383856",
     "status": "completed"
    },
    "tags": []
   },
   "outputs": [
    {
     "data": {
      "text/plain": [
       "array(['1-2 Year', '> 2 Years', '< 1 Year'], dtype=object)"
      ]
     },
     "execution_count": 14,
     "metadata": {},
     "output_type": "execute_result"
    }
   ],
   "source": [
    "data_train['Vehicle_Age'].unique()"
   ]
  },
  {
   "cell_type": "code",
   "execution_count": 15,
   "id": "da8846f9",
   "metadata": {
    "execution": {
     "iopub.execute_input": "2024-07-31T16:35:51.528242Z",
     "iopub.status.busy": "2024-07-31T16:35:51.527747Z",
     "iopub.status.idle": "2024-07-31T16:35:52.579089Z",
     "shell.execute_reply": "2024-07-31T16:35:52.577351Z"
    },
    "papermill": {
     "duration": 1.079739,
     "end_time": "2024-07-31T16:35:52.582960",
     "exception": false,
     "start_time": "2024-07-31T16:35:51.503221",
     "status": "completed"
    },
    "tags": []
   },
   "outputs": [
    {
     "data": {
      "text/plain": [
       "array(['Yes', 'No'], dtype=object)"
      ]
     },
     "execution_count": 15,
     "metadata": {},
     "output_type": "execute_result"
    }
   ],
   "source": [
    "data_train['Vehicle_Damage'].unique()"
   ]
  },
  {
   "cell_type": "code",
   "execution_count": 16,
   "id": "635f4eae",
   "metadata": {
    "execution": {
     "iopub.execute_input": "2024-07-31T16:35:52.630671Z",
     "iopub.status.busy": "2024-07-31T16:35:52.630164Z",
     "iopub.status.idle": "2024-07-31T16:35:52.636231Z",
     "shell.execute_reply": "2024-07-31T16:35:52.634980Z"
    },
    "papermill": {
     "duration": 0.033139,
     "end_time": "2024-07-31T16:35:52.639087",
     "exception": false,
     "start_time": "2024-07-31T16:35:52.605948",
     "status": "completed"
    },
    "tags": []
   },
   "outputs": [],
   "source": [
    "# Transforming Object Categorical data into int using label Encoder"
   ]
  },
  {
   "cell_type": "code",
   "execution_count": 17,
   "id": "c244c0ff",
   "metadata": {
    "execution": {
     "iopub.execute_input": "2024-07-31T16:35:52.687177Z",
     "iopub.status.busy": "2024-07-31T16:35:52.686762Z",
     "iopub.status.idle": "2024-07-31T16:35:53.014357Z",
     "shell.execute_reply": "2024-07-31T16:35:53.013212Z"
    },
    "papermill": {
     "duration": 0.355321,
     "end_time": "2024-07-31T16:35:53.017412",
     "exception": false,
     "start_time": "2024-07-31T16:35:52.662091",
     "status": "completed"
    },
    "tags": []
   },
   "outputs": [],
   "source": [
    "from sklearn.preprocessing import StandardScaler, LabelEncoder\n",
    "from sklearn import preprocessing\n",
    "label_encoder=LabelEncoder()\n",
    "scaler=StandardScaler()"
   ]
  },
  {
   "cell_type": "code",
   "execution_count": 18,
   "id": "f24bf6a6",
   "metadata": {
    "execution": {
     "iopub.execute_input": "2024-07-31T16:35:53.129593Z",
     "iopub.status.busy": "2024-07-31T16:35:53.129162Z",
     "iopub.status.idle": "2024-07-31T16:35:56.896266Z",
     "shell.execute_reply": "2024-07-31T16:35:56.894300Z"
    },
    "papermill": {
     "duration": 3.79569,
     "end_time": "2024-07-31T16:35:56.900271",
     "exception": false,
     "start_time": "2024-07-31T16:35:53.104581",
     "status": "completed"
    },
    "tags": []
   },
   "outputs": [
    {
     "data": {
      "text/plain": [
       "array([1, 0])"
      ]
     },
     "execution_count": 18,
     "metadata": {},
     "output_type": "execute_result"
    }
   ],
   "source": [
    "data_train['Gender']=label_encoder.fit_transform(data_train['Gender'])\n",
    "data_train['Gender'].unique()"
   ]
  },
  {
   "cell_type": "code",
   "execution_count": 19,
   "id": "490c9879",
   "metadata": {
    "execution": {
     "iopub.execute_input": "2024-07-31T16:35:56.948607Z",
     "iopub.status.busy": "2024-07-31T16:35:56.948190Z",
     "iopub.status.idle": "2024-07-31T16:36:00.527106Z",
     "shell.execute_reply": "2024-07-31T16:36:00.525450Z"
    },
    "papermill": {
     "duration": 3.606844,
     "end_time": "2024-07-31T16:36:00.530791",
     "exception": false,
     "start_time": "2024-07-31T16:35:56.923947",
     "status": "completed"
    },
    "tags": []
   },
   "outputs": [
    {
     "data": {
      "text/plain": [
       "array([0, 2, 1])"
      ]
     },
     "execution_count": 19,
     "metadata": {},
     "output_type": "execute_result"
    }
   ],
   "source": [
    "data_train['Vehicle_Age']=label_encoder.fit_transform(data_train['Vehicle_Age'])\n",
    "data_train['Vehicle_Age'].unique()"
   ]
  },
  {
   "cell_type": "code",
   "execution_count": 20,
   "id": "58323aca",
   "metadata": {
    "execution": {
     "iopub.execute_input": "2024-07-31T16:36:00.587418Z",
     "iopub.status.busy": "2024-07-31T16:36:00.586701Z",
     "iopub.status.idle": "2024-07-31T16:36:04.288773Z",
     "shell.execute_reply": "2024-07-31T16:36:04.287059Z"
    },
    "papermill": {
     "duration": 3.735166,
     "end_time": "2024-07-31T16:36:04.293177",
     "exception": false,
     "start_time": "2024-07-31T16:36:00.558011",
     "status": "completed"
    },
    "tags": []
   },
   "outputs": [
    {
     "data": {
      "text/plain": [
       "array([1, 0])"
      ]
     },
     "execution_count": 20,
     "metadata": {},
     "output_type": "execute_result"
    }
   ],
   "source": [
    "data_train['Vehicle_Damage']=label_encoder.fit_transform(data_train['Vehicle_Damage'])\n",
    "data_train['Vehicle_Damage'].unique()"
   ]
  },
  {
   "cell_type": "code",
   "execution_count": 21,
   "id": "9665c210",
   "metadata": {
    "execution": {
     "iopub.execute_input": "2024-07-31T16:36:04.349525Z",
     "iopub.status.busy": "2024-07-31T16:36:04.349007Z",
     "iopub.status.idle": "2024-07-31T16:36:04.369348Z",
     "shell.execute_reply": "2024-07-31T16:36:04.367481Z"
    },
    "papermill": {
     "duration": 0.050403,
     "end_time": "2024-07-31T16:36:04.372716",
     "exception": false,
     "start_time": "2024-07-31T16:36:04.322313",
     "status": "completed"
    },
    "tags": []
   },
   "outputs": [
    {
     "data": {
      "text/html": [
       "<div>\n",
       "<style scoped>\n",
       "    .dataframe tbody tr th:only-of-type {\n",
       "        vertical-align: middle;\n",
       "    }\n",
       "\n",
       "    .dataframe tbody tr th {\n",
       "        vertical-align: top;\n",
       "    }\n",
       "\n",
       "    .dataframe thead th {\n",
       "        text-align: right;\n",
       "    }\n",
       "</style>\n",
       "<table border=\"1\" class=\"dataframe\">\n",
       "  <thead>\n",
       "    <tr style=\"text-align: right;\">\n",
       "      <th></th>\n",
       "      <th>Gender</th>\n",
       "      <th>Age</th>\n",
       "      <th>Driving_License</th>\n",
       "      <th>Region_Code</th>\n",
       "      <th>Previously_Insured</th>\n",
       "      <th>Vehicle_Age</th>\n",
       "      <th>Vehicle_Damage</th>\n",
       "      <th>Annual_Premium</th>\n",
       "      <th>Policy_Sales_Channel</th>\n",
       "      <th>Vintage</th>\n",
       "      <th>Response</th>\n",
       "    </tr>\n",
       "  </thead>\n",
       "  <tbody>\n",
       "    <tr>\n",
       "      <th>0</th>\n",
       "      <td>1</td>\n",
       "      <td>21</td>\n",
       "      <td>1</td>\n",
       "      <td>35.0</td>\n",
       "      <td>0</td>\n",
       "      <td>0</td>\n",
       "      <td>1</td>\n",
       "      <td>65101.0</td>\n",
       "      <td>124.0</td>\n",
       "      <td>187</td>\n",
       "      <td>0</td>\n",
       "    </tr>\n",
       "    <tr>\n",
       "      <th>1</th>\n",
       "      <td>1</td>\n",
       "      <td>43</td>\n",
       "      <td>1</td>\n",
       "      <td>28.0</td>\n",
       "      <td>0</td>\n",
       "      <td>2</td>\n",
       "      <td>1</td>\n",
       "      <td>58911.0</td>\n",
       "      <td>26.0</td>\n",
       "      <td>288</td>\n",
       "      <td>1</td>\n",
       "    </tr>\n",
       "    <tr>\n",
       "      <th>2</th>\n",
       "      <td>0</td>\n",
       "      <td>25</td>\n",
       "      <td>1</td>\n",
       "      <td>14.0</td>\n",
       "      <td>1</td>\n",
       "      <td>1</td>\n",
       "      <td>0</td>\n",
       "      <td>38043.0</td>\n",
       "      <td>152.0</td>\n",
       "      <td>254</td>\n",
       "      <td>0</td>\n",
       "    </tr>\n",
       "    <tr>\n",
       "      <th>3</th>\n",
       "      <td>0</td>\n",
       "      <td>35</td>\n",
       "      <td>1</td>\n",
       "      <td>1.0</td>\n",
       "      <td>0</td>\n",
       "      <td>0</td>\n",
       "      <td>1</td>\n",
       "      <td>2630.0</td>\n",
       "      <td>156.0</td>\n",
       "      <td>76</td>\n",
       "      <td>0</td>\n",
       "    </tr>\n",
       "    <tr>\n",
       "      <th>4</th>\n",
       "      <td>0</td>\n",
       "      <td>36</td>\n",
       "      <td>1</td>\n",
       "      <td>15.0</td>\n",
       "      <td>1</td>\n",
       "      <td>0</td>\n",
       "      <td>0</td>\n",
       "      <td>31951.0</td>\n",
       "      <td>152.0</td>\n",
       "      <td>294</td>\n",
       "      <td>0</td>\n",
       "    </tr>\n",
       "  </tbody>\n",
       "</table>\n",
       "</div>"
      ],
      "text/plain": [
       "   Gender  Age  Driving_License  Region_Code  Previously_Insured  Vehicle_Age  \\\n",
       "0       1   21                1         35.0                   0            0   \n",
       "1       1   43                1         28.0                   0            2   \n",
       "2       0   25                1         14.0                   1            1   \n",
       "3       0   35                1          1.0                   0            0   \n",
       "4       0   36                1         15.0                   1            0   \n",
       "\n",
       "   Vehicle_Damage  Annual_Premium  Policy_Sales_Channel  Vintage  Response  \n",
       "0               1         65101.0                 124.0      187         0  \n",
       "1               1         58911.0                  26.0      288         1  \n",
       "2               0         38043.0                 152.0      254         0  \n",
       "3               1          2630.0                 156.0       76         0  \n",
       "4               0         31951.0                 152.0      294         0  "
      ]
     },
     "execution_count": 21,
     "metadata": {},
     "output_type": "execute_result"
    }
   ],
   "source": [
    "data_train.head()"
   ]
  },
  {
   "cell_type": "code",
   "execution_count": null,
   "id": "190df323",
   "metadata": {
    "papermill": {
     "duration": 0.027507,
     "end_time": "2024-07-31T16:36:04.425875",
     "exception": false,
     "start_time": "2024-07-31T16:36:04.398368",
     "status": "completed"
    },
    "tags": []
   },
   "outputs": [],
   "source": []
  },
  {
   "cell_type": "code",
   "execution_count": 22,
   "id": "2a57bb43",
   "metadata": {
    "execution": {
     "iopub.execute_input": "2024-07-31T16:36:04.482157Z",
     "iopub.status.busy": "2024-07-31T16:36:04.481333Z",
     "iopub.status.idle": "2024-07-31T16:36:04.494374Z",
     "shell.execute_reply": "2024-07-31T16:36:04.492562Z"
    },
    "papermill": {
     "duration": 0.043039,
     "end_time": "2024-07-31T16:36:04.497447",
     "exception": false,
     "start_time": "2024-07-31T16:36:04.454408",
     "status": "completed"
    },
    "tags": []
   },
   "outputs": [
    {
     "data": {
      "text/plain": [
       "Gender                    int64\n",
       "Age                       int64\n",
       "Driving_License           int64\n",
       "Region_Code             float64\n",
       "Previously_Insured        int64\n",
       "Vehicle_Age               int64\n",
       "Vehicle_Damage            int64\n",
       "Annual_Premium          float64\n",
       "Policy_Sales_Channel    float64\n",
       "Vintage                   int64\n",
       "Response                  int64\n",
       "dtype: object"
      ]
     },
     "execution_count": 22,
     "metadata": {},
     "output_type": "execute_result"
    }
   ],
   "source": [
    "data_train.dtypes"
   ]
  },
  {
   "cell_type": "markdown",
   "id": "381fa14c",
   "metadata": {
    "papermill": {
     "duration": 0.025435,
     "end_time": "2024-07-31T16:36:04.547636",
     "exception": false,
     "start_time": "2024-07-31T16:36:04.522201",
     "status": "completed"
    },
    "tags": []
   },
   "source": [
    "# Check if Response colum is balance or not"
   ]
  },
  {
   "cell_type": "code",
   "execution_count": 23,
   "id": "1e18fe44",
   "metadata": {
    "execution": {
     "iopub.execute_input": "2024-07-31T16:36:04.598977Z",
     "iopub.status.busy": "2024-07-31T16:36:04.598572Z",
     "iopub.status.idle": "2024-07-31T16:36:04.604655Z",
     "shell.execute_reply": "2024-07-31T16:36:04.603258Z"
    },
    "papermill": {
     "duration": 0.035011,
     "end_time": "2024-07-31T16:36:04.607758",
     "exception": false,
     "start_time": "2024-07-31T16:36:04.572747",
     "status": "completed"
    },
    "tags": []
   },
   "outputs": [],
   "source": [
    "# sns.countplot(x=data_train['Response'])\n",
    "\n",
    "# plt.figure(figsize=(5, 5))"
   ]
  },
  {
   "cell_type": "code",
   "execution_count": 24,
   "id": "779ab0bf",
   "metadata": {
    "execution": {
     "iopub.execute_input": "2024-07-31T16:36:04.659954Z",
     "iopub.status.busy": "2024-07-31T16:36:04.659536Z",
     "iopub.status.idle": "2024-07-31T16:36:04.788444Z",
     "shell.execute_reply": "2024-07-31T16:36:04.787289Z"
    },
    "papermill": {
     "duration": 0.159105,
     "end_time": "2024-07-31T16:36:04.791716",
     "exception": false,
     "start_time": "2024-07-31T16:36:04.632611",
     "status": "completed"
    },
    "tags": []
   },
   "outputs": [
    {
     "data": {
      "text/plain": [
       "Response\n",
       "0    10089739\n",
       "1     1415059\n",
       "Name: count, dtype: int64"
      ]
     },
     "execution_count": 24,
     "metadata": {},
     "output_type": "execute_result"
    }
   ],
   "source": [
    "data_train['Response'].value_counts()"
   ]
  },
  {
   "cell_type": "code",
   "execution_count": 25,
   "id": "aad10524",
   "metadata": {
    "execution": {
     "iopub.execute_input": "2024-07-31T16:36:04.843004Z",
     "iopub.status.busy": "2024-07-31T16:36:04.842589Z",
     "iopub.status.idle": "2024-07-31T16:36:05.831254Z",
     "shell.execute_reply": "2024-07-31T16:36:05.829860Z"
    },
    "papermill": {
     "duration": 1.01853,
     "end_time": "2024-07-31T16:36:05.835232",
     "exception": false,
     "start_time": "2024-07-31T16:36:04.816702",
     "status": "completed"
    },
    "tags": []
   },
   "outputs": [],
   "source": [
    "# seperating 1 and 0 in different columns\n",
    "df_major= data_train[(data_train['Response']==0)]\n",
    "df_minor= data_train[(data_train['Response']==1)]"
   ]
  },
  {
   "cell_type": "code",
   "execution_count": 26,
   "id": "00660609",
   "metadata": {
    "execution": {
     "iopub.execute_input": "2024-07-31T16:36:05.889700Z",
     "iopub.status.busy": "2024-07-31T16:36:05.889288Z",
     "iopub.status.idle": "2024-07-31T16:36:05.896153Z",
     "shell.execute_reply": "2024-07-31T16:36:05.894429Z"
    },
    "papermill": {
     "duration": 0.038108,
     "end_time": "2024-07-31T16:36:05.900160",
     "exception": false,
     "start_time": "2024-07-31T16:36:05.862052",
     "status": "completed"
    },
    "tags": []
   },
   "outputs": [],
   "source": [
    "# up sampling minority '1' column equal to majority '0'\n",
    "# Response\n",
    "# 0    10089739\n",
    "# 1     1415059"
   ]
  },
  {
   "cell_type": "code",
   "execution_count": 27,
   "id": "c2d1d9a9",
   "metadata": {
    "execution": {
     "iopub.execute_input": "2024-07-31T16:36:05.955224Z",
     "iopub.status.busy": "2024-07-31T16:36:05.953997Z",
     "iopub.status.idle": "2024-07-31T16:36:09.141669Z",
     "shell.execute_reply": "2024-07-31T16:36:09.140377Z"
    },
    "papermill": {
     "duration": 3.21867,
     "end_time": "2024-07-31T16:36:09.144778",
     "exception": false,
     "start_time": "2024-07-31T16:36:05.926108",
     "status": "completed"
    },
    "tags": []
   },
   "outputs": [],
   "source": [
    "from sklearn.utils import resample\n",
    "\n",
    "df_minor_upsample=resample(df_minor, replace=True, n_samples=10089739, random_state=0)\n",
    "\n",
    "df_upsampled=pd.concat([df_minor_upsample, df_major])"
   ]
  },
  {
   "cell_type": "code",
   "execution_count": 28,
   "id": "eeae8642",
   "metadata": {
    "execution": {
     "iopub.execute_input": "2024-07-31T16:36:09.196592Z",
     "iopub.status.busy": "2024-07-31T16:36:09.196181Z",
     "iopub.status.idle": "2024-07-31T16:36:09.222100Z",
     "shell.execute_reply": "2024-07-31T16:36:09.220787Z"
    },
    "papermill": {
     "duration": 0.054038,
     "end_time": "2024-07-31T16:36:09.224751",
     "exception": false,
     "start_time": "2024-07-31T16:36:09.170713",
     "status": "completed"
    },
    "tags": []
   },
   "outputs": [
    {
     "data": {
      "text/html": [
       "<div>\n",
       "<style scoped>\n",
       "    .dataframe tbody tr th:only-of-type {\n",
       "        vertical-align: middle;\n",
       "    }\n",
       "\n",
       "    .dataframe tbody tr th {\n",
       "        vertical-align: top;\n",
       "    }\n",
       "\n",
       "    .dataframe thead th {\n",
       "        text-align: right;\n",
       "    }\n",
       "</style>\n",
       "<table border=\"1\" class=\"dataframe\">\n",
       "  <thead>\n",
       "    <tr style=\"text-align: right;\">\n",
       "      <th></th>\n",
       "      <th>Gender</th>\n",
       "      <th>Age</th>\n",
       "      <th>Driving_License</th>\n",
       "      <th>Region_Code</th>\n",
       "      <th>Previously_Insured</th>\n",
       "      <th>Vehicle_Age</th>\n",
       "      <th>Vehicle_Damage</th>\n",
       "      <th>Annual_Premium</th>\n",
       "      <th>Policy_Sales_Channel</th>\n",
       "      <th>Vintage</th>\n",
       "      <th>Response</th>\n",
       "    </tr>\n",
       "  </thead>\n",
       "  <tbody>\n",
       "    <tr>\n",
       "      <th>2491338</th>\n",
       "      <td>0</td>\n",
       "      <td>38</td>\n",
       "      <td>1</td>\n",
       "      <td>46.0</td>\n",
       "      <td>0</td>\n",
       "      <td>0</td>\n",
       "      <td>1</td>\n",
       "      <td>29679.0</td>\n",
       "      <td>26.0</td>\n",
       "      <td>11</td>\n",
       "      <td>1</td>\n",
       "    </tr>\n",
       "    <tr>\n",
       "      <th>962117</th>\n",
       "      <td>1</td>\n",
       "      <td>48</td>\n",
       "      <td>1</td>\n",
       "      <td>28.0</td>\n",
       "      <td>0</td>\n",
       "      <td>0</td>\n",
       "      <td>1</td>\n",
       "      <td>49092.0</td>\n",
       "      <td>124.0</td>\n",
       "      <td>182</td>\n",
       "      <td>1</td>\n",
       "    </tr>\n",
       "    <tr>\n",
       "      <th>7831406</th>\n",
       "      <td>0</td>\n",
       "      <td>20</td>\n",
       "      <td>1</td>\n",
       "      <td>50.0</td>\n",
       "      <td>0</td>\n",
       "      <td>1</td>\n",
       "      <td>1</td>\n",
       "      <td>34187.0</td>\n",
       "      <td>160.0</td>\n",
       "      <td>92</td>\n",
       "      <td>1</td>\n",
       "    </tr>\n",
       "    <tr>\n",
       "      <th>1242312</th>\n",
       "      <td>1</td>\n",
       "      <td>58</td>\n",
       "      <td>1</td>\n",
       "      <td>8.0</td>\n",
       "      <td>0</td>\n",
       "      <td>0</td>\n",
       "      <td>1</td>\n",
       "      <td>2630.0</td>\n",
       "      <td>30.0</td>\n",
       "      <td>212</td>\n",
       "      <td>1</td>\n",
       "    </tr>\n",
       "    <tr>\n",
       "      <th>2929171</th>\n",
       "      <td>1</td>\n",
       "      <td>50</td>\n",
       "      <td>1</td>\n",
       "      <td>18.0</td>\n",
       "      <td>0</td>\n",
       "      <td>0</td>\n",
       "      <td>1</td>\n",
       "      <td>37190.0</td>\n",
       "      <td>26.0</td>\n",
       "      <td>208</td>\n",
       "      <td>1</td>\n",
       "    </tr>\n",
       "    <tr>\n",
       "      <th>...</th>\n",
       "      <td>...</td>\n",
       "      <td>...</td>\n",
       "      <td>...</td>\n",
       "      <td>...</td>\n",
       "      <td>...</td>\n",
       "      <td>...</td>\n",
       "      <td>...</td>\n",
       "      <td>...</td>\n",
       "      <td>...</td>\n",
       "      <td>...</td>\n",
       "      <td>...</td>\n",
       "    </tr>\n",
       "    <tr>\n",
       "      <th>11504791</th>\n",
       "      <td>0</td>\n",
       "      <td>31</td>\n",
       "      <td>1</td>\n",
       "      <td>32.0</td>\n",
       "      <td>1</td>\n",
       "      <td>1</td>\n",
       "      <td>0</td>\n",
       "      <td>2630.0</td>\n",
       "      <td>152.0</td>\n",
       "      <td>204</td>\n",
       "      <td>0</td>\n",
       "    </tr>\n",
       "    <tr>\n",
       "      <th>11504792</th>\n",
       "      <td>1</td>\n",
       "      <td>34</td>\n",
       "      <td>1</td>\n",
       "      <td>28.0</td>\n",
       "      <td>1</td>\n",
       "      <td>0</td>\n",
       "      <td>0</td>\n",
       "      <td>29974.0</td>\n",
       "      <td>154.0</td>\n",
       "      <td>201</td>\n",
       "      <td>0</td>\n",
       "    </tr>\n",
       "    <tr>\n",
       "      <th>11504793</th>\n",
       "      <td>1</td>\n",
       "      <td>48</td>\n",
       "      <td>1</td>\n",
       "      <td>6.0</td>\n",
       "      <td>0</td>\n",
       "      <td>0</td>\n",
       "      <td>1</td>\n",
       "      <td>27412.0</td>\n",
       "      <td>26.0</td>\n",
       "      <td>218</td>\n",
       "      <td>0</td>\n",
       "    </tr>\n",
       "    <tr>\n",
       "      <th>11504795</th>\n",
       "      <td>0</td>\n",
       "      <td>29</td>\n",
       "      <td>1</td>\n",
       "      <td>32.0</td>\n",
       "      <td>1</td>\n",
       "      <td>1</td>\n",
       "      <td>0</td>\n",
       "      <td>2630.0</td>\n",
       "      <td>152.0</td>\n",
       "      <td>189</td>\n",
       "      <td>0</td>\n",
       "    </tr>\n",
       "    <tr>\n",
       "      <th>11504797</th>\n",
       "      <td>1</td>\n",
       "      <td>25</td>\n",
       "      <td>1</td>\n",
       "      <td>28.0</td>\n",
       "      <td>1</td>\n",
       "      <td>1</td>\n",
       "      <td>0</td>\n",
       "      <td>32855.0</td>\n",
       "      <td>152.0</td>\n",
       "      <td>189</td>\n",
       "      <td>0</td>\n",
       "    </tr>\n",
       "  </tbody>\n",
       "</table>\n",
       "<p>20179478 rows × 11 columns</p>\n",
       "</div>"
      ],
      "text/plain": [
       "          Gender  Age  Driving_License  Region_Code  Previously_Insured  \\\n",
       "2491338        0   38                1         46.0                   0   \n",
       "962117         1   48                1         28.0                   0   \n",
       "7831406        0   20                1         50.0                   0   \n",
       "1242312        1   58                1          8.0                   0   \n",
       "2929171        1   50                1         18.0                   0   \n",
       "...          ...  ...              ...          ...                 ...   \n",
       "11504791       0   31                1         32.0                   1   \n",
       "11504792       1   34                1         28.0                   1   \n",
       "11504793       1   48                1          6.0                   0   \n",
       "11504795       0   29                1         32.0                   1   \n",
       "11504797       1   25                1         28.0                   1   \n",
       "\n",
       "          Vehicle_Age  Vehicle_Damage  Annual_Premium  Policy_Sales_Channel  \\\n",
       "2491338             0               1         29679.0                  26.0   \n",
       "962117              0               1         49092.0                 124.0   \n",
       "7831406             1               1         34187.0                 160.0   \n",
       "1242312             0               1          2630.0                  30.0   \n",
       "2929171             0               1         37190.0                  26.0   \n",
       "...               ...             ...             ...                   ...   \n",
       "11504791            1               0          2630.0                 152.0   \n",
       "11504792            0               0         29974.0                 154.0   \n",
       "11504793            0               1         27412.0                  26.0   \n",
       "11504795            1               0          2630.0                 152.0   \n",
       "11504797            1               0         32855.0                 152.0   \n",
       "\n",
       "          Vintage  Response  \n",
       "2491338        11         1  \n",
       "962117        182         1  \n",
       "7831406        92         1  \n",
       "1242312       212         1  \n",
       "2929171       208         1  \n",
       "...           ...       ...  \n",
       "11504791      204         0  \n",
       "11504792      201         0  \n",
       "11504793      218         0  \n",
       "11504795      189         0  \n",
       "11504797      189         0  \n",
       "\n",
       "[20179478 rows x 11 columns]"
      ]
     },
     "execution_count": 28,
     "metadata": {},
     "output_type": "execute_result"
    }
   ],
   "source": [
    "df_upsampled"
   ]
  },
  {
   "cell_type": "code",
   "execution_count": 29,
   "id": "f3672c10",
   "metadata": {
    "execution": {
     "iopub.execute_input": "2024-07-31T16:36:09.277725Z",
     "iopub.status.busy": "2024-07-31T16:36:09.276059Z",
     "iopub.status.idle": "2024-07-31T16:36:09.282211Z",
     "shell.execute_reply": "2024-07-31T16:36:09.281021Z"
    },
    "papermill": {
     "duration": 0.035141,
     "end_time": "2024-07-31T16:36:09.284932",
     "exception": false,
     "start_time": "2024-07-31T16:36:09.249791",
     "status": "completed"
    },
    "tags": []
   },
   "outputs": [],
   "source": [
    "# sns.countplot(x=df_upsampled['Response'])\n",
    "\n",
    "# plt.figure(figsize=(5, 5))"
   ]
  },
  {
   "cell_type": "markdown",
   "id": "67497484",
   "metadata": {
    "papermill": {
     "duration": 0.026268,
     "end_time": "2024-07-31T16:36:09.336363",
     "exception": false,
     "start_time": "2024-07-31T16:36:09.310095",
     "status": "completed"
    },
    "tags": []
   },
   "source": [
    "# Checking Outliers"
   ]
  },
  {
   "cell_type": "code",
   "execution_count": 30,
   "id": "aa77fc51",
   "metadata": {
    "execution": {
     "iopub.execute_input": "2024-07-31T16:36:09.388679Z",
     "iopub.status.busy": "2024-07-31T16:36:09.388271Z",
     "iopub.status.idle": "2024-07-31T16:36:09.393753Z",
     "shell.execute_reply": "2024-07-31T16:36:09.392208Z"
    },
    "papermill": {
     "duration": 0.035558,
     "end_time": "2024-07-31T16:36:09.397049",
     "exception": false,
     "start_time": "2024-07-31T16:36:09.361491",
     "status": "completed"
    },
    "tags": []
   },
   "outputs": [],
   "source": [
    "# sns.boxplot(x=df_upsampled['Age'])"
   ]
  },
  {
   "cell_type": "code",
   "execution_count": 31,
   "id": "baedb98b",
   "metadata": {
    "execution": {
     "iopub.execute_input": "2024-07-31T16:36:09.453020Z",
     "iopub.status.busy": "2024-07-31T16:36:09.452613Z",
     "iopub.status.idle": "2024-07-31T16:36:09.458544Z",
     "shell.execute_reply": "2024-07-31T16:36:09.456660Z"
    },
    "papermill": {
     "duration": 0.038462,
     "end_time": "2024-07-31T16:36:09.461159",
     "exception": false,
     "start_time": "2024-07-31T16:36:09.422697",
     "status": "completed"
    },
    "tags": []
   },
   "outputs": [],
   "source": [
    "# sns.boxplot(x=df_upsampled['Annual_Premium'])"
   ]
  },
  {
   "cell_type": "code",
   "execution_count": 32,
   "id": "88364049",
   "metadata": {
    "execution": {
     "iopub.execute_input": "2024-07-31T16:36:09.514698Z",
     "iopub.status.busy": "2024-07-31T16:36:09.514300Z",
     "iopub.status.idle": "2024-07-31T16:36:09.519923Z",
     "shell.execute_reply": "2024-07-31T16:36:09.518699Z"
    },
    "papermill": {
     "duration": 0.036255,
     "end_time": "2024-07-31T16:36:09.522557",
     "exception": false,
     "start_time": "2024-07-31T16:36:09.486302",
     "status": "completed"
    },
    "tags": []
   },
   "outputs": [],
   "source": [
    "# sns.boxplot(x=df_upsampled['Policy_Sales_Channel'])"
   ]
  },
  {
   "cell_type": "code",
   "execution_count": 33,
   "id": "30645201",
   "metadata": {
    "execution": {
     "iopub.execute_input": "2024-07-31T16:36:09.573500Z",
     "iopub.status.busy": "2024-07-31T16:36:09.573108Z",
     "iopub.status.idle": "2024-07-31T16:36:09.579504Z",
     "shell.execute_reply": "2024-07-31T16:36:09.577744Z"
    },
    "papermill": {
     "duration": 0.034621,
     "end_time": "2024-07-31T16:36:09.582359",
     "exception": false,
     "start_time": "2024-07-31T16:36:09.547738",
     "status": "completed"
    },
    "tags": []
   },
   "outputs": [],
   "source": [
    " # sns.boxplot(x=df_upsampled['Vintage'])"
   ]
  },
  {
   "cell_type": "code",
   "execution_count": 34,
   "id": "e0341f74",
   "metadata": {
    "execution": {
     "iopub.execute_input": "2024-07-31T16:36:09.632962Z",
     "iopub.status.busy": "2024-07-31T16:36:09.632568Z",
     "iopub.status.idle": "2024-07-31T16:36:09.641950Z",
     "shell.execute_reply": "2024-07-31T16:36:09.640418Z"
    },
    "papermill": {
     "duration": 0.038236,
     "end_time": "2024-07-31T16:36:09.645427",
     "exception": false,
     "start_time": "2024-07-31T16:36:09.607191",
     "status": "completed"
    },
    "tags": []
   },
   "outputs": [
    {
     "data": {
      "text/plain": [
       "(20179478, 11)"
      ]
     },
     "execution_count": 34,
     "metadata": {},
     "output_type": "execute_result"
    }
   ],
   "source": [
    "df_upsampled.shape"
   ]
  },
  {
   "cell_type": "code",
   "execution_count": 35,
   "id": "4d4a5725",
   "metadata": {
    "execution": {
     "iopub.execute_input": "2024-07-31T16:36:09.697199Z",
     "iopub.status.busy": "2024-07-31T16:36:09.696718Z",
     "iopub.status.idle": "2024-07-31T16:36:09.703405Z",
     "shell.execute_reply": "2024-07-31T16:36:09.701796Z"
    },
    "papermill": {
     "duration": 0.036086,
     "end_time": "2024-07-31T16:36:09.706085",
     "exception": false,
     "start_time": "2024-07-31T16:36:09.669999",
     "status": "completed"
    },
    "tags": []
   },
   "outputs": [],
   "source": [
    "# Remove The outliers using z-Score Method"
   ]
  },
  {
   "cell_type": "code",
   "execution_count": 36,
   "id": "d64049c9",
   "metadata": {
    "execution": {
     "iopub.execute_input": "2024-07-31T16:36:09.758239Z",
     "iopub.status.busy": "2024-07-31T16:36:09.757688Z",
     "iopub.status.idle": "2024-07-31T16:36:16.222170Z",
     "shell.execute_reply": "2024-07-31T16:36:16.220920Z"
    },
    "papermill": {
     "duration": 6.494704,
     "end_time": "2024-07-31T16:36:16.225503",
     "exception": false,
     "start_time": "2024-07-31T16:36:09.730799",
     "status": "completed"
    },
    "tags": []
   },
   "outputs": [
    {
     "data": {
      "text/plain": [
       "(20125233, 11)"
      ]
     },
     "execution_count": 36,
     "metadata": {},
     "output_type": "execute_result"
    }
   ],
   "source": [
    "import scipy.stats as stats\n",
    "z=np.abs(stats.zscore(df_upsampled))\n",
    "data_clean = df_upsampled[(z<3).all(axis=1)]\n",
    "\n",
    "data_clean.shape"
   ]
  },
  {
   "cell_type": "markdown",
   "id": "db384e54",
   "metadata": {
    "papermill": {
     "duration": 0.023649,
     "end_time": "2024-07-31T16:36:16.274844",
     "exception": false,
     "start_time": "2024-07-31T16:36:16.251195",
     "status": "completed"
    },
    "tags": []
   },
   "source": [
    "# Heatmap Corellation"
   ]
  },
  {
   "cell_type": "code",
   "execution_count": 37,
   "id": "34451164",
   "metadata": {
    "execution": {
     "iopub.execute_input": "2024-07-31T16:36:16.329150Z",
     "iopub.status.busy": "2024-07-31T16:36:16.328652Z",
     "iopub.status.idle": "2024-07-31T16:36:16.336473Z",
     "shell.execute_reply": "2024-07-31T16:36:16.335184Z"
    },
    "papermill": {
     "duration": 0.038889,
     "end_time": "2024-07-31T16:36:16.339877",
     "exception": false,
     "start_time": "2024-07-31T16:36:16.300988",
     "status": "completed"
    },
    "tags": []
   },
   "outputs": [],
   "source": [
    "# sns.heatmap(data_clean, annot=True, fmt='.2g', cmap='coolwarm')"
   ]
  },
  {
   "cell_type": "code",
   "execution_count": 38,
   "id": "e637d21e",
   "metadata": {
    "execution": {
     "iopub.execute_input": "2024-07-31T16:36:16.389861Z",
     "iopub.status.busy": "2024-07-31T16:36:16.389465Z",
     "iopub.status.idle": "2024-07-31T16:36:17.134451Z",
     "shell.execute_reply": "2024-07-31T16:36:17.132810Z"
    },
    "papermill": {
     "duration": 0.773314,
     "end_time": "2024-07-31T16:36:17.137301",
     "exception": false,
     "start_time": "2024-07-31T16:36:16.363987",
     "status": "completed"
    },
    "tags": []
   },
   "outputs": [
    {
     "name": "stderr",
     "output_type": "stream",
     "text": [
      "/tmp/ipykernel_18/3443047114.py:2: SettingWithCopyWarning: \n",
      "A value is trying to be set on a copy of a slice from a DataFrame\n",
      "\n",
      "See the caveats in the documentation: https://pandas.pydata.org/pandas-docs/stable/user_guide/indexing.html#returning-a-view-versus-a-copy\n",
      "  data_clean.drop('Driving_License', axis=1, inplace= True)\n"
     ]
    }
   ],
   "source": [
    "# removing driving Licence because it doesnt have any corelation with response\n",
    "data_clean.drop('Driving_License', axis=1, inplace= True)"
   ]
  },
  {
   "cell_type": "code",
   "execution_count": 39,
   "id": "07dcc4a8",
   "metadata": {
    "execution": {
     "iopub.execute_input": "2024-07-31T16:36:17.190187Z",
     "iopub.status.busy": "2024-07-31T16:36:17.189738Z",
     "iopub.status.idle": "2024-07-31T16:36:17.209689Z",
     "shell.execute_reply": "2024-07-31T16:36:17.207846Z"
    },
    "papermill": {
     "duration": 0.051485,
     "end_time": "2024-07-31T16:36:17.213222",
     "exception": false,
     "start_time": "2024-07-31T16:36:17.161737",
     "status": "completed"
    },
    "tags": []
   },
   "outputs": [
    {
     "data": {
      "text/html": [
       "<div>\n",
       "<style scoped>\n",
       "    .dataframe tbody tr th:only-of-type {\n",
       "        vertical-align: middle;\n",
       "    }\n",
       "\n",
       "    .dataframe tbody tr th {\n",
       "        vertical-align: top;\n",
       "    }\n",
       "\n",
       "    .dataframe thead th {\n",
       "        text-align: right;\n",
       "    }\n",
       "</style>\n",
       "<table border=\"1\" class=\"dataframe\">\n",
       "  <thead>\n",
       "    <tr style=\"text-align: right;\">\n",
       "      <th></th>\n",
       "      <th>Gender</th>\n",
       "      <th>Age</th>\n",
       "      <th>Region_Code</th>\n",
       "      <th>Previously_Insured</th>\n",
       "      <th>Vehicle_Age</th>\n",
       "      <th>Vehicle_Damage</th>\n",
       "      <th>Annual_Premium</th>\n",
       "      <th>Policy_Sales_Channel</th>\n",
       "      <th>Vintage</th>\n",
       "      <th>Response</th>\n",
       "    </tr>\n",
       "  </thead>\n",
       "  <tbody>\n",
       "    <tr>\n",
       "      <th>2491338</th>\n",
       "      <td>0</td>\n",
       "      <td>38</td>\n",
       "      <td>46.0</td>\n",
       "      <td>0</td>\n",
       "      <td>0</td>\n",
       "      <td>1</td>\n",
       "      <td>29679.0</td>\n",
       "      <td>26.0</td>\n",
       "      <td>11</td>\n",
       "      <td>1</td>\n",
       "    </tr>\n",
       "    <tr>\n",
       "      <th>962117</th>\n",
       "      <td>1</td>\n",
       "      <td>48</td>\n",
       "      <td>28.0</td>\n",
       "      <td>0</td>\n",
       "      <td>0</td>\n",
       "      <td>1</td>\n",
       "      <td>49092.0</td>\n",
       "      <td>124.0</td>\n",
       "      <td>182</td>\n",
       "      <td>1</td>\n",
       "    </tr>\n",
       "    <tr>\n",
       "      <th>7831406</th>\n",
       "      <td>0</td>\n",
       "      <td>20</td>\n",
       "      <td>50.0</td>\n",
       "      <td>0</td>\n",
       "      <td>1</td>\n",
       "      <td>1</td>\n",
       "      <td>34187.0</td>\n",
       "      <td>160.0</td>\n",
       "      <td>92</td>\n",
       "      <td>1</td>\n",
       "    </tr>\n",
       "    <tr>\n",
       "      <th>1242312</th>\n",
       "      <td>1</td>\n",
       "      <td>58</td>\n",
       "      <td>8.0</td>\n",
       "      <td>0</td>\n",
       "      <td>0</td>\n",
       "      <td>1</td>\n",
       "      <td>2630.0</td>\n",
       "      <td>30.0</td>\n",
       "      <td>212</td>\n",
       "      <td>1</td>\n",
       "    </tr>\n",
       "    <tr>\n",
       "      <th>2929171</th>\n",
       "      <td>1</td>\n",
       "      <td>50</td>\n",
       "      <td>18.0</td>\n",
       "      <td>0</td>\n",
       "      <td>0</td>\n",
       "      <td>1</td>\n",
       "      <td>37190.0</td>\n",
       "      <td>26.0</td>\n",
       "      <td>208</td>\n",
       "      <td>1</td>\n",
       "    </tr>\n",
       "  </tbody>\n",
       "</table>\n",
       "</div>"
      ],
      "text/plain": [
       "         Gender  Age  Region_Code  Previously_Insured  Vehicle_Age  \\\n",
       "2491338       0   38         46.0                   0            0   \n",
       "962117        1   48         28.0                   0            0   \n",
       "7831406       0   20         50.0                   0            1   \n",
       "1242312       1   58          8.0                   0            0   \n",
       "2929171       1   50         18.0                   0            0   \n",
       "\n",
       "         Vehicle_Damage  Annual_Premium  Policy_Sales_Channel  Vintage  \\\n",
       "2491338               1         29679.0                  26.0       11   \n",
       "962117                1         49092.0                 124.0      182   \n",
       "7831406               1         34187.0                 160.0       92   \n",
       "1242312               1          2630.0                  30.0      212   \n",
       "2929171               1         37190.0                  26.0      208   \n",
       "\n",
       "         Response  \n",
       "2491338         1  \n",
       "962117          1  \n",
       "7831406         1  \n",
       "1242312         1  \n",
       "2929171         1  "
      ]
     },
     "execution_count": 39,
     "metadata": {},
     "output_type": "execute_result"
    }
   ],
   "source": [
    "data_clean.head()"
   ]
  },
  {
   "cell_type": "markdown",
   "id": "9ad850e0",
   "metadata": {
    "papermill": {
     "duration": 0.027772,
     "end_time": "2024-07-31T16:36:17.267653",
     "exception": false,
     "start_time": "2024-07-31T16:36:17.239881",
     "status": "completed"
    },
    "tags": []
   },
   "source": [
    "# Preparing Test Data"
   ]
  },
  {
   "cell_type": "code",
   "execution_count": 40,
   "id": "d4449bfd",
   "metadata": {
    "execution": {
     "iopub.execute_input": "2024-07-31T16:36:17.322340Z",
     "iopub.status.busy": "2024-07-31T16:36:17.320960Z",
     "iopub.status.idle": "2024-07-31T16:36:17.345527Z",
     "shell.execute_reply": "2024-07-31T16:36:17.343914Z"
    },
    "papermill": {
     "duration": 0.055561,
     "end_time": "2024-07-31T16:36:17.349047",
     "exception": false,
     "start_time": "2024-07-31T16:36:17.293486",
     "status": "completed"
    },
    "tags": []
   },
   "outputs": [
    {
     "data": {
      "text/html": [
       "<div>\n",
       "<style scoped>\n",
       "    .dataframe tbody tr th:only-of-type {\n",
       "        vertical-align: middle;\n",
       "    }\n",
       "\n",
       "    .dataframe tbody tr th {\n",
       "        vertical-align: top;\n",
       "    }\n",
       "\n",
       "    .dataframe thead th {\n",
       "        text-align: right;\n",
       "    }\n",
       "</style>\n",
       "<table border=\"1\" class=\"dataframe\">\n",
       "  <thead>\n",
       "    <tr style=\"text-align: right;\">\n",
       "      <th></th>\n",
       "      <th>id</th>\n",
       "      <th>Gender</th>\n",
       "      <th>Age</th>\n",
       "      <th>Driving_License</th>\n",
       "      <th>Region_Code</th>\n",
       "      <th>Previously_Insured</th>\n",
       "      <th>Vehicle_Age</th>\n",
       "      <th>Vehicle_Damage</th>\n",
       "      <th>Annual_Premium</th>\n",
       "      <th>Policy_Sales_Channel</th>\n",
       "      <th>Vintage</th>\n",
       "    </tr>\n",
       "  </thead>\n",
       "  <tbody>\n",
       "    <tr>\n",
       "      <th>0</th>\n",
       "      <td>11504798</td>\n",
       "      <td>Female</td>\n",
       "      <td>20</td>\n",
       "      <td>1</td>\n",
       "      <td>47.0</td>\n",
       "      <td>0</td>\n",
       "      <td>&lt; 1 Year</td>\n",
       "      <td>No</td>\n",
       "      <td>2630.0</td>\n",
       "      <td>160.0</td>\n",
       "      <td>228</td>\n",
       "    </tr>\n",
       "    <tr>\n",
       "      <th>1</th>\n",
       "      <td>11504799</td>\n",
       "      <td>Male</td>\n",
       "      <td>47</td>\n",
       "      <td>1</td>\n",
       "      <td>28.0</td>\n",
       "      <td>0</td>\n",
       "      <td>1-2 Year</td>\n",
       "      <td>Yes</td>\n",
       "      <td>37483.0</td>\n",
       "      <td>124.0</td>\n",
       "      <td>123</td>\n",
       "    </tr>\n",
       "    <tr>\n",
       "      <th>2</th>\n",
       "      <td>11504800</td>\n",
       "      <td>Male</td>\n",
       "      <td>47</td>\n",
       "      <td>1</td>\n",
       "      <td>43.0</td>\n",
       "      <td>0</td>\n",
       "      <td>1-2 Year</td>\n",
       "      <td>Yes</td>\n",
       "      <td>2630.0</td>\n",
       "      <td>26.0</td>\n",
       "      <td>271</td>\n",
       "    </tr>\n",
       "    <tr>\n",
       "      <th>3</th>\n",
       "      <td>11504801</td>\n",
       "      <td>Female</td>\n",
       "      <td>22</td>\n",
       "      <td>1</td>\n",
       "      <td>47.0</td>\n",
       "      <td>1</td>\n",
       "      <td>&lt; 1 Year</td>\n",
       "      <td>No</td>\n",
       "      <td>24502.0</td>\n",
       "      <td>152.0</td>\n",
       "      <td>115</td>\n",
       "    </tr>\n",
       "    <tr>\n",
       "      <th>4</th>\n",
       "      <td>11504802</td>\n",
       "      <td>Male</td>\n",
       "      <td>51</td>\n",
       "      <td>1</td>\n",
       "      <td>19.0</td>\n",
       "      <td>0</td>\n",
       "      <td>1-2 Year</td>\n",
       "      <td>No</td>\n",
       "      <td>34115.0</td>\n",
       "      <td>124.0</td>\n",
       "      <td>148</td>\n",
       "    </tr>\n",
       "  </tbody>\n",
       "</table>\n",
       "</div>"
      ],
      "text/plain": [
       "         id  Gender  Age  Driving_License  Region_Code  Previously_Insured  \\\n",
       "0  11504798  Female   20                1         47.0                   0   \n",
       "1  11504799    Male   47                1         28.0                   0   \n",
       "2  11504800    Male   47                1         43.0                   0   \n",
       "3  11504801  Female   22                1         47.0                   1   \n",
       "4  11504802    Male   51                1         19.0                   0   \n",
       "\n",
       "  Vehicle_Age Vehicle_Damage  Annual_Premium  Policy_Sales_Channel  Vintage  \n",
       "0    < 1 Year             No          2630.0                 160.0      228  \n",
       "1    1-2 Year            Yes         37483.0                 124.0      123  \n",
       "2    1-2 Year            Yes          2630.0                  26.0      271  \n",
       "3    < 1 Year             No         24502.0                 152.0      115  \n",
       "4    1-2 Year             No         34115.0                 124.0      148  "
      ]
     },
     "execution_count": 40,
     "metadata": {},
     "output_type": "execute_result"
    }
   ],
   "source": [
    "data_test.head()"
   ]
  },
  {
   "cell_type": "code",
   "execution_count": 41,
   "id": "87507d76",
   "metadata": {
    "execution": {
     "iopub.execute_input": "2024-07-31T16:36:17.405672Z",
     "iopub.status.busy": "2024-07-31T16:36:17.405226Z",
     "iopub.status.idle": "2024-07-31T16:36:19.967190Z",
     "shell.execute_reply": "2024-07-31T16:36:19.965270Z"
    },
    "papermill": {
     "duration": 2.593725,
     "end_time": "2024-07-31T16:36:19.970507",
     "exception": false,
     "start_time": "2024-07-31T16:36:17.376782",
     "status": "completed"
    },
    "tags": []
   },
   "outputs": [
    {
     "data": {
      "text/plain": [
       "id                      0\n",
       "Gender                  0\n",
       "Age                     0\n",
       "Driving_License         0\n",
       "Region_Code             0\n",
       "Previously_Insured      0\n",
       "Vehicle_Age             0\n",
       "Vehicle_Damage          0\n",
       "Annual_Premium          0\n",
       "Policy_Sales_Channel    0\n",
       "Vintage                 0\n",
       "dtype: int64"
      ]
     },
     "execution_count": 41,
     "metadata": {},
     "output_type": "execute_result"
    }
   ],
   "source": [
    "data_test.isnull().sum()"
   ]
  },
  {
   "cell_type": "code",
   "execution_count": null,
   "id": "bbc13243",
   "metadata": {
    "papermill": {
     "duration": 0.025432,
     "end_time": "2024-07-31T16:36:20.021438",
     "exception": false,
     "start_time": "2024-07-31T16:36:19.996006",
     "status": "completed"
    },
    "tags": []
   },
   "outputs": [],
   "source": []
  },
  {
   "cell_type": "code",
   "execution_count": 42,
   "id": "3b5106fb",
   "metadata": {
    "execution": {
     "iopub.execute_input": "2024-07-31T16:36:20.077488Z",
     "iopub.status.busy": "2024-07-31T16:36:20.076162Z",
     "iopub.status.idle": "2024-07-31T16:36:20.500634Z",
     "shell.execute_reply": "2024-07-31T16:36:20.499431Z"
    },
    "papermill": {
     "duration": 0.454992,
     "end_time": "2024-07-31T16:36:20.503380",
     "exception": false,
     "start_time": "2024-07-31T16:36:20.048388",
     "status": "completed"
    },
    "tags": []
   },
   "outputs": [
    {
     "data": {
      "text/html": [
       "<div>\n",
       "<style scoped>\n",
       "    .dataframe tbody tr th:only-of-type {\n",
       "        vertical-align: middle;\n",
       "    }\n",
       "\n",
       "    .dataframe tbody tr th {\n",
       "        vertical-align: top;\n",
       "    }\n",
       "\n",
       "    .dataframe thead th {\n",
       "        text-align: right;\n",
       "    }\n",
       "</style>\n",
       "<table border=\"1\" class=\"dataframe\">\n",
       "  <thead>\n",
       "    <tr style=\"text-align: right;\">\n",
       "      <th></th>\n",
       "      <th>Gender</th>\n",
       "      <th>Age</th>\n",
       "      <th>Region_Code</th>\n",
       "      <th>Previously_Insured</th>\n",
       "      <th>Vehicle_Age</th>\n",
       "      <th>Vehicle_Damage</th>\n",
       "      <th>Annual_Premium</th>\n",
       "      <th>Policy_Sales_Channel</th>\n",
       "      <th>Vintage</th>\n",
       "    </tr>\n",
       "  </thead>\n",
       "  <tbody>\n",
       "    <tr>\n",
       "      <th>0</th>\n",
       "      <td>Female</td>\n",
       "      <td>20</td>\n",
       "      <td>47.0</td>\n",
       "      <td>0</td>\n",
       "      <td>&lt; 1 Year</td>\n",
       "      <td>No</td>\n",
       "      <td>2630.0</td>\n",
       "      <td>160.0</td>\n",
       "      <td>228</td>\n",
       "    </tr>\n",
       "    <tr>\n",
       "      <th>1</th>\n",
       "      <td>Male</td>\n",
       "      <td>47</td>\n",
       "      <td>28.0</td>\n",
       "      <td>0</td>\n",
       "      <td>1-2 Year</td>\n",
       "      <td>Yes</td>\n",
       "      <td>37483.0</td>\n",
       "      <td>124.0</td>\n",
       "      <td>123</td>\n",
       "    </tr>\n",
       "    <tr>\n",
       "      <th>2</th>\n",
       "      <td>Male</td>\n",
       "      <td>47</td>\n",
       "      <td>43.0</td>\n",
       "      <td>0</td>\n",
       "      <td>1-2 Year</td>\n",
       "      <td>Yes</td>\n",
       "      <td>2630.0</td>\n",
       "      <td>26.0</td>\n",
       "      <td>271</td>\n",
       "    </tr>\n",
       "    <tr>\n",
       "      <th>3</th>\n",
       "      <td>Female</td>\n",
       "      <td>22</td>\n",
       "      <td>47.0</td>\n",
       "      <td>1</td>\n",
       "      <td>&lt; 1 Year</td>\n",
       "      <td>No</td>\n",
       "      <td>24502.0</td>\n",
       "      <td>152.0</td>\n",
       "      <td>115</td>\n",
       "    </tr>\n",
       "    <tr>\n",
       "      <th>4</th>\n",
       "      <td>Male</td>\n",
       "      <td>51</td>\n",
       "      <td>19.0</td>\n",
       "      <td>0</td>\n",
       "      <td>1-2 Year</td>\n",
       "      <td>No</td>\n",
       "      <td>34115.0</td>\n",
       "      <td>124.0</td>\n",
       "      <td>148</td>\n",
       "    </tr>\n",
       "  </tbody>\n",
       "</table>\n",
       "</div>"
      ],
      "text/plain": [
       "   Gender  Age  Region_Code  Previously_Insured Vehicle_Age Vehicle_Damage  \\\n",
       "0  Female   20         47.0                   0    < 1 Year             No   \n",
       "1    Male   47         28.0                   0    1-2 Year            Yes   \n",
       "2    Male   47         43.0                   0    1-2 Year            Yes   \n",
       "3  Female   22         47.0                   1    < 1 Year             No   \n",
       "4    Male   51         19.0                   0    1-2 Year             No   \n",
       "\n",
       "   Annual_Premium  Policy_Sales_Channel  Vintage  \n",
       "0          2630.0                 160.0      228  \n",
       "1         37483.0                 124.0      123  \n",
       "2          2630.0                  26.0      271  \n",
       "3         24502.0                 152.0      115  \n",
       "4         34115.0                 124.0      148  "
      ]
     },
     "execution_count": 42,
     "metadata": {},
     "output_type": "execute_result"
    }
   ],
   "source": [
    "x_test= data_test.drop(['id','Driving_License'], axis=1)\n",
    "x_test.head()"
   ]
  },
  {
   "cell_type": "code",
   "execution_count": 43,
   "id": "5995e795",
   "metadata": {
    "execution": {
     "iopub.execute_input": "2024-07-31T16:36:20.561171Z",
     "iopub.status.busy": "2024-07-31T16:36:20.560727Z",
     "iopub.status.idle": "2024-07-31T16:36:27.800822Z",
     "shell.execute_reply": "2024-07-31T16:36:27.799382Z"
    },
    "papermill": {
     "duration": 7.273121,
     "end_time": "2024-07-31T16:36:27.803574",
     "exception": false,
     "start_time": "2024-07-31T16:36:20.530453",
     "status": "completed"
    },
    "tags": []
   },
   "outputs": [
    {
     "data": {
      "text/plain": [
       "array([0, 1])"
      ]
     },
     "execution_count": 43,
     "metadata": {},
     "output_type": "execute_result"
    }
   ],
   "source": [
    "x_test['Gender']=label_encoder.fit_transform(x_test['Gender'])\n",
    "x_test['Gender'].unique()\n",
    "\n",
    "x_test['Vehicle_Age']=label_encoder.fit_transform(x_test['Vehicle_Age'])\n",
    "x_test['Vehicle_Age'].unique()\n",
    "\n",
    "x_test['Vehicle_Damage']=label_encoder.fit_transform(x_test['Vehicle_Damage'])\n",
    "x_test['Gender'].unique()"
   ]
  },
  {
   "cell_type": "code",
   "execution_count": 44,
   "id": "0175aed0",
   "metadata": {
    "execution": {
     "iopub.execute_input": "2024-07-31T16:36:27.859290Z",
     "iopub.status.busy": "2024-07-31T16:36:27.858236Z",
     "iopub.status.idle": "2024-07-31T16:36:27.866657Z",
     "shell.execute_reply": "2024-07-31T16:36:27.865409Z"
    },
    "papermill": {
     "duration": 0.038991,
     "end_time": "2024-07-31T16:36:27.869212",
     "exception": false,
     "start_time": "2024-07-31T16:36:27.830221",
     "status": "completed"
    },
    "tags": []
   },
   "outputs": [
    {
     "data": {
      "text/plain": [
       "(7669866, 9)"
      ]
     },
     "execution_count": 44,
     "metadata": {},
     "output_type": "execute_result"
    }
   ],
   "source": [
    "x_test.shape"
   ]
  },
  {
   "cell_type": "code",
   "execution_count": 45,
   "id": "f32be2af",
   "metadata": {
    "execution": {
     "iopub.execute_input": "2024-07-31T16:36:27.924267Z",
     "iopub.status.busy": "2024-07-31T16:36:27.923837Z",
     "iopub.status.idle": "2024-07-31T16:36:27.940958Z",
     "shell.execute_reply": "2024-07-31T16:36:27.939184Z"
    },
    "papermill": {
     "duration": 0.047452,
     "end_time": "2024-07-31T16:36:27.943897",
     "exception": false,
     "start_time": "2024-07-31T16:36:27.896445",
     "status": "completed"
    },
    "tags": []
   },
   "outputs": [
    {
     "name": "stdout",
     "output_type": "stream",
     "text": [
      "<class 'pandas.core.frame.DataFrame'>\n",
      "RangeIndex: 7669866 entries, 0 to 7669865\n",
      "Data columns (total 9 columns):\n",
      " #   Column                Dtype  \n",
      "---  ------                -----  \n",
      " 0   Gender                int64  \n",
      " 1   Age                   int64  \n",
      " 2   Region_Code           float64\n",
      " 3   Previously_Insured    int64  \n",
      " 4   Vehicle_Age           int64  \n",
      " 5   Vehicle_Damage        int64  \n",
      " 6   Annual_Premium        float64\n",
      " 7   Policy_Sales_Channel  float64\n",
      " 8   Vintage               int64  \n",
      "dtypes: float64(3), int64(6)\n",
      "memory usage: 526.6 MB\n"
     ]
    }
   ],
   "source": [
    "x_test.info()"
   ]
  },
  {
   "cell_type": "code",
   "execution_count": 46,
   "id": "32ebfe71",
   "metadata": {
    "execution": {
     "iopub.execute_input": "2024-07-31T16:36:27.999519Z",
     "iopub.status.busy": "2024-07-31T16:36:27.999060Z",
     "iopub.status.idle": "2024-07-31T16:36:28.004664Z",
     "shell.execute_reply": "2024-07-31T16:36:28.003423Z"
    },
    "papermill": {
     "duration": 0.03576,
     "end_time": "2024-07-31T16:36:28.007282",
     "exception": false,
     "start_time": "2024-07-31T16:36:27.971522",
     "status": "completed"
    },
    "tags": []
   },
   "outputs": [],
   "source": [
    "# Standardizing"
   ]
  },
  {
   "cell_type": "code",
   "execution_count": 47,
   "id": "bd25a252",
   "metadata": {
    "execution": {
     "iopub.execute_input": "2024-07-31T16:36:28.063130Z",
     "iopub.status.busy": "2024-07-31T16:36:28.062429Z",
     "iopub.status.idle": "2024-07-31T16:36:28.073144Z",
     "shell.execute_reply": "2024-07-31T16:36:28.071788Z"
    },
    "papermill": {
     "duration": 0.042292,
     "end_time": "2024-07-31T16:36:28.076909",
     "exception": false,
     "start_time": "2024-07-31T16:36:28.034617",
     "status": "completed"
    },
    "tags": []
   },
   "outputs": [
    {
     "data": {
      "text/plain": [
       "\"X_scaled = scaler.fit_transform(X)\\ntest_scaled = scaler.transform(test_df.drop(columns=['id']))\""
      ]
     },
     "execution_count": 47,
     "metadata": {},
     "output_type": "execute_result"
    }
   ],
   "source": [
    "'''X_scaled = scaler.fit_transform(X)\n",
    "test_scaled = scaler.transform(test_df.drop(columns=['id']))'''"
   ]
  },
  {
   "cell_type": "markdown",
   "id": "ed4a9593",
   "metadata": {
    "papermill": {
     "duration": 0.025697,
     "end_time": "2024-07-31T16:36:28.129979",
     "exception": false,
     "start_time": "2024-07-31T16:36:28.104282",
     "status": "completed"
    },
    "tags": []
   },
   "source": [
    "# Applying ML Model"
   ]
  },
  {
   "cell_type": "code",
   "execution_count": 48,
   "id": "178492b7",
   "metadata": {
    "execution": {
     "iopub.execute_input": "2024-07-31T16:36:28.184601Z",
     "iopub.status.busy": "2024-07-31T16:36:28.184207Z",
     "iopub.status.idle": "2024-07-31T16:36:28.968618Z",
     "shell.execute_reply": "2024-07-31T16:36:28.966835Z"
    },
    "papermill": {
     "duration": 0.815672,
     "end_time": "2024-07-31T16:36:28.971606",
     "exception": false,
     "start_time": "2024-07-31T16:36:28.155934",
     "status": "completed"
    },
    "tags": []
   },
   "outputs": [],
   "source": [
    "X = data_clean.drop('Response', axis=1)\n",
    "Y= data_clean['Response']"
   ]
  },
  {
   "cell_type": "code",
   "execution_count": 49,
   "id": "c46065c7",
   "metadata": {
    "execution": {
     "iopub.execute_input": "2024-07-31T16:36:29.027168Z",
     "iopub.status.busy": "2024-07-31T16:36:29.026724Z",
     "iopub.status.idle": "2024-07-31T16:36:29.170374Z",
     "shell.execute_reply": "2024-07-31T16:36:29.168973Z"
    },
    "papermill": {
     "duration": 0.174838,
     "end_time": "2024-07-31T16:36:29.173443",
     "exception": false,
     "start_time": "2024-07-31T16:36:28.998605",
     "status": "completed"
    },
    "tags": []
   },
   "outputs": [],
   "source": [
    "from sklearn.metrics import accuracy_score"
   ]
  },
  {
   "cell_type": "code",
   "execution_count": 50,
   "id": "d67b4a31",
   "metadata": {
    "execution": {
     "iopub.execute_input": "2024-07-31T16:36:29.233173Z",
     "iopub.status.busy": "2024-07-31T16:36:29.232504Z",
     "iopub.status.idle": "2024-07-31T16:36:34.870670Z",
     "shell.execute_reply": "2024-07-31T16:36:34.869318Z"
    },
    "papermill": {
     "duration": 5.671162,
     "end_time": "2024-07-31T16:36:34.873520",
     "exception": false,
     "start_time": "2024-07-31T16:36:29.202358",
     "status": "completed"
    },
    "tags": []
   },
   "outputs": [],
   "source": [
    "X=scaler.fit_transform(X)\n",
    "x_test=scaler.fit_transform(x_test)"
   ]
  },
  {
   "cell_type": "code",
   "execution_count": null,
   "id": "34594d68",
   "metadata": {
    "papermill": {
     "duration": 0.030811,
     "end_time": "2024-07-31T16:36:34.932271",
     "exception": false,
     "start_time": "2024-07-31T16:36:34.901460",
     "status": "completed"
    },
    "tags": []
   },
   "outputs": [],
   "source": []
  },
  {
   "cell_type": "markdown",
   "id": "3ae17d0f",
   "metadata": {
    "papermill": {
     "duration": 0.031869,
     "end_time": "2024-07-31T16:36:34.997129",
     "exception": false,
     "start_time": "2024-07-31T16:36:34.965260",
     "status": "completed"
    },
    "tags": []
   },
   "source": [
    "# LGBM\n",
    "\n"
   ]
  },
  {
   "cell_type": "code",
   "execution_count": 51,
   "id": "0c2e09b1",
   "metadata": {
    "execution": {
     "iopub.execute_input": "2024-07-31T16:36:35.055292Z",
     "iopub.status.busy": "2024-07-31T16:36:35.054866Z",
     "iopub.status.idle": "2024-07-31T16:36:36.502588Z",
     "shell.execute_reply": "2024-07-31T16:36:36.501082Z"
    },
    "papermill": {
     "duration": 1.480094,
     "end_time": "2024-07-31T16:36:36.505638",
     "exception": false,
     "start_time": "2024-07-31T16:36:35.025544",
     "status": "completed"
    },
    "tags": []
   },
   "outputs": [],
   "source": [
    "import lightgbm as lgb"
   ]
  },
  {
   "cell_type": "code",
   "execution_count": 52,
   "id": "8fee020d",
   "metadata": {
    "execution": {
     "iopub.execute_input": "2024-07-31T16:36:36.571049Z",
     "iopub.status.busy": "2024-07-31T16:36:36.568430Z",
     "iopub.status.idle": "2024-07-31T16:36:36.576593Z",
     "shell.execute_reply": "2024-07-31T16:36:36.575134Z"
    },
    "papermill": {
     "duration": 0.045192,
     "end_time": "2024-07-31T16:36:36.579536",
     "exception": false,
     "start_time": "2024-07-31T16:36:36.534344",
     "status": "completed"
    },
    "tags": []
   },
   "outputs": [],
   "source": [
    "LGBM= lgb.LGBMClassifier(random_state=0)"
   ]
  },
  {
   "cell_type": "code",
   "execution_count": 53,
   "id": "14816b42",
   "metadata": {
    "execution": {
     "iopub.execute_input": "2024-07-31T16:36:36.637416Z",
     "iopub.status.busy": "2024-07-31T16:36:36.636977Z",
     "iopub.status.idle": "2024-07-31T16:40:21.342700Z",
     "shell.execute_reply": "2024-07-31T16:40:21.340393Z"
    },
    "papermill": {
     "duration": 224.773395,
     "end_time": "2024-07-31T16:40:21.381371",
     "exception": false,
     "start_time": "2024-07-31T16:36:36.607976",
     "status": "completed"
    },
    "tags": []
   },
   "outputs": [
    {
     "name": "stdout",
     "output_type": "stream",
     "text": [
      "[LightGBM] [Info] Number of positive: 10067795, number of negative: 10057438\n",
      "[LightGBM] [Info] Auto-choosing col-wise multi-threading, the overhead of testing was 3.247679 seconds.\n",
      "You can set `force_col_wise=true` to remove the overhead.\n",
      "[LightGBM] [Info] Total Bins 742\n",
      "[LightGBM] [Info] Number of data points in the train set: 20125233, number of used features: 9\n",
      "[LightGBM] [Info] [binary:BoostFromScore]: pavg=0.500257 -> initscore=0.001029\n",
      "[LightGBM] [Info] Start training from score 0.001029\n"
     ]
    },
    {
     "data": {
      "text/html": [
       "<style>#sk-container-id-1 {color: black;background-color: white;}#sk-container-id-1 pre{padding: 0;}#sk-container-id-1 div.sk-toggleable {background-color: white;}#sk-container-id-1 label.sk-toggleable__label {cursor: pointer;display: block;width: 100%;margin-bottom: 0;padding: 0.3em;box-sizing: border-box;text-align: center;}#sk-container-id-1 label.sk-toggleable__label-arrow:before {content: \"▸\";float: left;margin-right: 0.25em;color: #696969;}#sk-container-id-1 label.sk-toggleable__label-arrow:hover:before {color: black;}#sk-container-id-1 div.sk-estimator:hover label.sk-toggleable__label-arrow:before {color: black;}#sk-container-id-1 div.sk-toggleable__content {max-height: 0;max-width: 0;overflow: hidden;text-align: left;background-color: #f0f8ff;}#sk-container-id-1 div.sk-toggleable__content pre {margin: 0.2em;color: black;border-radius: 0.25em;background-color: #f0f8ff;}#sk-container-id-1 input.sk-toggleable__control:checked~div.sk-toggleable__content {max-height: 200px;max-width: 100%;overflow: auto;}#sk-container-id-1 input.sk-toggleable__control:checked~label.sk-toggleable__label-arrow:before {content: \"▾\";}#sk-container-id-1 div.sk-estimator input.sk-toggleable__control:checked~label.sk-toggleable__label {background-color: #d4ebff;}#sk-container-id-1 div.sk-label input.sk-toggleable__control:checked~label.sk-toggleable__label {background-color: #d4ebff;}#sk-container-id-1 input.sk-hidden--visually {border: 0;clip: rect(1px 1px 1px 1px);clip: rect(1px, 1px, 1px, 1px);height: 1px;margin: -1px;overflow: hidden;padding: 0;position: absolute;width: 1px;}#sk-container-id-1 div.sk-estimator {font-family: monospace;background-color: #f0f8ff;border: 1px dotted black;border-radius: 0.25em;box-sizing: border-box;margin-bottom: 0.5em;}#sk-container-id-1 div.sk-estimator:hover {background-color: #d4ebff;}#sk-container-id-1 div.sk-parallel-item::after {content: \"\";width: 100%;border-bottom: 1px solid gray;flex-grow: 1;}#sk-container-id-1 div.sk-label:hover label.sk-toggleable__label {background-color: #d4ebff;}#sk-container-id-1 div.sk-serial::before {content: \"\";position: absolute;border-left: 1px solid gray;box-sizing: border-box;top: 0;bottom: 0;left: 50%;z-index: 0;}#sk-container-id-1 div.sk-serial {display: flex;flex-direction: column;align-items: center;background-color: white;padding-right: 0.2em;padding-left: 0.2em;position: relative;}#sk-container-id-1 div.sk-item {position: relative;z-index: 1;}#sk-container-id-1 div.sk-parallel {display: flex;align-items: stretch;justify-content: center;background-color: white;position: relative;}#sk-container-id-1 div.sk-item::before, #sk-container-id-1 div.sk-parallel-item::before {content: \"\";position: absolute;border-left: 1px solid gray;box-sizing: border-box;top: 0;bottom: 0;left: 50%;z-index: -1;}#sk-container-id-1 div.sk-parallel-item {display: flex;flex-direction: column;z-index: 1;position: relative;background-color: white;}#sk-container-id-1 div.sk-parallel-item:first-child::after {align-self: flex-end;width: 50%;}#sk-container-id-1 div.sk-parallel-item:last-child::after {align-self: flex-start;width: 50%;}#sk-container-id-1 div.sk-parallel-item:only-child::after {width: 0;}#sk-container-id-1 div.sk-dashed-wrapped {border: 1px dashed gray;margin: 0 0.4em 0.5em 0.4em;box-sizing: border-box;padding-bottom: 0.4em;background-color: white;}#sk-container-id-1 div.sk-label label {font-family: monospace;font-weight: bold;display: inline-block;line-height: 1.2em;}#sk-container-id-1 div.sk-label-container {text-align: center;}#sk-container-id-1 div.sk-container {/* jupyter's `normalize.less` sets `[hidden] { display: none; }` but bootstrap.min.css set `[hidden] { display: none !important; }` so we also need the `!important` here to be able to override the default hidden behavior on the sphinx rendered scikit-learn.org. See: https://github.com/scikit-learn/scikit-learn/issues/21755 */display: inline-block !important;position: relative;}#sk-container-id-1 div.sk-text-repr-fallback {display: none;}</style><div id=\"sk-container-id-1\" class=\"sk-top-container\"><div class=\"sk-text-repr-fallback\"><pre>LGBMClassifier(random_state=0)</pre><b>In a Jupyter environment, please rerun this cell to show the HTML representation or trust the notebook. <br />On GitHub, the HTML representation is unable to render, please try loading this page with nbviewer.org.</b></div><div class=\"sk-container\" hidden><div class=\"sk-item\"><div class=\"sk-estimator sk-toggleable\"><input class=\"sk-toggleable__control sk-hidden--visually\" id=\"sk-estimator-id-1\" type=\"checkbox\" checked><label for=\"sk-estimator-id-1\" class=\"sk-toggleable__label sk-toggleable__label-arrow\">LGBMClassifier</label><div class=\"sk-toggleable__content\"><pre>LGBMClassifier(random_state=0)</pre></div></div></div></div></div>"
      ],
      "text/plain": [
       "LGBMClassifier(random_state=0)"
      ]
     },
     "execution_count": 53,
     "metadata": {},
     "output_type": "execute_result"
    }
   ],
   "source": [
    "LGBM.fit(X,Y)"
   ]
  },
  {
   "cell_type": "code",
   "execution_count": 54,
   "id": "7313c4e9",
   "metadata": {
    "execution": {
     "iopub.execute_input": "2024-07-31T16:40:21.446887Z",
     "iopub.status.busy": "2024-07-31T16:40:21.446334Z",
     "iopub.status.idle": "2024-07-31T16:41:25.859583Z",
     "shell.execute_reply": "2024-07-31T16:41:25.857440Z"
    },
    "papermill": {
     "duration": 64.450849,
     "end_time": "2024-07-31T16:41:25.865471",
     "exception": false,
     "start_time": "2024-07-31T16:40:21.414622",
     "status": "completed"
    },
    "tags": []
   },
   "outputs": [],
   "source": [
    "y_pred=LGBM.predict(x_test)\n"
   ]
  },
  {
   "cell_type": "code",
   "execution_count": 55,
   "id": "ce346324",
   "metadata": {
    "execution": {
     "iopub.execute_input": "2024-07-31T16:41:25.930366Z",
     "iopub.status.busy": "2024-07-31T16:41:25.929682Z",
     "iopub.status.idle": "2024-07-31T16:41:26.077293Z",
     "shell.execute_reply": "2024-07-31T16:41:26.075987Z"
    },
    "papermill": {
     "duration": 0.184766,
     "end_time": "2024-07-31T16:41:26.081071",
     "exception": false,
     "start_time": "2024-07-31T16:41:25.896305",
     "status": "completed"
    },
    "tags": []
   },
   "outputs": [
    {
     "data": {
      "text/html": [
       "<div>\n",
       "<style scoped>\n",
       "    .dataframe tbody tr th:only-of-type {\n",
       "        vertical-align: middle;\n",
       "    }\n",
       "\n",
       "    .dataframe tbody tr th {\n",
       "        vertical-align: top;\n",
       "    }\n",
       "\n",
       "    .dataframe thead th {\n",
       "        text-align: right;\n",
       "    }\n",
       "</style>\n",
       "<table border=\"1\" class=\"dataframe\">\n",
       "  <thead>\n",
       "    <tr style=\"text-align: right;\">\n",
       "      <th></th>\n",
       "      <th>id</th>\n",
       "      <th>Response</th>\n",
       "    </tr>\n",
       "  </thead>\n",
       "  <tbody>\n",
       "    <tr>\n",
       "      <th>0</th>\n",
       "      <td>11504798</td>\n",
       "      <td>0</td>\n",
       "    </tr>\n",
       "    <tr>\n",
       "      <th>1</th>\n",
       "      <td>11504799</td>\n",
       "      <td>1</td>\n",
       "    </tr>\n",
       "    <tr>\n",
       "      <th>2</th>\n",
       "      <td>11504800</td>\n",
       "      <td>1</td>\n",
       "    </tr>\n",
       "    <tr>\n",
       "      <th>3</th>\n",
       "      <td>11504801</td>\n",
       "      <td>0</td>\n",
       "    </tr>\n",
       "    <tr>\n",
       "      <th>4</th>\n",
       "      <td>11504802</td>\n",
       "      <td>0</td>\n",
       "    </tr>\n",
       "  </tbody>\n",
       "</table>\n",
       "</div>"
      ],
      "text/plain": [
       "         id  Response\n",
       "0  11504798         0\n",
       "1  11504799         1\n",
       "2  11504800         1\n",
       "3  11504801         0\n",
       "4  11504802         0"
      ]
     },
     "execution_count": 55,
     "metadata": {},
     "output_type": "execute_result"
    }
   ],
   "source": [
    "submission = pd.DataFrame({'id':data_test['id'], 'Response':y_pred})\n",
    "submission = submission[['id','Response']]\n",
    "submission.head()"
   ]
  },
  {
   "cell_type": "code",
   "execution_count": 56,
   "id": "660c13b5",
   "metadata": {
    "execution": {
     "iopub.execute_input": "2024-07-31T16:41:26.145567Z",
     "iopub.status.busy": "2024-07-31T16:41:26.144284Z",
     "iopub.status.idle": "2024-07-31T16:41:38.016945Z",
     "shell.execute_reply": "2024-07-31T16:41:38.015324Z"
    },
    "papermill": {
     "duration": 11.909065,
     "end_time": "2024-07-31T16:41:38.020542",
     "exception": false,
     "start_time": "2024-07-31T16:41:26.111477",
     "status": "completed"
    },
    "tags": []
   },
   "outputs": [],
   "source": [
    "submission.to_csv('/kaggle/working/submission.csv', index=False)"
   ]
  },
  {
   "cell_type": "code",
   "execution_count": null,
   "id": "8c03b799",
   "metadata": {
    "papermill": {
     "duration": 0.029237,
     "end_time": "2024-07-31T16:41:38.079541",
     "exception": false,
     "start_time": "2024-07-31T16:41:38.050304",
     "status": "completed"
    },
    "tags": []
   },
   "outputs": [],
   "source": []
  }
 ],
 "metadata": {
  "kaggle": {
   "accelerator": "none",
   "dataSources": [
    {
     "databundleVersionId": 8930475,
     "sourceId": 73291,
     "sourceType": "competition"
    }
   ],
   "dockerImageVersionId": 30746,
   "isGpuEnabled": false,
   "isInternetEnabled": false,
   "language": "python",
   "sourceType": "notebook"
  },
  "kernelspec": {
   "display_name": "Python 3",
   "language": "python",
   "name": "python3"
  },
  "language_info": {
   "codemirror_mode": {
    "name": "ipython",
    "version": 3
   },
   "file_extension": ".py",
   "mimetype": "text/x-python",
   "name": "python",
   "nbconvert_exporter": "python",
   "pygments_lexer": "ipython3",
   "version": "3.10.13"
  },
  "papermill": {
   "default_parameters": {},
   "duration": 414.325383,
   "end_time": "2024-07-31T16:41:39.840645",
   "environment_variables": {},
   "exception": null,
   "input_path": "__notebook__.ipynb",
   "output_path": "__notebook__.ipynb",
   "parameters": {},
   "start_time": "2024-07-31T16:34:45.515262",
   "version": "2.5.0"
  }
 },
 "nbformat": 4,
 "nbformat_minor": 5
}
