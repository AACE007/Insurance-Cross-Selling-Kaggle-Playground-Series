{
 "cells": [
  {
   "cell_type": "code",
   "execution_count": 1,
   "id": "9409296b",
   "metadata": {
    "_cell_guid": "b1076dfc-b9ad-4769-8c92-a6c4dae69d19",
    "_uuid": "8f2839f25d086af736a60e9eeb907d3b93b6e0e5",
    "execution": {
     "iopub.execute_input": "2024-07-19T13:28:23.370642Z",
     "iopub.status.busy": "2024-07-19T13:28:23.369128Z",
     "iopub.status.idle": "2024-07-19T13:28:24.269771Z",
     "shell.execute_reply": "2024-07-19T13:28:24.268503Z"
    },
    "papermill": {
     "duration": 0.919158,
     "end_time": "2024-07-19T13:28:24.272534",
     "exception": false,
     "start_time": "2024-07-19T13:28:23.353376",
     "status": "completed"
    },
    "tags": []
   },
   "outputs": [
    {
     "name": "stdout",
     "output_type": "stream",
     "text": [
      "/kaggle/input/playground-series-s4e7/sample_submission.csv\n",
      "/kaggle/input/playground-series-s4e7/train.csv\n",
      "/kaggle/input/playground-series-s4e7/test.csv\n"
     ]
    }
   ],
   "source": [
    "# This Python 3 environment comes with many helpful analytics libraries installed\n",
    "# It is defined by the kaggle/python Docker image: https://github.com/kaggle/docker-python\n",
    "# For example, here's several helpful packages to load\n",
    "\n",
    "import numpy as np # linear algebra\n",
    "import pandas as pd # data processing, CSV file I/O (e.g. pd.read_csv)\n",
    "\n",
    "# Input data files are available in the read-only \"../input/\" directory\n",
    "# For example, running this (by clicking run or pressing Shift+Enter) will list all files under the input directory\n",
    "\n",
    "import os\n",
    "for dirname, _, filenames in os.walk('/kaggle/input'):\n",
    "    for filename in filenames:\n",
    "        print(os.path.join(dirname, filename))\n",
    "\n",
    "# You can write up to 20GB to the current directory (/kaggle/working/) that gets preserved as output when you create a version using \"Save & Run All\" \n",
    "# You can also write temporary files to /kaggle/temp/, but they won't be saved outside of the current session"
   ]
  },
  {
   "cell_type": "code",
   "execution_count": 2,
   "id": "fe7ecaff",
   "metadata": {
    "execution": {
     "iopub.execute_input": "2024-07-19T13:28:24.300292Z",
     "iopub.status.busy": "2024-07-19T13:28:24.299714Z",
     "iopub.status.idle": "2024-07-19T13:28:25.503548Z",
     "shell.execute_reply": "2024-07-19T13:28:25.502131Z"
    },
    "papermill": {
     "duration": 1.22014,
     "end_time": "2024-07-19T13:28:25.505812",
     "exception": false,
     "start_time": "2024-07-19T13:28:24.285672",
     "status": "completed"
    },
    "tags": []
   },
   "outputs": [],
   "source": [
    "import matplotlib.pyplot as plt\n",
    "import seaborn as sns\n",
    "sns.set_theme(color_codes=True)"
   ]
  },
  {
   "cell_type": "markdown",
   "id": "88eda366",
   "metadata": {
    "papermill": {
     "duration": 0.012382,
     "end_time": "2024-07-19T13:28:25.530879",
     "exception": false,
     "start_time": "2024-07-19T13:28:25.518497",
     "status": "completed"
    },
    "tags": []
   },
   "source": [
    "# Importing Data"
   ]
  },
  {
   "cell_type": "code",
   "execution_count": 3,
   "id": "a66bb26e",
   "metadata": {
    "execution": {
     "iopub.execute_input": "2024-07-19T13:28:25.559720Z",
     "iopub.status.busy": "2024-07-19T13:28:25.559320Z",
     "iopub.status.idle": "2024-07-19T13:28:41.099913Z",
     "shell.execute_reply": "2024-07-19T13:28:41.098981Z"
    },
    "papermill": {
     "duration": 15.559181,
     "end_time": "2024-07-19T13:28:41.102497",
     "exception": false,
     "start_time": "2024-07-19T13:28:25.543316",
     "status": "completed"
    },
    "tags": []
   },
   "outputs": [
    {
     "data": {
      "text/html": [
       "<div>\n",
       "<style scoped>\n",
       "    .dataframe tbody tr th:only-of-type {\n",
       "        vertical-align: middle;\n",
       "    }\n",
       "\n",
       "    .dataframe tbody tr th {\n",
       "        vertical-align: top;\n",
       "    }\n",
       "\n",
       "    .dataframe thead th {\n",
       "        text-align: right;\n",
       "    }\n",
       "</style>\n",
       "<table border=\"1\" class=\"dataframe\">\n",
       "  <thead>\n",
       "    <tr style=\"text-align: right;\">\n",
       "      <th></th>\n",
       "      <th>id</th>\n",
       "      <th>Gender</th>\n",
       "      <th>Age</th>\n",
       "      <th>Driving_License</th>\n",
       "      <th>Region_Code</th>\n",
       "      <th>Previously_Insured</th>\n",
       "      <th>Vehicle_Age</th>\n",
       "      <th>Vehicle_Damage</th>\n",
       "      <th>Annual_Premium</th>\n",
       "      <th>Policy_Sales_Channel</th>\n",
       "      <th>Vintage</th>\n",
       "      <th>Response</th>\n",
       "    </tr>\n",
       "  </thead>\n",
       "  <tbody>\n",
       "    <tr>\n",
       "      <th>0</th>\n",
       "      <td>0</td>\n",
       "      <td>Male</td>\n",
       "      <td>21</td>\n",
       "      <td>1</td>\n",
       "      <td>35.0</td>\n",
       "      <td>0</td>\n",
       "      <td>1-2 Year</td>\n",
       "      <td>Yes</td>\n",
       "      <td>65101.0</td>\n",
       "      <td>124.0</td>\n",
       "      <td>187</td>\n",
       "      <td>0</td>\n",
       "    </tr>\n",
       "    <tr>\n",
       "      <th>1</th>\n",
       "      <td>1</td>\n",
       "      <td>Male</td>\n",
       "      <td>43</td>\n",
       "      <td>1</td>\n",
       "      <td>28.0</td>\n",
       "      <td>0</td>\n",
       "      <td>&gt; 2 Years</td>\n",
       "      <td>Yes</td>\n",
       "      <td>58911.0</td>\n",
       "      <td>26.0</td>\n",
       "      <td>288</td>\n",
       "      <td>1</td>\n",
       "    </tr>\n",
       "    <tr>\n",
       "      <th>2</th>\n",
       "      <td>2</td>\n",
       "      <td>Female</td>\n",
       "      <td>25</td>\n",
       "      <td>1</td>\n",
       "      <td>14.0</td>\n",
       "      <td>1</td>\n",
       "      <td>&lt; 1 Year</td>\n",
       "      <td>No</td>\n",
       "      <td>38043.0</td>\n",
       "      <td>152.0</td>\n",
       "      <td>254</td>\n",
       "      <td>0</td>\n",
       "    </tr>\n",
       "    <tr>\n",
       "      <th>3</th>\n",
       "      <td>3</td>\n",
       "      <td>Female</td>\n",
       "      <td>35</td>\n",
       "      <td>1</td>\n",
       "      <td>1.0</td>\n",
       "      <td>0</td>\n",
       "      <td>1-2 Year</td>\n",
       "      <td>Yes</td>\n",
       "      <td>2630.0</td>\n",
       "      <td>156.0</td>\n",
       "      <td>76</td>\n",
       "      <td>0</td>\n",
       "    </tr>\n",
       "    <tr>\n",
       "      <th>4</th>\n",
       "      <td>4</td>\n",
       "      <td>Female</td>\n",
       "      <td>36</td>\n",
       "      <td>1</td>\n",
       "      <td>15.0</td>\n",
       "      <td>1</td>\n",
       "      <td>1-2 Year</td>\n",
       "      <td>No</td>\n",
       "      <td>31951.0</td>\n",
       "      <td>152.0</td>\n",
       "      <td>294</td>\n",
       "      <td>0</td>\n",
       "    </tr>\n",
       "  </tbody>\n",
       "</table>\n",
       "</div>"
      ],
      "text/plain": [
       "   id  Gender  Age  Driving_License  Region_Code  Previously_Insured  \\\n",
       "0   0    Male   21                1         35.0                   0   \n",
       "1   1    Male   43                1         28.0                   0   \n",
       "2   2  Female   25                1         14.0                   1   \n",
       "3   3  Female   35                1          1.0                   0   \n",
       "4   4  Female   36                1         15.0                   1   \n",
       "\n",
       "  Vehicle_Age Vehicle_Damage  Annual_Premium  Policy_Sales_Channel  Vintage  \\\n",
       "0    1-2 Year            Yes         65101.0                 124.0      187   \n",
       "1   > 2 Years            Yes         58911.0                  26.0      288   \n",
       "2    < 1 Year             No         38043.0                 152.0      254   \n",
       "3    1-2 Year            Yes          2630.0                 156.0       76   \n",
       "4    1-2 Year             No         31951.0                 152.0      294   \n",
       "\n",
       "   Response  \n",
       "0         0  \n",
       "1         1  \n",
       "2         0  \n",
       "3         0  \n",
       "4         0  "
      ]
     },
     "execution_count": 3,
     "metadata": {},
     "output_type": "execute_result"
    }
   ],
   "source": [
    "data_train=pd.read_csv('/kaggle/input/playground-series-s4e7/train.csv')\n",
    "data_train.head()"
   ]
  },
  {
   "cell_type": "code",
   "execution_count": 4,
   "id": "3d404123",
   "metadata": {
    "execution": {
     "iopub.execute_input": "2024-07-19T13:28:41.131449Z",
     "iopub.status.busy": "2024-07-19T13:28:41.131082Z",
     "iopub.status.idle": "2024-07-19T13:28:50.977217Z",
     "shell.execute_reply": "2024-07-19T13:28:50.975950Z"
    },
    "papermill": {
     "duration": 9.863386,
     "end_time": "2024-07-19T13:28:50.979121",
     "exception": false,
     "start_time": "2024-07-19T13:28:41.115735",
     "status": "completed"
    },
    "tags": []
   },
   "outputs": [
    {
     "data": {
      "text/html": [
       "<div>\n",
       "<style scoped>\n",
       "    .dataframe tbody tr th:only-of-type {\n",
       "        vertical-align: middle;\n",
       "    }\n",
       "\n",
       "    .dataframe tbody tr th {\n",
       "        vertical-align: top;\n",
       "    }\n",
       "\n",
       "    .dataframe thead th {\n",
       "        text-align: right;\n",
       "    }\n",
       "</style>\n",
       "<table border=\"1\" class=\"dataframe\">\n",
       "  <thead>\n",
       "    <tr style=\"text-align: right;\">\n",
       "      <th></th>\n",
       "      <th>id</th>\n",
       "      <th>Gender</th>\n",
       "      <th>Age</th>\n",
       "      <th>Driving_License</th>\n",
       "      <th>Region_Code</th>\n",
       "      <th>Previously_Insured</th>\n",
       "      <th>Vehicle_Age</th>\n",
       "      <th>Vehicle_Damage</th>\n",
       "      <th>Annual_Premium</th>\n",
       "      <th>Policy_Sales_Channel</th>\n",
       "      <th>Vintage</th>\n",
       "    </tr>\n",
       "  </thead>\n",
       "  <tbody>\n",
       "    <tr>\n",
       "      <th>0</th>\n",
       "      <td>11504798</td>\n",
       "      <td>Female</td>\n",
       "      <td>20</td>\n",
       "      <td>1</td>\n",
       "      <td>47.0</td>\n",
       "      <td>0</td>\n",
       "      <td>&lt; 1 Year</td>\n",
       "      <td>No</td>\n",
       "      <td>2630.0</td>\n",
       "      <td>160.0</td>\n",
       "      <td>228</td>\n",
       "    </tr>\n",
       "    <tr>\n",
       "      <th>1</th>\n",
       "      <td>11504799</td>\n",
       "      <td>Male</td>\n",
       "      <td>47</td>\n",
       "      <td>1</td>\n",
       "      <td>28.0</td>\n",
       "      <td>0</td>\n",
       "      <td>1-2 Year</td>\n",
       "      <td>Yes</td>\n",
       "      <td>37483.0</td>\n",
       "      <td>124.0</td>\n",
       "      <td>123</td>\n",
       "    </tr>\n",
       "    <tr>\n",
       "      <th>2</th>\n",
       "      <td>11504800</td>\n",
       "      <td>Male</td>\n",
       "      <td>47</td>\n",
       "      <td>1</td>\n",
       "      <td>43.0</td>\n",
       "      <td>0</td>\n",
       "      <td>1-2 Year</td>\n",
       "      <td>Yes</td>\n",
       "      <td>2630.0</td>\n",
       "      <td>26.0</td>\n",
       "      <td>271</td>\n",
       "    </tr>\n",
       "    <tr>\n",
       "      <th>3</th>\n",
       "      <td>11504801</td>\n",
       "      <td>Female</td>\n",
       "      <td>22</td>\n",
       "      <td>1</td>\n",
       "      <td>47.0</td>\n",
       "      <td>1</td>\n",
       "      <td>&lt; 1 Year</td>\n",
       "      <td>No</td>\n",
       "      <td>24502.0</td>\n",
       "      <td>152.0</td>\n",
       "      <td>115</td>\n",
       "    </tr>\n",
       "    <tr>\n",
       "      <th>4</th>\n",
       "      <td>11504802</td>\n",
       "      <td>Male</td>\n",
       "      <td>51</td>\n",
       "      <td>1</td>\n",
       "      <td>19.0</td>\n",
       "      <td>0</td>\n",
       "      <td>1-2 Year</td>\n",
       "      <td>No</td>\n",
       "      <td>34115.0</td>\n",
       "      <td>124.0</td>\n",
       "      <td>148</td>\n",
       "    </tr>\n",
       "  </tbody>\n",
       "</table>\n",
       "</div>"
      ],
      "text/plain": [
       "         id  Gender  Age  Driving_License  Region_Code  Previously_Insured  \\\n",
       "0  11504798  Female   20                1         47.0                   0   \n",
       "1  11504799    Male   47                1         28.0                   0   \n",
       "2  11504800    Male   47                1         43.0                   0   \n",
       "3  11504801  Female   22                1         47.0                   1   \n",
       "4  11504802    Male   51                1         19.0                   0   \n",
       "\n",
       "  Vehicle_Age Vehicle_Damage  Annual_Premium  Policy_Sales_Channel  Vintage  \n",
       "0    < 1 Year             No          2630.0                 160.0      228  \n",
       "1    1-2 Year            Yes         37483.0                 124.0      123  \n",
       "2    1-2 Year            Yes          2630.0                  26.0      271  \n",
       "3    < 1 Year             No         24502.0                 152.0      115  \n",
       "4    1-2 Year             No         34115.0                 124.0      148  "
      ]
     },
     "execution_count": 4,
     "metadata": {},
     "output_type": "execute_result"
    }
   ],
   "source": [
    "data_test=pd.read_csv('/kaggle/input/playground-series-s4e7/test.csv')\n",
    "data_test.head()"
   ]
  },
  {
   "cell_type": "markdown",
   "id": "242a55f9",
   "metadata": {
    "papermill": {
     "duration": 0.013146,
     "end_time": "2024-07-19T13:28:51.005084",
     "exception": false,
     "start_time": "2024-07-19T13:28:50.991938",
     "status": "completed"
    },
    "tags": []
   },
   "source": [
    "# EDA"
   ]
  },
  {
   "cell_type": "code",
   "execution_count": 5,
   "id": "5a8a4d14",
   "metadata": {
    "execution": {
     "iopub.execute_input": "2024-07-19T13:28:51.032166Z",
     "iopub.status.busy": "2024-07-19T13:28:51.031756Z",
     "iopub.status.idle": "2024-07-19T13:28:51.039395Z",
     "shell.execute_reply": "2024-07-19T13:28:51.038212Z"
    },
    "papermill": {
     "duration": 0.02369,
     "end_time": "2024-07-19T13:28:51.041512",
     "exception": false,
     "start_time": "2024-07-19T13:28:51.017822",
     "status": "completed"
    },
    "tags": []
   },
   "outputs": [
    {
     "data": {
      "text/plain": [
       "Index(['id', 'Gender', 'Age', 'Driving_License', 'Region_Code',\n",
       "       'Previously_Insured', 'Vehicle_Age', 'Vehicle_Damage', 'Annual_Premium',\n",
       "       'Policy_Sales_Channel', 'Vintage', 'Response'],\n",
       "      dtype='object')"
      ]
     },
     "execution_count": 5,
     "metadata": {},
     "output_type": "execute_result"
    }
   ],
   "source": [
    "data_train.columns"
   ]
  },
  {
   "cell_type": "code",
   "execution_count": 6,
   "id": "2fb1762a",
   "metadata": {
    "execution": {
     "iopub.execute_input": "2024-07-19T13:28:51.069391Z",
     "iopub.status.busy": "2024-07-19T13:28:51.068977Z",
     "iopub.status.idle": "2024-07-19T13:28:51.074022Z",
     "shell.execute_reply": "2024-07-19T13:28:51.072874Z"
    },
    "papermill": {
     "duration": 0.020872,
     "end_time": "2024-07-19T13:28:51.075786",
     "exception": false,
     "start_time": "2024-07-19T13:28:51.054914",
     "status": "completed"
    },
    "tags": []
   },
   "outputs": [],
   "source": [
    "#sns.barplot(data=data_train, x='Response',y='Vintage')"
   ]
  },
  {
   "cell_type": "code",
   "execution_count": 7,
   "id": "69d81323",
   "metadata": {
    "execution": {
     "iopub.execute_input": "2024-07-19T13:28:51.103095Z",
     "iopub.status.busy": "2024-07-19T13:28:51.102702Z",
     "iopub.status.idle": "2024-07-19T13:28:51.107122Z",
     "shell.execute_reply": "2024-07-19T13:28:51.106161Z"
    },
    "papermill": {
     "duration": 0.020641,
     "end_time": "2024-07-19T13:28:51.109344",
     "exception": false,
     "start_time": "2024-07-19T13:28:51.088703",
     "status": "completed"
    },
    "tags": []
   },
   "outputs": [],
   "source": [
    "# sns.barplot(data=data_train, x='Response',y='Policy_Sales_Channel')"
   ]
  },
  {
   "cell_type": "code",
   "execution_count": 8,
   "id": "9ea8fed6",
   "metadata": {
    "execution": {
     "iopub.execute_input": "2024-07-19T13:28:51.137528Z",
     "iopub.status.busy": "2024-07-19T13:28:51.137193Z",
     "iopub.status.idle": "2024-07-19T13:28:51.142733Z",
     "shell.execute_reply": "2024-07-19T13:28:51.141114Z"
    },
    "papermill": {
     "duration": 0.022862,
     "end_time": "2024-07-19T13:28:51.145508",
     "exception": false,
     "start_time": "2024-07-19T13:28:51.122646",
     "status": "completed"
    },
    "tags": []
   },
   "outputs": [],
   "source": [
    "# sns.barplot(data=data_train, x='Response',y='Annual_Premium')"
   ]
  },
  {
   "cell_type": "code",
   "execution_count": null,
   "id": "8f7c266d",
   "metadata": {
    "papermill": {
     "duration": 0.014071,
     "end_time": "2024-07-19T13:28:51.173434",
     "exception": false,
     "start_time": "2024-07-19T13:28:51.159363",
     "status": "completed"
    },
    "tags": []
   },
   "outputs": [],
   "source": []
  },
  {
   "cell_type": "markdown",
   "id": "cdd71396",
   "metadata": {
    "papermill": {
     "duration": 0.013289,
     "end_time": "2024-07-19T13:28:51.200724",
     "exception": false,
     "start_time": "2024-07-19T13:28:51.187435",
     "status": "completed"
    },
    "tags": []
   },
   "source": [
    "# Data Preprocessing"
   ]
  },
  {
   "cell_type": "code",
   "execution_count": 9,
   "id": "294c7de3",
   "metadata": {
    "execution": {
     "iopub.execute_input": "2024-07-19T13:28:51.229791Z",
     "iopub.status.busy": "2024-07-19T13:28:51.229422Z",
     "iopub.status.idle": "2024-07-19T13:28:52.425179Z",
     "shell.execute_reply": "2024-07-19T13:28:52.424103Z"
    },
    "papermill": {
     "duration": 1.212608,
     "end_time": "2024-07-19T13:28:52.427150",
     "exception": false,
     "start_time": "2024-07-19T13:28:51.214542",
     "status": "completed"
    },
    "tags": []
   },
   "outputs": [
    {
     "data": {
      "text/plain": [
       "id                      0\n",
       "Gender                  0\n",
       "Age                     0\n",
       "Driving_License         0\n",
       "Region_Code             0\n",
       "Previously_Insured      0\n",
       "Vehicle_Age             0\n",
       "Vehicle_Damage          0\n",
       "Annual_Premium          0\n",
       "Policy_Sales_Channel    0\n",
       "Vintage                 0\n",
       "Response                0\n",
       "dtype: int64"
      ]
     },
     "execution_count": 9,
     "metadata": {},
     "output_type": "execute_result"
    }
   ],
   "source": [
    "data_train.isnull().sum()"
   ]
  },
  {
   "cell_type": "code",
   "execution_count": 10,
   "id": "ec10229b",
   "metadata": {
    "execution": {
     "iopub.execute_input": "2024-07-19T13:28:52.454727Z",
     "iopub.status.busy": "2024-07-19T13:28:52.454435Z",
     "iopub.status.idle": "2024-07-19T13:28:54.882769Z",
     "shell.execute_reply": "2024-07-19T13:28:54.881384Z"
    },
    "papermill": {
     "duration": 2.44467,
     "end_time": "2024-07-19T13:28:54.884871",
     "exception": false,
     "start_time": "2024-07-19T13:28:52.440201",
     "status": "completed"
    },
    "tags": []
   },
   "outputs": [
    {
     "data": {
      "text/plain": [
       "Gender            2\n",
       "Vehicle_Age       3\n",
       "Vehicle_Damage    2\n",
       "dtype: int64"
      ]
     },
     "execution_count": 10,
     "metadata": {},
     "output_type": "execute_result"
    }
   ],
   "source": [
    "# columns in the DataFrame that have data types classified as 'object'. \n",
    "#In pandas, the 'object' data type is typically used for text or categorical data.\n",
    "data_train.select_dtypes(include='object').nunique()"
   ]
  },
  {
   "cell_type": "code",
   "execution_count": 11,
   "id": "db0adc9e",
   "metadata": {
    "execution": {
     "iopub.execute_input": "2024-07-19T13:28:54.913068Z",
     "iopub.status.busy": "2024-07-19T13:28:54.912733Z",
     "iopub.status.idle": "2024-07-19T13:28:58.312088Z",
     "shell.execute_reply": "2024-07-19T13:28:58.310053Z"
    },
    "papermill": {
     "duration": 3.416622,
     "end_time": "2024-07-19T13:28:58.314765",
     "exception": false,
     "start_time": "2024-07-19T13:28:54.898143",
     "status": "completed"
    },
    "tags": []
   },
   "outputs": [
    {
     "data": {
      "text/plain": [
       "id                      11504798\n",
       "Gender                         2\n",
       "Age                           66\n",
       "Driving_License                2\n",
       "Region_Code                   54\n",
       "Previously_Insured             2\n",
       "Vehicle_Age                    3\n",
       "Vehicle_Damage                 2\n",
       "Annual_Premium             51728\n",
       "Policy_Sales_Channel         152\n",
       "Vintage                      290\n",
       "Response                       2\n",
       "dtype: int64"
      ]
     },
     "execution_count": 11,
     "metadata": {},
     "output_type": "execute_result"
    }
   ],
   "source": [
    "data_train.nunique() # tells all the unique value a column holds"
   ]
  },
  {
   "cell_type": "code",
   "execution_count": 12,
   "id": "15d9a1ff",
   "metadata": {
    "execution": {
     "iopub.execute_input": "2024-07-19T13:28:58.344636Z",
     "iopub.status.busy": "2024-07-19T13:28:58.343427Z",
     "iopub.status.idle": "2024-07-19T13:28:58.863882Z",
     "shell.execute_reply": "2024-07-19T13:28:58.862273Z"
    },
    "papermill": {
     "duration": 0.53763,
     "end_time": "2024-07-19T13:28:58.865916",
     "exception": false,
     "start_time": "2024-07-19T13:28:58.328286",
     "status": "completed"
    },
    "tags": []
   },
   "outputs": [
    {
     "data": {
      "text/html": [
       "<div>\n",
       "<style scoped>\n",
       "    .dataframe tbody tr th:only-of-type {\n",
       "        vertical-align: middle;\n",
       "    }\n",
       "\n",
       "    .dataframe tbody tr th {\n",
       "        vertical-align: top;\n",
       "    }\n",
       "\n",
       "    .dataframe thead th {\n",
       "        text-align: right;\n",
       "    }\n",
       "</style>\n",
       "<table border=\"1\" class=\"dataframe\">\n",
       "  <thead>\n",
       "    <tr style=\"text-align: right;\">\n",
       "      <th></th>\n",
       "      <th>Gender</th>\n",
       "      <th>Age</th>\n",
       "      <th>Driving_License</th>\n",
       "      <th>Region_Code</th>\n",
       "      <th>Previously_Insured</th>\n",
       "      <th>Vehicle_Age</th>\n",
       "      <th>Vehicle_Damage</th>\n",
       "      <th>Annual_Premium</th>\n",
       "      <th>Policy_Sales_Channel</th>\n",
       "      <th>Vintage</th>\n",
       "      <th>Response</th>\n",
       "    </tr>\n",
       "  </thead>\n",
       "  <tbody>\n",
       "    <tr>\n",
       "      <th>0</th>\n",
       "      <td>Male</td>\n",
       "      <td>21</td>\n",
       "      <td>1</td>\n",
       "      <td>35.0</td>\n",
       "      <td>0</td>\n",
       "      <td>1-2 Year</td>\n",
       "      <td>Yes</td>\n",
       "      <td>65101.0</td>\n",
       "      <td>124.0</td>\n",
       "      <td>187</td>\n",
       "      <td>0</td>\n",
       "    </tr>\n",
       "    <tr>\n",
       "      <th>1</th>\n",
       "      <td>Male</td>\n",
       "      <td>43</td>\n",
       "      <td>1</td>\n",
       "      <td>28.0</td>\n",
       "      <td>0</td>\n",
       "      <td>&gt; 2 Years</td>\n",
       "      <td>Yes</td>\n",
       "      <td>58911.0</td>\n",
       "      <td>26.0</td>\n",
       "      <td>288</td>\n",
       "      <td>1</td>\n",
       "    </tr>\n",
       "    <tr>\n",
       "      <th>2</th>\n",
       "      <td>Female</td>\n",
       "      <td>25</td>\n",
       "      <td>1</td>\n",
       "      <td>14.0</td>\n",
       "      <td>1</td>\n",
       "      <td>&lt; 1 Year</td>\n",
       "      <td>No</td>\n",
       "      <td>38043.0</td>\n",
       "      <td>152.0</td>\n",
       "      <td>254</td>\n",
       "      <td>0</td>\n",
       "    </tr>\n",
       "    <tr>\n",
       "      <th>3</th>\n",
       "      <td>Female</td>\n",
       "      <td>35</td>\n",
       "      <td>1</td>\n",
       "      <td>1.0</td>\n",
       "      <td>0</td>\n",
       "      <td>1-2 Year</td>\n",
       "      <td>Yes</td>\n",
       "      <td>2630.0</td>\n",
       "      <td>156.0</td>\n",
       "      <td>76</td>\n",
       "      <td>0</td>\n",
       "    </tr>\n",
       "    <tr>\n",
       "      <th>4</th>\n",
       "      <td>Female</td>\n",
       "      <td>36</td>\n",
       "      <td>1</td>\n",
       "      <td>15.0</td>\n",
       "      <td>1</td>\n",
       "      <td>1-2 Year</td>\n",
       "      <td>No</td>\n",
       "      <td>31951.0</td>\n",
       "      <td>152.0</td>\n",
       "      <td>294</td>\n",
       "      <td>0</td>\n",
       "    </tr>\n",
       "  </tbody>\n",
       "</table>\n",
       "</div>"
      ],
      "text/plain": [
       "   Gender  Age  Driving_License  Region_Code  Previously_Insured Vehicle_Age  \\\n",
       "0    Male   21                1         35.0                   0    1-2 Year   \n",
       "1    Male   43                1         28.0                   0   > 2 Years   \n",
       "2  Female   25                1         14.0                   1    < 1 Year   \n",
       "3  Female   35                1          1.0                   0    1-2 Year   \n",
       "4  Female   36                1         15.0                   1    1-2 Year   \n",
       "\n",
       "  Vehicle_Damage  Annual_Premium  Policy_Sales_Channel  Vintage  Response  \n",
       "0            Yes         65101.0                 124.0      187         0  \n",
       "1            Yes         58911.0                  26.0      288         1  \n",
       "2             No         38043.0                 152.0      254         0  \n",
       "3            Yes          2630.0                 156.0       76         0  \n",
       "4             No         31951.0                 152.0      294         0  "
      ]
     },
     "execution_count": 12,
     "metadata": {},
     "output_type": "execute_result"
    }
   ],
   "source": [
    "# removing id column\n",
    "data_train.drop('id', axis=1,inplace=True)\n",
    "data_train.head()"
   ]
  },
  {
   "cell_type": "code",
   "execution_count": 13,
   "id": "1c4128be",
   "metadata": {
    "execution": {
     "iopub.execute_input": "2024-07-19T13:28:58.896011Z",
     "iopub.status.busy": "2024-07-19T13:28:58.895590Z",
     "iopub.status.idle": "2024-07-19T13:28:59.611888Z",
     "shell.execute_reply": "2024-07-19T13:28:59.610018Z"
    },
    "papermill": {
     "duration": 0.733605,
     "end_time": "2024-07-19T13:28:59.614026",
     "exception": false,
     "start_time": "2024-07-19T13:28:58.880421",
     "status": "completed"
    },
    "tags": []
   },
   "outputs": [
    {
     "data": {
      "text/plain": [
       "array(['Male', 'Female'], dtype=object)"
      ]
     },
     "execution_count": 13,
     "metadata": {},
     "output_type": "execute_result"
    }
   ],
   "source": [
    "data_train['Gender'].unique()"
   ]
  },
  {
   "cell_type": "code",
   "execution_count": 14,
   "id": "29bf1d59",
   "metadata": {
    "execution": {
     "iopub.execute_input": "2024-07-19T13:28:59.642909Z",
     "iopub.status.busy": "2024-07-19T13:28:59.642620Z",
     "iopub.status.idle": "2024-07-19T13:29:00.345738Z",
     "shell.execute_reply": "2024-07-19T13:29:00.345002Z"
    },
    "papermill": {
     "duration": 0.719815,
     "end_time": "2024-07-19T13:29:00.347922",
     "exception": false,
     "start_time": "2024-07-19T13:28:59.628107",
     "status": "completed"
    },
    "tags": []
   },
   "outputs": [
    {
     "data": {
      "text/plain": [
       "array(['1-2 Year', '> 2 Years', '< 1 Year'], dtype=object)"
      ]
     },
     "execution_count": 14,
     "metadata": {},
     "output_type": "execute_result"
    }
   ],
   "source": [
    "data_train['Vehicle_Age'].unique()"
   ]
  },
  {
   "cell_type": "code",
   "execution_count": 15,
   "id": "58de128d",
   "metadata": {
    "execution": {
     "iopub.execute_input": "2024-07-19T13:29:00.377051Z",
     "iopub.status.busy": "2024-07-19T13:29:00.376716Z",
     "iopub.status.idle": "2024-07-19T13:29:01.070697Z",
     "shell.execute_reply": "2024-07-19T13:29:01.069335Z"
    },
    "papermill": {
     "duration": 0.711288,
     "end_time": "2024-07-19T13:29:01.073110",
     "exception": false,
     "start_time": "2024-07-19T13:29:00.361822",
     "status": "completed"
    },
    "tags": []
   },
   "outputs": [
    {
     "data": {
      "text/plain": [
       "array(['Yes', 'No'], dtype=object)"
      ]
     },
     "execution_count": 15,
     "metadata": {},
     "output_type": "execute_result"
    }
   ],
   "source": [
    "data_train['Vehicle_Damage'].unique()"
   ]
  },
  {
   "cell_type": "code",
   "execution_count": 16,
   "id": "4104457d",
   "metadata": {
    "execution": {
     "iopub.execute_input": "2024-07-19T13:29:01.103036Z",
     "iopub.status.busy": "2024-07-19T13:29:01.102694Z",
     "iopub.status.idle": "2024-07-19T13:29:01.107358Z",
     "shell.execute_reply": "2024-07-19T13:29:01.106395Z"
    },
    "papermill": {
     "duration": 0.022844,
     "end_time": "2024-07-19T13:29:01.110149",
     "exception": false,
     "start_time": "2024-07-19T13:29:01.087305",
     "status": "completed"
    },
    "tags": []
   },
   "outputs": [],
   "source": [
    "# Transforming Object Categorical data into int using label Encoder"
   ]
  },
  {
   "cell_type": "code",
   "execution_count": 17,
   "id": "1e88b00d",
   "metadata": {
    "execution": {
     "iopub.execute_input": "2024-07-19T13:29:01.140298Z",
     "iopub.status.busy": "2024-07-19T13:29:01.139977Z",
     "iopub.status.idle": "2024-07-19T13:29:01.371748Z",
     "shell.execute_reply": "2024-07-19T13:29:01.370838Z"
    },
    "papermill": {
     "duration": 0.249493,
     "end_time": "2024-07-19T13:29:01.374121",
     "exception": false,
     "start_time": "2024-07-19T13:29:01.124628",
     "status": "completed"
    },
    "tags": []
   },
   "outputs": [],
   "source": [
    "from sklearn import preprocessing\n",
    "label_encoder=preprocessing.LabelEncoder()"
   ]
  },
  {
   "cell_type": "code",
   "execution_count": 18,
   "id": "80572729",
   "metadata": {
    "execution": {
     "iopub.execute_input": "2024-07-19T13:29:01.403425Z",
     "iopub.status.busy": "2024-07-19T13:29:01.403074Z",
     "iopub.status.idle": "2024-07-19T13:29:03.363001Z",
     "shell.execute_reply": "2024-07-19T13:29:03.361452Z"
    },
    "papermill": {
     "duration": 1.976922,
     "end_time": "2024-07-19T13:29:03.365060",
     "exception": false,
     "start_time": "2024-07-19T13:29:01.388138",
     "status": "completed"
    },
    "tags": []
   },
   "outputs": [
    {
     "data": {
      "text/plain": [
       "array([1, 0])"
      ]
     },
     "execution_count": 18,
     "metadata": {},
     "output_type": "execute_result"
    }
   ],
   "source": [
    "data_train['Gender']=label_encoder.fit_transform(data_train['Gender'])\n",
    "data_train['Gender'].unique()"
   ]
  },
  {
   "cell_type": "code",
   "execution_count": 19,
   "id": "e3dc5c31",
   "metadata": {
    "execution": {
     "iopub.execute_input": "2024-07-19T13:29:03.447999Z",
     "iopub.status.busy": "2024-07-19T13:29:03.447549Z",
     "iopub.status.idle": "2024-07-19T13:29:05.411195Z",
     "shell.execute_reply": "2024-07-19T13:29:05.410104Z"
    },
    "papermill": {
     "duration": 1.98163,
     "end_time": "2024-07-19T13:29:05.413199",
     "exception": false,
     "start_time": "2024-07-19T13:29:03.431569",
     "status": "completed"
    },
    "tags": []
   },
   "outputs": [
    {
     "data": {
      "text/plain": [
       "array([0, 2, 1])"
      ]
     },
     "execution_count": 19,
     "metadata": {},
     "output_type": "execute_result"
    }
   ],
   "source": [
    "data_train['Vehicle_Age']=label_encoder.fit_transform(data_train['Vehicle_Age'])\n",
    "data_train['Vehicle_Age'].unique()"
   ]
  },
  {
   "cell_type": "code",
   "execution_count": 20,
   "id": "e5abc930",
   "metadata": {
    "execution": {
     "iopub.execute_input": "2024-07-19T13:29:05.444475Z",
     "iopub.status.busy": "2024-07-19T13:29:05.444138Z",
     "iopub.status.idle": "2024-07-19T13:29:07.403405Z",
     "shell.execute_reply": "2024-07-19T13:29:07.401784Z"
    },
    "papermill": {
     "duration": 1.977226,
     "end_time": "2024-07-19T13:29:07.405441",
     "exception": false,
     "start_time": "2024-07-19T13:29:05.428215",
     "status": "completed"
    },
    "tags": []
   },
   "outputs": [
    {
     "data": {
      "text/plain": [
       "array([1, 0])"
      ]
     },
     "execution_count": 20,
     "metadata": {},
     "output_type": "execute_result"
    }
   ],
   "source": [
    "data_train['Vehicle_Damage']=label_encoder.fit_transform(data_train['Vehicle_Damage'])\n",
    "data_train['Vehicle_Damage'].unique()"
   ]
  },
  {
   "cell_type": "code",
   "execution_count": 21,
   "id": "c263174d",
   "metadata": {
    "execution": {
     "iopub.execute_input": "2024-07-19T13:29:07.434820Z",
     "iopub.status.busy": "2024-07-19T13:29:07.434521Z",
     "iopub.status.idle": "2024-07-19T13:29:07.449316Z",
     "shell.execute_reply": "2024-07-19T13:29:07.447912Z"
    },
    "papermill": {
     "duration": 0.032599,
     "end_time": "2024-07-19T13:29:07.452008",
     "exception": false,
     "start_time": "2024-07-19T13:29:07.419409",
     "status": "completed"
    },
    "tags": []
   },
   "outputs": [
    {
     "data": {
      "text/html": [
       "<div>\n",
       "<style scoped>\n",
       "    .dataframe tbody tr th:only-of-type {\n",
       "        vertical-align: middle;\n",
       "    }\n",
       "\n",
       "    .dataframe tbody tr th {\n",
       "        vertical-align: top;\n",
       "    }\n",
       "\n",
       "    .dataframe thead th {\n",
       "        text-align: right;\n",
       "    }\n",
       "</style>\n",
       "<table border=\"1\" class=\"dataframe\">\n",
       "  <thead>\n",
       "    <tr style=\"text-align: right;\">\n",
       "      <th></th>\n",
       "      <th>Gender</th>\n",
       "      <th>Age</th>\n",
       "      <th>Driving_License</th>\n",
       "      <th>Region_Code</th>\n",
       "      <th>Previously_Insured</th>\n",
       "      <th>Vehicle_Age</th>\n",
       "      <th>Vehicle_Damage</th>\n",
       "      <th>Annual_Premium</th>\n",
       "      <th>Policy_Sales_Channel</th>\n",
       "      <th>Vintage</th>\n",
       "      <th>Response</th>\n",
       "    </tr>\n",
       "  </thead>\n",
       "  <tbody>\n",
       "    <tr>\n",
       "      <th>0</th>\n",
       "      <td>1</td>\n",
       "      <td>21</td>\n",
       "      <td>1</td>\n",
       "      <td>35.0</td>\n",
       "      <td>0</td>\n",
       "      <td>0</td>\n",
       "      <td>1</td>\n",
       "      <td>65101.0</td>\n",
       "      <td>124.0</td>\n",
       "      <td>187</td>\n",
       "      <td>0</td>\n",
       "    </tr>\n",
       "    <tr>\n",
       "      <th>1</th>\n",
       "      <td>1</td>\n",
       "      <td>43</td>\n",
       "      <td>1</td>\n",
       "      <td>28.0</td>\n",
       "      <td>0</td>\n",
       "      <td>2</td>\n",
       "      <td>1</td>\n",
       "      <td>58911.0</td>\n",
       "      <td>26.0</td>\n",
       "      <td>288</td>\n",
       "      <td>1</td>\n",
       "    </tr>\n",
       "    <tr>\n",
       "      <th>2</th>\n",
       "      <td>0</td>\n",
       "      <td>25</td>\n",
       "      <td>1</td>\n",
       "      <td>14.0</td>\n",
       "      <td>1</td>\n",
       "      <td>1</td>\n",
       "      <td>0</td>\n",
       "      <td>38043.0</td>\n",
       "      <td>152.0</td>\n",
       "      <td>254</td>\n",
       "      <td>0</td>\n",
       "    </tr>\n",
       "    <tr>\n",
       "      <th>3</th>\n",
       "      <td>0</td>\n",
       "      <td>35</td>\n",
       "      <td>1</td>\n",
       "      <td>1.0</td>\n",
       "      <td>0</td>\n",
       "      <td>0</td>\n",
       "      <td>1</td>\n",
       "      <td>2630.0</td>\n",
       "      <td>156.0</td>\n",
       "      <td>76</td>\n",
       "      <td>0</td>\n",
       "    </tr>\n",
       "    <tr>\n",
       "      <th>4</th>\n",
       "      <td>0</td>\n",
       "      <td>36</td>\n",
       "      <td>1</td>\n",
       "      <td>15.0</td>\n",
       "      <td>1</td>\n",
       "      <td>0</td>\n",
       "      <td>0</td>\n",
       "      <td>31951.0</td>\n",
       "      <td>152.0</td>\n",
       "      <td>294</td>\n",
       "      <td>0</td>\n",
       "    </tr>\n",
       "  </tbody>\n",
       "</table>\n",
       "</div>"
      ],
      "text/plain": [
       "   Gender  Age  Driving_License  Region_Code  Previously_Insured  Vehicle_Age  \\\n",
       "0       1   21                1         35.0                   0            0   \n",
       "1       1   43                1         28.0                   0            2   \n",
       "2       0   25                1         14.0                   1            1   \n",
       "3       0   35                1          1.0                   0            0   \n",
       "4       0   36                1         15.0                   1            0   \n",
       "\n",
       "   Vehicle_Damage  Annual_Premium  Policy_Sales_Channel  Vintage  Response  \n",
       "0               1         65101.0                 124.0      187         0  \n",
       "1               1         58911.0                  26.0      288         1  \n",
       "2               0         38043.0                 152.0      254         0  \n",
       "3               1          2630.0                 156.0       76         0  \n",
       "4               0         31951.0                 152.0      294         0  "
      ]
     },
     "execution_count": 21,
     "metadata": {},
     "output_type": "execute_result"
    }
   ],
   "source": [
    "data_train.head()"
   ]
  },
  {
   "cell_type": "code",
   "execution_count": 22,
   "id": "ea2542f6",
   "metadata": {
    "execution": {
     "iopub.execute_input": "2024-07-19T13:29:07.484701Z",
     "iopub.status.busy": "2024-07-19T13:29:07.483766Z",
     "iopub.status.idle": "2024-07-19T13:29:07.491691Z",
     "shell.execute_reply": "2024-07-19T13:29:07.490400Z"
    },
    "papermill": {
     "duration": 0.026885,
     "end_time": "2024-07-19T13:29:07.494363",
     "exception": false,
     "start_time": "2024-07-19T13:29:07.467478",
     "status": "completed"
    },
    "tags": []
   },
   "outputs": [
    {
     "data": {
      "text/plain": [
       "Gender                    int64\n",
       "Age                       int64\n",
       "Driving_License           int64\n",
       "Region_Code             float64\n",
       "Previously_Insured        int64\n",
       "Vehicle_Age               int64\n",
       "Vehicle_Damage            int64\n",
       "Annual_Premium          float64\n",
       "Policy_Sales_Channel    float64\n",
       "Vintage                   int64\n",
       "Response                  int64\n",
       "dtype: object"
      ]
     },
     "execution_count": 22,
     "metadata": {},
     "output_type": "execute_result"
    }
   ],
   "source": [
    "data_train.dtypes"
   ]
  },
  {
   "cell_type": "markdown",
   "id": "11e0efe6",
   "metadata": {
    "papermill": {
     "duration": 0.014988,
     "end_time": "2024-07-19T13:29:07.524720",
     "exception": false,
     "start_time": "2024-07-19T13:29:07.509732",
     "status": "completed"
    },
    "tags": []
   },
   "source": [
    "# Check if Response colum is balance or not"
   ]
  },
  {
   "cell_type": "code",
   "execution_count": 23,
   "id": "815af269",
   "metadata": {
    "execution": {
     "iopub.execute_input": "2024-07-19T13:29:07.558271Z",
     "iopub.status.busy": "2024-07-19T13:29:07.557816Z",
     "iopub.status.idle": "2024-07-19T13:29:07.563066Z",
     "shell.execute_reply": "2024-07-19T13:29:07.561663Z"
    },
    "papermill": {
     "duration": 0.025619,
     "end_time": "2024-07-19T13:29:07.565884",
     "exception": false,
     "start_time": "2024-07-19T13:29:07.540265",
     "status": "completed"
    },
    "tags": []
   },
   "outputs": [],
   "source": [
    "# sns.countplot(x=data_train['Response'])\n",
    "\n",
    "# plt.figure(figsize=(5, 5))"
   ]
  },
  {
   "cell_type": "code",
   "execution_count": 24,
   "id": "36e3335a",
   "metadata": {
    "execution": {
     "iopub.execute_input": "2024-07-19T13:29:07.597541Z",
     "iopub.status.busy": "2024-07-19T13:29:07.597126Z",
     "iopub.status.idle": "2024-07-19T13:29:07.699175Z",
     "shell.execute_reply": "2024-07-19T13:29:07.698098Z"
    },
    "papermill": {
     "duration": 0.120867,
     "end_time": "2024-07-19T13:29:07.701629",
     "exception": false,
     "start_time": "2024-07-19T13:29:07.580762",
     "status": "completed"
    },
    "tags": []
   },
   "outputs": [
    {
     "data": {
      "text/plain": [
       "Response\n",
       "0    10089739\n",
       "1     1415059\n",
       "Name: count, dtype: int64"
      ]
     },
     "execution_count": 24,
     "metadata": {},
     "output_type": "execute_result"
    }
   ],
   "source": [
    "data_train['Response'].value_counts()"
   ]
  },
  {
   "cell_type": "code",
   "execution_count": 25,
   "id": "fbd63038",
   "metadata": {
    "execution": {
     "iopub.execute_input": "2024-07-19T13:29:07.736947Z",
     "iopub.status.busy": "2024-07-19T13:29:07.736206Z",
     "iopub.status.idle": "2024-07-19T13:29:08.367830Z",
     "shell.execute_reply": "2024-07-19T13:29:08.366211Z"
    },
    "papermill": {
     "duration": 0.652976,
     "end_time": "2024-07-19T13:29:08.370390",
     "exception": false,
     "start_time": "2024-07-19T13:29:07.717414",
     "status": "completed"
    },
    "tags": []
   },
   "outputs": [],
   "source": [
    "# seperating 1 and 0 in different columns\n",
    "df_major= data_train[(data_train['Response']==0)]\n",
    "df_minor= data_train[(data_train['Response']==1)]"
   ]
  },
  {
   "cell_type": "code",
   "execution_count": 26,
   "id": "004b28ef",
   "metadata": {
    "execution": {
     "iopub.execute_input": "2024-07-19T13:29:08.403054Z",
     "iopub.status.busy": "2024-07-19T13:29:08.401880Z",
     "iopub.status.idle": "2024-07-19T13:29:08.407310Z",
     "shell.execute_reply": "2024-07-19T13:29:08.405745Z"
    },
    "papermill": {
     "duration": 0.024667,
     "end_time": "2024-07-19T13:29:08.410061",
     "exception": false,
     "start_time": "2024-07-19T13:29:08.385394",
     "status": "completed"
    },
    "tags": []
   },
   "outputs": [],
   "source": [
    "# up sampling minority '1' column equal to majority '0'\n",
    "# Response\n",
    "# 0    10089739\n",
    "# 1     1415059"
   ]
  },
  {
   "cell_type": "code",
   "execution_count": 27,
   "id": "b558438c",
   "metadata": {
    "execution": {
     "iopub.execute_input": "2024-07-19T13:29:08.441427Z",
     "iopub.status.busy": "2024-07-19T13:29:08.441082Z",
     "iopub.status.idle": "2024-07-19T13:29:09.720602Z",
     "shell.execute_reply": "2024-07-19T13:29:09.718207Z"
    },
    "papermill": {
     "duration": 1.298479,
     "end_time": "2024-07-19T13:29:09.723593",
     "exception": false,
     "start_time": "2024-07-19T13:29:08.425114",
     "status": "completed"
    },
    "tags": []
   },
   "outputs": [],
   "source": [
    "from sklearn.utils import resample\n",
    "\n",
    "df_minor_upsample=resample(df_minor, replace=True, n_samples=10089739, random_state=0)\n",
    "\n",
    "df_upsampled=pd.concat([df_minor_upsample, df_major])"
   ]
  },
  {
   "cell_type": "code",
   "execution_count": 28,
   "id": "7c0431d6",
   "metadata": {
    "execution": {
     "iopub.execute_input": "2024-07-19T13:29:09.760261Z",
     "iopub.status.busy": "2024-07-19T13:29:09.759925Z",
     "iopub.status.idle": "2024-07-19T13:29:09.776611Z",
     "shell.execute_reply": "2024-07-19T13:29:09.775527Z"
    },
    "papermill": {
     "duration": 0.035555,
     "end_time": "2024-07-19T13:29:09.778383",
     "exception": false,
     "start_time": "2024-07-19T13:29:09.742828",
     "status": "completed"
    },
    "tags": []
   },
   "outputs": [
    {
     "data": {
      "text/html": [
       "<div>\n",
       "<style scoped>\n",
       "    .dataframe tbody tr th:only-of-type {\n",
       "        vertical-align: middle;\n",
       "    }\n",
       "\n",
       "    .dataframe tbody tr th {\n",
       "        vertical-align: top;\n",
       "    }\n",
       "\n",
       "    .dataframe thead th {\n",
       "        text-align: right;\n",
       "    }\n",
       "</style>\n",
       "<table border=\"1\" class=\"dataframe\">\n",
       "  <thead>\n",
       "    <tr style=\"text-align: right;\">\n",
       "      <th></th>\n",
       "      <th>Gender</th>\n",
       "      <th>Age</th>\n",
       "      <th>Driving_License</th>\n",
       "      <th>Region_Code</th>\n",
       "      <th>Previously_Insured</th>\n",
       "      <th>Vehicle_Age</th>\n",
       "      <th>Vehicle_Damage</th>\n",
       "      <th>Annual_Premium</th>\n",
       "      <th>Policy_Sales_Channel</th>\n",
       "      <th>Vintage</th>\n",
       "      <th>Response</th>\n",
       "    </tr>\n",
       "  </thead>\n",
       "  <tbody>\n",
       "    <tr>\n",
       "      <th>2491338</th>\n",
       "      <td>0</td>\n",
       "      <td>38</td>\n",
       "      <td>1</td>\n",
       "      <td>46.0</td>\n",
       "      <td>0</td>\n",
       "      <td>0</td>\n",
       "      <td>1</td>\n",
       "      <td>29679.0</td>\n",
       "      <td>26.0</td>\n",
       "      <td>11</td>\n",
       "      <td>1</td>\n",
       "    </tr>\n",
       "    <tr>\n",
       "      <th>962117</th>\n",
       "      <td>1</td>\n",
       "      <td>48</td>\n",
       "      <td>1</td>\n",
       "      <td>28.0</td>\n",
       "      <td>0</td>\n",
       "      <td>0</td>\n",
       "      <td>1</td>\n",
       "      <td>49092.0</td>\n",
       "      <td>124.0</td>\n",
       "      <td>182</td>\n",
       "      <td>1</td>\n",
       "    </tr>\n",
       "    <tr>\n",
       "      <th>7831406</th>\n",
       "      <td>0</td>\n",
       "      <td>20</td>\n",
       "      <td>1</td>\n",
       "      <td>50.0</td>\n",
       "      <td>0</td>\n",
       "      <td>1</td>\n",
       "      <td>1</td>\n",
       "      <td>34187.0</td>\n",
       "      <td>160.0</td>\n",
       "      <td>92</td>\n",
       "      <td>1</td>\n",
       "    </tr>\n",
       "    <tr>\n",
       "      <th>1242312</th>\n",
       "      <td>1</td>\n",
       "      <td>58</td>\n",
       "      <td>1</td>\n",
       "      <td>8.0</td>\n",
       "      <td>0</td>\n",
       "      <td>0</td>\n",
       "      <td>1</td>\n",
       "      <td>2630.0</td>\n",
       "      <td>30.0</td>\n",
       "      <td>212</td>\n",
       "      <td>1</td>\n",
       "    </tr>\n",
       "    <tr>\n",
       "      <th>2929171</th>\n",
       "      <td>1</td>\n",
       "      <td>50</td>\n",
       "      <td>1</td>\n",
       "      <td>18.0</td>\n",
       "      <td>0</td>\n",
       "      <td>0</td>\n",
       "      <td>1</td>\n",
       "      <td>37190.0</td>\n",
       "      <td>26.0</td>\n",
       "      <td>208</td>\n",
       "      <td>1</td>\n",
       "    </tr>\n",
       "    <tr>\n",
       "      <th>...</th>\n",
       "      <td>...</td>\n",
       "      <td>...</td>\n",
       "      <td>...</td>\n",
       "      <td>...</td>\n",
       "      <td>...</td>\n",
       "      <td>...</td>\n",
       "      <td>...</td>\n",
       "      <td>...</td>\n",
       "      <td>...</td>\n",
       "      <td>...</td>\n",
       "      <td>...</td>\n",
       "    </tr>\n",
       "    <tr>\n",
       "      <th>11504791</th>\n",
       "      <td>0</td>\n",
       "      <td>31</td>\n",
       "      <td>1</td>\n",
       "      <td>32.0</td>\n",
       "      <td>1</td>\n",
       "      <td>1</td>\n",
       "      <td>0</td>\n",
       "      <td>2630.0</td>\n",
       "      <td>152.0</td>\n",
       "      <td>204</td>\n",
       "      <td>0</td>\n",
       "    </tr>\n",
       "    <tr>\n",
       "      <th>11504792</th>\n",
       "      <td>1</td>\n",
       "      <td>34</td>\n",
       "      <td>1</td>\n",
       "      <td>28.0</td>\n",
       "      <td>1</td>\n",
       "      <td>0</td>\n",
       "      <td>0</td>\n",
       "      <td>29974.0</td>\n",
       "      <td>154.0</td>\n",
       "      <td>201</td>\n",
       "      <td>0</td>\n",
       "    </tr>\n",
       "    <tr>\n",
       "      <th>11504793</th>\n",
       "      <td>1</td>\n",
       "      <td>48</td>\n",
       "      <td>1</td>\n",
       "      <td>6.0</td>\n",
       "      <td>0</td>\n",
       "      <td>0</td>\n",
       "      <td>1</td>\n",
       "      <td>27412.0</td>\n",
       "      <td>26.0</td>\n",
       "      <td>218</td>\n",
       "      <td>0</td>\n",
       "    </tr>\n",
       "    <tr>\n",
       "      <th>11504795</th>\n",
       "      <td>0</td>\n",
       "      <td>29</td>\n",
       "      <td>1</td>\n",
       "      <td>32.0</td>\n",
       "      <td>1</td>\n",
       "      <td>1</td>\n",
       "      <td>0</td>\n",
       "      <td>2630.0</td>\n",
       "      <td>152.0</td>\n",
       "      <td>189</td>\n",
       "      <td>0</td>\n",
       "    </tr>\n",
       "    <tr>\n",
       "      <th>11504797</th>\n",
       "      <td>1</td>\n",
       "      <td>25</td>\n",
       "      <td>1</td>\n",
       "      <td>28.0</td>\n",
       "      <td>1</td>\n",
       "      <td>1</td>\n",
       "      <td>0</td>\n",
       "      <td>32855.0</td>\n",
       "      <td>152.0</td>\n",
       "      <td>189</td>\n",
       "      <td>0</td>\n",
       "    </tr>\n",
       "  </tbody>\n",
       "</table>\n",
       "<p>20179478 rows × 11 columns</p>\n",
       "</div>"
      ],
      "text/plain": [
       "          Gender  Age  Driving_License  Region_Code  Previously_Insured  \\\n",
       "2491338        0   38                1         46.0                   0   \n",
       "962117         1   48                1         28.0                   0   \n",
       "7831406        0   20                1         50.0                   0   \n",
       "1242312        1   58                1          8.0                   0   \n",
       "2929171        1   50                1         18.0                   0   \n",
       "...          ...  ...              ...          ...                 ...   \n",
       "11504791       0   31                1         32.0                   1   \n",
       "11504792       1   34                1         28.0                   1   \n",
       "11504793       1   48                1          6.0                   0   \n",
       "11504795       0   29                1         32.0                   1   \n",
       "11504797       1   25                1         28.0                   1   \n",
       "\n",
       "          Vehicle_Age  Vehicle_Damage  Annual_Premium  Policy_Sales_Channel  \\\n",
       "2491338             0               1         29679.0                  26.0   \n",
       "962117              0               1         49092.0                 124.0   \n",
       "7831406             1               1         34187.0                 160.0   \n",
       "1242312             0               1          2630.0                  30.0   \n",
       "2929171             0               1         37190.0                  26.0   \n",
       "...               ...             ...             ...                   ...   \n",
       "11504791            1               0          2630.0                 152.0   \n",
       "11504792            0               0         29974.0                 154.0   \n",
       "11504793            0               1         27412.0                  26.0   \n",
       "11504795            1               0          2630.0                 152.0   \n",
       "11504797            1               0         32855.0                 152.0   \n",
       "\n",
       "          Vintage  Response  \n",
       "2491338        11         1  \n",
       "962117        182         1  \n",
       "7831406        92         1  \n",
       "1242312       212         1  \n",
       "2929171       208         1  \n",
       "...           ...       ...  \n",
       "11504791      204         0  \n",
       "11504792      201         0  \n",
       "11504793      218         0  \n",
       "11504795      189         0  \n",
       "11504797      189         0  \n",
       "\n",
       "[20179478 rows x 11 columns]"
      ]
     },
     "execution_count": 28,
     "metadata": {},
     "output_type": "execute_result"
    }
   ],
   "source": [
    "df_upsampled"
   ]
  },
  {
   "cell_type": "code",
   "execution_count": 29,
   "id": "92cedc3c",
   "metadata": {
    "execution": {
     "iopub.execute_input": "2024-07-19T13:29:09.810121Z",
     "iopub.status.busy": "2024-07-19T13:29:09.809707Z",
     "iopub.status.idle": "2024-07-19T13:29:09.814321Z",
     "shell.execute_reply": "2024-07-19T13:29:09.813278Z"
    },
    "papermill": {
     "duration": 0.022947,
     "end_time": "2024-07-19T13:29:09.816250",
     "exception": false,
     "start_time": "2024-07-19T13:29:09.793303",
     "status": "completed"
    },
    "tags": []
   },
   "outputs": [],
   "source": [
    "# sns.countplot(x=df_upsampled['Response'])\n",
    "\n",
    "# plt.figure(figsize=(5, 5))"
   ]
  },
  {
   "cell_type": "markdown",
   "id": "a9833103",
   "metadata": {
    "papermill": {
     "duration": 0.015224,
     "end_time": "2024-07-19T13:29:09.847495",
     "exception": false,
     "start_time": "2024-07-19T13:29:09.832271",
     "status": "completed"
    },
    "tags": []
   },
   "source": [
    "# Checking Outliers"
   ]
  },
  {
   "cell_type": "code",
   "execution_count": 30,
   "id": "75e7163a",
   "metadata": {
    "execution": {
     "iopub.execute_input": "2024-07-19T13:29:09.879923Z",
     "iopub.status.busy": "2024-07-19T13:29:09.879589Z",
     "iopub.status.idle": "2024-07-19T13:29:09.884151Z",
     "shell.execute_reply": "2024-07-19T13:29:09.883045Z"
    },
    "papermill": {
     "duration": 0.023474,
     "end_time": "2024-07-19T13:29:09.886278",
     "exception": false,
     "start_time": "2024-07-19T13:29:09.862804",
     "status": "completed"
    },
    "tags": []
   },
   "outputs": [],
   "source": [
    "# sns.boxplot(x=df_upsampled['Age'])"
   ]
  },
  {
   "cell_type": "code",
   "execution_count": 31,
   "id": "1741d785",
   "metadata": {
    "execution": {
     "iopub.execute_input": "2024-07-19T13:29:09.921085Z",
     "iopub.status.busy": "2024-07-19T13:29:09.919948Z",
     "iopub.status.idle": "2024-07-19T13:29:09.924672Z",
     "shell.execute_reply": "2024-07-19T13:29:09.923821Z"
    },
    "papermill": {
     "duration": 0.023623,
     "end_time": "2024-07-19T13:29:09.926525",
     "exception": false,
     "start_time": "2024-07-19T13:29:09.902902",
     "status": "completed"
    },
    "tags": []
   },
   "outputs": [],
   "source": [
    "# sns.boxplot(x=df_upsampled['Annual_Premium'])"
   ]
  },
  {
   "cell_type": "code",
   "execution_count": 32,
   "id": "01609b98",
   "metadata": {
    "execution": {
     "iopub.execute_input": "2024-07-19T13:29:09.959666Z",
     "iopub.status.busy": "2024-07-19T13:29:09.959241Z",
     "iopub.status.idle": "2024-07-19T13:29:09.964763Z",
     "shell.execute_reply": "2024-07-19T13:29:09.963563Z"
    },
    "papermill": {
     "duration": 0.025106,
     "end_time": "2024-07-19T13:29:09.966832",
     "exception": false,
     "start_time": "2024-07-19T13:29:09.941726",
     "status": "completed"
    },
    "tags": []
   },
   "outputs": [],
   "source": [
    "# sns.boxplot(x=df_upsampled['Policy_Sales_Channel'])"
   ]
  },
  {
   "cell_type": "code",
   "execution_count": 33,
   "id": "4c844b55",
   "metadata": {
    "execution": {
     "iopub.execute_input": "2024-07-19T13:29:09.998986Z",
     "iopub.status.busy": "2024-07-19T13:29:09.998662Z",
     "iopub.status.idle": "2024-07-19T13:29:10.005876Z",
     "shell.execute_reply": "2024-07-19T13:29:10.003294Z"
    },
    "papermill": {
     "duration": 0.026845,
     "end_time": "2024-07-19T13:29:10.008792",
     "exception": false,
     "start_time": "2024-07-19T13:29:09.981947",
     "status": "completed"
    },
    "tags": []
   },
   "outputs": [],
   "source": [
    " # sns.boxplot(x=df_upsampled['Vintage'])"
   ]
  },
  {
   "cell_type": "code",
   "execution_count": 34,
   "id": "544ca686",
   "metadata": {
    "execution": {
     "iopub.execute_input": "2024-07-19T13:29:10.041659Z",
     "iopub.status.busy": "2024-07-19T13:29:10.040827Z",
     "iopub.status.idle": "2024-07-19T13:29:10.047897Z",
     "shell.execute_reply": "2024-07-19T13:29:10.046570Z"
    },
    "papermill": {
     "duration": 0.025709,
     "end_time": "2024-07-19T13:29:10.049825",
     "exception": false,
     "start_time": "2024-07-19T13:29:10.024116",
     "status": "completed"
    },
    "tags": []
   },
   "outputs": [
    {
     "data": {
      "text/plain": [
       "(20179478, 11)"
      ]
     },
     "execution_count": 34,
     "metadata": {},
     "output_type": "execute_result"
    }
   ],
   "source": [
    "df_upsampled.shape"
   ]
  },
  {
   "cell_type": "code",
   "execution_count": 35,
   "id": "b02825b0",
   "metadata": {
    "execution": {
     "iopub.execute_input": "2024-07-19T13:29:10.082627Z",
     "iopub.status.busy": "2024-07-19T13:29:10.082310Z",
     "iopub.status.idle": "2024-07-19T13:29:10.086774Z",
     "shell.execute_reply": "2024-07-19T13:29:10.085689Z"
    },
    "papermill": {
     "duration": 0.023533,
     "end_time": "2024-07-19T13:29:10.089171",
     "exception": false,
     "start_time": "2024-07-19T13:29:10.065638",
     "status": "completed"
    },
    "tags": []
   },
   "outputs": [],
   "source": [
    "# Remove The outliers using z-Score Method"
   ]
  },
  {
   "cell_type": "code",
   "execution_count": 36,
   "id": "f9639a89",
   "metadata": {
    "execution": {
     "iopub.execute_input": "2024-07-19T13:29:10.122792Z",
     "iopub.status.busy": "2024-07-19T13:29:10.122366Z",
     "iopub.status.idle": "2024-07-19T13:29:14.811132Z",
     "shell.execute_reply": "2024-07-19T13:29:14.810028Z"
    },
    "papermill": {
     "duration": 4.707885,
     "end_time": "2024-07-19T13:29:14.813017",
     "exception": false,
     "start_time": "2024-07-19T13:29:10.105132",
     "status": "completed"
    },
    "tags": []
   },
   "outputs": [
    {
     "data": {
      "text/plain": [
       "(20125233, 11)"
      ]
     },
     "execution_count": 36,
     "metadata": {},
     "output_type": "execute_result"
    }
   ],
   "source": [
    "import scipy.stats as stats\n",
    "z=np.abs(stats.zscore(df_upsampled))\n",
    "data_clean = df_upsampled[(z<3).all(axis=1)]\n",
    "\n",
    "data_clean.shape"
   ]
  },
  {
   "cell_type": "markdown",
   "id": "81243d1a",
   "metadata": {
    "papermill": {
     "duration": 0.014216,
     "end_time": "2024-07-19T13:29:14.842003",
     "exception": false,
     "start_time": "2024-07-19T13:29:14.827787",
     "status": "completed"
    },
    "tags": []
   },
   "source": [
    "# Heatmap Corellation"
   ]
  },
  {
   "cell_type": "code",
   "execution_count": 37,
   "id": "9531990b",
   "metadata": {
    "execution": {
     "iopub.execute_input": "2024-07-19T13:29:14.872891Z",
     "iopub.status.busy": "2024-07-19T13:29:14.872571Z",
     "iopub.status.idle": "2024-07-19T13:29:14.877158Z",
     "shell.execute_reply": "2024-07-19T13:29:14.875929Z"
    },
    "papermill": {
     "duration": 0.022392,
     "end_time": "2024-07-19T13:29:14.879121",
     "exception": false,
     "start_time": "2024-07-19T13:29:14.856729",
     "status": "completed"
    },
    "tags": []
   },
   "outputs": [],
   "source": [
    "# sns.heatmap(data_clean, annot=True, fmt='.2g', cmap='coolwarm')"
   ]
  },
  {
   "cell_type": "code",
   "execution_count": 38,
   "id": "3aca4c47",
   "metadata": {
    "execution": {
     "iopub.execute_input": "2024-07-19T13:29:14.914096Z",
     "iopub.status.busy": "2024-07-19T13:29:14.913696Z",
     "iopub.status.idle": "2024-07-19T13:29:15.300853Z",
     "shell.execute_reply": "2024-07-19T13:29:15.300012Z"
    },
    "papermill": {
     "duration": 0.407741,
     "end_time": "2024-07-19T13:29:15.303351",
     "exception": false,
     "start_time": "2024-07-19T13:29:14.895610",
     "status": "completed"
    },
    "tags": []
   },
   "outputs": [
    {
     "name": "stderr",
     "output_type": "stream",
     "text": [
      "/tmp/ipykernel_18/3443047114.py:2: SettingWithCopyWarning: \n",
      "A value is trying to be set on a copy of a slice from a DataFrame\n",
      "\n",
      "See the caveats in the documentation: https://pandas.pydata.org/pandas-docs/stable/user_guide/indexing.html#returning-a-view-versus-a-copy\n",
      "  data_clean.drop('Driving_License', axis=1, inplace= True)\n"
     ]
    }
   ],
   "source": [
    "# removing driving Licence because it doesnt have any corelation with response\n",
    "data_clean.drop('Driving_License', axis=1, inplace= True)"
   ]
  },
  {
   "cell_type": "code",
   "execution_count": 39,
   "id": "9f7cd909",
   "metadata": {
    "execution": {
     "iopub.execute_input": "2024-07-19T13:29:15.337368Z",
     "iopub.status.busy": "2024-07-19T13:29:15.336987Z",
     "iopub.status.idle": "2024-07-19T13:29:15.350057Z",
     "shell.execute_reply": "2024-07-19T13:29:15.349261Z"
    },
    "papermill": {
     "duration": 0.032265,
     "end_time": "2024-07-19T13:29:15.351864",
     "exception": false,
     "start_time": "2024-07-19T13:29:15.319599",
     "status": "completed"
    },
    "tags": []
   },
   "outputs": [
    {
     "data": {
      "text/html": [
       "<div>\n",
       "<style scoped>\n",
       "    .dataframe tbody tr th:only-of-type {\n",
       "        vertical-align: middle;\n",
       "    }\n",
       "\n",
       "    .dataframe tbody tr th {\n",
       "        vertical-align: top;\n",
       "    }\n",
       "\n",
       "    .dataframe thead th {\n",
       "        text-align: right;\n",
       "    }\n",
       "</style>\n",
       "<table border=\"1\" class=\"dataframe\">\n",
       "  <thead>\n",
       "    <tr style=\"text-align: right;\">\n",
       "      <th></th>\n",
       "      <th>Gender</th>\n",
       "      <th>Age</th>\n",
       "      <th>Region_Code</th>\n",
       "      <th>Previously_Insured</th>\n",
       "      <th>Vehicle_Age</th>\n",
       "      <th>Vehicle_Damage</th>\n",
       "      <th>Annual_Premium</th>\n",
       "      <th>Policy_Sales_Channel</th>\n",
       "      <th>Vintage</th>\n",
       "      <th>Response</th>\n",
       "    </tr>\n",
       "  </thead>\n",
       "  <tbody>\n",
       "    <tr>\n",
       "      <th>2491338</th>\n",
       "      <td>0</td>\n",
       "      <td>38</td>\n",
       "      <td>46.0</td>\n",
       "      <td>0</td>\n",
       "      <td>0</td>\n",
       "      <td>1</td>\n",
       "      <td>29679.0</td>\n",
       "      <td>26.0</td>\n",
       "      <td>11</td>\n",
       "      <td>1</td>\n",
       "    </tr>\n",
       "    <tr>\n",
       "      <th>962117</th>\n",
       "      <td>1</td>\n",
       "      <td>48</td>\n",
       "      <td>28.0</td>\n",
       "      <td>0</td>\n",
       "      <td>0</td>\n",
       "      <td>1</td>\n",
       "      <td>49092.0</td>\n",
       "      <td>124.0</td>\n",
       "      <td>182</td>\n",
       "      <td>1</td>\n",
       "    </tr>\n",
       "    <tr>\n",
       "      <th>7831406</th>\n",
       "      <td>0</td>\n",
       "      <td>20</td>\n",
       "      <td>50.0</td>\n",
       "      <td>0</td>\n",
       "      <td>1</td>\n",
       "      <td>1</td>\n",
       "      <td>34187.0</td>\n",
       "      <td>160.0</td>\n",
       "      <td>92</td>\n",
       "      <td>1</td>\n",
       "    </tr>\n",
       "    <tr>\n",
       "      <th>1242312</th>\n",
       "      <td>1</td>\n",
       "      <td>58</td>\n",
       "      <td>8.0</td>\n",
       "      <td>0</td>\n",
       "      <td>0</td>\n",
       "      <td>1</td>\n",
       "      <td>2630.0</td>\n",
       "      <td>30.0</td>\n",
       "      <td>212</td>\n",
       "      <td>1</td>\n",
       "    </tr>\n",
       "    <tr>\n",
       "      <th>2929171</th>\n",
       "      <td>1</td>\n",
       "      <td>50</td>\n",
       "      <td>18.0</td>\n",
       "      <td>0</td>\n",
       "      <td>0</td>\n",
       "      <td>1</td>\n",
       "      <td>37190.0</td>\n",
       "      <td>26.0</td>\n",
       "      <td>208</td>\n",
       "      <td>1</td>\n",
       "    </tr>\n",
       "  </tbody>\n",
       "</table>\n",
       "</div>"
      ],
      "text/plain": [
       "         Gender  Age  Region_Code  Previously_Insured  Vehicle_Age  \\\n",
       "2491338       0   38         46.0                   0            0   \n",
       "962117        1   48         28.0                   0            0   \n",
       "7831406       0   20         50.0                   0            1   \n",
       "1242312       1   58          8.0                   0            0   \n",
       "2929171       1   50         18.0                   0            0   \n",
       "\n",
       "         Vehicle_Damage  Annual_Premium  Policy_Sales_Channel  Vintage  \\\n",
       "2491338               1         29679.0                  26.0       11   \n",
       "962117                1         49092.0                 124.0      182   \n",
       "7831406               1         34187.0                 160.0       92   \n",
       "1242312               1          2630.0                  30.0      212   \n",
       "2929171               1         37190.0                  26.0      208   \n",
       "\n",
       "         Response  \n",
       "2491338         1  \n",
       "962117          1  \n",
       "7831406         1  \n",
       "1242312         1  \n",
       "2929171         1  "
      ]
     },
     "execution_count": 39,
     "metadata": {},
     "output_type": "execute_result"
    }
   ],
   "source": [
    "data_clean.head()"
   ]
  },
  {
   "cell_type": "markdown",
   "id": "0b8348f8",
   "metadata": {
    "papermill": {
     "duration": 0.0151,
     "end_time": "2024-07-19T13:29:15.382936",
     "exception": false,
     "start_time": "2024-07-19T13:29:15.367836",
     "status": "completed"
    },
    "tags": []
   },
   "source": [
    "# Preparing Test Data"
   ]
  },
  {
   "cell_type": "code",
   "execution_count": 40,
   "id": "8e8e13ad",
   "metadata": {
    "execution": {
     "iopub.execute_input": "2024-07-19T13:29:15.416202Z",
     "iopub.status.busy": "2024-07-19T13:29:15.415850Z",
     "iopub.status.idle": "2024-07-19T13:29:15.428287Z",
     "shell.execute_reply": "2024-07-19T13:29:15.427526Z"
    },
    "papermill": {
     "duration": 0.031621,
     "end_time": "2024-07-19T13:29:15.430464",
     "exception": false,
     "start_time": "2024-07-19T13:29:15.398843",
     "status": "completed"
    },
    "tags": []
   },
   "outputs": [
    {
     "data": {
      "text/html": [
       "<div>\n",
       "<style scoped>\n",
       "    .dataframe tbody tr th:only-of-type {\n",
       "        vertical-align: middle;\n",
       "    }\n",
       "\n",
       "    .dataframe tbody tr th {\n",
       "        vertical-align: top;\n",
       "    }\n",
       "\n",
       "    .dataframe thead th {\n",
       "        text-align: right;\n",
       "    }\n",
       "</style>\n",
       "<table border=\"1\" class=\"dataframe\">\n",
       "  <thead>\n",
       "    <tr style=\"text-align: right;\">\n",
       "      <th></th>\n",
       "      <th>id</th>\n",
       "      <th>Gender</th>\n",
       "      <th>Age</th>\n",
       "      <th>Driving_License</th>\n",
       "      <th>Region_Code</th>\n",
       "      <th>Previously_Insured</th>\n",
       "      <th>Vehicle_Age</th>\n",
       "      <th>Vehicle_Damage</th>\n",
       "      <th>Annual_Premium</th>\n",
       "      <th>Policy_Sales_Channel</th>\n",
       "      <th>Vintage</th>\n",
       "    </tr>\n",
       "  </thead>\n",
       "  <tbody>\n",
       "    <tr>\n",
       "      <th>0</th>\n",
       "      <td>11504798</td>\n",
       "      <td>Female</td>\n",
       "      <td>20</td>\n",
       "      <td>1</td>\n",
       "      <td>47.0</td>\n",
       "      <td>0</td>\n",
       "      <td>&lt; 1 Year</td>\n",
       "      <td>No</td>\n",
       "      <td>2630.0</td>\n",
       "      <td>160.0</td>\n",
       "      <td>228</td>\n",
       "    </tr>\n",
       "    <tr>\n",
       "      <th>1</th>\n",
       "      <td>11504799</td>\n",
       "      <td>Male</td>\n",
       "      <td>47</td>\n",
       "      <td>1</td>\n",
       "      <td>28.0</td>\n",
       "      <td>0</td>\n",
       "      <td>1-2 Year</td>\n",
       "      <td>Yes</td>\n",
       "      <td>37483.0</td>\n",
       "      <td>124.0</td>\n",
       "      <td>123</td>\n",
       "    </tr>\n",
       "    <tr>\n",
       "      <th>2</th>\n",
       "      <td>11504800</td>\n",
       "      <td>Male</td>\n",
       "      <td>47</td>\n",
       "      <td>1</td>\n",
       "      <td>43.0</td>\n",
       "      <td>0</td>\n",
       "      <td>1-2 Year</td>\n",
       "      <td>Yes</td>\n",
       "      <td>2630.0</td>\n",
       "      <td>26.0</td>\n",
       "      <td>271</td>\n",
       "    </tr>\n",
       "    <tr>\n",
       "      <th>3</th>\n",
       "      <td>11504801</td>\n",
       "      <td>Female</td>\n",
       "      <td>22</td>\n",
       "      <td>1</td>\n",
       "      <td>47.0</td>\n",
       "      <td>1</td>\n",
       "      <td>&lt; 1 Year</td>\n",
       "      <td>No</td>\n",
       "      <td>24502.0</td>\n",
       "      <td>152.0</td>\n",
       "      <td>115</td>\n",
       "    </tr>\n",
       "    <tr>\n",
       "      <th>4</th>\n",
       "      <td>11504802</td>\n",
       "      <td>Male</td>\n",
       "      <td>51</td>\n",
       "      <td>1</td>\n",
       "      <td>19.0</td>\n",
       "      <td>0</td>\n",
       "      <td>1-2 Year</td>\n",
       "      <td>No</td>\n",
       "      <td>34115.0</td>\n",
       "      <td>124.0</td>\n",
       "      <td>148</td>\n",
       "    </tr>\n",
       "  </tbody>\n",
       "</table>\n",
       "</div>"
      ],
      "text/plain": [
       "         id  Gender  Age  Driving_License  Region_Code  Previously_Insured  \\\n",
       "0  11504798  Female   20                1         47.0                   0   \n",
       "1  11504799    Male   47                1         28.0                   0   \n",
       "2  11504800    Male   47                1         43.0                   0   \n",
       "3  11504801  Female   22                1         47.0                   1   \n",
       "4  11504802    Male   51                1         19.0                   0   \n",
       "\n",
       "  Vehicle_Age Vehicle_Damage  Annual_Premium  Policy_Sales_Channel  Vintage  \n",
       "0    < 1 Year             No          2630.0                 160.0      228  \n",
       "1    1-2 Year            Yes         37483.0                 124.0      123  \n",
       "2    1-2 Year            Yes          2630.0                  26.0      271  \n",
       "3    < 1 Year             No         24502.0                 152.0      115  \n",
       "4    1-2 Year             No         34115.0                 124.0      148  "
      ]
     },
     "execution_count": 40,
     "metadata": {},
     "output_type": "execute_result"
    }
   ],
   "source": [
    "data_test.head()"
   ]
  },
  {
   "cell_type": "code",
   "execution_count": 41,
   "id": "50ec1287",
   "metadata": {
    "execution": {
     "iopub.execute_input": "2024-07-19T13:29:15.464871Z",
     "iopub.status.busy": "2024-07-19T13:29:15.464559Z",
     "iopub.status.idle": "2024-07-19T13:29:16.246363Z",
     "shell.execute_reply": "2024-07-19T13:29:16.245160Z"
    },
    "papermill": {
     "duration": 0.801454,
     "end_time": "2024-07-19T13:29:16.248523",
     "exception": false,
     "start_time": "2024-07-19T13:29:15.447069",
     "status": "completed"
    },
    "tags": []
   },
   "outputs": [
    {
     "data": {
      "text/plain": [
       "id                      0\n",
       "Gender                  0\n",
       "Age                     0\n",
       "Driving_License         0\n",
       "Region_Code             0\n",
       "Previously_Insured      0\n",
       "Vehicle_Age             0\n",
       "Vehicle_Damage          0\n",
       "Annual_Premium          0\n",
       "Policy_Sales_Channel    0\n",
       "Vintage                 0\n",
       "dtype: int64"
      ]
     },
     "execution_count": 41,
     "metadata": {},
     "output_type": "execute_result"
    }
   ],
   "source": [
    "data_test.isnull().sum()"
   ]
  },
  {
   "cell_type": "code",
   "execution_count": null,
   "id": "78e3cb47",
   "metadata": {
    "papermill": {
     "duration": 0.015986,
     "end_time": "2024-07-19T13:29:16.281902",
     "exception": false,
     "start_time": "2024-07-19T13:29:16.265916",
     "status": "completed"
    },
    "tags": []
   },
   "outputs": [],
   "source": []
  },
  {
   "cell_type": "code",
   "execution_count": 42,
   "id": "0bff0fcf",
   "metadata": {
    "execution": {
     "iopub.execute_input": "2024-07-19T13:29:16.315781Z",
     "iopub.status.busy": "2024-07-19T13:29:16.315472Z",
     "iopub.status.idle": "2024-07-19T13:29:16.604187Z",
     "shell.execute_reply": "2024-07-19T13:29:16.602881Z"
    },
    "papermill": {
     "duration": 0.308339,
     "end_time": "2024-07-19T13:29:16.606181",
     "exception": false,
     "start_time": "2024-07-19T13:29:16.297842",
     "status": "completed"
    },
    "tags": []
   },
   "outputs": [
    {
     "data": {
      "text/html": [
       "<div>\n",
       "<style scoped>\n",
       "    .dataframe tbody tr th:only-of-type {\n",
       "        vertical-align: middle;\n",
       "    }\n",
       "\n",
       "    .dataframe tbody tr th {\n",
       "        vertical-align: top;\n",
       "    }\n",
       "\n",
       "    .dataframe thead th {\n",
       "        text-align: right;\n",
       "    }\n",
       "</style>\n",
       "<table border=\"1\" class=\"dataframe\">\n",
       "  <thead>\n",
       "    <tr style=\"text-align: right;\">\n",
       "      <th></th>\n",
       "      <th>Gender</th>\n",
       "      <th>Age</th>\n",
       "      <th>Region_Code</th>\n",
       "      <th>Previously_Insured</th>\n",
       "      <th>Vehicle_Age</th>\n",
       "      <th>Vehicle_Damage</th>\n",
       "      <th>Annual_Premium</th>\n",
       "      <th>Policy_Sales_Channel</th>\n",
       "      <th>Vintage</th>\n",
       "    </tr>\n",
       "  </thead>\n",
       "  <tbody>\n",
       "    <tr>\n",
       "      <th>0</th>\n",
       "      <td>Female</td>\n",
       "      <td>20</td>\n",
       "      <td>47.0</td>\n",
       "      <td>0</td>\n",
       "      <td>&lt; 1 Year</td>\n",
       "      <td>No</td>\n",
       "      <td>2630.0</td>\n",
       "      <td>160.0</td>\n",
       "      <td>228</td>\n",
       "    </tr>\n",
       "    <tr>\n",
       "      <th>1</th>\n",
       "      <td>Male</td>\n",
       "      <td>47</td>\n",
       "      <td>28.0</td>\n",
       "      <td>0</td>\n",
       "      <td>1-2 Year</td>\n",
       "      <td>Yes</td>\n",
       "      <td>37483.0</td>\n",
       "      <td>124.0</td>\n",
       "      <td>123</td>\n",
       "    </tr>\n",
       "    <tr>\n",
       "      <th>2</th>\n",
       "      <td>Male</td>\n",
       "      <td>47</td>\n",
       "      <td>43.0</td>\n",
       "      <td>0</td>\n",
       "      <td>1-2 Year</td>\n",
       "      <td>Yes</td>\n",
       "      <td>2630.0</td>\n",
       "      <td>26.0</td>\n",
       "      <td>271</td>\n",
       "    </tr>\n",
       "    <tr>\n",
       "      <th>3</th>\n",
       "      <td>Female</td>\n",
       "      <td>22</td>\n",
       "      <td>47.0</td>\n",
       "      <td>1</td>\n",
       "      <td>&lt; 1 Year</td>\n",
       "      <td>No</td>\n",
       "      <td>24502.0</td>\n",
       "      <td>152.0</td>\n",
       "      <td>115</td>\n",
       "    </tr>\n",
       "    <tr>\n",
       "      <th>4</th>\n",
       "      <td>Male</td>\n",
       "      <td>51</td>\n",
       "      <td>19.0</td>\n",
       "      <td>0</td>\n",
       "      <td>1-2 Year</td>\n",
       "      <td>No</td>\n",
       "      <td>34115.0</td>\n",
       "      <td>124.0</td>\n",
       "      <td>148</td>\n",
       "    </tr>\n",
       "  </tbody>\n",
       "</table>\n",
       "</div>"
      ],
      "text/plain": [
       "   Gender  Age  Region_Code  Previously_Insured Vehicle_Age Vehicle_Damage  \\\n",
       "0  Female   20         47.0                   0    < 1 Year             No   \n",
       "1    Male   47         28.0                   0    1-2 Year            Yes   \n",
       "2    Male   47         43.0                   0    1-2 Year            Yes   \n",
       "3  Female   22         47.0                   1    < 1 Year             No   \n",
       "4    Male   51         19.0                   0    1-2 Year             No   \n",
       "\n",
       "   Annual_Premium  Policy_Sales_Channel  Vintage  \n",
       "0          2630.0                 160.0      228  \n",
       "1         37483.0                 124.0      123  \n",
       "2          2630.0                  26.0      271  \n",
       "3         24502.0                 152.0      115  \n",
       "4         34115.0                 124.0      148  "
      ]
     },
     "execution_count": 42,
     "metadata": {},
     "output_type": "execute_result"
    }
   ],
   "source": [
    "x_test= data_test.drop(['id','Driving_License'], axis=1)\n",
    "x_test.head()"
   ]
  },
  {
   "cell_type": "code",
   "execution_count": 43,
   "id": "8bbfee73",
   "metadata": {
    "execution": {
     "iopub.execute_input": "2024-07-19T13:29:16.641393Z",
     "iopub.status.busy": "2024-07-19T13:29:16.641026Z",
     "iopub.status.idle": "2024-07-19T13:29:20.597127Z",
     "shell.execute_reply": "2024-07-19T13:29:20.596091Z"
    },
    "papermill": {
     "duration": 3.976386,
     "end_time": "2024-07-19T13:29:20.599106",
     "exception": false,
     "start_time": "2024-07-19T13:29:16.622720",
     "status": "completed"
    },
    "tags": []
   },
   "outputs": [
    {
     "data": {
      "text/plain": [
       "array([0, 1])"
      ]
     },
     "execution_count": 43,
     "metadata": {},
     "output_type": "execute_result"
    }
   ],
   "source": [
    "x_test['Gender']=label_encoder.fit_transform(x_test['Gender'])\n",
    "x_test['Gender'].unique()\n",
    "\n",
    "x_test['Vehicle_Age']=label_encoder.fit_transform(x_test['Vehicle_Age'])\n",
    "x_test['Vehicle_Age'].unique()\n",
    "\n",
    "x_test['Vehicle_Damage']=label_encoder.fit_transform(x_test['Vehicle_Damage'])\n",
    "x_test['Gender'].unique()"
   ]
  },
  {
   "cell_type": "code",
   "execution_count": 44,
   "id": "bdcdd2e0",
   "metadata": {
    "execution": {
     "iopub.execute_input": "2024-07-19T13:29:20.634081Z",
     "iopub.status.busy": "2024-07-19T13:29:20.633747Z",
     "iopub.status.idle": "2024-07-19T13:29:20.640416Z",
     "shell.execute_reply": "2024-07-19T13:29:20.639188Z"
    },
    "papermill": {
     "duration": 0.026456,
     "end_time": "2024-07-19T13:29:20.642385",
     "exception": false,
     "start_time": "2024-07-19T13:29:20.615929",
     "status": "completed"
    },
    "tags": []
   },
   "outputs": [
    {
     "data": {
      "text/plain": [
       "(7669866, 9)"
      ]
     },
     "execution_count": 44,
     "metadata": {},
     "output_type": "execute_result"
    }
   ],
   "source": [
    "x_test.shape"
   ]
  },
  {
   "cell_type": "code",
   "execution_count": 45,
   "id": "a08015b1",
   "metadata": {
    "execution": {
     "iopub.execute_input": "2024-07-19T13:29:20.676638Z",
     "iopub.status.busy": "2024-07-19T13:29:20.676218Z",
     "iopub.status.idle": "2024-07-19T13:29:20.692674Z",
     "shell.execute_reply": "2024-07-19T13:29:20.691209Z"
    },
    "papermill": {
     "duration": 0.036162,
     "end_time": "2024-07-19T13:29:20.694790",
     "exception": false,
     "start_time": "2024-07-19T13:29:20.658628",
     "status": "completed"
    },
    "tags": []
   },
   "outputs": [
    {
     "name": "stdout",
     "output_type": "stream",
     "text": [
      "<class 'pandas.core.frame.DataFrame'>\n",
      "RangeIndex: 7669866 entries, 0 to 7669865\n",
      "Data columns (total 9 columns):\n",
      " #   Column                Dtype  \n",
      "---  ------                -----  \n",
      " 0   Gender                int64  \n",
      " 1   Age                   int64  \n",
      " 2   Region_Code           float64\n",
      " 3   Previously_Insured    int64  \n",
      " 4   Vehicle_Age           int64  \n",
      " 5   Vehicle_Damage        int64  \n",
      " 6   Annual_Premium        float64\n",
      " 7   Policy_Sales_Channel  float64\n",
      " 8   Vintage               int64  \n",
      "dtypes: float64(3), int64(6)\n",
      "memory usage: 526.6 MB\n"
     ]
    }
   ],
   "source": [
    "x_test.info()"
   ]
  },
  {
   "cell_type": "markdown",
   "id": "cd4d479e",
   "metadata": {
    "papermill": {
     "duration": 0.017004,
     "end_time": "2024-07-19T13:29:20.729188",
     "exception": false,
     "start_time": "2024-07-19T13:29:20.712184",
     "status": "completed"
    },
    "tags": []
   },
   "source": [
    "# Applying ML Model"
   ]
  },
  {
   "cell_type": "code",
   "execution_count": 46,
   "id": "6f8e4f72",
   "metadata": {
    "execution": {
     "iopub.execute_input": "2024-07-19T13:29:20.765858Z",
     "iopub.status.busy": "2024-07-19T13:29:20.765528Z",
     "iopub.status.idle": "2024-07-19T13:29:21.385280Z",
     "shell.execute_reply": "2024-07-19T13:29:21.384451Z"
    },
    "papermill": {
     "duration": 0.640577,
     "end_time": "2024-07-19T13:29:21.387433",
     "exception": false,
     "start_time": "2024-07-19T13:29:20.746856",
     "status": "completed"
    },
    "tags": []
   },
   "outputs": [],
   "source": [
    "X = data_clean.drop('Response', axis=1)\n",
    "Y= data_clean['Response']"
   ]
  },
  {
   "cell_type": "code",
   "execution_count": 47,
   "id": "f43e8914",
   "metadata": {
    "execution": {
     "iopub.execute_input": "2024-07-19T13:29:21.421438Z",
     "iopub.status.busy": "2024-07-19T13:29:21.420979Z",
     "iopub.status.idle": "2024-07-19T13:29:21.532754Z",
     "shell.execute_reply": "2024-07-19T13:29:21.531449Z"
    },
    "papermill": {
     "duration": 0.132295,
     "end_time": "2024-07-19T13:29:21.535671",
     "exception": false,
     "start_time": "2024-07-19T13:29:21.403376",
     "status": "completed"
    },
    "tags": []
   },
   "outputs": [],
   "source": [
    "from sklearn.metrics import accuracy_score"
   ]
  },
  {
   "cell_type": "markdown",
   "id": "a6dbd457",
   "metadata": {
    "papermill": {
     "duration": 0.015876,
     "end_time": "2024-07-19T13:29:21.568677",
     "exception": false,
     "start_time": "2024-07-19T13:29:21.552801",
     "status": "completed"
    },
    "tags": []
   },
   "source": [
    "# Desicion Tree Classifier"
   ]
  },
  {
   "cell_type": "code",
   "execution_count": 48,
   "id": "1c950a72",
   "metadata": {
    "execution": {
     "iopub.execute_input": "2024-07-19T13:29:21.602780Z",
     "iopub.status.busy": "2024-07-19T13:29:21.602408Z",
     "iopub.status.idle": "2024-07-19T13:37:25.969433Z",
     "shell.execute_reply": "2024-07-19T13:37:25.968242Z"
    },
    "papermill": {
     "duration": 484.403004,
     "end_time": "2024-07-19T13:37:25.987779",
     "exception": false,
     "start_time": "2024-07-19T13:29:21.584775",
     "status": "completed"
    },
    "tags": []
   },
   "outputs": [
    {
     "data": {
      "text/html": [
       "<style>#sk-container-id-1 {color: black;background-color: white;}#sk-container-id-1 pre{padding: 0;}#sk-container-id-1 div.sk-toggleable {background-color: white;}#sk-container-id-1 label.sk-toggleable__label {cursor: pointer;display: block;width: 100%;margin-bottom: 0;padding: 0.3em;box-sizing: border-box;text-align: center;}#sk-container-id-1 label.sk-toggleable__label-arrow:before {content: \"▸\";float: left;margin-right: 0.25em;color: #696969;}#sk-container-id-1 label.sk-toggleable__label-arrow:hover:before {color: black;}#sk-container-id-1 div.sk-estimator:hover label.sk-toggleable__label-arrow:before {color: black;}#sk-container-id-1 div.sk-toggleable__content {max-height: 0;max-width: 0;overflow: hidden;text-align: left;background-color: #f0f8ff;}#sk-container-id-1 div.sk-toggleable__content pre {margin: 0.2em;color: black;border-radius: 0.25em;background-color: #f0f8ff;}#sk-container-id-1 input.sk-toggleable__control:checked~div.sk-toggleable__content {max-height: 200px;max-width: 100%;overflow: auto;}#sk-container-id-1 input.sk-toggleable__control:checked~label.sk-toggleable__label-arrow:before {content: \"▾\";}#sk-container-id-1 div.sk-estimator input.sk-toggleable__control:checked~label.sk-toggleable__label {background-color: #d4ebff;}#sk-container-id-1 div.sk-label input.sk-toggleable__control:checked~label.sk-toggleable__label {background-color: #d4ebff;}#sk-container-id-1 input.sk-hidden--visually {border: 0;clip: rect(1px 1px 1px 1px);clip: rect(1px, 1px, 1px, 1px);height: 1px;margin: -1px;overflow: hidden;padding: 0;position: absolute;width: 1px;}#sk-container-id-1 div.sk-estimator {font-family: monospace;background-color: #f0f8ff;border: 1px dotted black;border-radius: 0.25em;box-sizing: border-box;margin-bottom: 0.5em;}#sk-container-id-1 div.sk-estimator:hover {background-color: #d4ebff;}#sk-container-id-1 div.sk-parallel-item::after {content: \"\";width: 100%;border-bottom: 1px solid gray;flex-grow: 1;}#sk-container-id-1 div.sk-label:hover label.sk-toggleable__label {background-color: #d4ebff;}#sk-container-id-1 div.sk-serial::before {content: \"\";position: absolute;border-left: 1px solid gray;box-sizing: border-box;top: 0;bottom: 0;left: 50%;z-index: 0;}#sk-container-id-1 div.sk-serial {display: flex;flex-direction: column;align-items: center;background-color: white;padding-right: 0.2em;padding-left: 0.2em;position: relative;}#sk-container-id-1 div.sk-item {position: relative;z-index: 1;}#sk-container-id-1 div.sk-parallel {display: flex;align-items: stretch;justify-content: center;background-color: white;position: relative;}#sk-container-id-1 div.sk-item::before, #sk-container-id-1 div.sk-parallel-item::before {content: \"\";position: absolute;border-left: 1px solid gray;box-sizing: border-box;top: 0;bottom: 0;left: 50%;z-index: -1;}#sk-container-id-1 div.sk-parallel-item {display: flex;flex-direction: column;z-index: 1;position: relative;background-color: white;}#sk-container-id-1 div.sk-parallel-item:first-child::after {align-self: flex-end;width: 50%;}#sk-container-id-1 div.sk-parallel-item:last-child::after {align-self: flex-start;width: 50%;}#sk-container-id-1 div.sk-parallel-item:only-child::after {width: 0;}#sk-container-id-1 div.sk-dashed-wrapped {border: 1px dashed gray;margin: 0 0.4em 0.5em 0.4em;box-sizing: border-box;padding-bottom: 0.4em;background-color: white;}#sk-container-id-1 div.sk-label label {font-family: monospace;font-weight: bold;display: inline-block;line-height: 1.2em;}#sk-container-id-1 div.sk-label-container {text-align: center;}#sk-container-id-1 div.sk-container {/* jupyter's `normalize.less` sets `[hidden] { display: none; }` but bootstrap.min.css set `[hidden] { display: none !important; }` so we also need the `!important` here to be able to override the default hidden behavior on the sphinx rendered scikit-learn.org. See: https://github.com/scikit-learn/scikit-learn/issues/21755 */display: inline-block !important;position: relative;}#sk-container-id-1 div.sk-text-repr-fallback {display: none;}</style><div id=\"sk-container-id-1\" class=\"sk-top-container\"><div class=\"sk-text-repr-fallback\"><pre>DecisionTreeClassifier(random_state=0)</pre><b>In a Jupyter environment, please rerun this cell to show the HTML representation or trust the notebook. <br />On GitHub, the HTML representation is unable to render, please try loading this page with nbviewer.org.</b></div><div class=\"sk-container\" hidden><div class=\"sk-item\"><div class=\"sk-estimator sk-toggleable\"><input class=\"sk-toggleable__control sk-hidden--visually\" id=\"sk-estimator-id-1\" type=\"checkbox\" checked><label for=\"sk-estimator-id-1\" class=\"sk-toggleable__label sk-toggleable__label-arrow\">DecisionTreeClassifier</label><div class=\"sk-toggleable__content\"><pre>DecisionTreeClassifier(random_state=0)</pre></div></div></div></div></div>"
      ],
      "text/plain": [
       "DecisionTreeClassifier(random_state=0)"
      ]
     },
     "execution_count": 48,
     "metadata": {},
     "output_type": "execute_result"
    }
   ],
   "source": [
    "from sklearn.tree import DecisionTreeClassifier\n",
    "\n",
    "DTC= DecisionTreeClassifier(random_state=0)\n",
    "DTC.fit(X,Y)"
   ]
  },
  {
   "cell_type": "code",
   "execution_count": 49,
   "id": "9864fa05",
   "metadata": {
    "execution": {
     "iopub.execute_input": "2024-07-19T13:37:26.022862Z",
     "iopub.status.busy": "2024-07-19T13:37:26.022534Z",
     "iopub.status.idle": "2024-07-19T13:37:34.890433Z",
     "shell.execute_reply": "2024-07-19T13:37:34.887135Z"
    },
    "papermill": {
     "duration": 8.888957,
     "end_time": "2024-07-19T13:37:34.893549",
     "exception": false,
     "start_time": "2024-07-19T13:37:26.004592",
     "status": "completed"
    },
    "tags": []
   },
   "outputs": [],
   "source": [
    "y_pred=DTC.predict(x_test)\n"
   ]
  },
  {
   "cell_type": "code",
   "execution_count": 50,
   "id": "46b16b56",
   "metadata": {
    "execution": {
     "iopub.execute_input": "2024-07-19T13:37:34.940139Z",
     "iopub.status.busy": "2024-07-19T13:37:34.939783Z",
     "iopub.status.idle": "2024-07-19T13:37:35.057339Z",
     "shell.execute_reply": "2024-07-19T13:37:35.055249Z"
    },
    "papermill": {
     "duration": 0.151021,
     "end_time": "2024-07-19T13:37:35.062941",
     "exception": false,
     "start_time": "2024-07-19T13:37:34.911920",
     "status": "completed"
    },
    "tags": []
   },
   "outputs": [
    {
     "data": {
      "text/html": [
       "<div>\n",
       "<style scoped>\n",
       "    .dataframe tbody tr th:only-of-type {\n",
       "        vertical-align: middle;\n",
       "    }\n",
       "\n",
       "    .dataframe tbody tr th {\n",
       "        vertical-align: top;\n",
       "    }\n",
       "\n",
       "    .dataframe thead th {\n",
       "        text-align: right;\n",
       "    }\n",
       "</style>\n",
       "<table border=\"1\" class=\"dataframe\">\n",
       "  <thead>\n",
       "    <tr style=\"text-align: right;\">\n",
       "      <th></th>\n",
       "      <th>id</th>\n",
       "      <th>Response</th>\n",
       "    </tr>\n",
       "  </thead>\n",
       "  <tbody>\n",
       "    <tr>\n",
       "      <th>0</th>\n",
       "      <td>11504798</td>\n",
       "      <td>0</td>\n",
       "    </tr>\n",
       "    <tr>\n",
       "      <th>1</th>\n",
       "      <td>11504799</td>\n",
       "      <td>0</td>\n",
       "    </tr>\n",
       "    <tr>\n",
       "      <th>2</th>\n",
       "      <td>11504800</td>\n",
       "      <td>0</td>\n",
       "    </tr>\n",
       "    <tr>\n",
       "      <th>3</th>\n",
       "      <td>11504801</td>\n",
       "      <td>0</td>\n",
       "    </tr>\n",
       "    <tr>\n",
       "      <th>4</th>\n",
       "      <td>11504802</td>\n",
       "      <td>0</td>\n",
       "    </tr>\n",
       "  </tbody>\n",
       "</table>\n",
       "</div>"
      ],
      "text/plain": [
       "         id  Response\n",
       "0  11504798         0\n",
       "1  11504799         0\n",
       "2  11504800         0\n",
       "3  11504801         0\n",
       "4  11504802         0"
      ]
     },
     "execution_count": 50,
     "metadata": {},
     "output_type": "execute_result"
    }
   ],
   "source": [
    "submission = pd.DataFrame({'id':data_test['id'], 'Response':y_pred})\n",
    "submission = submission[['id','Response']]\n",
    "submission.head()"
   ]
  },
  {
   "cell_type": "code",
   "execution_count": 51,
   "id": "60538af8",
   "metadata": {
    "execution": {
     "iopub.execute_input": "2024-07-19T13:37:35.147024Z",
     "iopub.status.busy": "2024-07-19T13:37:35.145350Z",
     "iopub.status.idle": "2024-07-19T13:37:41.554062Z",
     "shell.execute_reply": "2024-07-19T13:37:41.552371Z"
    },
    "papermill": {
     "duration": 6.462973,
     "end_time": "2024-07-19T13:37:41.558781",
     "exception": false,
     "start_time": "2024-07-19T13:37:35.095808",
     "status": "completed"
    },
    "tags": []
   },
   "outputs": [],
   "source": [
    "submission.to_csv('/kaggle/working/submission.csv', index=False)"
   ]
  },
  {
   "cell_type": "code",
   "execution_count": null,
   "id": "10f7a289",
   "metadata": {
    "papermill": {
     "duration": 0.016699,
     "end_time": "2024-07-19T13:37:41.595341",
     "exception": false,
     "start_time": "2024-07-19T13:37:41.578642",
     "status": "completed"
    },
    "tags": []
   },
   "outputs": [],
   "source": []
  }
 ],
 "metadata": {
  "kaggle": {
   "accelerator": "none",
   "dataSources": [
    {
     "databundleVersionId": 8930475,
     "sourceId": 73291,
     "sourceType": "competition"
    }
   ],
   "dockerImageVersionId": 30746,
   "isGpuEnabled": false,
   "isInternetEnabled": false,
   "language": "python",
   "sourceType": "notebook"
  },
  "kernelspec": {
   "display_name": "Python 3",
   "language": "python",
   "name": "python3"
  },
  "language_info": {
   "codemirror_mode": {
    "name": "ipython",
    "version": 3
   },
   "file_extension": ".py",
   "mimetype": "text/x-python",
   "name": "python",
   "nbconvert_exporter": "python",
   "pygments_lexer": "ipython3",
   "version": "3.10.13"
  },
  "papermill": {
   "default_parameters": {},
   "duration": 562.54451,
   "end_time": "2024-07-19T13:37:43.444273",
   "environment_variables": {},
   "exception": null,
   "input_path": "__notebook__.ipynb",
   "output_path": "__notebook__.ipynb",
   "parameters": {},
   "start_time": "2024-07-19T13:28:20.899763",
   "version": "2.5.0"
  }
 },
 "nbformat": 4,
 "nbformat_minor": 5
}
