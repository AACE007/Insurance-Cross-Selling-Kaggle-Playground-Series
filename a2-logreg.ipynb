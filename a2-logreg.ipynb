{
 "cells": [
  {
   "cell_type": "code",
   "execution_count": 1,
   "id": "d384cb0b",
   "metadata": {
    "_cell_guid": "b1076dfc-b9ad-4769-8c92-a6c4dae69d19",
    "_uuid": "8f2839f25d086af736a60e9eeb907d3b93b6e0e5",
    "execution": {
     "iopub.execute_input": "2024-07-19T09:00:43.214980Z",
     "iopub.status.busy": "2024-07-19T09:00:43.214441Z",
     "iopub.status.idle": "2024-07-19T09:00:44.290001Z",
     "shell.execute_reply": "2024-07-19T09:00:44.288118Z"
    },
    "papermill": {
     "duration": 1.099462,
     "end_time": "2024-07-19T09:00:44.292756",
     "exception": false,
     "start_time": "2024-07-19T09:00:43.193294",
     "status": "completed"
    },
    "tags": []
   },
   "outputs": [
    {
     "name": "stdout",
     "output_type": "stream",
     "text": [
      "/kaggle/input/playground-series-s4e7/sample_submission.csv\n",
      "/kaggle/input/playground-series-s4e7/train.csv\n",
      "/kaggle/input/playground-series-s4e7/test.csv\n"
     ]
    }
   ],
   "source": [
    "# This Python 3 environment comes with many helpful analytics libraries installed\n",
    "# It is defined by the kaggle/python Docker image: https://github.com/kaggle/docker-python\n",
    "# For example, here's several helpful packages to load\n",
    "\n",
    "import numpy as np # linear algebra\n",
    "import pandas as pd # data processing, CSV file I/O (e.g. pd.read_csv)\n",
    "\n",
    "# Input data files are available in the read-only \"../input/\" directory\n",
    "# For example, running this (by clicking run or pressing Shift+Enter) will list all files under the input directory\n",
    "\n",
    "import os\n",
    "for dirname, _, filenames in os.walk('/kaggle/input'):\n",
    "    for filename in filenames:\n",
    "        print(os.path.join(dirname, filename))\n",
    "\n",
    "# You can write up to 20GB to the current directory (/kaggle/working/) that gets preserved as output when you create a version using \"Save & Run All\" \n",
    "# You can also write temporary files to /kaggle/temp/, but they won't be saved outside of the current session"
   ]
  },
  {
   "cell_type": "code",
   "execution_count": 2,
   "id": "bddd9ed0",
   "metadata": {
    "execution": {
     "iopub.execute_input": "2024-07-19T09:00:44.334546Z",
     "iopub.status.busy": "2024-07-19T09:00:44.333964Z",
     "iopub.status.idle": "2024-07-19T09:00:45.903289Z",
     "shell.execute_reply": "2024-07-19T09:00:45.902055Z"
    },
    "papermill": {
     "duration": 1.592958,
     "end_time": "2024-07-19T09:00:45.906530",
     "exception": false,
     "start_time": "2024-07-19T09:00:44.313572",
     "status": "completed"
    },
    "tags": []
   },
   "outputs": [],
   "source": [
    "import matplotlib.pyplot as plt\n",
    "import seaborn as sns\n",
    "sns.set_theme(color_codes=True)"
   ]
  },
  {
   "cell_type": "markdown",
   "id": "ed12b9b6",
   "metadata": {
    "papermill": {
     "duration": 0.017968,
     "end_time": "2024-07-19T09:00:45.945043",
     "exception": false,
     "start_time": "2024-07-19T09:00:45.927075",
     "status": "completed"
    },
    "tags": []
   },
   "source": [
    "# Importing Data"
   ]
  },
  {
   "cell_type": "code",
   "execution_count": 3,
   "id": "57bc17a9",
   "metadata": {
    "execution": {
     "iopub.execute_input": "2024-07-19T09:00:45.984828Z",
     "iopub.status.busy": "2024-07-19T09:00:45.984356Z",
     "iopub.status.idle": "2024-07-19T09:01:11.074486Z",
     "shell.execute_reply": "2024-07-19T09:01:11.073058Z"
    },
    "papermill": {
     "duration": 25.113791,
     "end_time": "2024-07-19T09:01:11.077451",
     "exception": false,
     "start_time": "2024-07-19T09:00:45.963660",
     "status": "completed"
    },
    "tags": []
   },
   "outputs": [
    {
     "data": {
      "text/html": [
       "<div>\n",
       "<style scoped>\n",
       "    .dataframe tbody tr th:only-of-type {\n",
       "        vertical-align: middle;\n",
       "    }\n",
       "\n",
       "    .dataframe tbody tr th {\n",
       "        vertical-align: top;\n",
       "    }\n",
       "\n",
       "    .dataframe thead th {\n",
       "        text-align: right;\n",
       "    }\n",
       "</style>\n",
       "<table border=\"1\" class=\"dataframe\">\n",
       "  <thead>\n",
       "    <tr style=\"text-align: right;\">\n",
       "      <th></th>\n",
       "      <th>id</th>\n",
       "      <th>Gender</th>\n",
       "      <th>Age</th>\n",
       "      <th>Driving_License</th>\n",
       "      <th>Region_Code</th>\n",
       "      <th>Previously_Insured</th>\n",
       "      <th>Vehicle_Age</th>\n",
       "      <th>Vehicle_Damage</th>\n",
       "      <th>Annual_Premium</th>\n",
       "      <th>Policy_Sales_Channel</th>\n",
       "      <th>Vintage</th>\n",
       "      <th>Response</th>\n",
       "    </tr>\n",
       "  </thead>\n",
       "  <tbody>\n",
       "    <tr>\n",
       "      <th>0</th>\n",
       "      <td>0</td>\n",
       "      <td>Male</td>\n",
       "      <td>21</td>\n",
       "      <td>1</td>\n",
       "      <td>35.0</td>\n",
       "      <td>0</td>\n",
       "      <td>1-2 Year</td>\n",
       "      <td>Yes</td>\n",
       "      <td>65101.0</td>\n",
       "      <td>124.0</td>\n",
       "      <td>187</td>\n",
       "      <td>0</td>\n",
       "    </tr>\n",
       "    <tr>\n",
       "      <th>1</th>\n",
       "      <td>1</td>\n",
       "      <td>Male</td>\n",
       "      <td>43</td>\n",
       "      <td>1</td>\n",
       "      <td>28.0</td>\n",
       "      <td>0</td>\n",
       "      <td>&gt; 2 Years</td>\n",
       "      <td>Yes</td>\n",
       "      <td>58911.0</td>\n",
       "      <td>26.0</td>\n",
       "      <td>288</td>\n",
       "      <td>1</td>\n",
       "    </tr>\n",
       "    <tr>\n",
       "      <th>2</th>\n",
       "      <td>2</td>\n",
       "      <td>Female</td>\n",
       "      <td>25</td>\n",
       "      <td>1</td>\n",
       "      <td>14.0</td>\n",
       "      <td>1</td>\n",
       "      <td>&lt; 1 Year</td>\n",
       "      <td>No</td>\n",
       "      <td>38043.0</td>\n",
       "      <td>152.0</td>\n",
       "      <td>254</td>\n",
       "      <td>0</td>\n",
       "    </tr>\n",
       "    <tr>\n",
       "      <th>3</th>\n",
       "      <td>3</td>\n",
       "      <td>Female</td>\n",
       "      <td>35</td>\n",
       "      <td>1</td>\n",
       "      <td>1.0</td>\n",
       "      <td>0</td>\n",
       "      <td>1-2 Year</td>\n",
       "      <td>Yes</td>\n",
       "      <td>2630.0</td>\n",
       "      <td>156.0</td>\n",
       "      <td>76</td>\n",
       "      <td>0</td>\n",
       "    </tr>\n",
       "    <tr>\n",
       "      <th>4</th>\n",
       "      <td>4</td>\n",
       "      <td>Female</td>\n",
       "      <td>36</td>\n",
       "      <td>1</td>\n",
       "      <td>15.0</td>\n",
       "      <td>1</td>\n",
       "      <td>1-2 Year</td>\n",
       "      <td>No</td>\n",
       "      <td>31951.0</td>\n",
       "      <td>152.0</td>\n",
       "      <td>294</td>\n",
       "      <td>0</td>\n",
       "    </tr>\n",
       "  </tbody>\n",
       "</table>\n",
       "</div>"
      ],
      "text/plain": [
       "   id  Gender  Age  Driving_License  Region_Code  Previously_Insured  \\\n",
       "0   0    Male   21                1         35.0                   0   \n",
       "1   1    Male   43                1         28.0                   0   \n",
       "2   2  Female   25                1         14.0                   1   \n",
       "3   3  Female   35                1          1.0                   0   \n",
       "4   4  Female   36                1         15.0                   1   \n",
       "\n",
       "  Vehicle_Age Vehicle_Damage  Annual_Premium  Policy_Sales_Channel  Vintage  \\\n",
       "0    1-2 Year            Yes         65101.0                 124.0      187   \n",
       "1   > 2 Years            Yes         58911.0                  26.0      288   \n",
       "2    < 1 Year             No         38043.0                 152.0      254   \n",
       "3    1-2 Year            Yes          2630.0                 156.0       76   \n",
       "4    1-2 Year             No         31951.0                 152.0      294   \n",
       "\n",
       "   Response  \n",
       "0         0  \n",
       "1         1  \n",
       "2         0  \n",
       "3         0  \n",
       "4         0  "
      ]
     },
     "execution_count": 3,
     "metadata": {},
     "output_type": "execute_result"
    }
   ],
   "source": [
    "data_train=pd.read_csv('/kaggle/input/playground-series-s4e7/train.csv')\n",
    "data_train.head()"
   ]
  },
  {
   "cell_type": "code",
   "execution_count": 4,
   "id": "512fad8e",
   "metadata": {
    "execution": {
     "iopub.execute_input": "2024-07-19T09:01:11.117087Z",
     "iopub.status.busy": "2024-07-19T09:01:11.116556Z",
     "iopub.status.idle": "2024-07-19T09:01:27.438741Z",
     "shell.execute_reply": "2024-07-19T09:01:27.437257Z"
    },
    "papermill": {
     "duration": 16.344945,
     "end_time": "2024-07-19T09:01:27.441475",
     "exception": false,
     "start_time": "2024-07-19T09:01:11.096530",
     "status": "completed"
    },
    "tags": []
   },
   "outputs": [
    {
     "data": {
      "text/html": [
       "<div>\n",
       "<style scoped>\n",
       "    .dataframe tbody tr th:only-of-type {\n",
       "        vertical-align: middle;\n",
       "    }\n",
       "\n",
       "    .dataframe tbody tr th {\n",
       "        vertical-align: top;\n",
       "    }\n",
       "\n",
       "    .dataframe thead th {\n",
       "        text-align: right;\n",
       "    }\n",
       "</style>\n",
       "<table border=\"1\" class=\"dataframe\">\n",
       "  <thead>\n",
       "    <tr style=\"text-align: right;\">\n",
       "      <th></th>\n",
       "      <th>id</th>\n",
       "      <th>Gender</th>\n",
       "      <th>Age</th>\n",
       "      <th>Driving_License</th>\n",
       "      <th>Region_Code</th>\n",
       "      <th>Previously_Insured</th>\n",
       "      <th>Vehicle_Age</th>\n",
       "      <th>Vehicle_Damage</th>\n",
       "      <th>Annual_Premium</th>\n",
       "      <th>Policy_Sales_Channel</th>\n",
       "      <th>Vintage</th>\n",
       "    </tr>\n",
       "  </thead>\n",
       "  <tbody>\n",
       "    <tr>\n",
       "      <th>0</th>\n",
       "      <td>11504798</td>\n",
       "      <td>Female</td>\n",
       "      <td>20</td>\n",
       "      <td>1</td>\n",
       "      <td>47.0</td>\n",
       "      <td>0</td>\n",
       "      <td>&lt; 1 Year</td>\n",
       "      <td>No</td>\n",
       "      <td>2630.0</td>\n",
       "      <td>160.0</td>\n",
       "      <td>228</td>\n",
       "    </tr>\n",
       "    <tr>\n",
       "      <th>1</th>\n",
       "      <td>11504799</td>\n",
       "      <td>Male</td>\n",
       "      <td>47</td>\n",
       "      <td>1</td>\n",
       "      <td>28.0</td>\n",
       "      <td>0</td>\n",
       "      <td>1-2 Year</td>\n",
       "      <td>Yes</td>\n",
       "      <td>37483.0</td>\n",
       "      <td>124.0</td>\n",
       "      <td>123</td>\n",
       "    </tr>\n",
       "    <tr>\n",
       "      <th>2</th>\n",
       "      <td>11504800</td>\n",
       "      <td>Male</td>\n",
       "      <td>47</td>\n",
       "      <td>1</td>\n",
       "      <td>43.0</td>\n",
       "      <td>0</td>\n",
       "      <td>1-2 Year</td>\n",
       "      <td>Yes</td>\n",
       "      <td>2630.0</td>\n",
       "      <td>26.0</td>\n",
       "      <td>271</td>\n",
       "    </tr>\n",
       "    <tr>\n",
       "      <th>3</th>\n",
       "      <td>11504801</td>\n",
       "      <td>Female</td>\n",
       "      <td>22</td>\n",
       "      <td>1</td>\n",
       "      <td>47.0</td>\n",
       "      <td>1</td>\n",
       "      <td>&lt; 1 Year</td>\n",
       "      <td>No</td>\n",
       "      <td>24502.0</td>\n",
       "      <td>152.0</td>\n",
       "      <td>115</td>\n",
       "    </tr>\n",
       "    <tr>\n",
       "      <th>4</th>\n",
       "      <td>11504802</td>\n",
       "      <td>Male</td>\n",
       "      <td>51</td>\n",
       "      <td>1</td>\n",
       "      <td>19.0</td>\n",
       "      <td>0</td>\n",
       "      <td>1-2 Year</td>\n",
       "      <td>No</td>\n",
       "      <td>34115.0</td>\n",
       "      <td>124.0</td>\n",
       "      <td>148</td>\n",
       "    </tr>\n",
       "  </tbody>\n",
       "</table>\n",
       "</div>"
      ],
      "text/plain": [
       "         id  Gender  Age  Driving_License  Region_Code  Previously_Insured  \\\n",
       "0  11504798  Female   20                1         47.0                   0   \n",
       "1  11504799    Male   47                1         28.0                   0   \n",
       "2  11504800    Male   47                1         43.0                   0   \n",
       "3  11504801  Female   22                1         47.0                   1   \n",
       "4  11504802    Male   51                1         19.0                   0   \n",
       "\n",
       "  Vehicle_Age Vehicle_Damage  Annual_Premium  Policy_Sales_Channel  Vintage  \n",
       "0    < 1 Year             No          2630.0                 160.0      228  \n",
       "1    1-2 Year            Yes         37483.0                 124.0      123  \n",
       "2    1-2 Year            Yes          2630.0                  26.0      271  \n",
       "3    < 1 Year             No         24502.0                 152.0      115  \n",
       "4    1-2 Year             No         34115.0                 124.0      148  "
      ]
     },
     "execution_count": 4,
     "metadata": {},
     "output_type": "execute_result"
    }
   ],
   "source": [
    "data_test=pd.read_csv('/kaggle/input/playground-series-s4e7/test.csv')\n",
    "data_test.head()"
   ]
  },
  {
   "cell_type": "markdown",
   "id": "9acc622b",
   "metadata": {
    "papermill": {
     "duration": 0.018645,
     "end_time": "2024-07-19T09:01:27.480051",
     "exception": false,
     "start_time": "2024-07-19T09:01:27.461406",
     "status": "completed"
    },
    "tags": []
   },
   "source": [
    "# EDA"
   ]
  },
  {
   "cell_type": "code",
   "execution_count": 5,
   "id": "cdebdd0a",
   "metadata": {
    "execution": {
     "iopub.execute_input": "2024-07-19T09:01:27.520018Z",
     "iopub.status.busy": "2024-07-19T09:01:27.519571Z",
     "iopub.status.idle": "2024-07-19T09:01:27.527970Z",
     "shell.execute_reply": "2024-07-19T09:01:27.526625Z"
    },
    "papermill": {
     "duration": 0.031727,
     "end_time": "2024-07-19T09:01:27.530661",
     "exception": false,
     "start_time": "2024-07-19T09:01:27.498934",
     "status": "completed"
    },
    "tags": []
   },
   "outputs": [
    {
     "data": {
      "text/plain": [
       "Index(['id', 'Gender', 'Age', 'Driving_License', 'Region_Code',\n",
       "       'Previously_Insured', 'Vehicle_Age', 'Vehicle_Damage', 'Annual_Premium',\n",
       "       'Policy_Sales_Channel', 'Vintage', 'Response'],\n",
       "      dtype='object')"
      ]
     },
     "execution_count": 5,
     "metadata": {},
     "output_type": "execute_result"
    }
   ],
   "source": [
    "data_train.columns"
   ]
  },
  {
   "cell_type": "code",
   "execution_count": 6,
   "id": "367b796a",
   "metadata": {
    "execution": {
     "iopub.execute_input": "2024-07-19T09:01:27.571308Z",
     "iopub.status.busy": "2024-07-19T09:01:27.570902Z",
     "iopub.status.idle": "2024-07-19T09:01:27.576694Z",
     "shell.execute_reply": "2024-07-19T09:01:27.575356Z"
    },
    "papermill": {
     "duration": 0.029617,
     "end_time": "2024-07-19T09:01:27.579537",
     "exception": false,
     "start_time": "2024-07-19T09:01:27.549920",
     "status": "completed"
    },
    "tags": []
   },
   "outputs": [],
   "source": [
    "#sns.barplot(data=data_train, x='Response',y='Vintage')"
   ]
  },
  {
   "cell_type": "code",
   "execution_count": 7,
   "id": "c574efe2",
   "metadata": {
    "execution": {
     "iopub.execute_input": "2024-07-19T09:01:27.620618Z",
     "iopub.status.busy": "2024-07-19T09:01:27.620200Z",
     "iopub.status.idle": "2024-07-19T09:01:27.625332Z",
     "shell.execute_reply": "2024-07-19T09:01:27.624178Z"
    },
    "papermill": {
     "duration": 0.02846,
     "end_time": "2024-07-19T09:01:27.627959",
     "exception": false,
     "start_time": "2024-07-19T09:01:27.599499",
     "status": "completed"
    },
    "tags": []
   },
   "outputs": [],
   "source": [
    "# sns.barplot(data=data_train, x='Response',y='Policy_Sales_Channel')"
   ]
  },
  {
   "cell_type": "code",
   "execution_count": 8,
   "id": "1542e825",
   "metadata": {
    "execution": {
     "iopub.execute_input": "2024-07-19T09:01:27.668249Z",
     "iopub.status.busy": "2024-07-19T09:01:27.667867Z",
     "iopub.status.idle": "2024-07-19T09:01:27.672889Z",
     "shell.execute_reply": "2024-07-19T09:01:27.671730Z"
    },
    "papermill": {
     "duration": 0.02824,
     "end_time": "2024-07-19T09:01:27.675495",
     "exception": false,
     "start_time": "2024-07-19T09:01:27.647255",
     "status": "completed"
    },
    "tags": []
   },
   "outputs": [],
   "source": [
    "# sns.barplot(data=data_train, x='Response',y='Annual_Premium')"
   ]
  },
  {
   "cell_type": "code",
   "execution_count": null,
   "id": "b7b2ed46",
   "metadata": {
    "papermill": {
     "duration": 0.018755,
     "end_time": "2024-07-19T09:01:27.713348",
     "exception": false,
     "start_time": "2024-07-19T09:01:27.694593",
     "status": "completed"
    },
    "tags": []
   },
   "outputs": [],
   "source": []
  },
  {
   "cell_type": "markdown",
   "id": "90a01440",
   "metadata": {
    "papermill": {
     "duration": 0.018758,
     "end_time": "2024-07-19T09:01:27.751289",
     "exception": false,
     "start_time": "2024-07-19T09:01:27.732531",
     "status": "completed"
    },
    "tags": []
   },
   "source": [
    "# Data Preprocessing"
   ]
  },
  {
   "cell_type": "code",
   "execution_count": 9,
   "id": "74085e24",
   "metadata": {
    "execution": {
     "iopub.execute_input": "2024-07-19T09:01:27.791198Z",
     "iopub.status.busy": "2024-07-19T09:01:27.790782Z",
     "iopub.status.idle": "2024-07-19T09:01:31.620328Z",
     "shell.execute_reply": "2024-07-19T09:01:31.619150Z"
    },
    "papermill": {
     "duration": 3.852918,
     "end_time": "2024-07-19T09:01:31.623218",
     "exception": false,
     "start_time": "2024-07-19T09:01:27.770300",
     "status": "completed"
    },
    "tags": []
   },
   "outputs": [
    {
     "data": {
      "text/plain": [
       "id                      0\n",
       "Gender                  0\n",
       "Age                     0\n",
       "Driving_License         0\n",
       "Region_Code             0\n",
       "Previously_Insured      0\n",
       "Vehicle_Age             0\n",
       "Vehicle_Damage          0\n",
       "Annual_Premium          0\n",
       "Policy_Sales_Channel    0\n",
       "Vintage                 0\n",
       "Response                0\n",
       "dtype: int64"
      ]
     },
     "execution_count": 9,
     "metadata": {},
     "output_type": "execute_result"
    }
   ],
   "source": [
    "data_train.isnull().sum()"
   ]
  },
  {
   "cell_type": "code",
   "execution_count": 10,
   "id": "8e01932d",
   "metadata": {
    "execution": {
     "iopub.execute_input": "2024-07-19T09:01:31.664000Z",
     "iopub.status.busy": "2024-07-19T09:01:31.663570Z",
     "iopub.status.idle": "2024-07-19T09:01:35.168529Z",
     "shell.execute_reply": "2024-07-19T09:01:35.167457Z"
    },
    "papermill": {
     "duration": 3.529093,
     "end_time": "2024-07-19T09:01:35.171456",
     "exception": false,
     "start_time": "2024-07-19T09:01:31.642363",
     "status": "completed"
    },
    "tags": []
   },
   "outputs": [
    {
     "data": {
      "text/plain": [
       "Gender            2\n",
       "Vehicle_Age       3\n",
       "Vehicle_Damage    2\n",
       "dtype: int64"
      ]
     },
     "execution_count": 10,
     "metadata": {},
     "output_type": "execute_result"
    }
   ],
   "source": [
    "# columns in the DataFrame that have data types classified as 'object'. \n",
    "#In pandas, the 'object' data type is typically used for text or categorical data.\n",
    "data_train.select_dtypes(include='object').nunique()"
   ]
  },
  {
   "cell_type": "code",
   "execution_count": 11,
   "id": "68a7f839",
   "metadata": {
    "execution": {
     "iopub.execute_input": "2024-07-19T09:01:35.213167Z",
     "iopub.status.busy": "2024-07-19T09:01:35.212738Z",
     "iopub.status.idle": "2024-07-19T09:01:40.224986Z",
     "shell.execute_reply": "2024-07-19T09:01:40.223473Z"
    },
    "papermill": {
     "duration": 5.036739,
     "end_time": "2024-07-19T09:01:40.227748",
     "exception": false,
     "start_time": "2024-07-19T09:01:35.191009",
     "status": "completed"
    },
    "tags": []
   },
   "outputs": [
    {
     "data": {
      "text/plain": [
       "id                      11504798\n",
       "Gender                         2\n",
       "Age                           66\n",
       "Driving_License                2\n",
       "Region_Code                   54\n",
       "Previously_Insured             2\n",
       "Vehicle_Age                    3\n",
       "Vehicle_Damage                 2\n",
       "Annual_Premium             51728\n",
       "Policy_Sales_Channel         152\n",
       "Vintage                      290\n",
       "Response                       2\n",
       "dtype: int64"
      ]
     },
     "execution_count": 11,
     "metadata": {},
     "output_type": "execute_result"
    }
   ],
   "source": [
    "data_train.nunique() # tells all the unique value a column holds"
   ]
  },
  {
   "cell_type": "code",
   "execution_count": 12,
   "id": "55d24593",
   "metadata": {
    "execution": {
     "iopub.execute_input": "2024-07-19T09:01:40.269780Z",
     "iopub.status.busy": "2024-07-19T09:01:40.269293Z",
     "iopub.status.idle": "2024-07-19T09:01:40.927315Z",
     "shell.execute_reply": "2024-07-19T09:01:40.926085Z"
    },
    "papermill": {
     "duration": 0.682223,
     "end_time": "2024-07-19T09:01:40.929953",
     "exception": false,
     "start_time": "2024-07-19T09:01:40.247730",
     "status": "completed"
    },
    "tags": []
   },
   "outputs": [
    {
     "data": {
      "text/html": [
       "<div>\n",
       "<style scoped>\n",
       "    .dataframe tbody tr th:only-of-type {\n",
       "        vertical-align: middle;\n",
       "    }\n",
       "\n",
       "    .dataframe tbody tr th {\n",
       "        vertical-align: top;\n",
       "    }\n",
       "\n",
       "    .dataframe thead th {\n",
       "        text-align: right;\n",
       "    }\n",
       "</style>\n",
       "<table border=\"1\" class=\"dataframe\">\n",
       "  <thead>\n",
       "    <tr style=\"text-align: right;\">\n",
       "      <th></th>\n",
       "      <th>Gender</th>\n",
       "      <th>Age</th>\n",
       "      <th>Driving_License</th>\n",
       "      <th>Region_Code</th>\n",
       "      <th>Previously_Insured</th>\n",
       "      <th>Vehicle_Age</th>\n",
       "      <th>Vehicle_Damage</th>\n",
       "      <th>Annual_Premium</th>\n",
       "      <th>Policy_Sales_Channel</th>\n",
       "      <th>Vintage</th>\n",
       "      <th>Response</th>\n",
       "    </tr>\n",
       "  </thead>\n",
       "  <tbody>\n",
       "    <tr>\n",
       "      <th>0</th>\n",
       "      <td>Male</td>\n",
       "      <td>21</td>\n",
       "      <td>1</td>\n",
       "      <td>35.0</td>\n",
       "      <td>0</td>\n",
       "      <td>1-2 Year</td>\n",
       "      <td>Yes</td>\n",
       "      <td>65101.0</td>\n",
       "      <td>124.0</td>\n",
       "      <td>187</td>\n",
       "      <td>0</td>\n",
       "    </tr>\n",
       "    <tr>\n",
       "      <th>1</th>\n",
       "      <td>Male</td>\n",
       "      <td>43</td>\n",
       "      <td>1</td>\n",
       "      <td>28.0</td>\n",
       "      <td>0</td>\n",
       "      <td>&gt; 2 Years</td>\n",
       "      <td>Yes</td>\n",
       "      <td>58911.0</td>\n",
       "      <td>26.0</td>\n",
       "      <td>288</td>\n",
       "      <td>1</td>\n",
       "    </tr>\n",
       "    <tr>\n",
       "      <th>2</th>\n",
       "      <td>Female</td>\n",
       "      <td>25</td>\n",
       "      <td>1</td>\n",
       "      <td>14.0</td>\n",
       "      <td>1</td>\n",
       "      <td>&lt; 1 Year</td>\n",
       "      <td>No</td>\n",
       "      <td>38043.0</td>\n",
       "      <td>152.0</td>\n",
       "      <td>254</td>\n",
       "      <td>0</td>\n",
       "    </tr>\n",
       "    <tr>\n",
       "      <th>3</th>\n",
       "      <td>Female</td>\n",
       "      <td>35</td>\n",
       "      <td>1</td>\n",
       "      <td>1.0</td>\n",
       "      <td>0</td>\n",
       "      <td>1-2 Year</td>\n",
       "      <td>Yes</td>\n",
       "      <td>2630.0</td>\n",
       "      <td>156.0</td>\n",
       "      <td>76</td>\n",
       "      <td>0</td>\n",
       "    </tr>\n",
       "    <tr>\n",
       "      <th>4</th>\n",
       "      <td>Female</td>\n",
       "      <td>36</td>\n",
       "      <td>1</td>\n",
       "      <td>15.0</td>\n",
       "      <td>1</td>\n",
       "      <td>1-2 Year</td>\n",
       "      <td>No</td>\n",
       "      <td>31951.0</td>\n",
       "      <td>152.0</td>\n",
       "      <td>294</td>\n",
       "      <td>0</td>\n",
       "    </tr>\n",
       "  </tbody>\n",
       "</table>\n",
       "</div>"
      ],
      "text/plain": [
       "   Gender  Age  Driving_License  Region_Code  Previously_Insured Vehicle_Age  \\\n",
       "0    Male   21                1         35.0                   0    1-2 Year   \n",
       "1    Male   43                1         28.0                   0   > 2 Years   \n",
       "2  Female   25                1         14.0                   1    < 1 Year   \n",
       "3  Female   35                1          1.0                   0    1-2 Year   \n",
       "4  Female   36                1         15.0                   1    1-2 Year   \n",
       "\n",
       "  Vehicle_Damage  Annual_Premium  Policy_Sales_Channel  Vintage  Response  \n",
       "0            Yes         65101.0                 124.0      187         0  \n",
       "1            Yes         58911.0                  26.0      288         1  \n",
       "2             No         38043.0                 152.0      254         0  \n",
       "3            Yes          2630.0                 156.0       76         0  \n",
       "4             No         31951.0                 152.0      294         0  "
      ]
     },
     "execution_count": 12,
     "metadata": {},
     "output_type": "execute_result"
    }
   ],
   "source": [
    "# removing id column\n",
    "data_train.drop('id', axis=1,inplace=True)\n",
    "data_train.head()"
   ]
  },
  {
   "cell_type": "code",
   "execution_count": 13,
   "id": "b4704d1d",
   "metadata": {
    "execution": {
     "iopub.execute_input": "2024-07-19T09:01:40.972068Z",
     "iopub.status.busy": "2024-07-19T09:01:40.971582Z",
     "iopub.status.idle": "2024-07-19T09:01:42.004400Z",
     "shell.execute_reply": "2024-07-19T09:01:42.002772Z"
    },
    "papermill": {
     "duration": 1.057678,
     "end_time": "2024-07-19T09:01:42.007616",
     "exception": false,
     "start_time": "2024-07-19T09:01:40.949938",
     "status": "completed"
    },
    "tags": []
   },
   "outputs": [
    {
     "data": {
      "text/plain": [
       "array(['Male', 'Female'], dtype=object)"
      ]
     },
     "execution_count": 13,
     "metadata": {},
     "output_type": "execute_result"
    }
   ],
   "source": [
    "data_train['Gender'].unique()"
   ]
  },
  {
   "cell_type": "code",
   "execution_count": 14,
   "id": "1b158838",
   "metadata": {
    "execution": {
     "iopub.execute_input": "2024-07-19T09:01:42.050893Z",
     "iopub.status.busy": "2024-07-19T09:01:42.050473Z",
     "iopub.status.idle": "2024-07-19T09:01:43.116601Z",
     "shell.execute_reply": "2024-07-19T09:01:43.115438Z"
    },
    "papermill": {
     "duration": 1.091224,
     "end_time": "2024-07-19T09:01:43.119277",
     "exception": false,
     "start_time": "2024-07-19T09:01:42.028053",
     "status": "completed"
    },
    "tags": []
   },
   "outputs": [
    {
     "data": {
      "text/plain": [
       "array(['1-2 Year', '> 2 Years', '< 1 Year'], dtype=object)"
      ]
     },
     "execution_count": 14,
     "metadata": {},
     "output_type": "execute_result"
    }
   ],
   "source": [
    "data_train['Vehicle_Age'].unique()"
   ]
  },
  {
   "cell_type": "code",
   "execution_count": 15,
   "id": "802dc30b",
   "metadata": {
    "execution": {
     "iopub.execute_input": "2024-07-19T09:01:43.161279Z",
     "iopub.status.busy": "2024-07-19T09:01:43.160795Z",
     "iopub.status.idle": "2024-07-19T09:01:44.184678Z",
     "shell.execute_reply": "2024-07-19T09:01:44.183494Z"
    },
    "papermill": {
     "duration": 1.048055,
     "end_time": "2024-07-19T09:01:44.187370",
     "exception": false,
     "start_time": "2024-07-19T09:01:43.139315",
     "status": "completed"
    },
    "tags": []
   },
   "outputs": [
    {
     "data": {
      "text/plain": [
       "array(['Yes', 'No'], dtype=object)"
      ]
     },
     "execution_count": 15,
     "metadata": {},
     "output_type": "execute_result"
    }
   ],
   "source": [
    "data_train['Vehicle_Damage'].unique()"
   ]
  },
  {
   "cell_type": "code",
   "execution_count": 16,
   "id": "6f61417a",
   "metadata": {
    "execution": {
     "iopub.execute_input": "2024-07-19T09:01:44.230752Z",
     "iopub.status.busy": "2024-07-19T09:01:44.230319Z",
     "iopub.status.idle": "2024-07-19T09:01:44.236085Z",
     "shell.execute_reply": "2024-07-19T09:01:44.234752Z"
    },
    "papermill": {
     "duration": 0.031091,
     "end_time": "2024-07-19T09:01:44.238586",
     "exception": false,
     "start_time": "2024-07-19T09:01:44.207495",
     "status": "completed"
    },
    "tags": []
   },
   "outputs": [],
   "source": [
    "# Transforming Object Categorical data into int using label Encoder"
   ]
  },
  {
   "cell_type": "code",
   "execution_count": 17,
   "id": "d1c1daaa",
   "metadata": {
    "execution": {
     "iopub.execute_input": "2024-07-19T09:01:44.281854Z",
     "iopub.status.busy": "2024-07-19T09:01:44.281417Z",
     "iopub.status.idle": "2024-07-19T09:01:44.556737Z",
     "shell.execute_reply": "2024-07-19T09:01:44.555429Z"
    },
    "papermill": {
     "duration": 0.300221,
     "end_time": "2024-07-19T09:01:44.559697",
     "exception": false,
     "start_time": "2024-07-19T09:01:44.259476",
     "status": "completed"
    },
    "tags": []
   },
   "outputs": [],
   "source": [
    "from sklearn import preprocessing\n",
    "label_encoder=preprocessing.LabelEncoder()"
   ]
  },
  {
   "cell_type": "code",
   "execution_count": 18,
   "id": "f5feba98",
   "metadata": {
    "execution": {
     "iopub.execute_input": "2024-07-19T09:01:44.602899Z",
     "iopub.status.busy": "2024-07-19T09:01:44.602438Z",
     "iopub.status.idle": "2024-07-19T09:01:48.250778Z",
     "shell.execute_reply": "2024-07-19T09:01:48.249517Z"
    },
    "papermill": {
     "duration": 3.673757,
     "end_time": "2024-07-19T09:01:48.253732",
     "exception": false,
     "start_time": "2024-07-19T09:01:44.579975",
     "status": "completed"
    },
    "tags": []
   },
   "outputs": [
    {
     "data": {
      "text/plain": [
       "array([1, 0])"
      ]
     },
     "execution_count": 18,
     "metadata": {},
     "output_type": "execute_result"
    }
   ],
   "source": [
    "data_train['Gender']=label_encoder.fit_transform(data_train['Gender'])\n",
    "data_train['Gender'].unique()"
   ]
  },
  {
   "cell_type": "code",
   "execution_count": 19,
   "id": "a4447519",
   "metadata": {
    "execution": {
     "iopub.execute_input": "2024-07-19T09:01:48.358653Z",
     "iopub.status.busy": "2024-07-19T09:01:48.358245Z",
     "iopub.status.idle": "2024-07-19T09:01:51.861974Z",
     "shell.execute_reply": "2024-07-19T09:01:51.860909Z"
    },
    "papermill": {
     "duration": 3.528628,
     "end_time": "2024-07-19T09:01:51.864791",
     "exception": false,
     "start_time": "2024-07-19T09:01:48.336163",
     "status": "completed"
    },
    "tags": []
   },
   "outputs": [
    {
     "data": {
      "text/plain": [
       "array([0, 2, 1])"
      ]
     },
     "execution_count": 19,
     "metadata": {},
     "output_type": "execute_result"
    }
   ],
   "source": [
    "data_train['Vehicle_Age']=label_encoder.fit_transform(data_train['Vehicle_Age'])\n",
    "data_train['Vehicle_Age'].unique()"
   ]
  },
  {
   "cell_type": "code",
   "execution_count": 20,
   "id": "47c25a03",
   "metadata": {
    "execution": {
     "iopub.execute_input": "2024-07-19T09:01:51.908241Z",
     "iopub.status.busy": "2024-07-19T09:01:51.907799Z",
     "iopub.status.idle": "2024-07-19T09:01:55.502022Z",
     "shell.execute_reply": "2024-07-19T09:01:55.500819Z"
    },
    "papermill": {
     "duration": 3.618983,
     "end_time": "2024-07-19T09:01:55.504738",
     "exception": false,
     "start_time": "2024-07-19T09:01:51.885755",
     "status": "completed"
    },
    "tags": []
   },
   "outputs": [
    {
     "data": {
      "text/plain": [
       "array([1, 0])"
      ]
     },
     "execution_count": 20,
     "metadata": {},
     "output_type": "execute_result"
    }
   ],
   "source": [
    "data_train['Vehicle_Damage']=label_encoder.fit_transform(data_train['Vehicle_Damage'])\n",
    "data_train['Vehicle_Damage'].unique()"
   ]
  },
  {
   "cell_type": "code",
   "execution_count": 21,
   "id": "171d00bc",
   "metadata": {
    "execution": {
     "iopub.execute_input": "2024-07-19T09:01:55.548452Z",
     "iopub.status.busy": "2024-07-19T09:01:55.547984Z",
     "iopub.status.idle": "2024-07-19T09:01:55.565975Z",
     "shell.execute_reply": "2024-07-19T09:01:55.564728Z"
    },
    "papermill": {
     "duration": 0.042818,
     "end_time": "2024-07-19T09:01:55.568544",
     "exception": false,
     "start_time": "2024-07-19T09:01:55.525726",
     "status": "completed"
    },
    "tags": []
   },
   "outputs": [
    {
     "data": {
      "text/html": [
       "<div>\n",
       "<style scoped>\n",
       "    .dataframe tbody tr th:only-of-type {\n",
       "        vertical-align: middle;\n",
       "    }\n",
       "\n",
       "    .dataframe tbody tr th {\n",
       "        vertical-align: top;\n",
       "    }\n",
       "\n",
       "    .dataframe thead th {\n",
       "        text-align: right;\n",
       "    }\n",
       "</style>\n",
       "<table border=\"1\" class=\"dataframe\">\n",
       "  <thead>\n",
       "    <tr style=\"text-align: right;\">\n",
       "      <th></th>\n",
       "      <th>Gender</th>\n",
       "      <th>Age</th>\n",
       "      <th>Driving_License</th>\n",
       "      <th>Region_Code</th>\n",
       "      <th>Previously_Insured</th>\n",
       "      <th>Vehicle_Age</th>\n",
       "      <th>Vehicle_Damage</th>\n",
       "      <th>Annual_Premium</th>\n",
       "      <th>Policy_Sales_Channel</th>\n",
       "      <th>Vintage</th>\n",
       "      <th>Response</th>\n",
       "    </tr>\n",
       "  </thead>\n",
       "  <tbody>\n",
       "    <tr>\n",
       "      <th>0</th>\n",
       "      <td>1</td>\n",
       "      <td>21</td>\n",
       "      <td>1</td>\n",
       "      <td>35.0</td>\n",
       "      <td>0</td>\n",
       "      <td>0</td>\n",
       "      <td>1</td>\n",
       "      <td>65101.0</td>\n",
       "      <td>124.0</td>\n",
       "      <td>187</td>\n",
       "      <td>0</td>\n",
       "    </tr>\n",
       "    <tr>\n",
       "      <th>1</th>\n",
       "      <td>1</td>\n",
       "      <td>43</td>\n",
       "      <td>1</td>\n",
       "      <td>28.0</td>\n",
       "      <td>0</td>\n",
       "      <td>2</td>\n",
       "      <td>1</td>\n",
       "      <td>58911.0</td>\n",
       "      <td>26.0</td>\n",
       "      <td>288</td>\n",
       "      <td>1</td>\n",
       "    </tr>\n",
       "    <tr>\n",
       "      <th>2</th>\n",
       "      <td>0</td>\n",
       "      <td>25</td>\n",
       "      <td>1</td>\n",
       "      <td>14.0</td>\n",
       "      <td>1</td>\n",
       "      <td>1</td>\n",
       "      <td>0</td>\n",
       "      <td>38043.0</td>\n",
       "      <td>152.0</td>\n",
       "      <td>254</td>\n",
       "      <td>0</td>\n",
       "    </tr>\n",
       "    <tr>\n",
       "      <th>3</th>\n",
       "      <td>0</td>\n",
       "      <td>35</td>\n",
       "      <td>1</td>\n",
       "      <td>1.0</td>\n",
       "      <td>0</td>\n",
       "      <td>0</td>\n",
       "      <td>1</td>\n",
       "      <td>2630.0</td>\n",
       "      <td>156.0</td>\n",
       "      <td>76</td>\n",
       "      <td>0</td>\n",
       "    </tr>\n",
       "    <tr>\n",
       "      <th>4</th>\n",
       "      <td>0</td>\n",
       "      <td>36</td>\n",
       "      <td>1</td>\n",
       "      <td>15.0</td>\n",
       "      <td>1</td>\n",
       "      <td>0</td>\n",
       "      <td>0</td>\n",
       "      <td>31951.0</td>\n",
       "      <td>152.0</td>\n",
       "      <td>294</td>\n",
       "      <td>0</td>\n",
       "    </tr>\n",
       "  </tbody>\n",
       "</table>\n",
       "</div>"
      ],
      "text/plain": [
       "   Gender  Age  Driving_License  Region_Code  Previously_Insured  Vehicle_Age  \\\n",
       "0       1   21                1         35.0                   0            0   \n",
       "1       1   43                1         28.0                   0            2   \n",
       "2       0   25                1         14.0                   1            1   \n",
       "3       0   35                1          1.0                   0            0   \n",
       "4       0   36                1         15.0                   1            0   \n",
       "\n",
       "   Vehicle_Damage  Annual_Premium  Policy_Sales_Channel  Vintage  Response  \n",
       "0               1         65101.0                 124.0      187         0  \n",
       "1               1         58911.0                  26.0      288         1  \n",
       "2               0         38043.0                 152.0      254         0  \n",
       "3               1          2630.0                 156.0       76         0  \n",
       "4               0         31951.0                 152.0      294         0  "
      ]
     },
     "execution_count": 21,
     "metadata": {},
     "output_type": "execute_result"
    }
   ],
   "source": [
    "data_train.head()"
   ]
  },
  {
   "cell_type": "code",
   "execution_count": 22,
   "id": "18419a48",
   "metadata": {
    "execution": {
     "iopub.execute_input": "2024-07-19T09:01:55.614932Z",
     "iopub.status.busy": "2024-07-19T09:01:55.614471Z",
     "iopub.status.idle": "2024-07-19T09:01:55.624386Z",
     "shell.execute_reply": "2024-07-19T09:01:55.623037Z"
    },
    "papermill": {
     "duration": 0.036655,
     "end_time": "2024-07-19T09:01:55.627165",
     "exception": false,
     "start_time": "2024-07-19T09:01:55.590510",
     "status": "completed"
    },
    "tags": []
   },
   "outputs": [
    {
     "data": {
      "text/plain": [
       "Gender                    int64\n",
       "Age                       int64\n",
       "Driving_License           int64\n",
       "Region_Code             float64\n",
       "Previously_Insured        int64\n",
       "Vehicle_Age               int64\n",
       "Vehicle_Damage            int64\n",
       "Annual_Premium          float64\n",
       "Policy_Sales_Channel    float64\n",
       "Vintage                   int64\n",
       "Response                  int64\n",
       "dtype: object"
      ]
     },
     "execution_count": 22,
     "metadata": {},
     "output_type": "execute_result"
    }
   ],
   "source": [
    "data_train.dtypes"
   ]
  },
  {
   "cell_type": "markdown",
   "id": "5ee30706",
   "metadata": {
    "papermill": {
     "duration": 0.02106,
     "end_time": "2024-07-19T09:01:55.669605",
     "exception": false,
     "start_time": "2024-07-19T09:01:55.648545",
     "status": "completed"
    },
    "tags": []
   },
   "source": [
    "# Check if Response colum is balance or not"
   ]
  },
  {
   "cell_type": "code",
   "execution_count": 23,
   "id": "30720d46",
   "metadata": {
    "execution": {
     "iopub.execute_input": "2024-07-19T09:01:55.715085Z",
     "iopub.status.busy": "2024-07-19T09:01:55.714649Z",
     "iopub.status.idle": "2024-07-19T09:01:55.719683Z",
     "shell.execute_reply": "2024-07-19T09:01:55.718578Z"
    },
    "papermill": {
     "duration": 0.03027,
     "end_time": "2024-07-19T09:01:55.722154",
     "exception": false,
     "start_time": "2024-07-19T09:01:55.691884",
     "status": "completed"
    },
    "tags": []
   },
   "outputs": [],
   "source": [
    "# sns.countplot(x=data_train['Response'])\n",
    "\n",
    "# plt.figure(figsize=(5, 5))"
   ]
  },
  {
   "cell_type": "code",
   "execution_count": 24,
   "id": "06a412ae",
   "metadata": {
    "execution": {
     "iopub.execute_input": "2024-07-19T09:01:55.767591Z",
     "iopub.status.busy": "2024-07-19T09:01:55.767148Z",
     "iopub.status.idle": "2024-07-19T09:01:55.889392Z",
     "shell.execute_reply": "2024-07-19T09:01:55.888113Z"
    },
    "papermill": {
     "duration": 0.148498,
     "end_time": "2024-07-19T09:01:55.891971",
     "exception": false,
     "start_time": "2024-07-19T09:01:55.743473",
     "status": "completed"
    },
    "tags": []
   },
   "outputs": [
    {
     "data": {
      "text/plain": [
       "Response\n",
       "0    10089739\n",
       "1     1415059\n",
       "Name: count, dtype: int64"
      ]
     },
     "execution_count": 24,
     "metadata": {},
     "output_type": "execute_result"
    }
   ],
   "source": [
    "data_train['Response'].value_counts()"
   ]
  },
  {
   "cell_type": "code",
   "execution_count": 25,
   "id": "3acae514",
   "metadata": {
    "execution": {
     "iopub.execute_input": "2024-07-19T09:01:55.937800Z",
     "iopub.status.busy": "2024-07-19T09:01:55.936609Z",
     "iopub.status.idle": "2024-07-19T09:01:56.805306Z",
     "shell.execute_reply": "2024-07-19T09:01:56.803726Z"
    },
    "papermill": {
     "duration": 0.894718,
     "end_time": "2024-07-19T09:01:56.808296",
     "exception": false,
     "start_time": "2024-07-19T09:01:55.913578",
     "status": "completed"
    },
    "tags": []
   },
   "outputs": [],
   "source": [
    "# seperating 1 and 0 in different columns\n",
    "df_major= data_train[(data_train['Response']==0)]\n",
    "df_minor= data_train[(data_train['Response']==1)]"
   ]
  },
  {
   "cell_type": "code",
   "execution_count": 26,
   "id": "de178988",
   "metadata": {
    "execution": {
     "iopub.execute_input": "2024-07-19T09:01:56.853121Z",
     "iopub.status.busy": "2024-07-19T09:01:56.852716Z",
     "iopub.status.idle": "2024-07-19T09:01:56.858073Z",
     "shell.execute_reply": "2024-07-19T09:01:56.856627Z"
    },
    "papermill": {
     "duration": 0.031225,
     "end_time": "2024-07-19T09:01:56.861110",
     "exception": false,
     "start_time": "2024-07-19T09:01:56.829885",
     "status": "completed"
    },
    "tags": []
   },
   "outputs": [],
   "source": [
    "# up sampling minority '1' column equal to majority '0'\n",
    "# Response\n",
    "# 0    10089739\n",
    "# 1     1415059"
   ]
  },
  {
   "cell_type": "code",
   "execution_count": 27,
   "id": "aa25c417",
   "metadata": {
    "execution": {
     "iopub.execute_input": "2024-07-19T09:01:56.906711Z",
     "iopub.status.busy": "2024-07-19T09:01:56.906298Z",
     "iopub.status.idle": "2024-07-19T09:01:59.770786Z",
     "shell.execute_reply": "2024-07-19T09:01:59.769308Z"
    },
    "papermill": {
     "duration": 2.891167,
     "end_time": "2024-07-19T09:01:59.773725",
     "exception": false,
     "start_time": "2024-07-19T09:01:56.882558",
     "status": "completed"
    },
    "tags": []
   },
   "outputs": [],
   "source": [
    "from sklearn.utils import resample\n",
    "\n",
    "df_minor_upsample=resample(df_minor, replace=True, n_samples=10089739, random_state=0)\n",
    "\n",
    "df_upsampled=pd.concat([df_minor_upsample, df_major])"
   ]
  },
  {
   "cell_type": "code",
   "execution_count": 28,
   "id": "56d9453a",
   "metadata": {
    "execution": {
     "iopub.execute_input": "2024-07-19T09:01:59.818590Z",
     "iopub.status.busy": "2024-07-19T09:01:59.818207Z",
     "iopub.status.idle": "2024-07-19T09:01:59.841120Z",
     "shell.execute_reply": "2024-07-19T09:01:59.839763Z"
    },
    "papermill": {
     "duration": 0.048394,
     "end_time": "2024-07-19T09:01:59.843707",
     "exception": false,
     "start_time": "2024-07-19T09:01:59.795313",
     "status": "completed"
    },
    "tags": []
   },
   "outputs": [
    {
     "data": {
      "text/html": [
       "<div>\n",
       "<style scoped>\n",
       "    .dataframe tbody tr th:only-of-type {\n",
       "        vertical-align: middle;\n",
       "    }\n",
       "\n",
       "    .dataframe tbody tr th {\n",
       "        vertical-align: top;\n",
       "    }\n",
       "\n",
       "    .dataframe thead th {\n",
       "        text-align: right;\n",
       "    }\n",
       "</style>\n",
       "<table border=\"1\" class=\"dataframe\">\n",
       "  <thead>\n",
       "    <tr style=\"text-align: right;\">\n",
       "      <th></th>\n",
       "      <th>Gender</th>\n",
       "      <th>Age</th>\n",
       "      <th>Driving_License</th>\n",
       "      <th>Region_Code</th>\n",
       "      <th>Previously_Insured</th>\n",
       "      <th>Vehicle_Age</th>\n",
       "      <th>Vehicle_Damage</th>\n",
       "      <th>Annual_Premium</th>\n",
       "      <th>Policy_Sales_Channel</th>\n",
       "      <th>Vintage</th>\n",
       "      <th>Response</th>\n",
       "    </tr>\n",
       "  </thead>\n",
       "  <tbody>\n",
       "    <tr>\n",
       "      <th>2491338</th>\n",
       "      <td>0</td>\n",
       "      <td>38</td>\n",
       "      <td>1</td>\n",
       "      <td>46.0</td>\n",
       "      <td>0</td>\n",
       "      <td>0</td>\n",
       "      <td>1</td>\n",
       "      <td>29679.0</td>\n",
       "      <td>26.0</td>\n",
       "      <td>11</td>\n",
       "      <td>1</td>\n",
       "    </tr>\n",
       "    <tr>\n",
       "      <th>962117</th>\n",
       "      <td>1</td>\n",
       "      <td>48</td>\n",
       "      <td>1</td>\n",
       "      <td>28.0</td>\n",
       "      <td>0</td>\n",
       "      <td>0</td>\n",
       "      <td>1</td>\n",
       "      <td>49092.0</td>\n",
       "      <td>124.0</td>\n",
       "      <td>182</td>\n",
       "      <td>1</td>\n",
       "    </tr>\n",
       "    <tr>\n",
       "      <th>7831406</th>\n",
       "      <td>0</td>\n",
       "      <td>20</td>\n",
       "      <td>1</td>\n",
       "      <td>50.0</td>\n",
       "      <td>0</td>\n",
       "      <td>1</td>\n",
       "      <td>1</td>\n",
       "      <td>34187.0</td>\n",
       "      <td>160.0</td>\n",
       "      <td>92</td>\n",
       "      <td>1</td>\n",
       "    </tr>\n",
       "    <tr>\n",
       "      <th>1242312</th>\n",
       "      <td>1</td>\n",
       "      <td>58</td>\n",
       "      <td>1</td>\n",
       "      <td>8.0</td>\n",
       "      <td>0</td>\n",
       "      <td>0</td>\n",
       "      <td>1</td>\n",
       "      <td>2630.0</td>\n",
       "      <td>30.0</td>\n",
       "      <td>212</td>\n",
       "      <td>1</td>\n",
       "    </tr>\n",
       "    <tr>\n",
       "      <th>2929171</th>\n",
       "      <td>1</td>\n",
       "      <td>50</td>\n",
       "      <td>1</td>\n",
       "      <td>18.0</td>\n",
       "      <td>0</td>\n",
       "      <td>0</td>\n",
       "      <td>1</td>\n",
       "      <td>37190.0</td>\n",
       "      <td>26.0</td>\n",
       "      <td>208</td>\n",
       "      <td>1</td>\n",
       "    </tr>\n",
       "    <tr>\n",
       "      <th>...</th>\n",
       "      <td>...</td>\n",
       "      <td>...</td>\n",
       "      <td>...</td>\n",
       "      <td>...</td>\n",
       "      <td>...</td>\n",
       "      <td>...</td>\n",
       "      <td>...</td>\n",
       "      <td>...</td>\n",
       "      <td>...</td>\n",
       "      <td>...</td>\n",
       "      <td>...</td>\n",
       "    </tr>\n",
       "    <tr>\n",
       "      <th>11504791</th>\n",
       "      <td>0</td>\n",
       "      <td>31</td>\n",
       "      <td>1</td>\n",
       "      <td>32.0</td>\n",
       "      <td>1</td>\n",
       "      <td>1</td>\n",
       "      <td>0</td>\n",
       "      <td>2630.0</td>\n",
       "      <td>152.0</td>\n",
       "      <td>204</td>\n",
       "      <td>0</td>\n",
       "    </tr>\n",
       "    <tr>\n",
       "      <th>11504792</th>\n",
       "      <td>1</td>\n",
       "      <td>34</td>\n",
       "      <td>1</td>\n",
       "      <td>28.0</td>\n",
       "      <td>1</td>\n",
       "      <td>0</td>\n",
       "      <td>0</td>\n",
       "      <td>29974.0</td>\n",
       "      <td>154.0</td>\n",
       "      <td>201</td>\n",
       "      <td>0</td>\n",
       "    </tr>\n",
       "    <tr>\n",
       "      <th>11504793</th>\n",
       "      <td>1</td>\n",
       "      <td>48</td>\n",
       "      <td>1</td>\n",
       "      <td>6.0</td>\n",
       "      <td>0</td>\n",
       "      <td>0</td>\n",
       "      <td>1</td>\n",
       "      <td>27412.0</td>\n",
       "      <td>26.0</td>\n",
       "      <td>218</td>\n",
       "      <td>0</td>\n",
       "    </tr>\n",
       "    <tr>\n",
       "      <th>11504795</th>\n",
       "      <td>0</td>\n",
       "      <td>29</td>\n",
       "      <td>1</td>\n",
       "      <td>32.0</td>\n",
       "      <td>1</td>\n",
       "      <td>1</td>\n",
       "      <td>0</td>\n",
       "      <td>2630.0</td>\n",
       "      <td>152.0</td>\n",
       "      <td>189</td>\n",
       "      <td>0</td>\n",
       "    </tr>\n",
       "    <tr>\n",
       "      <th>11504797</th>\n",
       "      <td>1</td>\n",
       "      <td>25</td>\n",
       "      <td>1</td>\n",
       "      <td>28.0</td>\n",
       "      <td>1</td>\n",
       "      <td>1</td>\n",
       "      <td>0</td>\n",
       "      <td>32855.0</td>\n",
       "      <td>152.0</td>\n",
       "      <td>189</td>\n",
       "      <td>0</td>\n",
       "    </tr>\n",
       "  </tbody>\n",
       "</table>\n",
       "<p>20179478 rows × 11 columns</p>\n",
       "</div>"
      ],
      "text/plain": [
       "          Gender  Age  Driving_License  Region_Code  Previously_Insured  \\\n",
       "2491338        0   38                1         46.0                   0   \n",
       "962117         1   48                1         28.0                   0   \n",
       "7831406        0   20                1         50.0                   0   \n",
       "1242312        1   58                1          8.0                   0   \n",
       "2929171        1   50                1         18.0                   0   \n",
       "...          ...  ...              ...          ...                 ...   \n",
       "11504791       0   31                1         32.0                   1   \n",
       "11504792       1   34                1         28.0                   1   \n",
       "11504793       1   48                1          6.0                   0   \n",
       "11504795       0   29                1         32.0                   1   \n",
       "11504797       1   25                1         28.0                   1   \n",
       "\n",
       "          Vehicle_Age  Vehicle_Damage  Annual_Premium  Policy_Sales_Channel  \\\n",
       "2491338             0               1         29679.0                  26.0   \n",
       "962117              0               1         49092.0                 124.0   \n",
       "7831406             1               1         34187.0                 160.0   \n",
       "1242312             0               1          2630.0                  30.0   \n",
       "2929171             0               1         37190.0                  26.0   \n",
       "...               ...             ...             ...                   ...   \n",
       "11504791            1               0          2630.0                 152.0   \n",
       "11504792            0               0         29974.0                 154.0   \n",
       "11504793            0               1         27412.0                  26.0   \n",
       "11504795            1               0          2630.0                 152.0   \n",
       "11504797            1               0         32855.0                 152.0   \n",
       "\n",
       "          Vintage  Response  \n",
       "2491338        11         1  \n",
       "962117        182         1  \n",
       "7831406        92         1  \n",
       "1242312       212         1  \n",
       "2929171       208         1  \n",
       "...           ...       ...  \n",
       "11504791      204         0  \n",
       "11504792      201         0  \n",
       "11504793      218         0  \n",
       "11504795      189         0  \n",
       "11504797      189         0  \n",
       "\n",
       "[20179478 rows x 11 columns]"
      ]
     },
     "execution_count": 28,
     "metadata": {},
     "output_type": "execute_result"
    }
   ],
   "source": [
    "df_upsampled"
   ]
  },
  {
   "cell_type": "code",
   "execution_count": 29,
   "id": "fa6c62e4",
   "metadata": {
    "execution": {
     "iopub.execute_input": "2024-07-19T09:01:59.890356Z",
     "iopub.status.busy": "2024-07-19T09:01:59.889786Z",
     "iopub.status.idle": "2024-07-19T09:01:59.895327Z",
     "shell.execute_reply": "2024-07-19T09:01:59.894131Z"
    },
    "papermill": {
     "duration": 0.031842,
     "end_time": "2024-07-19T09:01:59.898035",
     "exception": false,
     "start_time": "2024-07-19T09:01:59.866193",
     "status": "completed"
    },
    "tags": []
   },
   "outputs": [],
   "source": [
    "# sns.countplot(x=df_upsampled['Response'])\n",
    "\n",
    "# plt.figure(figsize=(5, 5))"
   ]
  },
  {
   "cell_type": "markdown",
   "id": "b8e68eff",
   "metadata": {
    "papermill": {
     "duration": 0.021708,
     "end_time": "2024-07-19T09:01:59.942062",
     "exception": false,
     "start_time": "2024-07-19T09:01:59.920354",
     "status": "completed"
    },
    "tags": []
   },
   "source": [
    "# Checking Outliers"
   ]
  },
  {
   "cell_type": "code",
   "execution_count": 30,
   "id": "ee887c40",
   "metadata": {
    "execution": {
     "iopub.execute_input": "2024-07-19T09:01:59.987939Z",
     "iopub.status.busy": "2024-07-19T09:01:59.987482Z",
     "iopub.status.idle": "2024-07-19T09:01:59.993118Z",
     "shell.execute_reply": "2024-07-19T09:01:59.991792Z"
    },
    "papermill": {
     "duration": 0.031849,
     "end_time": "2024-07-19T09:01:59.995796",
     "exception": false,
     "start_time": "2024-07-19T09:01:59.963947",
     "status": "completed"
    },
    "tags": []
   },
   "outputs": [],
   "source": [
    "# sns.boxplot(x=df_upsampled['Age'])"
   ]
  },
  {
   "cell_type": "code",
   "execution_count": 31,
   "id": "33275915",
   "metadata": {
    "execution": {
     "iopub.execute_input": "2024-07-19T09:02:00.043789Z",
     "iopub.status.busy": "2024-07-19T09:02:00.043348Z",
     "iopub.status.idle": "2024-07-19T09:02:00.049192Z",
     "shell.execute_reply": "2024-07-19T09:02:00.047949Z"
    },
    "papermill": {
     "duration": 0.03378,
     "end_time": "2024-07-19T09:02:00.052189",
     "exception": false,
     "start_time": "2024-07-19T09:02:00.018409",
     "status": "completed"
    },
    "tags": []
   },
   "outputs": [],
   "source": [
    "# sns.boxplot(x=df_upsampled['Annual_Premium'])"
   ]
  },
  {
   "cell_type": "code",
   "execution_count": 32,
   "id": "e7017e69",
   "metadata": {
    "execution": {
     "iopub.execute_input": "2024-07-19T09:02:00.099729Z",
     "iopub.status.busy": "2024-07-19T09:02:00.099236Z",
     "iopub.status.idle": "2024-07-19T09:02:00.104478Z",
     "shell.execute_reply": "2024-07-19T09:02:00.103270Z"
    },
    "papermill": {
     "duration": 0.032041,
     "end_time": "2024-07-19T09:02:00.107187",
     "exception": false,
     "start_time": "2024-07-19T09:02:00.075146",
     "status": "completed"
    },
    "tags": []
   },
   "outputs": [],
   "source": [
    "# sns.boxplot(x=df_upsampled['Policy_Sales_Channel'])"
   ]
  },
  {
   "cell_type": "code",
   "execution_count": 33,
   "id": "ba50ce48",
   "metadata": {
    "execution": {
     "iopub.execute_input": "2024-07-19T09:02:00.154897Z",
     "iopub.status.busy": "2024-07-19T09:02:00.154384Z",
     "iopub.status.idle": "2024-07-19T09:02:00.160029Z",
     "shell.execute_reply": "2024-07-19T09:02:00.158614Z"
    },
    "papermill": {
     "duration": 0.03197,
     "end_time": "2024-07-19T09:02:00.162460",
     "exception": false,
     "start_time": "2024-07-19T09:02:00.130490",
     "status": "completed"
    },
    "tags": []
   },
   "outputs": [],
   "source": [
    " # sns.boxplot(x=df_upsampled['Vintage'])"
   ]
  },
  {
   "cell_type": "code",
   "execution_count": 34,
   "id": "e2a12039",
   "metadata": {
    "execution": {
     "iopub.execute_input": "2024-07-19T09:02:00.209114Z",
     "iopub.status.busy": "2024-07-19T09:02:00.208684Z",
     "iopub.status.idle": "2024-07-19T09:02:00.216271Z",
     "shell.execute_reply": "2024-07-19T09:02:00.214917Z"
    },
    "papermill": {
     "duration": 0.033934,
     "end_time": "2024-07-19T09:02:00.218993",
     "exception": false,
     "start_time": "2024-07-19T09:02:00.185059",
     "status": "completed"
    },
    "tags": []
   },
   "outputs": [
    {
     "data": {
      "text/plain": [
       "(20179478, 11)"
      ]
     },
     "execution_count": 34,
     "metadata": {},
     "output_type": "execute_result"
    }
   ],
   "source": [
    "df_upsampled.shape"
   ]
  },
  {
   "cell_type": "code",
   "execution_count": 35,
   "id": "46c5e7c6",
   "metadata": {
    "execution": {
     "iopub.execute_input": "2024-07-19T09:02:00.267776Z",
     "iopub.status.busy": "2024-07-19T09:02:00.267319Z",
     "iopub.status.idle": "2024-07-19T09:02:00.273002Z",
     "shell.execute_reply": "2024-07-19T09:02:00.271776Z"
    },
    "papermill": {
     "duration": 0.031768,
     "end_time": "2024-07-19T09:02:00.275494",
     "exception": false,
     "start_time": "2024-07-19T09:02:00.243726",
     "status": "completed"
    },
    "tags": []
   },
   "outputs": [],
   "source": [
    "# Remove The outliers using z-Score Method"
   ]
  },
  {
   "cell_type": "code",
   "execution_count": 36,
   "id": "116dd7f5",
   "metadata": {
    "execution": {
     "iopub.execute_input": "2024-07-19T09:02:00.321755Z",
     "iopub.status.busy": "2024-07-19T09:02:00.321299Z",
     "iopub.status.idle": "2024-07-19T09:02:06.137316Z",
     "shell.execute_reply": "2024-07-19T09:02:06.135336Z"
    },
    "papermill": {
     "duration": 5.842713,
     "end_time": "2024-07-19T09:02:06.140416",
     "exception": false,
     "start_time": "2024-07-19T09:02:00.297703",
     "status": "completed"
    },
    "tags": []
   },
   "outputs": [
    {
     "data": {
      "text/plain": [
       "(20125233, 11)"
      ]
     },
     "execution_count": 36,
     "metadata": {},
     "output_type": "execute_result"
    }
   ],
   "source": [
    "import scipy.stats as stats\n",
    "z=np.abs(stats.zscore(df_upsampled))\n",
    "data_clean = df_upsampled[(z<3).all(axis=1)]\n",
    "\n",
    "data_clean.shape"
   ]
  },
  {
   "cell_type": "markdown",
   "id": "06cb4b72",
   "metadata": {
    "papermill": {
     "duration": 0.023538,
     "end_time": "2024-07-19T09:02:06.186923",
     "exception": false,
     "start_time": "2024-07-19T09:02:06.163385",
     "status": "completed"
    },
    "tags": []
   },
   "source": [
    "# Heatmap Corellation"
   ]
  },
  {
   "cell_type": "code",
   "execution_count": 37,
   "id": "fb1ab15b",
   "metadata": {
    "execution": {
     "iopub.execute_input": "2024-07-19T09:02:06.234283Z",
     "iopub.status.busy": "2024-07-19T09:02:06.233423Z",
     "iopub.status.idle": "2024-07-19T09:02:06.239057Z",
     "shell.execute_reply": "2024-07-19T09:02:06.237745Z"
    },
    "papermill": {
     "duration": 0.032188,
     "end_time": "2024-07-19T09:02:06.241748",
     "exception": false,
     "start_time": "2024-07-19T09:02:06.209560",
     "status": "completed"
    },
    "tags": []
   },
   "outputs": [],
   "source": [
    "# sns.heatmap(data_clean, annot=True, fmt='.2g', cmap='coolwarm')"
   ]
  },
  {
   "cell_type": "code",
   "execution_count": 38,
   "id": "ac1e2b96",
   "metadata": {
    "execution": {
     "iopub.execute_input": "2024-07-19T09:02:06.292274Z",
     "iopub.status.busy": "2024-07-19T09:02:06.291782Z",
     "iopub.status.idle": "2024-07-19T09:02:06.989937Z",
     "shell.execute_reply": "2024-07-19T09:02:06.988589Z"
    },
    "papermill": {
     "duration": 0.72719,
     "end_time": "2024-07-19T09:02:06.992680",
     "exception": false,
     "start_time": "2024-07-19T09:02:06.265490",
     "status": "completed"
    },
    "tags": []
   },
   "outputs": [
    {
     "name": "stderr",
     "output_type": "stream",
     "text": [
      "/tmp/ipykernel_18/3443047114.py:2: SettingWithCopyWarning: \n",
      "A value is trying to be set on a copy of a slice from a DataFrame\n",
      "\n",
      "See the caveats in the documentation: https://pandas.pydata.org/pandas-docs/stable/user_guide/indexing.html#returning-a-view-versus-a-copy\n",
      "  data_clean.drop('Driving_License', axis=1, inplace= True)\n"
     ]
    }
   ],
   "source": [
    "# removing driving Licence because it doesnt have any corelation with response\n",
    "data_clean.drop('Driving_License', axis=1, inplace= True)"
   ]
  },
  {
   "cell_type": "code",
   "execution_count": 39,
   "id": "3e988445",
   "metadata": {
    "execution": {
     "iopub.execute_input": "2024-07-19T09:02:07.040877Z",
     "iopub.status.busy": "2024-07-19T09:02:07.040414Z",
     "iopub.status.idle": "2024-07-19T09:02:07.059432Z",
     "shell.execute_reply": "2024-07-19T09:02:07.058135Z"
    },
    "papermill": {
     "duration": 0.046235,
     "end_time": "2024-07-19T09:02:07.062153",
     "exception": false,
     "start_time": "2024-07-19T09:02:07.015918",
     "status": "completed"
    },
    "tags": []
   },
   "outputs": [
    {
     "data": {
      "text/html": [
       "<div>\n",
       "<style scoped>\n",
       "    .dataframe tbody tr th:only-of-type {\n",
       "        vertical-align: middle;\n",
       "    }\n",
       "\n",
       "    .dataframe tbody tr th {\n",
       "        vertical-align: top;\n",
       "    }\n",
       "\n",
       "    .dataframe thead th {\n",
       "        text-align: right;\n",
       "    }\n",
       "</style>\n",
       "<table border=\"1\" class=\"dataframe\">\n",
       "  <thead>\n",
       "    <tr style=\"text-align: right;\">\n",
       "      <th></th>\n",
       "      <th>Gender</th>\n",
       "      <th>Age</th>\n",
       "      <th>Region_Code</th>\n",
       "      <th>Previously_Insured</th>\n",
       "      <th>Vehicle_Age</th>\n",
       "      <th>Vehicle_Damage</th>\n",
       "      <th>Annual_Premium</th>\n",
       "      <th>Policy_Sales_Channel</th>\n",
       "      <th>Vintage</th>\n",
       "      <th>Response</th>\n",
       "    </tr>\n",
       "  </thead>\n",
       "  <tbody>\n",
       "    <tr>\n",
       "      <th>2491338</th>\n",
       "      <td>0</td>\n",
       "      <td>38</td>\n",
       "      <td>46.0</td>\n",
       "      <td>0</td>\n",
       "      <td>0</td>\n",
       "      <td>1</td>\n",
       "      <td>29679.0</td>\n",
       "      <td>26.0</td>\n",
       "      <td>11</td>\n",
       "      <td>1</td>\n",
       "    </tr>\n",
       "    <tr>\n",
       "      <th>962117</th>\n",
       "      <td>1</td>\n",
       "      <td>48</td>\n",
       "      <td>28.0</td>\n",
       "      <td>0</td>\n",
       "      <td>0</td>\n",
       "      <td>1</td>\n",
       "      <td>49092.0</td>\n",
       "      <td>124.0</td>\n",
       "      <td>182</td>\n",
       "      <td>1</td>\n",
       "    </tr>\n",
       "    <tr>\n",
       "      <th>7831406</th>\n",
       "      <td>0</td>\n",
       "      <td>20</td>\n",
       "      <td>50.0</td>\n",
       "      <td>0</td>\n",
       "      <td>1</td>\n",
       "      <td>1</td>\n",
       "      <td>34187.0</td>\n",
       "      <td>160.0</td>\n",
       "      <td>92</td>\n",
       "      <td>1</td>\n",
       "    </tr>\n",
       "    <tr>\n",
       "      <th>1242312</th>\n",
       "      <td>1</td>\n",
       "      <td>58</td>\n",
       "      <td>8.0</td>\n",
       "      <td>0</td>\n",
       "      <td>0</td>\n",
       "      <td>1</td>\n",
       "      <td>2630.0</td>\n",
       "      <td>30.0</td>\n",
       "      <td>212</td>\n",
       "      <td>1</td>\n",
       "    </tr>\n",
       "    <tr>\n",
       "      <th>2929171</th>\n",
       "      <td>1</td>\n",
       "      <td>50</td>\n",
       "      <td>18.0</td>\n",
       "      <td>0</td>\n",
       "      <td>0</td>\n",
       "      <td>1</td>\n",
       "      <td>37190.0</td>\n",
       "      <td>26.0</td>\n",
       "      <td>208</td>\n",
       "      <td>1</td>\n",
       "    </tr>\n",
       "  </tbody>\n",
       "</table>\n",
       "</div>"
      ],
      "text/plain": [
       "         Gender  Age  Region_Code  Previously_Insured  Vehicle_Age  \\\n",
       "2491338       0   38         46.0                   0            0   \n",
       "962117        1   48         28.0                   0            0   \n",
       "7831406       0   20         50.0                   0            1   \n",
       "1242312       1   58          8.0                   0            0   \n",
       "2929171       1   50         18.0                   0            0   \n",
       "\n",
       "         Vehicle_Damage  Annual_Premium  Policy_Sales_Channel  Vintage  \\\n",
       "2491338               1         29679.0                  26.0       11   \n",
       "962117                1         49092.0                 124.0      182   \n",
       "7831406               1         34187.0                 160.0       92   \n",
       "1242312               1          2630.0                  30.0      212   \n",
       "2929171               1         37190.0                  26.0      208   \n",
       "\n",
       "         Response  \n",
       "2491338         1  \n",
       "962117          1  \n",
       "7831406         1  \n",
       "1242312         1  \n",
       "2929171         1  "
      ]
     },
     "execution_count": 39,
     "metadata": {},
     "output_type": "execute_result"
    }
   ],
   "source": [
    "data_clean.head()"
   ]
  },
  {
   "cell_type": "markdown",
   "id": "195e7805",
   "metadata": {
    "papermill": {
     "duration": 0.023194,
     "end_time": "2024-07-19T09:02:07.108143",
     "exception": false,
     "start_time": "2024-07-19T09:02:07.084949",
     "status": "completed"
    },
    "tags": []
   },
   "source": [
    "# Preparing Test Data"
   ]
  },
  {
   "cell_type": "code",
   "execution_count": 40,
   "id": "dd350c17",
   "metadata": {
    "execution": {
     "iopub.execute_input": "2024-07-19T09:02:07.156556Z",
     "iopub.status.busy": "2024-07-19T09:02:07.156149Z",
     "iopub.status.idle": "2024-07-19T09:02:07.173916Z",
     "shell.execute_reply": "2024-07-19T09:02:07.172509Z"
    },
    "papermill": {
     "duration": 0.044778,
     "end_time": "2024-07-19T09:02:07.176493",
     "exception": false,
     "start_time": "2024-07-19T09:02:07.131715",
     "status": "completed"
    },
    "tags": []
   },
   "outputs": [
    {
     "data": {
      "text/html": [
       "<div>\n",
       "<style scoped>\n",
       "    .dataframe tbody tr th:only-of-type {\n",
       "        vertical-align: middle;\n",
       "    }\n",
       "\n",
       "    .dataframe tbody tr th {\n",
       "        vertical-align: top;\n",
       "    }\n",
       "\n",
       "    .dataframe thead th {\n",
       "        text-align: right;\n",
       "    }\n",
       "</style>\n",
       "<table border=\"1\" class=\"dataframe\">\n",
       "  <thead>\n",
       "    <tr style=\"text-align: right;\">\n",
       "      <th></th>\n",
       "      <th>id</th>\n",
       "      <th>Gender</th>\n",
       "      <th>Age</th>\n",
       "      <th>Driving_License</th>\n",
       "      <th>Region_Code</th>\n",
       "      <th>Previously_Insured</th>\n",
       "      <th>Vehicle_Age</th>\n",
       "      <th>Vehicle_Damage</th>\n",
       "      <th>Annual_Premium</th>\n",
       "      <th>Policy_Sales_Channel</th>\n",
       "      <th>Vintage</th>\n",
       "    </tr>\n",
       "  </thead>\n",
       "  <tbody>\n",
       "    <tr>\n",
       "      <th>0</th>\n",
       "      <td>11504798</td>\n",
       "      <td>Female</td>\n",
       "      <td>20</td>\n",
       "      <td>1</td>\n",
       "      <td>47.0</td>\n",
       "      <td>0</td>\n",
       "      <td>&lt; 1 Year</td>\n",
       "      <td>No</td>\n",
       "      <td>2630.0</td>\n",
       "      <td>160.0</td>\n",
       "      <td>228</td>\n",
       "    </tr>\n",
       "    <tr>\n",
       "      <th>1</th>\n",
       "      <td>11504799</td>\n",
       "      <td>Male</td>\n",
       "      <td>47</td>\n",
       "      <td>1</td>\n",
       "      <td>28.0</td>\n",
       "      <td>0</td>\n",
       "      <td>1-2 Year</td>\n",
       "      <td>Yes</td>\n",
       "      <td>37483.0</td>\n",
       "      <td>124.0</td>\n",
       "      <td>123</td>\n",
       "    </tr>\n",
       "    <tr>\n",
       "      <th>2</th>\n",
       "      <td>11504800</td>\n",
       "      <td>Male</td>\n",
       "      <td>47</td>\n",
       "      <td>1</td>\n",
       "      <td>43.0</td>\n",
       "      <td>0</td>\n",
       "      <td>1-2 Year</td>\n",
       "      <td>Yes</td>\n",
       "      <td>2630.0</td>\n",
       "      <td>26.0</td>\n",
       "      <td>271</td>\n",
       "    </tr>\n",
       "    <tr>\n",
       "      <th>3</th>\n",
       "      <td>11504801</td>\n",
       "      <td>Female</td>\n",
       "      <td>22</td>\n",
       "      <td>1</td>\n",
       "      <td>47.0</td>\n",
       "      <td>1</td>\n",
       "      <td>&lt; 1 Year</td>\n",
       "      <td>No</td>\n",
       "      <td>24502.0</td>\n",
       "      <td>152.0</td>\n",
       "      <td>115</td>\n",
       "    </tr>\n",
       "    <tr>\n",
       "      <th>4</th>\n",
       "      <td>11504802</td>\n",
       "      <td>Male</td>\n",
       "      <td>51</td>\n",
       "      <td>1</td>\n",
       "      <td>19.0</td>\n",
       "      <td>0</td>\n",
       "      <td>1-2 Year</td>\n",
       "      <td>No</td>\n",
       "      <td>34115.0</td>\n",
       "      <td>124.0</td>\n",
       "      <td>148</td>\n",
       "    </tr>\n",
       "  </tbody>\n",
       "</table>\n",
       "</div>"
      ],
      "text/plain": [
       "         id  Gender  Age  Driving_License  Region_Code  Previously_Insured  \\\n",
       "0  11504798  Female   20                1         47.0                   0   \n",
       "1  11504799    Male   47                1         28.0                   0   \n",
       "2  11504800    Male   47                1         43.0                   0   \n",
       "3  11504801  Female   22                1         47.0                   1   \n",
       "4  11504802    Male   51                1         19.0                   0   \n",
       "\n",
       "  Vehicle_Age Vehicle_Damage  Annual_Premium  Policy_Sales_Channel  Vintage  \n",
       "0    < 1 Year             No          2630.0                 160.0      228  \n",
       "1    1-2 Year            Yes         37483.0                 124.0      123  \n",
       "2    1-2 Year            Yes          2630.0                  26.0      271  \n",
       "3    < 1 Year             No         24502.0                 152.0      115  \n",
       "4    1-2 Year             No         34115.0                 124.0      148  "
      ]
     },
     "execution_count": 40,
     "metadata": {},
     "output_type": "execute_result"
    }
   ],
   "source": [
    "data_test.head()"
   ]
  },
  {
   "cell_type": "code",
   "execution_count": 41,
   "id": "d734fa36",
   "metadata": {
    "execution": {
     "iopub.execute_input": "2024-07-19T09:02:07.225061Z",
     "iopub.status.busy": "2024-07-19T09:02:07.224593Z",
     "iopub.status.idle": "2024-07-19T09:02:09.755785Z",
     "shell.execute_reply": "2024-07-19T09:02:09.754539Z"
    },
    "papermill": {
     "duration": 2.558292,
     "end_time": "2024-07-19T09:02:09.758399",
     "exception": false,
     "start_time": "2024-07-19T09:02:07.200107",
     "status": "completed"
    },
    "tags": []
   },
   "outputs": [
    {
     "data": {
      "text/plain": [
       "id                      0\n",
       "Gender                  0\n",
       "Age                     0\n",
       "Driving_License         0\n",
       "Region_Code             0\n",
       "Previously_Insured      0\n",
       "Vehicle_Age             0\n",
       "Vehicle_Damage          0\n",
       "Annual_Premium          0\n",
       "Policy_Sales_Channel    0\n",
       "Vintage                 0\n",
       "dtype: int64"
      ]
     },
     "execution_count": 41,
     "metadata": {},
     "output_type": "execute_result"
    }
   ],
   "source": [
    "data_test.isnull().sum()"
   ]
  },
  {
   "cell_type": "code",
   "execution_count": null,
   "id": "e626d03b",
   "metadata": {
    "papermill": {
     "duration": 0.022854,
     "end_time": "2024-07-19T09:02:09.804494",
     "exception": false,
     "start_time": "2024-07-19T09:02:09.781640",
     "status": "completed"
    },
    "tags": []
   },
   "outputs": [],
   "source": []
  },
  {
   "cell_type": "code",
   "execution_count": 42,
   "id": "2a50c9b3",
   "metadata": {
    "execution": {
     "iopub.execute_input": "2024-07-19T09:02:09.852464Z",
     "iopub.status.busy": "2024-07-19T09:02:09.852033Z",
     "iopub.status.idle": "2024-07-19T09:02:10.255089Z",
     "shell.execute_reply": "2024-07-19T09:02:10.253887Z"
    },
    "papermill": {
     "duration": 0.430318,
     "end_time": "2024-07-19T09:02:10.257809",
     "exception": false,
     "start_time": "2024-07-19T09:02:09.827491",
     "status": "completed"
    },
    "tags": []
   },
   "outputs": [
    {
     "data": {
      "text/html": [
       "<div>\n",
       "<style scoped>\n",
       "    .dataframe tbody tr th:only-of-type {\n",
       "        vertical-align: middle;\n",
       "    }\n",
       "\n",
       "    .dataframe tbody tr th {\n",
       "        vertical-align: top;\n",
       "    }\n",
       "\n",
       "    .dataframe thead th {\n",
       "        text-align: right;\n",
       "    }\n",
       "</style>\n",
       "<table border=\"1\" class=\"dataframe\">\n",
       "  <thead>\n",
       "    <tr style=\"text-align: right;\">\n",
       "      <th></th>\n",
       "      <th>Gender</th>\n",
       "      <th>Age</th>\n",
       "      <th>Region_Code</th>\n",
       "      <th>Previously_Insured</th>\n",
       "      <th>Vehicle_Age</th>\n",
       "      <th>Vehicle_Damage</th>\n",
       "      <th>Annual_Premium</th>\n",
       "      <th>Policy_Sales_Channel</th>\n",
       "      <th>Vintage</th>\n",
       "    </tr>\n",
       "  </thead>\n",
       "  <tbody>\n",
       "    <tr>\n",
       "      <th>0</th>\n",
       "      <td>Female</td>\n",
       "      <td>20</td>\n",
       "      <td>47.0</td>\n",
       "      <td>0</td>\n",
       "      <td>&lt; 1 Year</td>\n",
       "      <td>No</td>\n",
       "      <td>2630.0</td>\n",
       "      <td>160.0</td>\n",
       "      <td>228</td>\n",
       "    </tr>\n",
       "    <tr>\n",
       "      <th>1</th>\n",
       "      <td>Male</td>\n",
       "      <td>47</td>\n",
       "      <td>28.0</td>\n",
       "      <td>0</td>\n",
       "      <td>1-2 Year</td>\n",
       "      <td>Yes</td>\n",
       "      <td>37483.0</td>\n",
       "      <td>124.0</td>\n",
       "      <td>123</td>\n",
       "    </tr>\n",
       "    <tr>\n",
       "      <th>2</th>\n",
       "      <td>Male</td>\n",
       "      <td>47</td>\n",
       "      <td>43.0</td>\n",
       "      <td>0</td>\n",
       "      <td>1-2 Year</td>\n",
       "      <td>Yes</td>\n",
       "      <td>2630.0</td>\n",
       "      <td>26.0</td>\n",
       "      <td>271</td>\n",
       "    </tr>\n",
       "    <tr>\n",
       "      <th>3</th>\n",
       "      <td>Female</td>\n",
       "      <td>22</td>\n",
       "      <td>47.0</td>\n",
       "      <td>1</td>\n",
       "      <td>&lt; 1 Year</td>\n",
       "      <td>No</td>\n",
       "      <td>24502.0</td>\n",
       "      <td>152.0</td>\n",
       "      <td>115</td>\n",
       "    </tr>\n",
       "    <tr>\n",
       "      <th>4</th>\n",
       "      <td>Male</td>\n",
       "      <td>51</td>\n",
       "      <td>19.0</td>\n",
       "      <td>0</td>\n",
       "      <td>1-2 Year</td>\n",
       "      <td>No</td>\n",
       "      <td>34115.0</td>\n",
       "      <td>124.0</td>\n",
       "      <td>148</td>\n",
       "    </tr>\n",
       "  </tbody>\n",
       "</table>\n",
       "</div>"
      ],
      "text/plain": [
       "   Gender  Age  Region_Code  Previously_Insured Vehicle_Age Vehicle_Damage  \\\n",
       "0  Female   20         47.0                   0    < 1 Year             No   \n",
       "1    Male   47         28.0                   0    1-2 Year            Yes   \n",
       "2    Male   47         43.0                   0    1-2 Year            Yes   \n",
       "3  Female   22         47.0                   1    < 1 Year             No   \n",
       "4    Male   51         19.0                   0    1-2 Year             No   \n",
       "\n",
       "   Annual_Premium  Policy_Sales_Channel  Vintage  \n",
       "0          2630.0                 160.0      228  \n",
       "1         37483.0                 124.0      123  \n",
       "2          2630.0                  26.0      271  \n",
       "3         24502.0                 152.0      115  \n",
       "4         34115.0                 124.0      148  "
      ]
     },
     "execution_count": 42,
     "metadata": {},
     "output_type": "execute_result"
    }
   ],
   "source": [
    "x_test= data_test.drop(['id','Driving_License'], axis=1)\n",
    "x_test.head()"
   ]
  },
  {
   "cell_type": "code",
   "execution_count": 43,
   "id": "ccc93969",
   "metadata": {
    "execution": {
     "iopub.execute_input": "2024-07-19T09:02:10.309746Z",
     "iopub.status.busy": "2024-07-19T09:02:10.309262Z",
     "iopub.status.idle": "2024-07-19T09:02:17.437117Z",
     "shell.execute_reply": "2024-07-19T09:02:17.435926Z"
    },
    "papermill": {
     "duration": 7.157764,
     "end_time": "2024-07-19T09:02:17.440114",
     "exception": false,
     "start_time": "2024-07-19T09:02:10.282350",
     "status": "completed"
    },
    "tags": []
   },
   "outputs": [
    {
     "data": {
      "text/plain": [
       "array([0, 1])"
      ]
     },
     "execution_count": 43,
     "metadata": {},
     "output_type": "execute_result"
    }
   ],
   "source": [
    "x_test['Gender']=label_encoder.fit_transform(x_test['Gender'])\n",
    "x_test['Gender'].unique()\n",
    "\n",
    "x_test['Vehicle_Age']=label_encoder.fit_transform(x_test['Vehicle_Age'])\n",
    "x_test['Vehicle_Age'].unique()\n",
    "\n",
    "x_test['Vehicle_Damage']=label_encoder.fit_transform(x_test['Vehicle_Damage'])\n",
    "x_test['Gender'].unique()"
   ]
  },
  {
   "cell_type": "code",
   "execution_count": 44,
   "id": "291ea363",
   "metadata": {
    "execution": {
     "iopub.execute_input": "2024-07-19T09:02:17.491335Z",
     "iopub.status.busy": "2024-07-19T09:02:17.490896Z",
     "iopub.status.idle": "2024-07-19T09:02:17.498503Z",
     "shell.execute_reply": "2024-07-19T09:02:17.497129Z"
    },
    "papermill": {
     "duration": 0.035682,
     "end_time": "2024-07-19T09:02:17.501179",
     "exception": false,
     "start_time": "2024-07-19T09:02:17.465497",
     "status": "completed"
    },
    "tags": []
   },
   "outputs": [
    {
     "data": {
      "text/plain": [
       "(7669866, 9)"
      ]
     },
     "execution_count": 44,
     "metadata": {},
     "output_type": "execute_result"
    }
   ],
   "source": [
    "x_test.shape"
   ]
  },
  {
   "cell_type": "code",
   "execution_count": 45,
   "id": "b42a8777",
   "metadata": {
    "execution": {
     "iopub.execute_input": "2024-07-19T09:02:17.553385Z",
     "iopub.status.busy": "2024-07-19T09:02:17.552982Z",
     "iopub.status.idle": "2024-07-19T09:02:17.568451Z",
     "shell.execute_reply": "2024-07-19T09:02:17.567089Z"
    },
    "papermill": {
     "duration": 0.045045,
     "end_time": "2024-07-19T09:02:17.571130",
     "exception": false,
     "start_time": "2024-07-19T09:02:17.526085",
     "status": "completed"
    },
    "tags": []
   },
   "outputs": [
    {
     "name": "stdout",
     "output_type": "stream",
     "text": [
      "<class 'pandas.core.frame.DataFrame'>\n",
      "RangeIndex: 7669866 entries, 0 to 7669865\n",
      "Data columns (total 9 columns):\n",
      " #   Column                Dtype  \n",
      "---  ------                -----  \n",
      " 0   Gender                int64  \n",
      " 1   Age                   int64  \n",
      " 2   Region_Code           float64\n",
      " 3   Previously_Insured    int64  \n",
      " 4   Vehicle_Age           int64  \n",
      " 5   Vehicle_Damage        int64  \n",
      " 6   Annual_Premium        float64\n",
      " 7   Policy_Sales_Channel  float64\n",
      " 8   Vintage               int64  \n",
      "dtypes: float64(3), int64(6)\n",
      "memory usage: 526.6 MB\n"
     ]
    }
   ],
   "source": [
    "x_test.info()"
   ]
  },
  {
   "cell_type": "markdown",
   "id": "5d5606be",
   "metadata": {
    "papermill": {
     "duration": 0.026036,
     "end_time": "2024-07-19T09:02:17.621538",
     "exception": false,
     "start_time": "2024-07-19T09:02:17.595502",
     "status": "completed"
    },
    "tags": []
   },
   "source": [
    "# Applying ML Model"
   ]
  },
  {
   "cell_type": "code",
   "execution_count": 46,
   "id": "9942619a",
   "metadata": {
    "execution": {
     "iopub.execute_input": "2024-07-19T09:02:17.672813Z",
     "iopub.status.busy": "2024-07-19T09:02:17.672363Z",
     "iopub.status.idle": "2024-07-19T09:02:18.432372Z",
     "shell.execute_reply": "2024-07-19T09:02:18.431081Z"
    },
    "papermill": {
     "duration": 0.789346,
     "end_time": "2024-07-19T09:02:18.435468",
     "exception": false,
     "start_time": "2024-07-19T09:02:17.646122",
     "status": "completed"
    },
    "tags": []
   },
   "outputs": [],
   "source": [
    "X = data_clean.drop('Response', axis=1)\n",
    "Y= data_clean['Response']"
   ]
  },
  {
   "cell_type": "code",
   "execution_count": 47,
   "id": "f9774dcd",
   "metadata": {
    "execution": {
     "iopub.execute_input": "2024-07-19T09:02:18.486529Z",
     "iopub.status.busy": "2024-07-19T09:02:18.486115Z",
     "iopub.status.idle": "2024-07-19T09:02:18.608583Z",
     "shell.execute_reply": "2024-07-19T09:02:18.607149Z"
    },
    "papermill": {
     "duration": 0.152508,
     "end_time": "2024-07-19T09:02:18.611840",
     "exception": false,
     "start_time": "2024-07-19T09:02:18.459332",
     "status": "completed"
    },
    "tags": []
   },
   "outputs": [],
   "source": [
    "from sklearn.metrics import accuracy_score"
   ]
  },
  {
   "cell_type": "markdown",
   "id": "9df17855",
   "metadata": {
    "papermill": {
     "duration": 0.024009,
     "end_time": "2024-07-19T09:02:18.660256",
     "exception": false,
     "start_time": "2024-07-19T09:02:18.636247",
     "status": "completed"
    },
    "tags": []
   },
   "source": [
    "# Logistic Regression"
   ]
  },
  {
   "cell_type": "code",
   "execution_count": 48,
   "id": "9abd00da",
   "metadata": {
    "execution": {
     "iopub.execute_input": "2024-07-19T09:02:18.711423Z",
     "iopub.status.busy": "2024-07-19T09:02:18.710889Z",
     "iopub.status.idle": "2024-07-19T09:05:06.031338Z",
     "shell.execute_reply": "2024-07-19T09:05:06.029600Z"
    },
    "papermill": {
     "duration": 167.408434,
     "end_time": "2024-07-19T09:05:06.093312",
     "exception": false,
     "start_time": "2024-07-19T09:02:18.684878",
     "status": "completed"
    },
    "tags": []
   },
   "outputs": [
    {
     "name": "stderr",
     "output_type": "stream",
     "text": [
      "/opt/conda/lib/python3.10/site-packages/sklearn/linear_model/_logistic.py:458: ConvergenceWarning: lbfgs failed to converge (status=1):\n",
      "STOP: TOTAL NO. of ITERATIONS REACHED LIMIT.\n",
      "\n",
      "Increase the number of iterations (max_iter) or scale the data as shown in:\n",
      "    https://scikit-learn.org/stable/modules/preprocessing.html\n",
      "Please also refer to the documentation for alternative solver options:\n",
      "    https://scikit-learn.org/stable/modules/linear_model.html#logistic-regression\n",
      "  n_iter_i = _check_optimize_result(\n"
     ]
    },
    {
     "data": {
      "text/html": [
       "<style>#sk-container-id-1 {color: black;background-color: white;}#sk-container-id-1 pre{padding: 0;}#sk-container-id-1 div.sk-toggleable {background-color: white;}#sk-container-id-1 label.sk-toggleable__label {cursor: pointer;display: block;width: 100%;margin-bottom: 0;padding: 0.3em;box-sizing: border-box;text-align: center;}#sk-container-id-1 label.sk-toggleable__label-arrow:before {content: \"▸\";float: left;margin-right: 0.25em;color: #696969;}#sk-container-id-1 label.sk-toggleable__label-arrow:hover:before {color: black;}#sk-container-id-1 div.sk-estimator:hover label.sk-toggleable__label-arrow:before {color: black;}#sk-container-id-1 div.sk-toggleable__content {max-height: 0;max-width: 0;overflow: hidden;text-align: left;background-color: #f0f8ff;}#sk-container-id-1 div.sk-toggleable__content pre {margin: 0.2em;color: black;border-radius: 0.25em;background-color: #f0f8ff;}#sk-container-id-1 input.sk-toggleable__control:checked~div.sk-toggleable__content {max-height: 200px;max-width: 100%;overflow: auto;}#sk-container-id-1 input.sk-toggleable__control:checked~label.sk-toggleable__label-arrow:before {content: \"▾\";}#sk-container-id-1 div.sk-estimator input.sk-toggleable__control:checked~label.sk-toggleable__label {background-color: #d4ebff;}#sk-container-id-1 div.sk-label input.sk-toggleable__control:checked~label.sk-toggleable__label {background-color: #d4ebff;}#sk-container-id-1 input.sk-hidden--visually {border: 0;clip: rect(1px 1px 1px 1px);clip: rect(1px, 1px, 1px, 1px);height: 1px;margin: -1px;overflow: hidden;padding: 0;position: absolute;width: 1px;}#sk-container-id-1 div.sk-estimator {font-family: monospace;background-color: #f0f8ff;border: 1px dotted black;border-radius: 0.25em;box-sizing: border-box;margin-bottom: 0.5em;}#sk-container-id-1 div.sk-estimator:hover {background-color: #d4ebff;}#sk-container-id-1 div.sk-parallel-item::after {content: \"\";width: 100%;border-bottom: 1px solid gray;flex-grow: 1;}#sk-container-id-1 div.sk-label:hover label.sk-toggleable__label {background-color: #d4ebff;}#sk-container-id-1 div.sk-serial::before {content: \"\";position: absolute;border-left: 1px solid gray;box-sizing: border-box;top: 0;bottom: 0;left: 50%;z-index: 0;}#sk-container-id-1 div.sk-serial {display: flex;flex-direction: column;align-items: center;background-color: white;padding-right: 0.2em;padding-left: 0.2em;position: relative;}#sk-container-id-1 div.sk-item {position: relative;z-index: 1;}#sk-container-id-1 div.sk-parallel {display: flex;align-items: stretch;justify-content: center;background-color: white;position: relative;}#sk-container-id-1 div.sk-item::before, #sk-container-id-1 div.sk-parallel-item::before {content: \"\";position: absolute;border-left: 1px solid gray;box-sizing: border-box;top: 0;bottom: 0;left: 50%;z-index: -1;}#sk-container-id-1 div.sk-parallel-item {display: flex;flex-direction: column;z-index: 1;position: relative;background-color: white;}#sk-container-id-1 div.sk-parallel-item:first-child::after {align-self: flex-end;width: 50%;}#sk-container-id-1 div.sk-parallel-item:last-child::after {align-self: flex-start;width: 50%;}#sk-container-id-1 div.sk-parallel-item:only-child::after {width: 0;}#sk-container-id-1 div.sk-dashed-wrapped {border: 1px dashed gray;margin: 0 0.4em 0.5em 0.4em;box-sizing: border-box;padding-bottom: 0.4em;background-color: white;}#sk-container-id-1 div.sk-label label {font-family: monospace;font-weight: bold;display: inline-block;line-height: 1.2em;}#sk-container-id-1 div.sk-label-container {text-align: center;}#sk-container-id-1 div.sk-container {/* jupyter's `normalize.less` sets `[hidden] { display: none; }` but bootstrap.min.css set `[hidden] { display: none !important; }` so we also need the `!important` here to be able to override the default hidden behavior on the sphinx rendered scikit-learn.org. See: https://github.com/scikit-learn/scikit-learn/issues/21755 */display: inline-block !important;position: relative;}#sk-container-id-1 div.sk-text-repr-fallback {display: none;}</style><div id=\"sk-container-id-1\" class=\"sk-top-container\"><div class=\"sk-text-repr-fallback\"><pre>LogisticRegression(random_state=0)</pre><b>In a Jupyter environment, please rerun this cell to show the HTML representation or trust the notebook. <br />On GitHub, the HTML representation is unable to render, please try loading this page with nbviewer.org.</b></div><div class=\"sk-container\" hidden><div class=\"sk-item\"><div class=\"sk-estimator sk-toggleable\"><input class=\"sk-toggleable__control sk-hidden--visually\" id=\"sk-estimator-id-1\" type=\"checkbox\" checked><label for=\"sk-estimator-id-1\" class=\"sk-toggleable__label sk-toggleable__label-arrow\">LogisticRegression</label><div class=\"sk-toggleable__content\"><pre>LogisticRegression(random_state=0)</pre></div></div></div></div></div>"
      ],
      "text/plain": [
       "LogisticRegression(random_state=0)"
      ]
     },
     "execution_count": 48,
     "metadata": {},
     "output_type": "execute_result"
    }
   ],
   "source": [
    "from sklearn.linear_model import LogisticRegression\n",
    "\n",
    "LR = LogisticRegression(random_state=0)\n",
    "LR.fit(X,Y)"
   ]
  },
  {
   "cell_type": "code",
   "execution_count": 49,
   "id": "f2d22af7",
   "metadata": {
    "execution": {
     "iopub.execute_input": "2024-07-19T09:05:06.153369Z",
     "iopub.status.busy": "2024-07-19T09:05:06.152924Z",
     "iopub.status.idle": "2024-07-19T09:05:06.546683Z",
     "shell.execute_reply": "2024-07-19T09:05:06.544987Z"
    },
    "papermill": {
     "duration": 0.423481,
     "end_time": "2024-07-19T09:05:06.550659",
     "exception": false,
     "start_time": "2024-07-19T09:05:06.127178",
     "status": "completed"
    },
    "tags": []
   },
   "outputs": [],
   "source": [
    "y_pred=LR.predict(x_test)"
   ]
  },
  {
   "cell_type": "code",
   "execution_count": 50,
   "id": "092c4422",
   "metadata": {
    "execution": {
     "iopub.execute_input": "2024-07-19T09:05:06.601967Z",
     "iopub.status.busy": "2024-07-19T09:05:06.601522Z",
     "iopub.status.idle": "2024-07-19T09:05:06.703871Z",
     "shell.execute_reply": "2024-07-19T09:05:06.702720Z"
    },
    "papermill": {
     "duration": 0.130818,
     "end_time": "2024-07-19T09:05:06.706573",
     "exception": false,
     "start_time": "2024-07-19T09:05:06.575755",
     "status": "completed"
    },
    "tags": []
   },
   "outputs": [
    {
     "data": {
      "text/html": [
       "<div>\n",
       "<style scoped>\n",
       "    .dataframe tbody tr th:only-of-type {\n",
       "        vertical-align: middle;\n",
       "    }\n",
       "\n",
       "    .dataframe tbody tr th {\n",
       "        vertical-align: top;\n",
       "    }\n",
       "\n",
       "    .dataframe thead th {\n",
       "        text-align: right;\n",
       "    }\n",
       "</style>\n",
       "<table border=\"1\" class=\"dataframe\">\n",
       "  <thead>\n",
       "    <tr style=\"text-align: right;\">\n",
       "      <th></th>\n",
       "      <th>id</th>\n",
       "      <th>Response</th>\n",
       "    </tr>\n",
       "  </thead>\n",
       "  <tbody>\n",
       "    <tr>\n",
       "      <th>0</th>\n",
       "      <td>11504798</td>\n",
       "      <td>0</td>\n",
       "    </tr>\n",
       "    <tr>\n",
       "      <th>1</th>\n",
       "      <td>11504799</td>\n",
       "      <td>1</td>\n",
       "    </tr>\n",
       "    <tr>\n",
       "      <th>2</th>\n",
       "      <td>11504800</td>\n",
       "      <td>1</td>\n",
       "    </tr>\n",
       "    <tr>\n",
       "      <th>3</th>\n",
       "      <td>11504801</td>\n",
       "      <td>0</td>\n",
       "    </tr>\n",
       "    <tr>\n",
       "      <th>4</th>\n",
       "      <td>11504802</td>\n",
       "      <td>0</td>\n",
       "    </tr>\n",
       "  </tbody>\n",
       "</table>\n",
       "</div>"
      ],
      "text/plain": [
       "         id  Response\n",
       "0  11504798         0\n",
       "1  11504799         1\n",
       "2  11504800         1\n",
       "3  11504801         0\n",
       "4  11504802         0"
      ]
     },
     "execution_count": 50,
     "metadata": {},
     "output_type": "execute_result"
    }
   ],
   "source": [
    "submission = pd.DataFrame({'id':data_test['id'], 'Response':y_pred})\n",
    "submission = submission[['id','Response']]\n",
    "submission.head()"
   ]
  },
  {
   "cell_type": "code",
   "execution_count": 51,
   "id": "e0a41024",
   "metadata": {
    "execution": {
     "iopub.execute_input": "2024-07-19T09:05:06.758643Z",
     "iopub.status.busy": "2024-07-19T09:05:06.758262Z",
     "iopub.status.idle": "2024-07-19T09:05:18.966462Z",
     "shell.execute_reply": "2024-07-19T09:05:18.964823Z"
    },
    "papermill": {
     "duration": 12.23745,
     "end_time": "2024-07-19T09:05:18.969698",
     "exception": false,
     "start_time": "2024-07-19T09:05:06.732248",
     "status": "completed"
    },
    "tags": []
   },
   "outputs": [],
   "source": [
    "submission.to_csv('/kaggle/working/submission.csv', index=False)"
   ]
  },
  {
   "cell_type": "code",
   "execution_count": null,
   "id": "b4d702f2",
   "metadata": {
    "papermill": {
     "duration": 0.033222,
     "end_time": "2024-07-19T09:05:19.033739",
     "exception": false,
     "start_time": "2024-07-19T09:05:19.000517",
     "status": "completed"
    },
    "tags": []
   },
   "outputs": [],
   "source": []
  }
 ],
 "metadata": {
  "kaggle": {
   "accelerator": "none",
   "dataSources": [
    {
     "databundleVersionId": 8930475,
     "sourceId": 73291,
     "sourceType": "competition"
    }
   ],
   "dockerImageVersionId": 30746,
   "isGpuEnabled": false,
   "isInternetEnabled": false,
   "language": "python",
   "sourceType": "notebook"
  },
  "kernelspec": {
   "display_name": "Python 3",
   "language": "python",
   "name": "python3"
  },
  "language_info": {
   "codemirror_mode": {
    "name": "ipython",
    "version": 3
   },
   "file_extension": ".py",
   "mimetype": "text/x-python",
   "name": "python",
   "nbconvert_exporter": "python",
   "pygments_lexer": "ipython3",
   "version": "3.10.13"
  },
  "papermill": {
   "default_parameters": {},
   "duration": 280.76354,
   "end_time": "2024-07-19T09:05:20.718470",
   "environment_variables": {},
   "exception": null,
   "input_path": "__notebook__.ipynb",
   "output_path": "__notebook__.ipynb",
   "parameters": {},
   "start_time": "2024-07-19T09:00:39.954930",
   "version": "2.5.0"
  }
 },
 "nbformat": 4,
 "nbformat_minor": 5
}
