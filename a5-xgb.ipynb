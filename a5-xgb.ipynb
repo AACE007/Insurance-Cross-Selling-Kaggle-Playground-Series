{
 "cells": [
  {
   "cell_type": "code",
   "execution_count": 1,
   "id": "5ca9ec1b",
   "metadata": {
    "_cell_guid": "b1076dfc-b9ad-4769-8c92-a6c4dae69d19",
    "_uuid": "8f2839f25d086af736a60e9eeb907d3b93b6e0e5",
    "execution": {
     "iopub.execute_input": "2024-07-31T17:52:01.219201Z",
     "iopub.status.busy": "2024-07-31T17:52:01.218806Z",
     "iopub.status.idle": "2024-07-31T17:52:02.057546Z",
     "shell.execute_reply": "2024-07-31T17:52:02.056471Z"
    },
    "papermill": {
     "duration": 0.862479,
     "end_time": "2024-07-31T17:52:02.060644",
     "exception": false,
     "start_time": "2024-07-31T17:52:01.198165",
     "status": "completed"
    },
    "tags": []
   },
   "outputs": [
    {
     "name": "stdout",
     "output_type": "stream",
     "text": [
      "/kaggle/input/playground-series-s4e7/sample_submission.csv\n",
      "/kaggle/input/playground-series-s4e7/train.csv\n",
      "/kaggle/input/playground-series-s4e7/test.csv\n"
     ]
    }
   ],
   "source": [
    "# This Python 3 environment comes with many helpful analytics libraries installed\n",
    "# It is defined by the kaggle/python Docker image: https://github.com/kaggle/docker-python\n",
    "# For example, here's several helpful packages to load\n",
    "\n",
    "import numpy as np # linear algebra\n",
    "import pandas as pd # data processing, CSV file I/O (e.g. pd.read_csv)\n",
    "\n",
    "# Input data files are available in the read-only \"../input/\" directory\n",
    "# For example, running this (by clicking run or pressing Shift+Enter) will list all files under the input directory\n",
    "\n",
    "import os\n",
    "for dirname, _, filenames in os.walk('/kaggle/input'):\n",
    "    for filename in filenames:\n",
    "        print(os.path.join(dirname, filename))\n",
    "\n",
    "# You can write up to 20GB to the current directory (/kaggle/working/) that gets preserved as output when you create a version using \"Save & Run All\" \n",
    "# You can also write temporary files to /kaggle/temp/, but they won't be saved outside of the current session"
   ]
  },
  {
   "cell_type": "code",
   "execution_count": 2,
   "id": "3779cd46",
   "metadata": {
    "execution": {
     "iopub.execute_input": "2024-07-31T17:52:02.101825Z",
     "iopub.status.busy": "2024-07-31T17:52:02.101313Z",
     "iopub.status.idle": "2024-07-31T17:52:03.361365Z",
     "shell.execute_reply": "2024-07-31T17:52:03.360413Z"
    },
    "papermill": {
     "duration": 1.28339,
     "end_time": "2024-07-31T17:52:03.364141",
     "exception": false,
     "start_time": "2024-07-31T17:52:02.080751",
     "status": "completed"
    },
    "tags": []
   },
   "outputs": [],
   "source": [
    "import matplotlib.pyplot as plt\n",
    "import seaborn as sns\n",
    "sns.set_theme(color_codes=True)"
   ]
  },
  {
   "cell_type": "markdown",
   "id": "1f4bc85c",
   "metadata": {
    "papermill": {
     "duration": 0.018071,
     "end_time": "2024-07-31T17:52:03.400751",
     "exception": false,
     "start_time": "2024-07-31T17:52:03.382680",
     "status": "completed"
    },
    "tags": []
   },
   "source": [
    "# Importing Data"
   ]
  },
  {
   "cell_type": "code",
   "execution_count": 3,
   "id": "188f4a2b",
   "metadata": {
    "execution": {
     "iopub.execute_input": "2024-07-31T17:52:03.440126Z",
     "iopub.status.busy": "2024-07-31T17:52:03.439731Z",
     "iopub.status.idle": "2024-07-31T17:52:27.549421Z",
     "shell.execute_reply": "2024-07-31T17:52:27.548317Z"
    },
    "papermill": {
     "duration": 24.132835,
     "end_time": "2024-07-31T17:52:27.551995",
     "exception": false,
     "start_time": "2024-07-31T17:52:03.419160",
     "status": "completed"
    },
    "tags": []
   },
   "outputs": [
    {
     "data": {
      "text/html": [
       "<div>\n",
       "<style scoped>\n",
       "    .dataframe tbody tr th:only-of-type {\n",
       "        vertical-align: middle;\n",
       "    }\n",
       "\n",
       "    .dataframe tbody tr th {\n",
       "        vertical-align: top;\n",
       "    }\n",
       "\n",
       "    .dataframe thead th {\n",
       "        text-align: right;\n",
       "    }\n",
       "</style>\n",
       "<table border=\"1\" class=\"dataframe\">\n",
       "  <thead>\n",
       "    <tr style=\"text-align: right;\">\n",
       "      <th></th>\n",
       "      <th>id</th>\n",
       "      <th>Gender</th>\n",
       "      <th>Age</th>\n",
       "      <th>Driving_License</th>\n",
       "      <th>Region_Code</th>\n",
       "      <th>Previously_Insured</th>\n",
       "      <th>Vehicle_Age</th>\n",
       "      <th>Vehicle_Damage</th>\n",
       "      <th>Annual_Premium</th>\n",
       "      <th>Policy_Sales_Channel</th>\n",
       "      <th>Vintage</th>\n",
       "      <th>Response</th>\n",
       "    </tr>\n",
       "  </thead>\n",
       "  <tbody>\n",
       "    <tr>\n",
       "      <th>0</th>\n",
       "      <td>0</td>\n",
       "      <td>Male</td>\n",
       "      <td>21</td>\n",
       "      <td>1</td>\n",
       "      <td>35.0</td>\n",
       "      <td>0</td>\n",
       "      <td>1-2 Year</td>\n",
       "      <td>Yes</td>\n",
       "      <td>65101.0</td>\n",
       "      <td>124.0</td>\n",
       "      <td>187</td>\n",
       "      <td>0</td>\n",
       "    </tr>\n",
       "    <tr>\n",
       "      <th>1</th>\n",
       "      <td>1</td>\n",
       "      <td>Male</td>\n",
       "      <td>43</td>\n",
       "      <td>1</td>\n",
       "      <td>28.0</td>\n",
       "      <td>0</td>\n",
       "      <td>&gt; 2 Years</td>\n",
       "      <td>Yes</td>\n",
       "      <td>58911.0</td>\n",
       "      <td>26.0</td>\n",
       "      <td>288</td>\n",
       "      <td>1</td>\n",
       "    </tr>\n",
       "    <tr>\n",
       "      <th>2</th>\n",
       "      <td>2</td>\n",
       "      <td>Female</td>\n",
       "      <td>25</td>\n",
       "      <td>1</td>\n",
       "      <td>14.0</td>\n",
       "      <td>1</td>\n",
       "      <td>&lt; 1 Year</td>\n",
       "      <td>No</td>\n",
       "      <td>38043.0</td>\n",
       "      <td>152.0</td>\n",
       "      <td>254</td>\n",
       "      <td>0</td>\n",
       "    </tr>\n",
       "    <tr>\n",
       "      <th>3</th>\n",
       "      <td>3</td>\n",
       "      <td>Female</td>\n",
       "      <td>35</td>\n",
       "      <td>1</td>\n",
       "      <td>1.0</td>\n",
       "      <td>0</td>\n",
       "      <td>1-2 Year</td>\n",
       "      <td>Yes</td>\n",
       "      <td>2630.0</td>\n",
       "      <td>156.0</td>\n",
       "      <td>76</td>\n",
       "      <td>0</td>\n",
       "    </tr>\n",
       "    <tr>\n",
       "      <th>4</th>\n",
       "      <td>4</td>\n",
       "      <td>Female</td>\n",
       "      <td>36</td>\n",
       "      <td>1</td>\n",
       "      <td>15.0</td>\n",
       "      <td>1</td>\n",
       "      <td>1-2 Year</td>\n",
       "      <td>No</td>\n",
       "      <td>31951.0</td>\n",
       "      <td>152.0</td>\n",
       "      <td>294</td>\n",
       "      <td>0</td>\n",
       "    </tr>\n",
       "  </tbody>\n",
       "</table>\n",
       "</div>"
      ],
      "text/plain": [
       "   id  Gender  Age  Driving_License  Region_Code  Previously_Insured  \\\n",
       "0   0    Male   21                1         35.0                   0   \n",
       "1   1    Male   43                1         28.0                   0   \n",
       "2   2  Female   25                1         14.0                   1   \n",
       "3   3  Female   35                1          1.0                   0   \n",
       "4   4  Female   36                1         15.0                   1   \n",
       "\n",
       "  Vehicle_Age Vehicle_Damage  Annual_Premium  Policy_Sales_Channel  Vintage  \\\n",
       "0    1-2 Year            Yes         65101.0                 124.0      187   \n",
       "1   > 2 Years            Yes         58911.0                  26.0      288   \n",
       "2    < 1 Year             No         38043.0                 152.0      254   \n",
       "3    1-2 Year            Yes          2630.0                 156.0       76   \n",
       "4    1-2 Year             No         31951.0                 152.0      294   \n",
       "\n",
       "   Response  \n",
       "0         0  \n",
       "1         1  \n",
       "2         0  \n",
       "3         0  \n",
       "4         0  "
      ]
     },
     "execution_count": 3,
     "metadata": {},
     "output_type": "execute_result"
    }
   ],
   "source": [
    "data_train=pd.read_csv('/kaggle/input/playground-series-s4e7/train.csv')\n",
    "data_train.head()"
   ]
  },
  {
   "cell_type": "code",
   "execution_count": 4,
   "id": "c7c12996",
   "metadata": {
    "execution": {
     "iopub.execute_input": "2024-07-31T17:52:27.592068Z",
     "iopub.status.busy": "2024-07-31T17:52:27.591025Z",
     "iopub.status.idle": "2024-07-31T17:52:42.531172Z",
     "shell.execute_reply": "2024-07-31T17:52:42.529905Z"
    },
    "papermill": {
     "duration": 14.963078,
     "end_time": "2024-07-31T17:52:42.533988",
     "exception": false,
     "start_time": "2024-07-31T17:52:27.570910",
     "status": "completed"
    },
    "tags": []
   },
   "outputs": [
    {
     "data": {
      "text/html": [
       "<div>\n",
       "<style scoped>\n",
       "    .dataframe tbody tr th:only-of-type {\n",
       "        vertical-align: middle;\n",
       "    }\n",
       "\n",
       "    .dataframe tbody tr th {\n",
       "        vertical-align: top;\n",
       "    }\n",
       "\n",
       "    .dataframe thead th {\n",
       "        text-align: right;\n",
       "    }\n",
       "</style>\n",
       "<table border=\"1\" class=\"dataframe\">\n",
       "  <thead>\n",
       "    <tr style=\"text-align: right;\">\n",
       "      <th></th>\n",
       "      <th>id</th>\n",
       "      <th>Gender</th>\n",
       "      <th>Age</th>\n",
       "      <th>Driving_License</th>\n",
       "      <th>Region_Code</th>\n",
       "      <th>Previously_Insured</th>\n",
       "      <th>Vehicle_Age</th>\n",
       "      <th>Vehicle_Damage</th>\n",
       "      <th>Annual_Premium</th>\n",
       "      <th>Policy_Sales_Channel</th>\n",
       "      <th>Vintage</th>\n",
       "    </tr>\n",
       "  </thead>\n",
       "  <tbody>\n",
       "    <tr>\n",
       "      <th>0</th>\n",
       "      <td>11504798</td>\n",
       "      <td>Female</td>\n",
       "      <td>20</td>\n",
       "      <td>1</td>\n",
       "      <td>47.0</td>\n",
       "      <td>0</td>\n",
       "      <td>&lt; 1 Year</td>\n",
       "      <td>No</td>\n",
       "      <td>2630.0</td>\n",
       "      <td>160.0</td>\n",
       "      <td>228</td>\n",
       "    </tr>\n",
       "    <tr>\n",
       "      <th>1</th>\n",
       "      <td>11504799</td>\n",
       "      <td>Male</td>\n",
       "      <td>47</td>\n",
       "      <td>1</td>\n",
       "      <td>28.0</td>\n",
       "      <td>0</td>\n",
       "      <td>1-2 Year</td>\n",
       "      <td>Yes</td>\n",
       "      <td>37483.0</td>\n",
       "      <td>124.0</td>\n",
       "      <td>123</td>\n",
       "    </tr>\n",
       "    <tr>\n",
       "      <th>2</th>\n",
       "      <td>11504800</td>\n",
       "      <td>Male</td>\n",
       "      <td>47</td>\n",
       "      <td>1</td>\n",
       "      <td>43.0</td>\n",
       "      <td>0</td>\n",
       "      <td>1-2 Year</td>\n",
       "      <td>Yes</td>\n",
       "      <td>2630.0</td>\n",
       "      <td>26.0</td>\n",
       "      <td>271</td>\n",
       "    </tr>\n",
       "    <tr>\n",
       "      <th>3</th>\n",
       "      <td>11504801</td>\n",
       "      <td>Female</td>\n",
       "      <td>22</td>\n",
       "      <td>1</td>\n",
       "      <td>47.0</td>\n",
       "      <td>1</td>\n",
       "      <td>&lt; 1 Year</td>\n",
       "      <td>No</td>\n",
       "      <td>24502.0</td>\n",
       "      <td>152.0</td>\n",
       "      <td>115</td>\n",
       "    </tr>\n",
       "    <tr>\n",
       "      <th>4</th>\n",
       "      <td>11504802</td>\n",
       "      <td>Male</td>\n",
       "      <td>51</td>\n",
       "      <td>1</td>\n",
       "      <td>19.0</td>\n",
       "      <td>0</td>\n",
       "      <td>1-2 Year</td>\n",
       "      <td>No</td>\n",
       "      <td>34115.0</td>\n",
       "      <td>124.0</td>\n",
       "      <td>148</td>\n",
       "    </tr>\n",
       "  </tbody>\n",
       "</table>\n",
       "</div>"
      ],
      "text/plain": [
       "         id  Gender  Age  Driving_License  Region_Code  Previously_Insured  \\\n",
       "0  11504798  Female   20                1         47.0                   0   \n",
       "1  11504799    Male   47                1         28.0                   0   \n",
       "2  11504800    Male   47                1         43.0                   0   \n",
       "3  11504801  Female   22                1         47.0                   1   \n",
       "4  11504802    Male   51                1         19.0                   0   \n",
       "\n",
       "  Vehicle_Age Vehicle_Damage  Annual_Premium  Policy_Sales_Channel  Vintage  \n",
       "0    < 1 Year             No          2630.0                 160.0      228  \n",
       "1    1-2 Year            Yes         37483.0                 124.0      123  \n",
       "2    1-2 Year            Yes          2630.0                  26.0      271  \n",
       "3    < 1 Year             No         24502.0                 152.0      115  \n",
       "4    1-2 Year             No         34115.0                 124.0      148  "
      ]
     },
     "execution_count": 4,
     "metadata": {},
     "output_type": "execute_result"
    }
   ],
   "source": [
    "data_test=pd.read_csv('/kaggle/input/playground-series-s4e7/test.csv')\n",
    "data_test.head()"
   ]
  },
  {
   "cell_type": "markdown",
   "id": "d162677c",
   "metadata": {
    "papermill": {
     "duration": 0.01871,
     "end_time": "2024-07-31T17:52:42.572464",
     "exception": false,
     "start_time": "2024-07-31T17:52:42.553754",
     "status": "completed"
    },
    "tags": []
   },
   "source": [
    "# EDA"
   ]
  },
  {
   "cell_type": "code",
   "execution_count": 5,
   "id": "bb3b87e7",
   "metadata": {
    "execution": {
     "iopub.execute_input": "2024-07-31T17:52:42.612030Z",
     "iopub.status.busy": "2024-07-31T17:52:42.611634Z",
     "iopub.status.idle": "2024-07-31T17:52:42.618609Z",
     "shell.execute_reply": "2024-07-31T17:52:42.617649Z"
    },
    "papermill": {
     "duration": 0.029644,
     "end_time": "2024-07-31T17:52:42.621027",
     "exception": false,
     "start_time": "2024-07-31T17:52:42.591383",
     "status": "completed"
    },
    "tags": []
   },
   "outputs": [
    {
     "data": {
      "text/plain": [
       "Index(['id', 'Gender', 'Age', 'Driving_License', 'Region_Code',\n",
       "       'Previously_Insured', 'Vehicle_Age', 'Vehicle_Damage', 'Annual_Premium',\n",
       "       'Policy_Sales_Channel', 'Vintage', 'Response'],\n",
       "      dtype='object')"
      ]
     },
     "execution_count": 5,
     "metadata": {},
     "output_type": "execute_result"
    }
   ],
   "source": [
    "data_train.columns"
   ]
  },
  {
   "cell_type": "code",
   "execution_count": 6,
   "id": "47485b09",
   "metadata": {
    "execution": {
     "iopub.execute_input": "2024-07-31T17:52:42.661620Z",
     "iopub.status.busy": "2024-07-31T17:52:42.660633Z",
     "iopub.status.idle": "2024-07-31T17:52:42.665455Z",
     "shell.execute_reply": "2024-07-31T17:52:42.664295Z"
    },
    "papermill": {
     "duration": 0.02759,
     "end_time": "2024-07-31T17:52:42.667822",
     "exception": false,
     "start_time": "2024-07-31T17:52:42.640232",
     "status": "completed"
    },
    "tags": []
   },
   "outputs": [],
   "source": [
    "#sns.barplot(data=data_train, x='Response',y='Vintage')"
   ]
  },
  {
   "cell_type": "code",
   "execution_count": 7,
   "id": "1e14014b",
   "metadata": {
    "execution": {
     "iopub.execute_input": "2024-07-31T17:52:42.708481Z",
     "iopub.status.busy": "2024-07-31T17:52:42.707565Z",
     "iopub.status.idle": "2024-07-31T17:52:42.712399Z",
     "shell.execute_reply": "2024-07-31T17:52:42.711177Z"
    },
    "papermill": {
     "duration": 0.027722,
     "end_time": "2024-07-31T17:52:42.714693",
     "exception": false,
     "start_time": "2024-07-31T17:52:42.686971",
     "status": "completed"
    },
    "tags": []
   },
   "outputs": [],
   "source": [
    "# sns.barplot(data=data_train, x='Response',y='Policy_Sales_Channel')"
   ]
  },
  {
   "cell_type": "code",
   "execution_count": 8,
   "id": "f39b941f",
   "metadata": {
    "execution": {
     "iopub.execute_input": "2024-07-31T17:52:42.755393Z",
     "iopub.status.busy": "2024-07-31T17:52:42.754340Z",
     "iopub.status.idle": "2024-07-31T17:52:42.759456Z",
     "shell.execute_reply": "2024-07-31T17:52:42.758313Z"
    },
    "papermill": {
     "duration": 0.02796,
     "end_time": "2024-07-31T17:52:42.761821",
     "exception": false,
     "start_time": "2024-07-31T17:52:42.733861",
     "status": "completed"
    },
    "tags": []
   },
   "outputs": [],
   "source": [
    "# sns.barplot(data=data_train, x='Response',y='Annual_Premium')"
   ]
  },
  {
   "cell_type": "code",
   "execution_count": null,
   "id": "0b5419a0",
   "metadata": {
    "papermill": {
     "duration": 0.018737,
     "end_time": "2024-07-31T17:52:42.799911",
     "exception": false,
     "start_time": "2024-07-31T17:52:42.781174",
     "status": "completed"
    },
    "tags": []
   },
   "outputs": [],
   "source": []
  },
  {
   "cell_type": "markdown",
   "id": "f7f7c9c3",
   "metadata": {
    "papermill": {
     "duration": 0.018732,
     "end_time": "2024-07-31T17:52:42.837656",
     "exception": false,
     "start_time": "2024-07-31T17:52:42.818924",
     "status": "completed"
    },
    "tags": []
   },
   "source": [
    "# Data Preprocessing"
   ]
  },
  {
   "cell_type": "code",
   "execution_count": 9,
   "id": "c08f72fd",
   "metadata": {
    "execution": {
     "iopub.execute_input": "2024-07-31T17:52:42.878207Z",
     "iopub.status.busy": "2024-07-31T17:52:42.877508Z",
     "iopub.status.idle": "2024-07-31T17:52:46.612465Z",
     "shell.execute_reply": "2024-07-31T17:52:46.610282Z"
    },
    "papermill": {
     "duration": 3.757892,
     "end_time": "2024-07-31T17:52:46.614859",
     "exception": false,
     "start_time": "2024-07-31T17:52:42.856967",
     "status": "completed"
    },
    "tags": []
   },
   "outputs": [
    {
     "data": {
      "text/plain": [
       "id                      0\n",
       "Gender                  0\n",
       "Age                     0\n",
       "Driving_License         0\n",
       "Region_Code             0\n",
       "Previously_Insured      0\n",
       "Vehicle_Age             0\n",
       "Vehicle_Damage          0\n",
       "Annual_Premium          0\n",
       "Policy_Sales_Channel    0\n",
       "Vintage                 0\n",
       "Response                0\n",
       "dtype: int64"
      ]
     },
     "execution_count": 9,
     "metadata": {},
     "output_type": "execute_result"
    }
   ],
   "source": [
    "data_train.isnull().sum()"
   ]
  },
  {
   "cell_type": "code",
   "execution_count": 10,
   "id": "aa12a3ae",
   "metadata": {
    "execution": {
     "iopub.execute_input": "2024-07-31T17:52:46.656925Z",
     "iopub.status.busy": "2024-07-31T17:52:46.655793Z",
     "iopub.status.idle": "2024-07-31T17:52:50.182278Z",
     "shell.execute_reply": "2024-07-31T17:52:50.181122Z"
    },
    "papermill": {
     "duration": 3.549722,
     "end_time": "2024-07-31T17:52:50.184669",
     "exception": false,
     "start_time": "2024-07-31T17:52:46.634947",
     "status": "completed"
    },
    "tags": []
   },
   "outputs": [
    {
     "data": {
      "text/plain": [
       "Gender            2\n",
       "Vehicle_Age       3\n",
       "Vehicle_Damage    2\n",
       "dtype: int64"
      ]
     },
     "execution_count": 10,
     "metadata": {},
     "output_type": "execute_result"
    }
   ],
   "source": [
    "# columns in the DataFrame that have data types classified as 'object'. \n",
    "#In pandas, the 'object' data type is typically used for text or categorical data.\n",
    "data_train.select_dtypes(include='object').nunique()"
   ]
  },
  {
   "cell_type": "code",
   "execution_count": 11,
   "id": "5cf27bea",
   "metadata": {
    "execution": {
     "iopub.execute_input": "2024-07-31T17:52:50.225416Z",
     "iopub.status.busy": "2024-07-31T17:52:50.224930Z",
     "iopub.status.idle": "2024-07-31T17:52:55.171220Z",
     "shell.execute_reply": "2024-07-31T17:52:55.169881Z"
    },
    "papermill": {
     "duration": 4.972644,
     "end_time": "2024-07-31T17:52:55.176789",
     "exception": false,
     "start_time": "2024-07-31T17:52:50.204145",
     "status": "completed"
    },
    "tags": []
   },
   "outputs": [
    {
     "data": {
      "text/plain": [
       "id                      11504798\n",
       "Gender                         2\n",
       "Age                           66\n",
       "Driving_License                2\n",
       "Region_Code                   54\n",
       "Previously_Insured             2\n",
       "Vehicle_Age                    3\n",
       "Vehicle_Damage                 2\n",
       "Annual_Premium             51728\n",
       "Policy_Sales_Channel         152\n",
       "Vintage                      290\n",
       "Response                       2\n",
       "dtype: int64"
      ]
     },
     "execution_count": 11,
     "metadata": {},
     "output_type": "execute_result"
    }
   ],
   "source": [
    "data_train.nunique() # tells all the unique value a column holds"
   ]
  },
  {
   "cell_type": "code",
   "execution_count": 12,
   "id": "c50f4c13",
   "metadata": {
    "execution": {
     "iopub.execute_input": "2024-07-31T17:52:55.220967Z",
     "iopub.status.busy": "2024-07-31T17:52:55.220126Z",
     "iopub.status.idle": "2024-07-31T17:52:55.901604Z",
     "shell.execute_reply": "2024-07-31T17:52:55.900471Z"
    },
    "papermill": {
     "duration": 0.707199,
     "end_time": "2024-07-31T17:52:55.904802",
     "exception": false,
     "start_time": "2024-07-31T17:52:55.197603",
     "status": "completed"
    },
    "tags": []
   },
   "outputs": [
    {
     "data": {
      "text/html": [
       "<div>\n",
       "<style scoped>\n",
       "    .dataframe tbody tr th:only-of-type {\n",
       "        vertical-align: middle;\n",
       "    }\n",
       "\n",
       "    .dataframe tbody tr th {\n",
       "        vertical-align: top;\n",
       "    }\n",
       "\n",
       "    .dataframe thead th {\n",
       "        text-align: right;\n",
       "    }\n",
       "</style>\n",
       "<table border=\"1\" class=\"dataframe\">\n",
       "  <thead>\n",
       "    <tr style=\"text-align: right;\">\n",
       "      <th></th>\n",
       "      <th>Gender</th>\n",
       "      <th>Age</th>\n",
       "      <th>Driving_License</th>\n",
       "      <th>Region_Code</th>\n",
       "      <th>Previously_Insured</th>\n",
       "      <th>Vehicle_Age</th>\n",
       "      <th>Vehicle_Damage</th>\n",
       "      <th>Annual_Premium</th>\n",
       "      <th>Policy_Sales_Channel</th>\n",
       "      <th>Vintage</th>\n",
       "      <th>Response</th>\n",
       "    </tr>\n",
       "  </thead>\n",
       "  <tbody>\n",
       "    <tr>\n",
       "      <th>0</th>\n",
       "      <td>Male</td>\n",
       "      <td>21</td>\n",
       "      <td>1</td>\n",
       "      <td>35.0</td>\n",
       "      <td>0</td>\n",
       "      <td>1-2 Year</td>\n",
       "      <td>Yes</td>\n",
       "      <td>65101.0</td>\n",
       "      <td>124.0</td>\n",
       "      <td>187</td>\n",
       "      <td>0</td>\n",
       "    </tr>\n",
       "    <tr>\n",
       "      <th>1</th>\n",
       "      <td>Male</td>\n",
       "      <td>43</td>\n",
       "      <td>1</td>\n",
       "      <td>28.0</td>\n",
       "      <td>0</td>\n",
       "      <td>&gt; 2 Years</td>\n",
       "      <td>Yes</td>\n",
       "      <td>58911.0</td>\n",
       "      <td>26.0</td>\n",
       "      <td>288</td>\n",
       "      <td>1</td>\n",
       "    </tr>\n",
       "    <tr>\n",
       "      <th>2</th>\n",
       "      <td>Female</td>\n",
       "      <td>25</td>\n",
       "      <td>1</td>\n",
       "      <td>14.0</td>\n",
       "      <td>1</td>\n",
       "      <td>&lt; 1 Year</td>\n",
       "      <td>No</td>\n",
       "      <td>38043.0</td>\n",
       "      <td>152.0</td>\n",
       "      <td>254</td>\n",
       "      <td>0</td>\n",
       "    </tr>\n",
       "    <tr>\n",
       "      <th>3</th>\n",
       "      <td>Female</td>\n",
       "      <td>35</td>\n",
       "      <td>1</td>\n",
       "      <td>1.0</td>\n",
       "      <td>0</td>\n",
       "      <td>1-2 Year</td>\n",
       "      <td>Yes</td>\n",
       "      <td>2630.0</td>\n",
       "      <td>156.0</td>\n",
       "      <td>76</td>\n",
       "      <td>0</td>\n",
       "    </tr>\n",
       "    <tr>\n",
       "      <th>4</th>\n",
       "      <td>Female</td>\n",
       "      <td>36</td>\n",
       "      <td>1</td>\n",
       "      <td>15.0</td>\n",
       "      <td>1</td>\n",
       "      <td>1-2 Year</td>\n",
       "      <td>No</td>\n",
       "      <td>31951.0</td>\n",
       "      <td>152.0</td>\n",
       "      <td>294</td>\n",
       "      <td>0</td>\n",
       "    </tr>\n",
       "  </tbody>\n",
       "</table>\n",
       "</div>"
      ],
      "text/plain": [
       "   Gender  Age  Driving_License  Region_Code  Previously_Insured Vehicle_Age  \\\n",
       "0    Male   21                1         35.0                   0    1-2 Year   \n",
       "1    Male   43                1         28.0                   0   > 2 Years   \n",
       "2  Female   25                1         14.0                   1    < 1 Year   \n",
       "3  Female   35                1          1.0                   0    1-2 Year   \n",
       "4  Female   36                1         15.0                   1    1-2 Year   \n",
       "\n",
       "  Vehicle_Damage  Annual_Premium  Policy_Sales_Channel  Vintage  Response  \n",
       "0            Yes         65101.0                 124.0      187         0  \n",
       "1            Yes         58911.0                  26.0      288         1  \n",
       "2             No         38043.0                 152.0      254         0  \n",
       "3            Yes          2630.0                 156.0       76         0  \n",
       "4             No         31951.0                 152.0      294         0  "
      ]
     },
     "execution_count": 12,
     "metadata": {},
     "output_type": "execute_result"
    }
   ],
   "source": [
    "# removing id column\n",
    "data_train.drop('id', axis=1,inplace=True)\n",
    "data_train.head()"
   ]
  },
  {
   "cell_type": "code",
   "execution_count": 13,
   "id": "3feab7b3",
   "metadata": {
    "execution": {
     "iopub.execute_input": "2024-07-31T17:52:55.951440Z",
     "iopub.status.busy": "2024-07-31T17:52:55.950448Z",
     "iopub.status.idle": "2024-07-31T17:52:56.992810Z",
     "shell.execute_reply": "2024-07-31T17:52:56.991689Z"
    },
    "papermill": {
     "duration": 1.06684,
     "end_time": "2024-07-31T17:52:56.995488",
     "exception": false,
     "start_time": "2024-07-31T17:52:55.928648",
     "status": "completed"
    },
    "tags": []
   },
   "outputs": [
    {
     "data": {
      "text/plain": [
       "array(['Male', 'Female'], dtype=object)"
      ]
     },
     "execution_count": 13,
     "metadata": {},
     "output_type": "execute_result"
    }
   ],
   "source": [
    "data_train['Gender'].unique()"
   ]
  },
  {
   "cell_type": "code",
   "execution_count": 14,
   "id": "c673dcae",
   "metadata": {
    "execution": {
     "iopub.execute_input": "2024-07-31T17:52:57.038364Z",
     "iopub.status.busy": "2024-07-31T17:52:57.037930Z",
     "iopub.status.idle": "2024-07-31T17:52:58.120306Z",
     "shell.execute_reply": "2024-07-31T17:52:58.119279Z"
    },
    "papermill": {
     "duration": 1.106558,
     "end_time": "2024-07-31T17:52:58.122861",
     "exception": false,
     "start_time": "2024-07-31T17:52:57.016303",
     "status": "completed"
    },
    "tags": []
   },
   "outputs": [
    {
     "data": {
      "text/plain": [
       "array(['1-2 Year', '> 2 Years', '< 1 Year'], dtype=object)"
      ]
     },
     "execution_count": 14,
     "metadata": {},
     "output_type": "execute_result"
    }
   ],
   "source": [
    "data_train['Vehicle_Age'].unique()"
   ]
  },
  {
   "cell_type": "code",
   "execution_count": 15,
   "id": "d75f518d",
   "metadata": {
    "execution": {
     "iopub.execute_input": "2024-07-31T17:52:58.164955Z",
     "iopub.status.busy": "2024-07-31T17:52:58.164214Z",
     "iopub.status.idle": "2024-07-31T17:52:59.184161Z",
     "shell.execute_reply": "2024-07-31T17:52:59.182778Z"
    },
    "papermill": {
     "duration": 1.043852,
     "end_time": "2024-07-31T17:52:59.186704",
     "exception": false,
     "start_time": "2024-07-31T17:52:58.142852",
     "status": "completed"
    },
    "tags": []
   },
   "outputs": [
    {
     "data": {
      "text/plain": [
       "array(['Yes', 'No'], dtype=object)"
      ]
     },
     "execution_count": 15,
     "metadata": {},
     "output_type": "execute_result"
    }
   ],
   "source": [
    "data_train['Vehicle_Damage'].unique()"
   ]
  },
  {
   "cell_type": "code",
   "execution_count": 16,
   "id": "71b2d27d",
   "metadata": {
    "execution": {
     "iopub.execute_input": "2024-07-31T17:52:59.229324Z",
     "iopub.status.busy": "2024-07-31T17:52:59.228552Z",
     "iopub.status.idle": "2024-07-31T17:52:59.233857Z",
     "shell.execute_reply": "2024-07-31T17:52:59.232605Z"
    },
    "papermill": {
     "duration": 0.029287,
     "end_time": "2024-07-31T17:52:59.236296",
     "exception": false,
     "start_time": "2024-07-31T17:52:59.207009",
     "status": "completed"
    },
    "tags": []
   },
   "outputs": [],
   "source": [
    "# Transforming Object Categorical data into int using label Encoder"
   ]
  },
  {
   "cell_type": "code",
   "execution_count": 17,
   "id": "ca3e1ff5",
   "metadata": {
    "execution": {
     "iopub.execute_input": "2024-07-31T17:52:59.279995Z",
     "iopub.status.busy": "2024-07-31T17:52:59.278986Z",
     "iopub.status.idle": "2024-07-31T17:52:59.511504Z",
     "shell.execute_reply": "2024-07-31T17:52:59.510311Z"
    },
    "papermill": {
     "duration": 0.257169,
     "end_time": "2024-07-31T17:52:59.514287",
     "exception": false,
     "start_time": "2024-07-31T17:52:59.257118",
     "status": "completed"
    },
    "tags": []
   },
   "outputs": [],
   "source": [
    "from sklearn import preprocessing\n",
    "label_encoder=preprocessing.LabelEncoder()"
   ]
  },
  {
   "cell_type": "code",
   "execution_count": 18,
   "id": "342de970",
   "metadata": {
    "execution": {
     "iopub.execute_input": "2024-07-31T17:52:59.558137Z",
     "iopub.status.busy": "2024-07-31T17:52:59.557018Z",
     "iopub.status.idle": "2024-07-31T17:53:03.061490Z",
     "shell.execute_reply": "2024-07-31T17:53:03.060262Z"
    },
    "papermill": {
     "duration": 3.528822,
     "end_time": "2024-07-31T17:53:03.063795",
     "exception": false,
     "start_time": "2024-07-31T17:52:59.534973",
     "status": "completed"
    },
    "tags": []
   },
   "outputs": [
    {
     "data": {
      "text/plain": [
       "array([1, 0])"
      ]
     },
     "execution_count": 18,
     "metadata": {},
     "output_type": "execute_result"
    }
   ],
   "source": [
    "data_train['Gender']=label_encoder.fit_transform(data_train['Gender'])\n",
    "data_train['Gender'].unique()"
   ]
  },
  {
   "cell_type": "code",
   "execution_count": 19,
   "id": "f6a90181",
   "metadata": {
    "execution": {
     "iopub.execute_input": "2024-07-31T17:53:03.167833Z",
     "iopub.status.busy": "2024-07-31T17:53:03.167449Z",
     "iopub.status.idle": "2024-07-31T17:53:06.617325Z",
     "shell.execute_reply": "2024-07-31T17:53:06.616279Z"
    },
    "papermill": {
     "duration": 3.474888,
     "end_time": "2024-07-31T17:53:06.619826",
     "exception": false,
     "start_time": "2024-07-31T17:53:03.144938",
     "status": "completed"
    },
    "tags": []
   },
   "outputs": [
    {
     "data": {
      "text/plain": [
       "array([0, 2, 1])"
      ]
     },
     "execution_count": 19,
     "metadata": {},
     "output_type": "execute_result"
    }
   ],
   "source": [
    "data_train['Vehicle_Age']=label_encoder.fit_transform(data_train['Vehicle_Age'])\n",
    "data_train['Vehicle_Age'].unique()"
   ]
  },
  {
   "cell_type": "code",
   "execution_count": 20,
   "id": "59570daf",
   "metadata": {
    "execution": {
     "iopub.execute_input": "2024-07-31T17:53:06.662946Z",
     "iopub.status.busy": "2024-07-31T17:53:06.662539Z",
     "iopub.status.idle": "2024-07-31T17:53:10.106869Z",
     "shell.execute_reply": "2024-07-31T17:53:10.105750Z"
    },
    "papermill": {
     "duration": 3.468866,
     "end_time": "2024-07-31T17:53:10.109546",
     "exception": false,
     "start_time": "2024-07-31T17:53:06.640680",
     "status": "completed"
    },
    "tags": []
   },
   "outputs": [
    {
     "data": {
      "text/plain": [
       "array([1, 0])"
      ]
     },
     "execution_count": 20,
     "metadata": {},
     "output_type": "execute_result"
    }
   ],
   "source": [
    "data_train['Vehicle_Damage']=label_encoder.fit_transform(data_train['Vehicle_Damage'])\n",
    "data_train['Vehicle_Damage'].unique()"
   ]
  },
  {
   "cell_type": "code",
   "execution_count": 21,
   "id": "524faed7",
   "metadata": {
    "execution": {
     "iopub.execute_input": "2024-07-31T17:53:10.154126Z",
     "iopub.status.busy": "2024-07-31T17:53:10.153116Z",
     "iopub.status.idle": "2024-07-31T17:53:10.169908Z",
     "shell.execute_reply": "2024-07-31T17:53:10.168760Z"
    },
    "papermill": {
     "duration": 0.041893,
     "end_time": "2024-07-31T17:53:10.172547",
     "exception": false,
     "start_time": "2024-07-31T17:53:10.130654",
     "status": "completed"
    },
    "tags": []
   },
   "outputs": [
    {
     "data": {
      "text/html": [
       "<div>\n",
       "<style scoped>\n",
       "    .dataframe tbody tr th:only-of-type {\n",
       "        vertical-align: middle;\n",
       "    }\n",
       "\n",
       "    .dataframe tbody tr th {\n",
       "        vertical-align: top;\n",
       "    }\n",
       "\n",
       "    .dataframe thead th {\n",
       "        text-align: right;\n",
       "    }\n",
       "</style>\n",
       "<table border=\"1\" class=\"dataframe\">\n",
       "  <thead>\n",
       "    <tr style=\"text-align: right;\">\n",
       "      <th></th>\n",
       "      <th>Gender</th>\n",
       "      <th>Age</th>\n",
       "      <th>Driving_License</th>\n",
       "      <th>Region_Code</th>\n",
       "      <th>Previously_Insured</th>\n",
       "      <th>Vehicle_Age</th>\n",
       "      <th>Vehicle_Damage</th>\n",
       "      <th>Annual_Premium</th>\n",
       "      <th>Policy_Sales_Channel</th>\n",
       "      <th>Vintage</th>\n",
       "      <th>Response</th>\n",
       "    </tr>\n",
       "  </thead>\n",
       "  <tbody>\n",
       "    <tr>\n",
       "      <th>0</th>\n",
       "      <td>1</td>\n",
       "      <td>21</td>\n",
       "      <td>1</td>\n",
       "      <td>35.0</td>\n",
       "      <td>0</td>\n",
       "      <td>0</td>\n",
       "      <td>1</td>\n",
       "      <td>65101.0</td>\n",
       "      <td>124.0</td>\n",
       "      <td>187</td>\n",
       "      <td>0</td>\n",
       "    </tr>\n",
       "    <tr>\n",
       "      <th>1</th>\n",
       "      <td>1</td>\n",
       "      <td>43</td>\n",
       "      <td>1</td>\n",
       "      <td>28.0</td>\n",
       "      <td>0</td>\n",
       "      <td>2</td>\n",
       "      <td>1</td>\n",
       "      <td>58911.0</td>\n",
       "      <td>26.0</td>\n",
       "      <td>288</td>\n",
       "      <td>1</td>\n",
       "    </tr>\n",
       "    <tr>\n",
       "      <th>2</th>\n",
       "      <td>0</td>\n",
       "      <td>25</td>\n",
       "      <td>1</td>\n",
       "      <td>14.0</td>\n",
       "      <td>1</td>\n",
       "      <td>1</td>\n",
       "      <td>0</td>\n",
       "      <td>38043.0</td>\n",
       "      <td>152.0</td>\n",
       "      <td>254</td>\n",
       "      <td>0</td>\n",
       "    </tr>\n",
       "    <tr>\n",
       "      <th>3</th>\n",
       "      <td>0</td>\n",
       "      <td>35</td>\n",
       "      <td>1</td>\n",
       "      <td>1.0</td>\n",
       "      <td>0</td>\n",
       "      <td>0</td>\n",
       "      <td>1</td>\n",
       "      <td>2630.0</td>\n",
       "      <td>156.0</td>\n",
       "      <td>76</td>\n",
       "      <td>0</td>\n",
       "    </tr>\n",
       "    <tr>\n",
       "      <th>4</th>\n",
       "      <td>0</td>\n",
       "      <td>36</td>\n",
       "      <td>1</td>\n",
       "      <td>15.0</td>\n",
       "      <td>1</td>\n",
       "      <td>0</td>\n",
       "      <td>0</td>\n",
       "      <td>31951.0</td>\n",
       "      <td>152.0</td>\n",
       "      <td>294</td>\n",
       "      <td>0</td>\n",
       "    </tr>\n",
       "  </tbody>\n",
       "</table>\n",
       "</div>"
      ],
      "text/plain": [
       "   Gender  Age  Driving_License  Region_Code  Previously_Insured  Vehicle_Age  \\\n",
       "0       1   21                1         35.0                   0            0   \n",
       "1       1   43                1         28.0                   0            2   \n",
       "2       0   25                1         14.0                   1            1   \n",
       "3       0   35                1          1.0                   0            0   \n",
       "4       0   36                1         15.0                   1            0   \n",
       "\n",
       "   Vehicle_Damage  Annual_Premium  Policy_Sales_Channel  Vintage  Response  \n",
       "0               1         65101.0                 124.0      187         0  \n",
       "1               1         58911.0                  26.0      288         1  \n",
       "2               0         38043.0                 152.0      254         0  \n",
       "3               1          2630.0                 156.0       76         0  \n",
       "4               0         31951.0                 152.0      294         0  "
      ]
     },
     "execution_count": 21,
     "metadata": {},
     "output_type": "execute_result"
    }
   ],
   "source": [
    "data_train.head()"
   ]
  },
  {
   "cell_type": "code",
   "execution_count": 22,
   "id": "67fb11a3",
   "metadata": {
    "execution": {
     "iopub.execute_input": "2024-07-31T17:53:10.218302Z",
     "iopub.status.busy": "2024-07-31T17:53:10.217830Z",
     "iopub.status.idle": "2024-07-31T17:53:10.226641Z",
     "shell.execute_reply": "2024-07-31T17:53:10.225584Z"
    },
    "papermill": {
     "duration": 0.034277,
     "end_time": "2024-07-31T17:53:10.229004",
     "exception": false,
     "start_time": "2024-07-31T17:53:10.194727",
     "status": "completed"
    },
    "tags": []
   },
   "outputs": [
    {
     "data": {
      "text/plain": [
       "Gender                    int64\n",
       "Age                       int64\n",
       "Driving_License           int64\n",
       "Region_Code             float64\n",
       "Previously_Insured        int64\n",
       "Vehicle_Age               int64\n",
       "Vehicle_Damage            int64\n",
       "Annual_Premium          float64\n",
       "Policy_Sales_Channel    float64\n",
       "Vintage                   int64\n",
       "Response                  int64\n",
       "dtype: object"
      ]
     },
     "execution_count": 22,
     "metadata": {},
     "output_type": "execute_result"
    }
   ],
   "source": [
    "data_train.dtypes"
   ]
  },
  {
   "cell_type": "markdown",
   "id": "e596eeb7",
   "metadata": {
    "papermill": {
     "duration": 0.021174,
     "end_time": "2024-07-31T17:53:10.271682",
     "exception": false,
     "start_time": "2024-07-31T17:53:10.250508",
     "status": "completed"
    },
    "tags": []
   },
   "source": [
    "# Check if Response colum is balance or not"
   ]
  },
  {
   "cell_type": "code",
   "execution_count": 23,
   "id": "2333e34b",
   "metadata": {
    "execution": {
     "iopub.execute_input": "2024-07-31T17:53:10.315984Z",
     "iopub.status.busy": "2024-07-31T17:53:10.315566Z",
     "iopub.status.idle": "2024-07-31T17:53:10.320271Z",
     "shell.execute_reply": "2024-07-31T17:53:10.319179Z"
    },
    "papermill": {
     "duration": 0.02958,
     "end_time": "2024-07-31T17:53:10.322528",
     "exception": false,
     "start_time": "2024-07-31T17:53:10.292948",
     "status": "completed"
    },
    "tags": []
   },
   "outputs": [],
   "source": [
    "# sns.countplot(x=data_train['Response'])\n",
    "\n",
    "# plt.figure(figsize=(5, 5))"
   ]
  },
  {
   "cell_type": "code",
   "execution_count": 24,
   "id": "f93a6ce1",
   "metadata": {
    "execution": {
     "iopub.execute_input": "2024-07-31T17:53:10.366704Z",
     "iopub.status.busy": "2024-07-31T17:53:10.366246Z",
     "iopub.status.idle": "2024-07-31T17:53:10.485294Z",
     "shell.execute_reply": "2024-07-31T17:53:10.484252Z"
    },
    "papermill": {
     "duration": 0.143948,
     "end_time": "2024-07-31T17:53:10.487765",
     "exception": false,
     "start_time": "2024-07-31T17:53:10.343817",
     "status": "completed"
    },
    "tags": []
   },
   "outputs": [
    {
     "data": {
      "text/plain": [
       "Response\n",
       "0    10089739\n",
       "1     1415059\n",
       "Name: count, dtype: int64"
      ]
     },
     "execution_count": 24,
     "metadata": {},
     "output_type": "execute_result"
    }
   ],
   "source": [
    "data_train['Response'].value_counts()"
   ]
  },
  {
   "cell_type": "code",
   "execution_count": 25,
   "id": "42815dd9",
   "metadata": {
    "execution": {
     "iopub.execute_input": "2024-07-31T17:53:10.533123Z",
     "iopub.status.busy": "2024-07-31T17:53:10.532297Z",
     "iopub.status.idle": "2024-07-31T17:53:11.399086Z",
     "shell.execute_reply": "2024-07-31T17:53:11.397971Z"
    },
    "papermill": {
     "duration": 0.89278,
     "end_time": "2024-07-31T17:53:11.401902",
     "exception": false,
     "start_time": "2024-07-31T17:53:10.509122",
     "status": "completed"
    },
    "tags": []
   },
   "outputs": [],
   "source": [
    "# seperating 1 and 0 in different columns\n",
    "df_major= data_train[(data_train['Response']==0)]\n",
    "df_minor= data_train[(data_train['Response']==1)]"
   ]
  },
  {
   "cell_type": "code",
   "execution_count": 26,
   "id": "aa48a142",
   "metadata": {
    "execution": {
     "iopub.execute_input": "2024-07-31T17:53:11.447188Z",
     "iopub.status.busy": "2024-07-31T17:53:11.446744Z",
     "iopub.status.idle": "2024-07-31T17:53:11.451667Z",
     "shell.execute_reply": "2024-07-31T17:53:11.450655Z"
    },
    "papermill": {
     "duration": 0.030045,
     "end_time": "2024-07-31T17:53:11.453981",
     "exception": false,
     "start_time": "2024-07-31T17:53:11.423936",
     "status": "completed"
    },
    "tags": []
   },
   "outputs": [],
   "source": [
    "# up sampling minority '1' column equal to majority '0'\n",
    "# Response\n",
    "# 0    10089739\n",
    "# 1     1415059"
   ]
  },
  {
   "cell_type": "code",
   "execution_count": 27,
   "id": "5948a5ee",
   "metadata": {
    "execution": {
     "iopub.execute_input": "2024-07-31T17:53:11.498502Z",
     "iopub.status.busy": "2024-07-31T17:53:11.498053Z",
     "iopub.status.idle": "2024-07-31T17:53:13.946599Z",
     "shell.execute_reply": "2024-07-31T17:53:13.945500Z"
    },
    "papermill": {
     "duration": 2.473892,
     "end_time": "2024-07-31T17:53:13.949422",
     "exception": false,
     "start_time": "2024-07-31T17:53:11.475530",
     "status": "completed"
    },
    "tags": []
   },
   "outputs": [],
   "source": [
    "from sklearn.utils import resample\n",
    "\n",
    "df_minor_upsample=resample(df_minor, replace=True, n_samples=10089739, random_state=0)\n",
    "\n",
    "df_upsampled=pd.concat([df_minor_upsample, df_major])"
   ]
  },
  {
   "cell_type": "code",
   "execution_count": 28,
   "id": "38d59a75",
   "metadata": {
    "execution": {
     "iopub.execute_input": "2024-07-31T17:53:13.993993Z",
     "iopub.status.busy": "2024-07-31T17:53:13.993598Z",
     "iopub.status.idle": "2024-07-31T17:53:14.014874Z",
     "shell.execute_reply": "2024-07-31T17:53:14.013767Z"
    },
    "papermill": {
     "duration": 0.046399,
     "end_time": "2024-07-31T17:53:14.017199",
     "exception": false,
     "start_time": "2024-07-31T17:53:13.970800",
     "status": "completed"
    },
    "tags": []
   },
   "outputs": [
    {
     "data": {
      "text/html": [
       "<div>\n",
       "<style scoped>\n",
       "    .dataframe tbody tr th:only-of-type {\n",
       "        vertical-align: middle;\n",
       "    }\n",
       "\n",
       "    .dataframe tbody tr th {\n",
       "        vertical-align: top;\n",
       "    }\n",
       "\n",
       "    .dataframe thead th {\n",
       "        text-align: right;\n",
       "    }\n",
       "</style>\n",
       "<table border=\"1\" class=\"dataframe\">\n",
       "  <thead>\n",
       "    <tr style=\"text-align: right;\">\n",
       "      <th></th>\n",
       "      <th>Gender</th>\n",
       "      <th>Age</th>\n",
       "      <th>Driving_License</th>\n",
       "      <th>Region_Code</th>\n",
       "      <th>Previously_Insured</th>\n",
       "      <th>Vehicle_Age</th>\n",
       "      <th>Vehicle_Damage</th>\n",
       "      <th>Annual_Premium</th>\n",
       "      <th>Policy_Sales_Channel</th>\n",
       "      <th>Vintage</th>\n",
       "      <th>Response</th>\n",
       "    </tr>\n",
       "  </thead>\n",
       "  <tbody>\n",
       "    <tr>\n",
       "      <th>2491338</th>\n",
       "      <td>0</td>\n",
       "      <td>38</td>\n",
       "      <td>1</td>\n",
       "      <td>46.0</td>\n",
       "      <td>0</td>\n",
       "      <td>0</td>\n",
       "      <td>1</td>\n",
       "      <td>29679.0</td>\n",
       "      <td>26.0</td>\n",
       "      <td>11</td>\n",
       "      <td>1</td>\n",
       "    </tr>\n",
       "    <tr>\n",
       "      <th>962117</th>\n",
       "      <td>1</td>\n",
       "      <td>48</td>\n",
       "      <td>1</td>\n",
       "      <td>28.0</td>\n",
       "      <td>0</td>\n",
       "      <td>0</td>\n",
       "      <td>1</td>\n",
       "      <td>49092.0</td>\n",
       "      <td>124.0</td>\n",
       "      <td>182</td>\n",
       "      <td>1</td>\n",
       "    </tr>\n",
       "    <tr>\n",
       "      <th>7831406</th>\n",
       "      <td>0</td>\n",
       "      <td>20</td>\n",
       "      <td>1</td>\n",
       "      <td>50.0</td>\n",
       "      <td>0</td>\n",
       "      <td>1</td>\n",
       "      <td>1</td>\n",
       "      <td>34187.0</td>\n",
       "      <td>160.0</td>\n",
       "      <td>92</td>\n",
       "      <td>1</td>\n",
       "    </tr>\n",
       "    <tr>\n",
       "      <th>1242312</th>\n",
       "      <td>1</td>\n",
       "      <td>58</td>\n",
       "      <td>1</td>\n",
       "      <td>8.0</td>\n",
       "      <td>0</td>\n",
       "      <td>0</td>\n",
       "      <td>1</td>\n",
       "      <td>2630.0</td>\n",
       "      <td>30.0</td>\n",
       "      <td>212</td>\n",
       "      <td>1</td>\n",
       "    </tr>\n",
       "    <tr>\n",
       "      <th>2929171</th>\n",
       "      <td>1</td>\n",
       "      <td>50</td>\n",
       "      <td>1</td>\n",
       "      <td>18.0</td>\n",
       "      <td>0</td>\n",
       "      <td>0</td>\n",
       "      <td>1</td>\n",
       "      <td>37190.0</td>\n",
       "      <td>26.0</td>\n",
       "      <td>208</td>\n",
       "      <td>1</td>\n",
       "    </tr>\n",
       "    <tr>\n",
       "      <th>...</th>\n",
       "      <td>...</td>\n",
       "      <td>...</td>\n",
       "      <td>...</td>\n",
       "      <td>...</td>\n",
       "      <td>...</td>\n",
       "      <td>...</td>\n",
       "      <td>...</td>\n",
       "      <td>...</td>\n",
       "      <td>...</td>\n",
       "      <td>...</td>\n",
       "      <td>...</td>\n",
       "    </tr>\n",
       "    <tr>\n",
       "      <th>11504791</th>\n",
       "      <td>0</td>\n",
       "      <td>31</td>\n",
       "      <td>1</td>\n",
       "      <td>32.0</td>\n",
       "      <td>1</td>\n",
       "      <td>1</td>\n",
       "      <td>0</td>\n",
       "      <td>2630.0</td>\n",
       "      <td>152.0</td>\n",
       "      <td>204</td>\n",
       "      <td>0</td>\n",
       "    </tr>\n",
       "    <tr>\n",
       "      <th>11504792</th>\n",
       "      <td>1</td>\n",
       "      <td>34</td>\n",
       "      <td>1</td>\n",
       "      <td>28.0</td>\n",
       "      <td>1</td>\n",
       "      <td>0</td>\n",
       "      <td>0</td>\n",
       "      <td>29974.0</td>\n",
       "      <td>154.0</td>\n",
       "      <td>201</td>\n",
       "      <td>0</td>\n",
       "    </tr>\n",
       "    <tr>\n",
       "      <th>11504793</th>\n",
       "      <td>1</td>\n",
       "      <td>48</td>\n",
       "      <td>1</td>\n",
       "      <td>6.0</td>\n",
       "      <td>0</td>\n",
       "      <td>0</td>\n",
       "      <td>1</td>\n",
       "      <td>27412.0</td>\n",
       "      <td>26.0</td>\n",
       "      <td>218</td>\n",
       "      <td>0</td>\n",
       "    </tr>\n",
       "    <tr>\n",
       "      <th>11504795</th>\n",
       "      <td>0</td>\n",
       "      <td>29</td>\n",
       "      <td>1</td>\n",
       "      <td>32.0</td>\n",
       "      <td>1</td>\n",
       "      <td>1</td>\n",
       "      <td>0</td>\n",
       "      <td>2630.0</td>\n",
       "      <td>152.0</td>\n",
       "      <td>189</td>\n",
       "      <td>0</td>\n",
       "    </tr>\n",
       "    <tr>\n",
       "      <th>11504797</th>\n",
       "      <td>1</td>\n",
       "      <td>25</td>\n",
       "      <td>1</td>\n",
       "      <td>28.0</td>\n",
       "      <td>1</td>\n",
       "      <td>1</td>\n",
       "      <td>0</td>\n",
       "      <td>32855.0</td>\n",
       "      <td>152.0</td>\n",
       "      <td>189</td>\n",
       "      <td>0</td>\n",
       "    </tr>\n",
       "  </tbody>\n",
       "</table>\n",
       "<p>20179478 rows × 11 columns</p>\n",
       "</div>"
      ],
      "text/plain": [
       "          Gender  Age  Driving_License  Region_Code  Previously_Insured  \\\n",
       "2491338        0   38                1         46.0                   0   \n",
       "962117         1   48                1         28.0                   0   \n",
       "7831406        0   20                1         50.0                   0   \n",
       "1242312        1   58                1          8.0                   0   \n",
       "2929171        1   50                1         18.0                   0   \n",
       "...          ...  ...              ...          ...                 ...   \n",
       "11504791       0   31                1         32.0                   1   \n",
       "11504792       1   34                1         28.0                   1   \n",
       "11504793       1   48                1          6.0                   0   \n",
       "11504795       0   29                1         32.0                   1   \n",
       "11504797       1   25                1         28.0                   1   \n",
       "\n",
       "          Vehicle_Age  Vehicle_Damage  Annual_Premium  Policy_Sales_Channel  \\\n",
       "2491338             0               1         29679.0                  26.0   \n",
       "962117              0               1         49092.0                 124.0   \n",
       "7831406             1               1         34187.0                 160.0   \n",
       "1242312             0               1          2630.0                  30.0   \n",
       "2929171             0               1         37190.0                  26.0   \n",
       "...               ...             ...             ...                   ...   \n",
       "11504791            1               0          2630.0                 152.0   \n",
       "11504792            0               0         29974.0                 154.0   \n",
       "11504793            0               1         27412.0                  26.0   \n",
       "11504795            1               0          2630.0                 152.0   \n",
       "11504797            1               0         32855.0                 152.0   \n",
       "\n",
       "          Vintage  Response  \n",
       "2491338        11         1  \n",
       "962117        182         1  \n",
       "7831406        92         1  \n",
       "1242312       212         1  \n",
       "2929171       208         1  \n",
       "...           ...       ...  \n",
       "11504791      204         0  \n",
       "11504792      201         0  \n",
       "11504793      218         0  \n",
       "11504795      189         0  \n",
       "11504797      189         0  \n",
       "\n",
       "[20179478 rows x 11 columns]"
      ]
     },
     "execution_count": 28,
     "metadata": {},
     "output_type": "execute_result"
    }
   ],
   "source": [
    "df_upsampled"
   ]
  },
  {
   "cell_type": "code",
   "execution_count": 29,
   "id": "c5989d3e",
   "metadata": {
    "execution": {
     "iopub.execute_input": "2024-07-31T17:53:14.064411Z",
     "iopub.status.busy": "2024-07-31T17:53:14.063935Z",
     "iopub.status.idle": "2024-07-31T17:53:14.068672Z",
     "shell.execute_reply": "2024-07-31T17:53:14.067500Z"
    },
    "papermill": {
     "duration": 0.031751,
     "end_time": "2024-07-31T17:53:14.071219",
     "exception": false,
     "start_time": "2024-07-31T17:53:14.039468",
     "status": "completed"
    },
    "tags": []
   },
   "outputs": [],
   "source": [
    "# sns.countplot(x=df_upsampled['Response'])\n",
    "\n",
    "# plt.figure(figsize=(5, 5))"
   ]
  },
  {
   "cell_type": "markdown",
   "id": "2defb8bb",
   "metadata": {
    "papermill": {
     "duration": 0.02337,
     "end_time": "2024-07-31T17:53:14.116870",
     "exception": false,
     "start_time": "2024-07-31T17:53:14.093500",
     "status": "completed"
    },
    "tags": []
   },
   "source": [
    "# Checking Outliers"
   ]
  },
  {
   "cell_type": "code",
   "execution_count": 30,
   "id": "d50ec2d5",
   "metadata": {
    "execution": {
     "iopub.execute_input": "2024-07-31T17:53:14.163219Z",
     "iopub.status.busy": "2024-07-31T17:53:14.162756Z",
     "iopub.status.idle": "2024-07-31T17:53:14.167724Z",
     "shell.execute_reply": "2024-07-31T17:53:14.166585Z"
    },
    "papermill": {
     "duration": 0.030965,
     "end_time": "2024-07-31T17:53:14.169992",
     "exception": false,
     "start_time": "2024-07-31T17:53:14.139027",
     "status": "completed"
    },
    "tags": []
   },
   "outputs": [],
   "source": [
    "# sns.boxplot(x=df_upsampled['Age'])"
   ]
  },
  {
   "cell_type": "code",
   "execution_count": 31,
   "id": "8129653f",
   "metadata": {
    "execution": {
     "iopub.execute_input": "2024-07-31T17:53:14.216381Z",
     "iopub.status.busy": "2024-07-31T17:53:14.215880Z",
     "iopub.status.idle": "2024-07-31T17:53:14.221097Z",
     "shell.execute_reply": "2024-07-31T17:53:14.220050Z"
    },
    "papermill": {
     "duration": 0.030896,
     "end_time": "2024-07-31T17:53:14.223424",
     "exception": false,
     "start_time": "2024-07-31T17:53:14.192528",
     "status": "completed"
    },
    "tags": []
   },
   "outputs": [],
   "source": [
    "# sns.boxplot(x=df_upsampled['Annual_Premium'])"
   ]
  },
  {
   "cell_type": "code",
   "execution_count": 32,
   "id": "0a241589",
   "metadata": {
    "execution": {
     "iopub.execute_input": "2024-07-31T17:53:14.269828Z",
     "iopub.status.busy": "2024-07-31T17:53:14.269417Z",
     "iopub.status.idle": "2024-07-31T17:53:14.274170Z",
     "shell.execute_reply": "2024-07-31T17:53:14.273199Z"
    },
    "papermill": {
     "duration": 0.030785,
     "end_time": "2024-07-31T17:53:14.276598",
     "exception": false,
     "start_time": "2024-07-31T17:53:14.245813",
     "status": "completed"
    },
    "tags": []
   },
   "outputs": [],
   "source": [
    "# sns.boxplot(x=df_upsampled['Policy_Sales_Channel'])"
   ]
  },
  {
   "cell_type": "code",
   "execution_count": 33,
   "id": "ad62dd37",
   "metadata": {
    "execution": {
     "iopub.execute_input": "2024-07-31T17:53:14.323083Z",
     "iopub.status.busy": "2024-07-31T17:53:14.322676Z",
     "iopub.status.idle": "2024-07-31T17:53:14.327511Z",
     "shell.execute_reply": "2024-07-31T17:53:14.326361Z"
    },
    "papermill": {
     "duration": 0.030949,
     "end_time": "2024-07-31T17:53:14.329889",
     "exception": false,
     "start_time": "2024-07-31T17:53:14.298940",
     "status": "completed"
    },
    "tags": []
   },
   "outputs": [],
   "source": [
    " # sns.boxplot(x=df_upsampled['Vintage'])"
   ]
  },
  {
   "cell_type": "code",
   "execution_count": 34,
   "id": "07051499",
   "metadata": {
    "execution": {
     "iopub.execute_input": "2024-07-31T17:53:14.377437Z",
     "iopub.status.busy": "2024-07-31T17:53:14.376477Z",
     "iopub.status.idle": "2024-07-31T17:53:14.383322Z",
     "shell.execute_reply": "2024-07-31T17:53:14.382271Z"
    },
    "papermill": {
     "duration": 0.033123,
     "end_time": "2024-07-31T17:53:14.385792",
     "exception": false,
     "start_time": "2024-07-31T17:53:14.352669",
     "status": "completed"
    },
    "tags": []
   },
   "outputs": [
    {
     "data": {
      "text/plain": [
       "(20179478, 11)"
      ]
     },
     "execution_count": 34,
     "metadata": {},
     "output_type": "execute_result"
    }
   ],
   "source": [
    "df_upsampled.shape"
   ]
  },
  {
   "cell_type": "code",
   "execution_count": 35,
   "id": "ab9e5ef2",
   "metadata": {
    "execution": {
     "iopub.execute_input": "2024-07-31T17:53:14.433807Z",
     "iopub.status.busy": "2024-07-31T17:53:14.432708Z",
     "iopub.status.idle": "2024-07-31T17:53:14.437833Z",
     "shell.execute_reply": "2024-07-31T17:53:14.436911Z"
    },
    "papermill": {
     "duration": 0.031663,
     "end_time": "2024-07-31T17:53:14.440277",
     "exception": false,
     "start_time": "2024-07-31T17:53:14.408614",
     "status": "completed"
    },
    "tags": []
   },
   "outputs": [],
   "source": [
    "# Remove The outliers using z-Score Method"
   ]
  },
  {
   "cell_type": "code",
   "execution_count": 36,
   "id": "ff2472cb",
   "metadata": {
    "execution": {
     "iopub.execute_input": "2024-07-31T17:53:14.487313Z",
     "iopub.status.busy": "2024-07-31T17:53:14.486365Z",
     "iopub.status.idle": "2024-07-31T17:53:20.213674Z",
     "shell.execute_reply": "2024-07-31T17:53:20.212480Z"
    },
    "papermill": {
     "duration": 5.753577,
     "end_time": "2024-07-31T17:53:20.216216",
     "exception": false,
     "start_time": "2024-07-31T17:53:14.462639",
     "status": "completed"
    },
    "tags": []
   },
   "outputs": [
    {
     "data": {
      "text/plain": [
       "(20125233, 11)"
      ]
     },
     "execution_count": 36,
     "metadata": {},
     "output_type": "execute_result"
    }
   ],
   "source": [
    "import scipy.stats as stats\n",
    "z=np.abs(stats.zscore(df_upsampled))\n",
    "data_clean = df_upsampled[(z<3).all(axis=1)]\n",
    "\n",
    "data_clean.shape"
   ]
  },
  {
   "cell_type": "markdown",
   "id": "0ac2882d",
   "metadata": {
    "papermill": {
     "duration": 0.023309,
     "end_time": "2024-07-31T17:53:20.262671",
     "exception": false,
     "start_time": "2024-07-31T17:53:20.239362",
     "status": "completed"
    },
    "tags": []
   },
   "source": [
    "# Heatmap Corellation"
   ]
  },
  {
   "cell_type": "code",
   "execution_count": 37,
   "id": "e78b7ce5",
   "metadata": {
    "execution": {
     "iopub.execute_input": "2024-07-31T17:53:20.309786Z",
     "iopub.status.busy": "2024-07-31T17:53:20.309382Z",
     "iopub.status.idle": "2024-07-31T17:53:20.314422Z",
     "shell.execute_reply": "2024-07-31T17:53:20.313278Z"
    },
    "papermill": {
     "duration": 0.031502,
     "end_time": "2024-07-31T17:53:20.316817",
     "exception": false,
     "start_time": "2024-07-31T17:53:20.285315",
     "status": "completed"
    },
    "tags": []
   },
   "outputs": [],
   "source": [
    "# sns.heatmap(data_clean, annot=True, fmt='.2g', cmap='coolwarm')"
   ]
  },
  {
   "cell_type": "code",
   "execution_count": 38,
   "id": "cf52c5e6",
   "metadata": {
    "execution": {
     "iopub.execute_input": "2024-07-31T17:53:20.364050Z",
     "iopub.status.busy": "2024-07-31T17:53:20.363632Z",
     "iopub.status.idle": "2024-07-31T17:53:21.056407Z",
     "shell.execute_reply": "2024-07-31T17:53:21.055194Z"
    },
    "papermill": {
     "duration": 0.719731,
     "end_time": "2024-07-31T17:53:21.059311",
     "exception": false,
     "start_time": "2024-07-31T17:53:20.339580",
     "status": "completed"
    },
    "tags": []
   },
   "outputs": [
    {
     "name": "stderr",
     "output_type": "stream",
     "text": [
      "/tmp/ipykernel_18/3443047114.py:2: SettingWithCopyWarning: \n",
      "A value is trying to be set on a copy of a slice from a DataFrame\n",
      "\n",
      "See the caveats in the documentation: https://pandas.pydata.org/pandas-docs/stable/user_guide/indexing.html#returning-a-view-versus-a-copy\n",
      "  data_clean.drop('Driving_License', axis=1, inplace= True)\n"
     ]
    }
   ],
   "source": [
    "# removing driving Licence because it doesnt have any corelation with response\n",
    "data_clean.drop('Driving_License', axis=1, inplace= True)"
   ]
  },
  {
   "cell_type": "code",
   "execution_count": 39,
   "id": "edc61f29",
   "metadata": {
    "execution": {
     "iopub.execute_input": "2024-07-31T17:53:21.106307Z",
     "iopub.status.busy": "2024-07-31T17:53:21.105875Z",
     "iopub.status.idle": "2024-07-31T17:53:21.122114Z",
     "shell.execute_reply": "2024-07-31T17:53:21.121041Z"
    },
    "papermill": {
     "duration": 0.042935,
     "end_time": "2024-07-31T17:53:21.124779",
     "exception": false,
     "start_time": "2024-07-31T17:53:21.081844",
     "status": "completed"
    },
    "tags": []
   },
   "outputs": [
    {
     "data": {
      "text/html": [
       "<div>\n",
       "<style scoped>\n",
       "    .dataframe tbody tr th:only-of-type {\n",
       "        vertical-align: middle;\n",
       "    }\n",
       "\n",
       "    .dataframe tbody tr th {\n",
       "        vertical-align: top;\n",
       "    }\n",
       "\n",
       "    .dataframe thead th {\n",
       "        text-align: right;\n",
       "    }\n",
       "</style>\n",
       "<table border=\"1\" class=\"dataframe\">\n",
       "  <thead>\n",
       "    <tr style=\"text-align: right;\">\n",
       "      <th></th>\n",
       "      <th>Gender</th>\n",
       "      <th>Age</th>\n",
       "      <th>Region_Code</th>\n",
       "      <th>Previously_Insured</th>\n",
       "      <th>Vehicle_Age</th>\n",
       "      <th>Vehicle_Damage</th>\n",
       "      <th>Annual_Premium</th>\n",
       "      <th>Policy_Sales_Channel</th>\n",
       "      <th>Vintage</th>\n",
       "      <th>Response</th>\n",
       "    </tr>\n",
       "  </thead>\n",
       "  <tbody>\n",
       "    <tr>\n",
       "      <th>2491338</th>\n",
       "      <td>0</td>\n",
       "      <td>38</td>\n",
       "      <td>46.0</td>\n",
       "      <td>0</td>\n",
       "      <td>0</td>\n",
       "      <td>1</td>\n",
       "      <td>29679.0</td>\n",
       "      <td>26.0</td>\n",
       "      <td>11</td>\n",
       "      <td>1</td>\n",
       "    </tr>\n",
       "    <tr>\n",
       "      <th>962117</th>\n",
       "      <td>1</td>\n",
       "      <td>48</td>\n",
       "      <td>28.0</td>\n",
       "      <td>0</td>\n",
       "      <td>0</td>\n",
       "      <td>1</td>\n",
       "      <td>49092.0</td>\n",
       "      <td>124.0</td>\n",
       "      <td>182</td>\n",
       "      <td>1</td>\n",
       "    </tr>\n",
       "    <tr>\n",
       "      <th>7831406</th>\n",
       "      <td>0</td>\n",
       "      <td>20</td>\n",
       "      <td>50.0</td>\n",
       "      <td>0</td>\n",
       "      <td>1</td>\n",
       "      <td>1</td>\n",
       "      <td>34187.0</td>\n",
       "      <td>160.0</td>\n",
       "      <td>92</td>\n",
       "      <td>1</td>\n",
       "    </tr>\n",
       "    <tr>\n",
       "      <th>1242312</th>\n",
       "      <td>1</td>\n",
       "      <td>58</td>\n",
       "      <td>8.0</td>\n",
       "      <td>0</td>\n",
       "      <td>0</td>\n",
       "      <td>1</td>\n",
       "      <td>2630.0</td>\n",
       "      <td>30.0</td>\n",
       "      <td>212</td>\n",
       "      <td>1</td>\n",
       "    </tr>\n",
       "    <tr>\n",
       "      <th>2929171</th>\n",
       "      <td>1</td>\n",
       "      <td>50</td>\n",
       "      <td>18.0</td>\n",
       "      <td>0</td>\n",
       "      <td>0</td>\n",
       "      <td>1</td>\n",
       "      <td>37190.0</td>\n",
       "      <td>26.0</td>\n",
       "      <td>208</td>\n",
       "      <td>1</td>\n",
       "    </tr>\n",
       "  </tbody>\n",
       "</table>\n",
       "</div>"
      ],
      "text/plain": [
       "         Gender  Age  Region_Code  Previously_Insured  Vehicle_Age  \\\n",
       "2491338       0   38         46.0                   0            0   \n",
       "962117        1   48         28.0                   0            0   \n",
       "7831406       0   20         50.0                   0            1   \n",
       "1242312       1   58          8.0                   0            0   \n",
       "2929171       1   50         18.0                   0            0   \n",
       "\n",
       "         Vehicle_Damage  Annual_Premium  Policy_Sales_Channel  Vintage  \\\n",
       "2491338               1         29679.0                  26.0       11   \n",
       "962117                1         49092.0                 124.0      182   \n",
       "7831406               1         34187.0                 160.0       92   \n",
       "1242312               1          2630.0                  30.0      212   \n",
       "2929171               1         37190.0                  26.0      208   \n",
       "\n",
       "         Response  \n",
       "2491338         1  \n",
       "962117          1  \n",
       "7831406         1  \n",
       "1242312         1  \n",
       "2929171         1  "
      ]
     },
     "execution_count": 39,
     "metadata": {},
     "output_type": "execute_result"
    }
   ],
   "source": [
    "data_clean.head()"
   ]
  },
  {
   "cell_type": "markdown",
   "id": "1eede692",
   "metadata": {
    "papermill": {
     "duration": 0.022911,
     "end_time": "2024-07-31T17:53:21.172757",
     "exception": false,
     "start_time": "2024-07-31T17:53:21.149846",
     "status": "completed"
    },
    "tags": []
   },
   "source": [
    "# Preparing Test Data"
   ]
  },
  {
   "cell_type": "code",
   "execution_count": 40,
   "id": "3b4ac24c",
   "metadata": {
    "execution": {
     "iopub.execute_input": "2024-07-31T17:53:21.221330Z",
     "iopub.status.busy": "2024-07-31T17:53:21.220616Z",
     "iopub.status.idle": "2024-07-31T17:53:21.238122Z",
     "shell.execute_reply": "2024-07-31T17:53:21.237004Z"
    },
    "papermill": {
     "duration": 0.044654,
     "end_time": "2024-07-31T17:53:21.240544",
     "exception": false,
     "start_time": "2024-07-31T17:53:21.195890",
     "status": "completed"
    },
    "tags": []
   },
   "outputs": [
    {
     "data": {
      "text/html": [
       "<div>\n",
       "<style scoped>\n",
       "    .dataframe tbody tr th:only-of-type {\n",
       "        vertical-align: middle;\n",
       "    }\n",
       "\n",
       "    .dataframe tbody tr th {\n",
       "        vertical-align: top;\n",
       "    }\n",
       "\n",
       "    .dataframe thead th {\n",
       "        text-align: right;\n",
       "    }\n",
       "</style>\n",
       "<table border=\"1\" class=\"dataframe\">\n",
       "  <thead>\n",
       "    <tr style=\"text-align: right;\">\n",
       "      <th></th>\n",
       "      <th>id</th>\n",
       "      <th>Gender</th>\n",
       "      <th>Age</th>\n",
       "      <th>Driving_License</th>\n",
       "      <th>Region_Code</th>\n",
       "      <th>Previously_Insured</th>\n",
       "      <th>Vehicle_Age</th>\n",
       "      <th>Vehicle_Damage</th>\n",
       "      <th>Annual_Premium</th>\n",
       "      <th>Policy_Sales_Channel</th>\n",
       "      <th>Vintage</th>\n",
       "    </tr>\n",
       "  </thead>\n",
       "  <tbody>\n",
       "    <tr>\n",
       "      <th>0</th>\n",
       "      <td>11504798</td>\n",
       "      <td>Female</td>\n",
       "      <td>20</td>\n",
       "      <td>1</td>\n",
       "      <td>47.0</td>\n",
       "      <td>0</td>\n",
       "      <td>&lt; 1 Year</td>\n",
       "      <td>No</td>\n",
       "      <td>2630.0</td>\n",
       "      <td>160.0</td>\n",
       "      <td>228</td>\n",
       "    </tr>\n",
       "    <tr>\n",
       "      <th>1</th>\n",
       "      <td>11504799</td>\n",
       "      <td>Male</td>\n",
       "      <td>47</td>\n",
       "      <td>1</td>\n",
       "      <td>28.0</td>\n",
       "      <td>0</td>\n",
       "      <td>1-2 Year</td>\n",
       "      <td>Yes</td>\n",
       "      <td>37483.0</td>\n",
       "      <td>124.0</td>\n",
       "      <td>123</td>\n",
       "    </tr>\n",
       "    <tr>\n",
       "      <th>2</th>\n",
       "      <td>11504800</td>\n",
       "      <td>Male</td>\n",
       "      <td>47</td>\n",
       "      <td>1</td>\n",
       "      <td>43.0</td>\n",
       "      <td>0</td>\n",
       "      <td>1-2 Year</td>\n",
       "      <td>Yes</td>\n",
       "      <td>2630.0</td>\n",
       "      <td>26.0</td>\n",
       "      <td>271</td>\n",
       "    </tr>\n",
       "    <tr>\n",
       "      <th>3</th>\n",
       "      <td>11504801</td>\n",
       "      <td>Female</td>\n",
       "      <td>22</td>\n",
       "      <td>1</td>\n",
       "      <td>47.0</td>\n",
       "      <td>1</td>\n",
       "      <td>&lt; 1 Year</td>\n",
       "      <td>No</td>\n",
       "      <td>24502.0</td>\n",
       "      <td>152.0</td>\n",
       "      <td>115</td>\n",
       "    </tr>\n",
       "    <tr>\n",
       "      <th>4</th>\n",
       "      <td>11504802</td>\n",
       "      <td>Male</td>\n",
       "      <td>51</td>\n",
       "      <td>1</td>\n",
       "      <td>19.0</td>\n",
       "      <td>0</td>\n",
       "      <td>1-2 Year</td>\n",
       "      <td>No</td>\n",
       "      <td>34115.0</td>\n",
       "      <td>124.0</td>\n",
       "      <td>148</td>\n",
       "    </tr>\n",
       "  </tbody>\n",
       "</table>\n",
       "</div>"
      ],
      "text/plain": [
       "         id  Gender  Age  Driving_License  Region_Code  Previously_Insured  \\\n",
       "0  11504798  Female   20                1         47.0                   0   \n",
       "1  11504799    Male   47                1         28.0                   0   \n",
       "2  11504800    Male   47                1         43.0                   0   \n",
       "3  11504801  Female   22                1         47.0                   1   \n",
       "4  11504802    Male   51                1         19.0                   0   \n",
       "\n",
       "  Vehicle_Age Vehicle_Damage  Annual_Premium  Policy_Sales_Channel  Vintage  \n",
       "0    < 1 Year             No          2630.0                 160.0      228  \n",
       "1    1-2 Year            Yes         37483.0                 124.0      123  \n",
       "2    1-2 Year            Yes          2630.0                  26.0      271  \n",
       "3    < 1 Year             No         24502.0                 152.0      115  \n",
       "4    1-2 Year             No         34115.0                 124.0      148  "
      ]
     },
     "execution_count": 40,
     "metadata": {},
     "output_type": "execute_result"
    }
   ],
   "source": [
    "data_test.head()"
   ]
  },
  {
   "cell_type": "code",
   "execution_count": 41,
   "id": "218c5b8a",
   "metadata": {
    "execution": {
     "iopub.execute_input": "2024-07-31T17:53:21.289127Z",
     "iopub.status.busy": "2024-07-31T17:53:21.288378Z",
     "iopub.status.idle": "2024-07-31T17:53:23.776325Z",
     "shell.execute_reply": "2024-07-31T17:53:23.775305Z"
    },
    "papermill": {
     "duration": 2.514792,
     "end_time": "2024-07-31T17:53:23.778681",
     "exception": false,
     "start_time": "2024-07-31T17:53:21.263889",
     "status": "completed"
    },
    "tags": []
   },
   "outputs": [
    {
     "data": {
      "text/plain": [
       "id                      0\n",
       "Gender                  0\n",
       "Age                     0\n",
       "Driving_License         0\n",
       "Region_Code             0\n",
       "Previously_Insured      0\n",
       "Vehicle_Age             0\n",
       "Vehicle_Damage          0\n",
       "Annual_Premium          0\n",
       "Policy_Sales_Channel    0\n",
       "Vintage                 0\n",
       "dtype: int64"
      ]
     },
     "execution_count": 41,
     "metadata": {},
     "output_type": "execute_result"
    }
   ],
   "source": [
    "data_test.isnull().sum()"
   ]
  },
  {
   "cell_type": "code",
   "execution_count": null,
   "id": "3acec07c",
   "metadata": {
    "papermill": {
     "duration": 0.02346,
     "end_time": "2024-07-31T17:53:23.825790",
     "exception": false,
     "start_time": "2024-07-31T17:53:23.802330",
     "status": "completed"
    },
    "tags": []
   },
   "outputs": [],
   "source": []
  },
  {
   "cell_type": "code",
   "execution_count": 42,
   "id": "a573a3b5",
   "metadata": {
    "execution": {
     "iopub.execute_input": "2024-07-31T17:53:23.874330Z",
     "iopub.status.busy": "2024-07-31T17:53:23.873916Z",
     "iopub.status.idle": "2024-07-31T17:53:24.270690Z",
     "shell.execute_reply": "2024-07-31T17:53:24.269511Z"
    },
    "papermill": {
     "duration": 0.424068,
     "end_time": "2024-07-31T17:53:24.273171",
     "exception": false,
     "start_time": "2024-07-31T17:53:23.849103",
     "status": "completed"
    },
    "tags": []
   },
   "outputs": [
    {
     "data": {
      "text/html": [
       "<div>\n",
       "<style scoped>\n",
       "    .dataframe tbody tr th:only-of-type {\n",
       "        vertical-align: middle;\n",
       "    }\n",
       "\n",
       "    .dataframe tbody tr th {\n",
       "        vertical-align: top;\n",
       "    }\n",
       "\n",
       "    .dataframe thead th {\n",
       "        text-align: right;\n",
       "    }\n",
       "</style>\n",
       "<table border=\"1\" class=\"dataframe\">\n",
       "  <thead>\n",
       "    <tr style=\"text-align: right;\">\n",
       "      <th></th>\n",
       "      <th>Gender</th>\n",
       "      <th>Age</th>\n",
       "      <th>Region_Code</th>\n",
       "      <th>Previously_Insured</th>\n",
       "      <th>Vehicle_Age</th>\n",
       "      <th>Vehicle_Damage</th>\n",
       "      <th>Annual_Premium</th>\n",
       "      <th>Policy_Sales_Channel</th>\n",
       "      <th>Vintage</th>\n",
       "    </tr>\n",
       "  </thead>\n",
       "  <tbody>\n",
       "    <tr>\n",
       "      <th>0</th>\n",
       "      <td>Female</td>\n",
       "      <td>20</td>\n",
       "      <td>47.0</td>\n",
       "      <td>0</td>\n",
       "      <td>&lt; 1 Year</td>\n",
       "      <td>No</td>\n",
       "      <td>2630.0</td>\n",
       "      <td>160.0</td>\n",
       "      <td>228</td>\n",
       "    </tr>\n",
       "    <tr>\n",
       "      <th>1</th>\n",
       "      <td>Male</td>\n",
       "      <td>47</td>\n",
       "      <td>28.0</td>\n",
       "      <td>0</td>\n",
       "      <td>1-2 Year</td>\n",
       "      <td>Yes</td>\n",
       "      <td>37483.0</td>\n",
       "      <td>124.0</td>\n",
       "      <td>123</td>\n",
       "    </tr>\n",
       "    <tr>\n",
       "      <th>2</th>\n",
       "      <td>Male</td>\n",
       "      <td>47</td>\n",
       "      <td>43.0</td>\n",
       "      <td>0</td>\n",
       "      <td>1-2 Year</td>\n",
       "      <td>Yes</td>\n",
       "      <td>2630.0</td>\n",
       "      <td>26.0</td>\n",
       "      <td>271</td>\n",
       "    </tr>\n",
       "    <tr>\n",
       "      <th>3</th>\n",
       "      <td>Female</td>\n",
       "      <td>22</td>\n",
       "      <td>47.0</td>\n",
       "      <td>1</td>\n",
       "      <td>&lt; 1 Year</td>\n",
       "      <td>No</td>\n",
       "      <td>24502.0</td>\n",
       "      <td>152.0</td>\n",
       "      <td>115</td>\n",
       "    </tr>\n",
       "    <tr>\n",
       "      <th>4</th>\n",
       "      <td>Male</td>\n",
       "      <td>51</td>\n",
       "      <td>19.0</td>\n",
       "      <td>0</td>\n",
       "      <td>1-2 Year</td>\n",
       "      <td>No</td>\n",
       "      <td>34115.0</td>\n",
       "      <td>124.0</td>\n",
       "      <td>148</td>\n",
       "    </tr>\n",
       "  </tbody>\n",
       "</table>\n",
       "</div>"
      ],
      "text/plain": [
       "   Gender  Age  Region_Code  Previously_Insured Vehicle_Age Vehicle_Damage  \\\n",
       "0  Female   20         47.0                   0    < 1 Year             No   \n",
       "1    Male   47         28.0                   0    1-2 Year            Yes   \n",
       "2    Male   47         43.0                   0    1-2 Year            Yes   \n",
       "3  Female   22         47.0                   1    < 1 Year             No   \n",
       "4    Male   51         19.0                   0    1-2 Year             No   \n",
       "\n",
       "   Annual_Premium  Policy_Sales_Channel  Vintage  \n",
       "0          2630.0                 160.0      228  \n",
       "1         37483.0                 124.0      123  \n",
       "2          2630.0                  26.0      271  \n",
       "3         24502.0                 152.0      115  \n",
       "4         34115.0                 124.0      148  "
      ]
     },
     "execution_count": 42,
     "metadata": {},
     "output_type": "execute_result"
    }
   ],
   "source": [
    "x_test= data_test.drop(['id','Driving_License'], axis=1)\n",
    "x_test.head()"
   ]
  },
  {
   "cell_type": "code",
   "execution_count": 43,
   "id": "b4bc9929",
   "metadata": {
    "execution": {
     "iopub.execute_input": "2024-07-31T17:53:24.321263Z",
     "iopub.status.busy": "2024-07-31T17:53:24.320431Z",
     "iopub.status.idle": "2024-07-31T17:53:31.217288Z",
     "shell.execute_reply": "2024-07-31T17:53:31.216078Z"
    },
    "papermill": {
     "duration": 6.923676,
     "end_time": "2024-07-31T17:53:31.219797",
     "exception": false,
     "start_time": "2024-07-31T17:53:24.296121",
     "status": "completed"
    },
    "tags": []
   },
   "outputs": [
    {
     "data": {
      "text/plain": [
       "array([0, 1])"
      ]
     },
     "execution_count": 43,
     "metadata": {},
     "output_type": "execute_result"
    }
   ],
   "source": [
    "x_test['Gender']=label_encoder.fit_transform(x_test['Gender'])\n",
    "x_test['Gender'].unique()\n",
    "\n",
    "x_test['Vehicle_Age']=label_encoder.fit_transform(x_test['Vehicle_Age'])\n",
    "x_test['Vehicle_Age'].unique()\n",
    "\n",
    "x_test['Vehicle_Damage']=label_encoder.fit_transform(x_test['Vehicle_Damage'])\n",
    "x_test['Gender'].unique()"
   ]
  },
  {
   "cell_type": "code",
   "execution_count": 44,
   "id": "7336b56c",
   "metadata": {
    "execution": {
     "iopub.execute_input": "2024-07-31T17:53:31.270640Z",
     "iopub.status.busy": "2024-07-31T17:53:31.269863Z",
     "iopub.status.idle": "2024-07-31T17:53:31.276697Z",
     "shell.execute_reply": "2024-07-31T17:53:31.275645Z"
    },
    "papermill": {
     "duration": 0.034685,
     "end_time": "2024-07-31T17:53:31.279032",
     "exception": false,
     "start_time": "2024-07-31T17:53:31.244347",
     "status": "completed"
    },
    "tags": []
   },
   "outputs": [
    {
     "data": {
      "text/plain": [
       "(7669866, 9)"
      ]
     },
     "execution_count": 44,
     "metadata": {},
     "output_type": "execute_result"
    }
   ],
   "source": [
    "x_test.shape"
   ]
  },
  {
   "cell_type": "code",
   "execution_count": 45,
   "id": "ad102c7b",
   "metadata": {
    "execution": {
     "iopub.execute_input": "2024-07-31T17:53:31.329365Z",
     "iopub.status.busy": "2024-07-31T17:53:31.328956Z",
     "iopub.status.idle": "2024-07-31T17:53:31.343499Z",
     "shell.execute_reply": "2024-07-31T17:53:31.342474Z"
    },
    "papermill": {
     "duration": 0.042617,
     "end_time": "2024-07-31T17:53:31.346179",
     "exception": false,
     "start_time": "2024-07-31T17:53:31.303562",
     "status": "completed"
    },
    "tags": []
   },
   "outputs": [
    {
     "name": "stdout",
     "output_type": "stream",
     "text": [
      "<class 'pandas.core.frame.DataFrame'>\n",
      "RangeIndex: 7669866 entries, 0 to 7669865\n",
      "Data columns (total 9 columns):\n",
      " #   Column                Dtype  \n",
      "---  ------                -----  \n",
      " 0   Gender                int64  \n",
      " 1   Age                   int64  \n",
      " 2   Region_Code           float64\n",
      " 3   Previously_Insured    int64  \n",
      " 4   Vehicle_Age           int64  \n",
      " 5   Vehicle_Damage        int64  \n",
      " 6   Annual_Premium        float64\n",
      " 7   Policy_Sales_Channel  float64\n",
      " 8   Vintage               int64  \n",
      "dtypes: float64(3), int64(6)\n",
      "memory usage: 526.6 MB\n"
     ]
    }
   ],
   "source": [
    "x_test.info()"
   ]
  },
  {
   "cell_type": "markdown",
   "id": "5bff811a",
   "metadata": {
    "papermill": {
     "duration": 0.024281,
     "end_time": "2024-07-31T17:53:31.394965",
     "exception": false,
     "start_time": "2024-07-31T17:53:31.370684",
     "status": "completed"
    },
    "tags": []
   },
   "source": [
    "# Applying ML Model"
   ]
  },
  {
   "cell_type": "code",
   "execution_count": 46,
   "id": "46d557d6",
   "metadata": {
    "execution": {
     "iopub.execute_input": "2024-07-31T17:53:31.444702Z",
     "iopub.status.busy": "2024-07-31T17:53:31.444290Z",
     "iopub.status.idle": "2024-07-31T17:53:32.160822Z",
     "shell.execute_reply": "2024-07-31T17:53:32.159558Z"
    },
    "papermill": {
     "duration": 0.74509,
     "end_time": "2024-07-31T17:53:32.163982",
     "exception": false,
     "start_time": "2024-07-31T17:53:31.418892",
     "status": "completed"
    },
    "tags": []
   },
   "outputs": [],
   "source": [
    "X = data_clean.drop('Response', axis=1)\n",
    "Y= data_clean['Response']"
   ]
  },
  {
   "cell_type": "code",
   "execution_count": 47,
   "id": "45e4ebec",
   "metadata": {
    "execution": {
     "iopub.execute_input": "2024-07-31T17:53:32.217991Z",
     "iopub.status.busy": "2024-07-31T17:53:32.217542Z",
     "iopub.status.idle": "2024-07-31T17:53:32.313264Z",
     "shell.execute_reply": "2024-07-31T17:53:32.312179Z"
    },
    "papermill": {
     "duration": 0.125749,
     "end_time": "2024-07-31T17:53:32.316165",
     "exception": false,
     "start_time": "2024-07-31T17:53:32.190416",
     "status": "completed"
    },
    "tags": []
   },
   "outputs": [],
   "source": [
    "from sklearn.metrics import accuracy_score"
   ]
  },
  {
   "cell_type": "markdown",
   "id": "5b96671c",
   "metadata": {
    "papermill": {
     "duration": 0.024259,
     "end_time": "2024-07-31T17:53:32.365112",
     "exception": false,
     "start_time": "2024-07-31T17:53:32.340853",
     "status": "completed"
    },
    "tags": []
   },
   "source": [
    "# Extreme Gradient BOOster\n"
   ]
  },
  {
   "cell_type": "code",
   "execution_count": 48,
   "id": "10aa1cbc",
   "metadata": {
    "execution": {
     "iopub.execute_input": "2024-07-31T17:53:32.416526Z",
     "iopub.status.busy": "2024-07-31T17:53:32.415567Z",
     "iopub.status.idle": "2024-07-31T17:55:39.494322Z",
     "shell.execute_reply": "2024-07-31T17:55:39.493141Z"
    },
    "papermill": {
     "duration": 127.13204,
     "end_time": "2024-07-31T17:55:39.521086",
     "exception": false,
     "start_time": "2024-07-31T17:53:32.389046",
     "status": "completed"
    },
    "tags": []
   },
   "outputs": [
    {
     "data": {
      "text/html": [
       "<style>#sk-container-id-1 {color: black;background-color: white;}#sk-container-id-1 pre{padding: 0;}#sk-container-id-1 div.sk-toggleable {background-color: white;}#sk-container-id-1 label.sk-toggleable__label {cursor: pointer;display: block;width: 100%;margin-bottom: 0;padding: 0.3em;box-sizing: border-box;text-align: center;}#sk-container-id-1 label.sk-toggleable__label-arrow:before {content: \"▸\";float: left;margin-right: 0.25em;color: #696969;}#sk-container-id-1 label.sk-toggleable__label-arrow:hover:before {color: black;}#sk-container-id-1 div.sk-estimator:hover label.sk-toggleable__label-arrow:before {color: black;}#sk-container-id-1 div.sk-toggleable__content {max-height: 0;max-width: 0;overflow: hidden;text-align: left;background-color: #f0f8ff;}#sk-container-id-1 div.sk-toggleable__content pre {margin: 0.2em;color: black;border-radius: 0.25em;background-color: #f0f8ff;}#sk-container-id-1 input.sk-toggleable__control:checked~div.sk-toggleable__content {max-height: 200px;max-width: 100%;overflow: auto;}#sk-container-id-1 input.sk-toggleable__control:checked~label.sk-toggleable__label-arrow:before {content: \"▾\";}#sk-container-id-1 div.sk-estimator input.sk-toggleable__control:checked~label.sk-toggleable__label {background-color: #d4ebff;}#sk-container-id-1 div.sk-label input.sk-toggleable__control:checked~label.sk-toggleable__label {background-color: #d4ebff;}#sk-container-id-1 input.sk-hidden--visually {border: 0;clip: rect(1px 1px 1px 1px);clip: rect(1px, 1px, 1px, 1px);height: 1px;margin: -1px;overflow: hidden;padding: 0;position: absolute;width: 1px;}#sk-container-id-1 div.sk-estimator {font-family: monospace;background-color: #f0f8ff;border: 1px dotted black;border-radius: 0.25em;box-sizing: border-box;margin-bottom: 0.5em;}#sk-container-id-1 div.sk-estimator:hover {background-color: #d4ebff;}#sk-container-id-1 div.sk-parallel-item::after {content: \"\";width: 100%;border-bottom: 1px solid gray;flex-grow: 1;}#sk-container-id-1 div.sk-label:hover label.sk-toggleable__label {background-color: #d4ebff;}#sk-container-id-1 div.sk-serial::before {content: \"\";position: absolute;border-left: 1px solid gray;box-sizing: border-box;top: 0;bottom: 0;left: 50%;z-index: 0;}#sk-container-id-1 div.sk-serial {display: flex;flex-direction: column;align-items: center;background-color: white;padding-right: 0.2em;padding-left: 0.2em;position: relative;}#sk-container-id-1 div.sk-item {position: relative;z-index: 1;}#sk-container-id-1 div.sk-parallel {display: flex;align-items: stretch;justify-content: center;background-color: white;position: relative;}#sk-container-id-1 div.sk-item::before, #sk-container-id-1 div.sk-parallel-item::before {content: \"\";position: absolute;border-left: 1px solid gray;box-sizing: border-box;top: 0;bottom: 0;left: 50%;z-index: -1;}#sk-container-id-1 div.sk-parallel-item {display: flex;flex-direction: column;z-index: 1;position: relative;background-color: white;}#sk-container-id-1 div.sk-parallel-item:first-child::after {align-self: flex-end;width: 50%;}#sk-container-id-1 div.sk-parallel-item:last-child::after {align-self: flex-start;width: 50%;}#sk-container-id-1 div.sk-parallel-item:only-child::after {width: 0;}#sk-container-id-1 div.sk-dashed-wrapped {border: 1px dashed gray;margin: 0 0.4em 0.5em 0.4em;box-sizing: border-box;padding-bottom: 0.4em;background-color: white;}#sk-container-id-1 div.sk-label label {font-family: monospace;font-weight: bold;display: inline-block;line-height: 1.2em;}#sk-container-id-1 div.sk-label-container {text-align: center;}#sk-container-id-1 div.sk-container {/* jupyter's `normalize.less` sets `[hidden] { display: none; }` but bootstrap.min.css set `[hidden] { display: none !important; }` so we also need the `!important` here to be able to override the default hidden behavior on the sphinx rendered scikit-learn.org. See: https://github.com/scikit-learn/scikit-learn/issues/21755 */display: inline-block !important;position: relative;}#sk-container-id-1 div.sk-text-repr-fallback {display: none;}</style><div id=\"sk-container-id-1\" class=\"sk-top-container\"><div class=\"sk-text-repr-fallback\"><pre>XGBClassifier(base_score=None, booster=None, callbacks=None,\n",
       "              colsample_bylevel=None, colsample_bynode=None,\n",
       "              colsample_bytree=None, device=None, early_stopping_rounds=None,\n",
       "              enable_categorical=False, eval_metric=None, feature_types=None,\n",
       "              gamma=None, grow_policy=None, importance_type=None,\n",
       "              interaction_constraints=None, learning_rate=None, max_bin=None,\n",
       "              max_cat_threshold=None, max_cat_to_onehot=None,\n",
       "              max_delta_step=None, max_depth=None, max_leaves=None,\n",
       "              min_child_weight=None, missing=nan, monotone_constraints=None,\n",
       "              multi_strategy=None, n_estimators=None, n_jobs=None,\n",
       "              num_parallel_tree=None, random_state=42, ...)</pre><b>In a Jupyter environment, please rerun this cell to show the HTML representation or trust the notebook. <br />On GitHub, the HTML representation is unable to render, please try loading this page with nbviewer.org.</b></div><div class=\"sk-container\" hidden><div class=\"sk-item\"><div class=\"sk-estimator sk-toggleable\"><input class=\"sk-toggleable__control sk-hidden--visually\" id=\"sk-estimator-id-1\" type=\"checkbox\" checked><label for=\"sk-estimator-id-1\" class=\"sk-toggleable__label sk-toggleable__label-arrow\">XGBClassifier</label><div class=\"sk-toggleable__content\"><pre>XGBClassifier(base_score=None, booster=None, callbacks=None,\n",
       "              colsample_bylevel=None, colsample_bynode=None,\n",
       "              colsample_bytree=None, device=None, early_stopping_rounds=None,\n",
       "              enable_categorical=False, eval_metric=None, feature_types=None,\n",
       "              gamma=None, grow_policy=None, importance_type=None,\n",
       "              interaction_constraints=None, learning_rate=None, max_bin=None,\n",
       "              max_cat_threshold=None, max_cat_to_onehot=None,\n",
       "              max_delta_step=None, max_depth=None, max_leaves=None,\n",
       "              min_child_weight=None, missing=nan, monotone_constraints=None,\n",
       "              multi_strategy=None, n_estimators=None, n_jobs=None,\n",
       "              num_parallel_tree=None, random_state=42, ...)</pre></div></div></div></div></div>"
      ],
      "text/plain": [
       "XGBClassifier(base_score=None, booster=None, callbacks=None,\n",
       "              colsample_bylevel=None, colsample_bynode=None,\n",
       "              colsample_bytree=None, device=None, early_stopping_rounds=None,\n",
       "              enable_categorical=False, eval_metric=None, feature_types=None,\n",
       "              gamma=None, grow_policy=None, importance_type=None,\n",
       "              interaction_constraints=None, learning_rate=None, max_bin=None,\n",
       "              max_cat_threshold=None, max_cat_to_onehot=None,\n",
       "              max_delta_step=None, max_depth=None, max_leaves=None,\n",
       "              min_child_weight=None, missing=nan, monotone_constraints=None,\n",
       "              multi_strategy=None, n_estimators=None, n_jobs=None,\n",
       "              num_parallel_tree=None, random_state=42, ...)"
      ]
     },
     "execution_count": 48,
     "metadata": {},
     "output_type": "execute_result"
    }
   ],
   "source": [
    "from xgboost import XGBClassifier\n",
    "\n",
    "XGB=XGBClassifier(random_state=42)\n",
    "XGB.fit(X,Y)"
   ]
  },
  {
   "cell_type": "code",
   "execution_count": 49,
   "id": "49fcff0d",
   "metadata": {
    "execution": {
     "iopub.execute_input": "2024-07-31T17:55:39.571921Z",
     "iopub.status.busy": "2024-07-31T17:55:39.571523Z",
     "iopub.status.idle": "2024-07-31T21:47:17.195664Z",
     "shell.execute_reply": "2024-07-31T21:47:17.193375Z"
    },
    "papermill": {
     "duration": 13897.656328,
     "end_time": "2024-07-31T21:47:17.201926",
     "exception": false,
     "start_time": "2024-07-31T17:55:39.545598",
     "status": "completed"
    },
    "tags": []
   },
   "outputs": [
    {
     "name": "stderr",
     "output_type": "stream",
     "text": [
      "/opt/conda/lib/python3.10/site-packages/xgboost/core.py:160: UserWarning: [17:55:43] WARNING: /workspace/src/context.cc:44: No visible GPU is found, setting device to CPU.\n",
      "  warnings.warn(smsg, UserWarning)\n"
     ]
    }
   ],
   "source": [
    "xgb_tuned = XGBClassifier(objective='binary:logistic',\n",
    "    eval_metric='auc',\n",
    "    device='cuda',\n",
    "    n_estimators=1500,\n",
    "    learning_rate=0.1,\n",
    "    max_depth=10,\n",
    "    min_child_weight=25,\n",
    "    subsample=0.9,\n",
    "    colsample_bynode=0.9,\n",
    "    reg_lambda=20,\n",
    "    tree_method='approx',\n",
    "    max_bin=1024\n",
    "    \n",
    "    )\n",
    "xgb_tuned.fit(X,Y)\n",
    "y_pred = xgb_tuned.predict_proba(x_test)[:,1]"
   ]
  },
  {
   "cell_type": "code",
   "execution_count": 50,
   "id": "f2fab9a9",
   "metadata": {
    "execution": {
     "iopub.execute_input": "2024-07-31T21:47:17.262197Z",
     "iopub.status.busy": "2024-07-31T21:47:17.261624Z",
     "iopub.status.idle": "2024-07-31T21:47:17.268923Z",
     "shell.execute_reply": "2024-07-31T21:47:17.267464Z"
    },
    "papermill": {
     "duration": 0.038385,
     "end_time": "2024-07-31T21:47:17.271877",
     "exception": false,
     "start_time": "2024-07-31T21:47:17.233492",
     "status": "completed"
    },
    "tags": []
   },
   "outputs": [],
   "source": [
    "# y_pred=XGB.predict(x_test)\n"
   ]
  },
  {
   "cell_type": "code",
   "execution_count": 51,
   "id": "4ece9d08",
   "metadata": {
    "execution": {
     "iopub.execute_input": "2024-07-31T21:47:17.324395Z",
     "iopub.status.busy": "2024-07-31T21:47:17.323306Z",
     "iopub.status.idle": "2024-07-31T21:47:17.612866Z",
     "shell.execute_reply": "2024-07-31T21:47:17.611778Z"
    },
    "papermill": {
     "duration": 0.319897,
     "end_time": "2024-07-31T21:47:17.616817",
     "exception": false,
     "start_time": "2024-07-31T21:47:17.296920",
     "status": "completed"
    },
    "tags": []
   },
   "outputs": [
    {
     "data": {
      "text/html": [
       "<div>\n",
       "<style scoped>\n",
       "    .dataframe tbody tr th:only-of-type {\n",
       "        vertical-align: middle;\n",
       "    }\n",
       "\n",
       "    .dataframe tbody tr th {\n",
       "        vertical-align: top;\n",
       "    }\n",
       "\n",
       "    .dataframe thead th {\n",
       "        text-align: right;\n",
       "    }\n",
       "</style>\n",
       "<table border=\"1\" class=\"dataframe\">\n",
       "  <thead>\n",
       "    <tr style=\"text-align: right;\">\n",
       "      <th></th>\n",
       "      <th>id</th>\n",
       "      <th>Response</th>\n",
       "    </tr>\n",
       "  </thead>\n",
       "  <tbody>\n",
       "    <tr>\n",
       "      <th>0</th>\n",
       "      <td>11504798</td>\n",
       "      <td>0.010492</td>\n",
       "    </tr>\n",
       "    <tr>\n",
       "      <th>1</th>\n",
       "      <td>11504799</td>\n",
       "      <td>0.889088</td>\n",
       "    </tr>\n",
       "    <tr>\n",
       "      <th>2</th>\n",
       "      <td>11504800</td>\n",
       "      <td>0.689877</td>\n",
       "    </tr>\n",
       "    <tr>\n",
       "      <th>3</th>\n",
       "      <td>11504801</td>\n",
       "      <td>0.001345</td>\n",
       "    </tr>\n",
       "    <tr>\n",
       "      <th>4</th>\n",
       "      <td>11504802</td>\n",
       "      <td>0.351529</td>\n",
       "    </tr>\n",
       "  </tbody>\n",
       "</table>\n",
       "</div>"
      ],
      "text/plain": [
       "         id  Response\n",
       "0  11504798  0.010492\n",
       "1  11504799  0.889088\n",
       "2  11504800  0.689877\n",
       "3  11504801  0.001345\n",
       "4  11504802  0.351529"
      ]
     },
     "execution_count": 51,
     "metadata": {},
     "output_type": "execute_result"
    }
   ],
   "source": [
    "submission = pd.DataFrame({'id':data_test['id'], 'Response':y_pred})\n",
    "submission = submission[['id','Response']]\n",
    "submission.head()"
   ]
  },
  {
   "cell_type": "code",
   "execution_count": 52,
   "id": "f621075d",
   "metadata": {
    "execution": {
     "iopub.execute_input": "2024-07-31T21:47:17.668419Z",
     "iopub.status.busy": "2024-07-31T21:47:17.667980Z",
     "iopub.status.idle": "2024-07-31T21:47:38.654803Z",
     "shell.execute_reply": "2024-07-31T21:47:38.653566Z"
    },
    "papermill": {
     "duration": 21.016004,
     "end_time": "2024-07-31T21:47:38.657671",
     "exception": false,
     "start_time": "2024-07-31T21:47:17.641667",
     "status": "completed"
    },
    "tags": []
   },
   "outputs": [],
   "source": [
    "submission.to_csv('/kaggle/working/submission.csv', index=False)"
   ]
  },
  {
   "cell_type": "code",
   "execution_count": null,
   "id": "b5590d79",
   "metadata": {
    "papermill": {
     "duration": 0.02473,
     "end_time": "2024-07-31T21:47:38.707758",
     "exception": false,
     "start_time": "2024-07-31T21:47:38.683028",
     "status": "completed"
    },
    "tags": []
   },
   "outputs": [],
   "source": []
  }
 ],
 "metadata": {
  "kaggle": {
   "accelerator": "none",
   "dataSources": [
    {
     "databundleVersionId": 8930475,
     "sourceId": 73291,
     "sourceType": "competition"
    }
   ],
   "dockerImageVersionId": 30746,
   "isGpuEnabled": false,
   "isInternetEnabled": false,
   "language": "python",
   "sourceType": "notebook"
  },
  "kernelspec": {
   "display_name": "Python 3",
   "language": "python",
   "name": "python3"
  },
  "language_info": {
   "codemirror_mode": {
    "name": "ipython",
    "version": 3
   },
   "file_extension": ".py",
   "mimetype": "text/x-python",
   "name": "python",
   "nbconvert_exporter": "python",
   "pygments_lexer": "ipython3",
   "version": "3.10.13"
  },
  "papermill": {
   "default_parameters": {},
   "duration": 14143.14549,
   "end_time": "2024-07-31T21:47:41.397098",
   "environment_variables": {},
   "exception": null,
   "input_path": "__notebook__.ipynb",
   "output_path": "__notebook__.ipynb",
   "parameters": {},
   "start_time": "2024-07-31T17:51:58.251608",
   "version": "2.5.0"
  }
 },
 "nbformat": 4,
 "nbformat_minor": 5
}
